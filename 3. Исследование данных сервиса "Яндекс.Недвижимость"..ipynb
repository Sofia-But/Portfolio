{
 "cells": [
  {
   "cell_type": "markdown",
   "metadata": {},
   "source": [
    "# Исследование объявлений о продаже квартир\n",
    "\n",
    "В вашем распоряжении данные сервиса Яндекс.Недвижимость — архив объявлений о продаже квартир в Санкт-Петербурге и соседних населённых пунктов за несколько лет. Нужно научиться определять рыночную стоимость объектов недвижимости. Ваша задача — установить параметры. Это позволит построить автоматизированную систему: она отследит аномалии и мошенническую деятельность. \n",
    "\n",
    "По каждой квартире на продажу доступны два вида данных. Первые вписаны пользователем, вторые — получены автоматически на основе картографических данных. Например, расстояние до центра, аэропорта, ближайшего парка и водоёма. \n",
    "\n",
    "Целью проекта является изучение влияние различных критериях на стоимость объекта недвижимости.\n",
    "\n",
    "В исследовании используются следующие показатели для анализа: \n",
    " - airports_nearest — расстояние до ближайшего аэропорта в метрах (м)\n",
    " - balcony — число балконов\n",
    " - ceiling_height — высота потолков (м)\n",
    " - cityCenters_nearest — расстояние до центра города (м)\n",
    " - days_exposition — сколько дней было размещено объявление (от публикации до снятия)\n",
    " - first_day_exposition — дата публикации\n",
    " - floor — этаж\n",
    " - floors_total — всего этажей в доме\n",
    " - is_apartment — апартаменты (булев тип)\n",
    " - kitchen_area — площадь кухни в квадратных метрах (м²)\n",
    " - last_price — цена на момент снятия с публикации\n",
    " - living_area — жилая площадь в квадратных метрах (м²)\n",
    " - locality_name — название населённого пункта\n",
    " - open_plan — свободная планировка (булев тип)\n",
    " - parks_around3000 — число парков в радиусе 3 км\n",
    " - parks_nearest — расстояние до ближайшего парка (м)\n",
    " - ponds_around3000 — число водоёмов в радиусе 3 км\n",
    " - ponds_nearest — расстояние до ближайшего водоёма (м)\n",
    " - rooms — число комнат\n",
    " - studio — квартира-студия (булев тип)\n",
    " - total_area — общая площадь квартиры в квадратных метрах (м²)\n",
    " - total_images — число фотографий квартиры в объявлении\n",
    " \n",
    " План рботы проекта: \n",
    " 1. Изучение общей информации о данных. \n",
    " 2. Предобработка данных: заполнение пропусков в столбцах, изменение типов данных, работа с дубликатами и утсраненеи редких и выбивающихся значений. \n",
    " 3. Добавление в таблицу столбцов со следющими параметрами: ценой одного квадратного метра,дня недели публикации объявления; месяца публикации объявления; года публикации объявления; типа этажа квартиры; расстояния до центра города в километрах.\n",
    " 4. Проведение исследовательского анализа данных:\n",
    " - Изучение следующие параметры объектов: общая площадь;жилая площадь;площадь кухни;цена объекта;количество комнат;высота потолков;этаж квартиры; тип этажа квартиры («первый», «последний», «другой»);общее количество этажей в доме;расстояние до центра города в метрах;расстояние до ближайшего аэропорта;расстояние до ближайшего парка;день и месяц публикации объявления.\n",
    "- Изучение того, как бытсро продавались крвтаиры. \n",
    "- Изучение зависимости цены от общей площади, жилой площади,площади кухни,количества комнат, этажа, на котором расположена квартира (первый, последний, другой), даты размещения (день недели, месяц, год).\n",
    "- Подсчет средней цены одного квадратного метра в 10 населённых пунктах с наибольшим числом объявлений.\n",
    "- Изучение зависимости стоимости объектов от расстояния до центра города.\n",
    "5. Общий вывод."
   ]
  },
  {
   "cell_type": "markdown",
   "metadata": {},
   "source": [
    "## Откройте файл с данными и изучите общую информацию. "
   ]
  },
  {
   "cell_type": "code",
   "execution_count": 1,
   "metadata": {},
   "outputs": [
    {
     "name": "stdout",
     "output_type": "stream",
     "text": [
      "<class 'pandas.core.frame.DataFrame'>\n",
      "RangeIndex: 23699 entries, 0 to 23698\n",
      "Data columns (total 22 columns):\n",
      " #   Column                Non-Null Count  Dtype  \n",
      "---  ------                --------------  -----  \n",
      " 0   total_images          23699 non-null  int64  \n",
      " 1   last_price            23699 non-null  float64\n",
      " 2   total_area            23699 non-null  float64\n",
      " 3   first_day_exposition  23699 non-null  object \n",
      " 4   rooms                 23699 non-null  int64  \n",
      " 5   ceiling_height        14504 non-null  float64\n",
      " 6   floors_total          23613 non-null  float64\n",
      " 7   living_area           21796 non-null  float64\n",
      " 8   floor                 23699 non-null  int64  \n",
      " 9   is_apartment          2775 non-null   object \n",
      " 10  studio                23699 non-null  bool   \n",
      " 11  open_plan             23699 non-null  bool   \n",
      " 12  kitchen_area          21421 non-null  float64\n",
      " 13  balcony               12180 non-null  float64\n",
      " 14  locality_name         23650 non-null  object \n",
      " 15  airports_nearest      18157 non-null  float64\n",
      " 16  cityCenters_nearest   18180 non-null  float64\n",
      " 17  parks_around3000      18181 non-null  float64\n",
      " 18  parks_nearest         8079 non-null   float64\n",
      " 19  ponds_around3000      18181 non-null  float64\n",
      " 20  ponds_nearest         9110 non-null   float64\n",
      " 21  days_exposition       20518 non-null  float64\n",
      "dtypes: bool(2), float64(14), int64(3), object(3)\n",
      "memory usage: 3.7+ MB\n",
      "None\n",
      "   total_images  last_price  total_area first_day_exposition  rooms  \\\n",
      "0            20  13000000.0       108.0  2019-03-07T00:00:00      3   \n",
      "1             7   3350000.0        40.4  2018-12-04T00:00:00      1   \n",
      "2            10   5196000.0        56.0  2015-08-20T00:00:00      2   \n",
      "3             0  64900000.0       159.0  2015-07-24T00:00:00      3   \n",
      "4             2  10000000.0       100.0  2018-06-19T00:00:00      2   \n",
      "\n",
      "   ceiling_height  floors_total  living_area  floor is_apartment  ...  \\\n",
      "0            2.70          16.0         51.0      8          NaN  ...   \n",
      "1             NaN          11.0         18.6      1          NaN  ...   \n",
      "2             NaN           5.0         34.3      4          NaN  ...   \n",
      "3             NaN          14.0          NaN      9          NaN  ...   \n",
      "4            3.03          14.0         32.0     13          NaN  ...   \n",
      "\n",
      "   kitchen_area  balcony    locality_name  airports_nearest  \\\n",
      "0          25.0      NaN  Санкт-Петербург           18863.0   \n",
      "1          11.0      2.0   посёлок Шушары           12817.0   \n",
      "2           8.3      0.0  Санкт-Петербург           21741.0   \n",
      "3           NaN      0.0  Санкт-Петербург           28098.0   \n",
      "4          41.0      NaN  Санкт-Петербург           31856.0   \n",
      "\n",
      "  cityCenters_nearest  parks_around3000  parks_nearest  ponds_around3000  \\\n",
      "0             16028.0               1.0          482.0               2.0   \n",
      "1             18603.0               0.0            NaN               0.0   \n",
      "2             13933.0               1.0           90.0               2.0   \n",
      "3              6800.0               2.0           84.0               3.0   \n",
      "4              8098.0               2.0          112.0               1.0   \n",
      "\n",
      "   ponds_nearest  days_exposition  \n",
      "0          755.0              NaN  \n",
      "1            NaN             81.0  \n",
      "2          574.0            558.0  \n",
      "3          234.0            424.0  \n",
      "4           48.0            121.0  \n",
      "\n",
      "[5 rows x 22 columns]\n"
     ]
    },
    {
     "data": {
      "text/plain": [
       "array([[<AxesSubplot:title={'center':'total_images'}>,\n",
       "        <AxesSubplot:title={'center':'last_price'}>,\n",
       "        <AxesSubplot:title={'center':'total_area'}>,\n",
       "        <AxesSubplot:title={'center':'rooms'}>],\n",
       "       [<AxesSubplot:title={'center':'ceiling_height'}>,\n",
       "        <AxesSubplot:title={'center':'floors_total'}>,\n",
       "        <AxesSubplot:title={'center':'living_area'}>,\n",
       "        <AxesSubplot:title={'center':'floor'}>],\n",
       "       [<AxesSubplot:title={'center':'kitchen_area'}>,\n",
       "        <AxesSubplot:title={'center':'balcony'}>,\n",
       "        <AxesSubplot:title={'center':'airports_nearest'}>,\n",
       "        <AxesSubplot:title={'center':'cityCenters_nearest'}>],\n",
       "       [<AxesSubplot:title={'center':'parks_around3000'}>,\n",
       "        <AxesSubplot:title={'center':'parks_nearest'}>,\n",
       "        <AxesSubplot:title={'center':'ponds_around3000'}>,\n",
       "        <AxesSubplot:title={'center':'ponds_nearest'}>],\n",
       "       [<AxesSubplot:title={'center':'days_exposition'}>, <AxesSubplot:>,\n",
       "        <AxesSubplot:>, <AxesSubplot:>]], dtype=object)"
      ]
     },
     "execution_count": 1,
     "metadata": {},
     "output_type": "execute_result"
    },
    {
     "data": {
      "image/png": "[encoded data removed]",
      "text/plain": [
       "<Figure size 1080x1440 with 20 Axes>"
      ]
     },
     "metadata": {
      "needs_background": "light"
     },
     "output_type": "display_data"
    }
   ],
   "source": [
    "import pandas as pd \n",
    "data = pd.read_csv('/datasets/real_estate_data.csv', sep = '\\t')\n",
    "\n",
    "#изучение общей информации о полученном датафрейме\n",
    "print(data.info())\n",
    "print(data.head())\n",
    "\n",
    "#построение гистограммы для всех числовых столбцов таблицы\n",
    "data.hist(figsize=(15, 20))"
   ]
  },
  {
   "cell_type": "markdown",
   "metadata": {},
   "source": [
    "Можно сказать о том, что данные имеют разные типы. Что также харатерно, так это то, то изучение граффиков показывает, что ряд покаателей в данных имеют пропуски (так как выдялется большое количество значение, которое равно 0, что свидетельствует о том, что в последюущих шагах работы необходимо будет устранить пропсуки в данных)."
   ]
  },
  {
   "cell_type": "markdown",
   "metadata": {},
   "source": [
    "## Предобработка данных"
   ]
  },
  {
   "cell_type": "code",
   "execution_count": 2,
   "metadata": {},
   "outputs": [
    {
     "data": {
      "text/plain": [
       "total_images                0\n",
       "last_price                  0\n",
       "total_area                  0\n",
       "first_day_exposition        0\n",
       "rooms                       0\n",
       "ceiling_height           9195\n",
       "floors_total               86\n",
       "living_area              1903\n",
       "floor                       0\n",
       "is_apartment            20924\n",
       "studio                      0\n",
       "open_plan                   0\n",
       "kitchen_area             2278\n",
       "balcony                 11519\n",
       "locality_name              49\n",
       "airports_nearest         5542\n",
       "cityCenters_nearest      5519\n",
       "parks_around3000         5518\n",
       "parks_nearest           15620\n",
       "ponds_around3000         5518\n",
       "ponds_nearest           14589\n",
       "days_exposition          3181\n",
       "dtype: int64"
      ]
     },
     "execution_count": 2,
     "metadata": {},
     "output_type": "execute_result"
    }
   ],
   "source": [
    "# изучение количества пропущенных значений для каждого столбца\n",
    "data.isna().sum()"
   ]
  },
  {
   "cell_type": "markdown",
   "metadata": {},
   "source": [
    "Итак, можно увидеть, что пропущенные значения присутствуют в следующих столбцах: \n",
    "\n",
    "ceiling_height           9195\n",
    "floors_total               86\n",
    "living_area              1903\n",
    "is_apartment            20924\n",
    "kitchen_area             2278\n",
    "balcony                 11519\n",
    "locality_name              49\n",
    "airports_nearest         5542\n",
    "cityCenters_nearest      5519\n",
    "parks_around3000         5518\n",
    "parks_nearest           15620\n",
    "ponds_around3000         5518\n",
    "ponds_nearest           14589\n",
    "days_exposition          3181\n",
    "\n",
    "Переходя к объяснению подходов к заполнению пропусков в данных необходимо отметить, что во избежание влияния выбросов, в данном исследовании используется медианное значение для заполнения пропусков. Также необходимо изменить 0 на 1 в столбце rooms, так как квартир без комнат не существует (даже студия, по своей сути) имеет комнату. Теперь каждый из столбцов с пропусками будет рассмотрен отдельно: \n",
    "\n",
    "•\tПропуски в days_exposition не будут заполнены, так как можно предположить, что они образовались из-за того, что на момент сбора данных объявление остается открытым, или же после заключения сделки продавец (владелец объявления) еще не успел внести изменения в данный показетль). Следовательно, заполнять данные пропуски попросту нечем и это будет не релевантно. \n",
    "\n",
    "•\tПропуски в таких столбцах как airports_nearest, cityCenters_nearest могут появиться из-за того, что в рассматриваемым системой радиусе не было обнаружено обозначенного центра города или же аэропорта. Другой причиной может быть тот факт, что указывая город – Санкт-Петербург (или иной населенный пункт), продавец недвижимость подразумевает, что при необходимости, интересующийся человек сам посмотрит расстояние до центра). Однако данная информация является важной для дальнейшего анализа. При этом, учитывая формулировку поставленной цели исследование можно поступить следующим образом: вместо попытки связать данную информацию с какой-либо из датасета, посмотреть, какой % пропусков в данных показателях имеет отношение к Санкт-Петербургу. Таким образом, если показатель будет минимальным, то заполнение данных пропусков не является необходимым, так как не отразиться на финальных шагах анализа. \n",
    "\n",
    "•\tПропуски в столбцах parks_around3000, parks_nearest, ponds_around3000, ponds_nearest могут появиться из-за отсутствия парков/прудов поблизости от рассматриваемого объекта недвижимости. Другой вариант существования пропусков заключается в том, что продавец недвижимости счел данные параметры не самыми важными и не разместил информацию о них. При этом в датасете существует большое количество объектов, имеющих данную информацию, можно оставить эти пропуски, так как заполнение их может быть некорректным. \n",
    "\n",
    "•\tПропуски в столбце locality_name составляют всего 49 пропусков. Можно предположить, что продавец выставляет свою квартиру в каком-то определенном разделе, название которого уже носит название населенного пункта. Из-за чего человек не считает необходимым вновь указывать город, в котором находится квартира. Заменить пропуски медианным значением данного столбца невозможно, так как данные являются типом object и присвоить объявлению не его населенный пункт попросту невозможно. Таким образом, в дальнейшем данные строки с пропусками в locality_name исключаются из анализа. \n",
    "\n",
    "•\tПропуски в столбце balcony заменяются 0. Данный шаг являются обоснованным так как из обзора первых строк всего датафрейма видно, что 0 встречается в столбце balcony, в связи с чем можно предположить, что разместитель объявления не отметил отсутствие балкона и оставил данный критерий пропущенным так как в его квартире балкона нет.\n",
    "\n",
    "•\tПропуски в столбце kitchen_area обрабатываются следующим образом. Если объявление относится к квартирам студиям, то ставится 0, так как в квартирах-студиях комната и кухня не разделены и площадь считается исходя из общей площади помещения. В остальных случаях пропуски заполняются с группировкой по числу комнат. Можно предположить, что пропуски появились либо из-за того, что квартира являются студией и продавец не выделили отдельно площадь кухни так как это невозможно, или же площадь кухни не была указана по ошибке/невнимательности продавца. Также вероятно, что продавец мог посчитать, что достаточно указать жилую площадь и общую площадь.\n",
    "\n",
    "•\tПропуски в столбце living_area заполняются медианным значением группировкой общей площади по числу комнат. Можно предположить, что природа их появления в том, что продавец посчитал необходимым выделить только общую площадь и число комнат. \n",
    "\n",
    "•\tПропуски столбца floors_total составляют 86 пропусков, что также незначительно, как и пропуски в столбце locality_name, и заполнить их также не представляется возможным. В связи с чем, в дальнейшем строки с пропусками в данном столбце они также будут удалены. Возможно, данный пункт не является обязательным для заполнения, в связи с чем не все продавцы обращают свое внимание на необходимость заполнения данного показателя. \n",
    "\n",
    "•\tПропуски в столбце ceiling_height заполняются с медианным значением с группировкой по этажности здания. Можно предположить, что продавец не разместил данную информацию так как счел ее не самой необходимой. При этом, можно ожидать, что этажность здания оказывает влияние на высоту потолков. Так, в центре города обычно здания не такие высоких как на окраинах, при этом этажей в них меньше. Если после данного шага из-за пропусков в этажности останутся пропуски в высоте потолков, они будут заполнены медианными значениями, так как связать показатель высоты потолков с другими данными не приставляется возможным. \n",
    "\n",
    "•\tПропуски в столбце is_apartment заменим на False. Можно предположить, что пропуски образовались из-за того, что само понятие апартаментов подивилось значительно позже понятия квартир и пока еще не так распространено на рынке недвижимости."
   ]
  },
  {
   "cell_type": "code",
   "execution_count": 3,
   "metadata": {},
   "outputs": [
    {
     "name": "stdout",
     "output_type": "stream",
     "text": [
      "0.00383\n",
      "0.00537\n"
     ]
    },
    {
     "name": "stderr",
     "output_type": "stream",
     "text": [
      "/opt/conda/lib/python3.9/site-packages/numpy/lib/nanfunctions.py:1117: RuntimeWarning: Mean of empty slice\n",
      "  return np.nanmean(a, axis, out=out, keepdims=keepdims)\n"
     ]
    },
    {
     "data": {
      "text/plain": [
       "total_images                0\n",
       "last_price                  0\n",
       "total_area                  0\n",
       "first_day_exposition        0\n",
       "rooms                       0\n",
       "ceiling_height              0\n",
       "floors_total                0\n",
       "living_area                 0\n",
       "floor                       0\n",
       "is_apartment                0\n",
       "studio                      0\n",
       "open_plan                   0\n",
       "kitchen_area                0\n",
       "balcony                     0\n",
       "locality_name               0\n",
       "airports_nearest         5524\n",
       "cityCenters_nearest      5501\n",
       "parks_around3000         5500\n",
       "parks_nearest           15535\n",
       "ponds_around3000         5500\n",
       "ponds_nearest           14529\n",
       "days_exposition          3171\n",
       "dtype: int64"
      ]
     },
     "execution_count": 3,
     "metadata": {},
     "output_type": "execute_result"
    }
   ],
   "source": [
    "# работа со столбцом rooms\n",
    "data.loc[(data['rooms']==0),'rooms']= 1\n",
    "\n",
    "# работа со столбцами locality_name и floors_total\n",
    "data.dropna(subset=['locality_name'], inplace=True)\n",
    "data.dropna(subset=['floors_total'], inplace=True)\n",
    "\n",
    "# работа со столбцами airports_nearest, cityCenters_nearest\n",
    "\n",
    "print(round(len(data[(data['locality_name'] == 'Санкт-Петербург') & (data['cityCenters_nearest'].isna())]) / \n",
    "      len(data.reset_index(drop=True).query('locality_name == \"Санкт-Петербург\"')), 5))\n",
    "\n",
    "print(round(len(data[(data['locality_name'] == 'Санкт-Петербург') & (data['airports_nearest'].isna())]) / \n",
    "      len(data.reset_index(drop=True).query('locality_name == \"Санкт-Петербург\"')), 5))\n",
    "#Получается, что для анализа недвижимости, находящеся непосредтвенно в Санкт-Пербурге, пропуски в данных столбцах не влияют на анализ. Таким образом, их замены не производятся.\n",
    "\n",
    "# работа со столбцом balcony\n",
    "data.loc[(data['balcony'].isna()), 'balcony'] = 0\n",
    "\n",
    "# работа со столбцом kitchen_area\n",
    "data.loc[(data['studio']==True)&(data['kitchen_area'].isna()),'kitchen_area'] = 0\n",
    "\n",
    "for room_1 in data['rooms'].unique():\n",
    "    data.loc[(data['rooms'] == room_1) & (data['kitchen_area'].isna()),'kitchen_area'] = \\\n",
    "    data.loc[(data['rooms'] == room_1), 'kitchen_area'].median()\n",
    "    \n",
    "# работа со столбцом living_area\n",
    "\n",
    "for room in data['rooms'].unique():\n",
    "    data.loc[(data['rooms'] == room) & (data['living_area'].isna()),'living_area'] = \\\n",
    "    data.loc[(data['rooms'] == room), 'living_area'].median()\n",
    "    \n",
    "# работа со столбцом is_apartment\n",
    "data['is_apartment'] = data['is_apartment'].fillna(False)\n",
    "\n",
    "# работа со столбцами locality_name и floors_total\n",
    "\n",
    "# работа со столбцом ceiling_height\n",
    "for floors in data['floors_total'].unique():\n",
    "    data.loc[(data['floors_total'] == floors) & (data['ceiling_height'].isna()),'ceiling_height'] = \\\n",
    "    data.loc[(data['floors_total'] == floors), 'ceiling_height'].median()\n",
    "\n",
    "data.loc[data['ceiling_height'].isna(), 'ceiling_height'] = data['ceiling_height'].median()\n",
    "\n",
    "# проверяем: получилось ли избавиться от пропусков\n",
    "data.isna().sum()"
   ]
  },
  {
   "cell_type": "code",
   "execution_count": 4,
   "metadata": {},
   "outputs": [
    {
     "data": {
      "text/plain": [
       "0.42637898352167325"
      ]
     },
     "execution_count": 4,
     "metadata": {},
     "output_type": "execute_result"
    }
   ],
   "source": [
    "data['kitchen_area'].corr(data['living_area'])"
   ]
  },
  {
   "cell_type": "code",
   "execution_count": 5,
   "metadata": {},
   "outputs": [
    {
     "data": {
      "text/plain": [
       "0.5887089456729039"
      ]
     },
     "execution_count": 5,
     "metadata": {},
     "output_type": "execute_result"
    }
   ],
   "source": [
    "data['kitchen_area'].corr(data['total_area'])"
   ]
  },
  {
   "cell_type": "code",
   "execution_count": 6,
   "metadata": {},
   "outputs": [
    {
     "data": {
      "text/plain": [
       "0.45257955136326833"
      ]
     },
     "execution_count": 6,
     "metadata": {},
     "output_type": "execute_result"
    }
   ],
   "source": [
    "data['kitchen_area'].corr(data['last_price'])"
   ]
  },
  {
   "cell_type": "code",
   "execution_count": 7,
   "metadata": {},
   "outputs": [
    {
     "data": {
      "text/plain": [
       "0.2825380632195256"
      ]
     },
     "execution_count": 7,
     "metadata": {},
     "output_type": "execute_result"
    }
   ],
   "source": [
    "data['kitchen_area'].corr(data['rooms'])"
   ]
  },
  {
   "cell_type": "markdown",
   "metadata": {},
   "source": [
    "Таким образом, можно предположить, что заполнение пропусков в столбце площадь кухни можно было бы провести по паказателям столбца вся площадь, так как корреляция с данным параметром составляет 0,58."
   ]
  },
  {
   "cell_type": "markdown",
   "metadata": {},
   "source": [
    "Преобразование типов данных.\n",
    "Типы данных необходимо изменить в следующих столбцах для дальнейшей работы с ними и проведения анализа. Необходимо перевести следующие данные в определённый тип:\n",
    "- Столбец last_price в целочисленный тип, чтобы цена отображалась целой, без копеек.\n",
    "- Столбцы total_area, ceiling_height ,living_area, kitchen_area необходимо округлим до десятых, так как при рассмотрение метров квадратных дестые играют роль как для восприятия площади, так и для анализа.\n",
    "- Столбец first_day_exposition необходимо перевести в формат datetime, так как в нем хранятся даты.\n",
    "- Столбцы floors_total, balcony необходимо привести к целочисленным, так как нецелочисленных этажей и балконов попросту не существует. \n",
    "- Столбцы airports_nearest, cityCenters_nearest, parks_around3000, parks_nearest, ponds_around3000, ponds_nearest необходимо также перевести в целочисленный формат, так как там фигурируют метры. \n",
    "- Столбец days_exposition необходимо также привести в целочисленный формат, так как необходимо рассматривать целое количество дней, в период которых продавалась недвижимость. \n",
    "- Столбец is_apartment необходимо перевести в булев тип как это указано в описание анализа."
   ]
  },
  {
   "cell_type": "code",
   "execution_count": 8,
   "metadata": {},
   "outputs": [
    {
     "name": "stdout",
     "output_type": "stream",
     "text": [
      "<class 'pandas.core.frame.DataFrame'>\n",
      "Int64Index: 23565 entries, 0 to 23698\n",
      "Data columns (total 22 columns):\n",
      " #   Column                Non-Null Count  Dtype         \n",
      "---  ------                --------------  -----         \n",
      " 0   total_images          23565 non-null  int64         \n",
      " 1   last_price            23565 non-null  int64         \n",
      " 2   total_area            23565 non-null  float64       \n",
      " 3   first_day_exposition  23565 non-null  datetime64[ns]\n",
      " 4   rooms                 23565 non-null  int64         \n",
      " 5   ceiling_height        23565 non-null  float64       \n",
      " 6   floors_total          23565 non-null  int64         \n",
      " 7   living_area           23565 non-null  float64       \n",
      " 8   floor                 23565 non-null  int64         \n",
      " 9   is_apartment          23565 non-null  bool          \n",
      " 10  studio                23565 non-null  bool          \n",
      " 11  open_plan             23565 non-null  bool          \n",
      " 12  kitchen_area          23565 non-null  float64       \n",
      " 13  balcony               23565 non-null  int64         \n",
      " 14  locality_name         23565 non-null  object        \n",
      " 15  airports_nearest      18041 non-null  float64       \n",
      " 16  cityCenters_nearest   18064 non-null  float64       \n",
      " 17  parks_around3000      18065 non-null  float64       \n",
      " 18  parks_nearest         8030 non-null   float64       \n",
      " 19  ponds_around3000      18065 non-null  float64       \n",
      " 20  ponds_nearest         9036 non-null   float64       \n",
      " 21  days_exposition       20394 non-null  float64       \n",
      "dtypes: bool(3), datetime64[ns](1), float64(11), int64(6), object(1)\n",
      "memory usage: 3.7+ MB\n",
      "None\n",
      "   total_images  last_price  total_area first_day_exposition  rooms  \\\n",
      "0            20    13000000       108.0           2019-03-07      3   \n",
      "1             7     3350000        40.4           2018-12-04      1   \n",
      "2            10     5196000        56.0           2015-08-20      2   \n",
      "3             0    64900000       159.0           2015-07-24      3   \n",
      "4             2    10000000       100.0           2018-06-19      2   \n",
      "5            10     2890000        30.4           2018-09-10      1   \n",
      "6             6     3700000        37.3           2017-11-02      1   \n",
      "7             5     7915000        71.6           2019-04-18      2   \n",
      "8            20     2900000        33.2           2018-05-23      1   \n",
      "9            18     5400000        61.0           2017-02-26      3   \n",
      "\n",
      "   ceiling_height  floors_total  living_area  floor  is_apartment  ...  \\\n",
      "0             2.7            16         51.0      8         False  ...   \n",
      "1             2.8            11         18.6      1         False  ...   \n",
      "2             2.6             5         34.3      4         False  ...   \n",
      "3             2.6            14         45.0      9         False  ...   \n",
      "4             3.0            14         32.0     13         False  ...   \n",
      "5             2.6            12         14.4      5         False  ...   \n",
      "6             2.7            26         10.6      6         False  ...   \n",
      "7             2.8            24         30.5     22         False  ...   \n",
      "8             2.7            27         15.4     26         False  ...   \n",
      "9             2.5             9         43.6      7         False  ...   \n",
      "\n",
      "   kitchen_area  balcony              locality_name  airports_nearest  \\\n",
      "0          25.0        0            Санкт-Петербург           18863.0   \n",
      "1          11.0        2             посёлок Шушары           12817.0   \n",
      "2           8.3        0            Санкт-Петербург           21741.0   \n",
      "3           9.5        0            Санкт-Петербург           28098.0   \n",
      "4          41.0        0            Санкт-Петербург           31856.0   \n",
      "5           9.1        0  городской посёлок Янино-1               NaN   \n",
      "6          14.4        1          посёлок Парголово           52996.0   \n",
      "7          18.9        2            Санкт-Петербург           23982.0   \n",
      "8           8.8        0             посёлок Мурино               NaN   \n",
      "9           6.5        2            Санкт-Петербург           50898.0   \n",
      "\n",
      "  cityCenters_nearest  parks_around3000  parks_nearest  ponds_around3000  \\\n",
      "0             16028.0               1.0          482.0               2.0   \n",
      "1             18603.0               0.0            NaN               0.0   \n",
      "2             13933.0               1.0           90.0               2.0   \n",
      "3              6800.0               2.0           84.0               3.0   \n",
      "4              8098.0               2.0          112.0               1.0   \n",
      "5                 NaN               NaN            NaN               NaN   \n",
      "6             19143.0               0.0            NaN               0.0   \n",
      "7             11634.0               0.0            NaN               0.0   \n",
      "8                 NaN               NaN            NaN               NaN   \n",
      "9             15008.0               0.0            NaN               0.0   \n",
      "\n",
      "   ponds_nearest  days_exposition  \n",
      "0          755.0              NaN  \n",
      "1            NaN             81.0  \n",
      "2          574.0            558.0  \n",
      "3          234.0            424.0  \n",
      "4           48.0            121.0  \n",
      "5            NaN             55.0  \n",
      "6            NaN            155.0  \n",
      "7            NaN              NaN  \n",
      "8            NaN            189.0  \n",
      "9            NaN            289.0  \n",
      "\n",
      "[10 rows x 22 columns]\n"
     ]
    }
   ],
   "source": [
    "# Список столбцов, которые необходимо перевести в int\n",
    "\n",
    "list_to_int = ['last_price', 'floors_total', 'balcony', 'airports_nearest', 'cityCenters_nearest', 'parks_around3000',\n",
    "               'parks_nearest', 'ponds_around3000', 'ponds_nearest', 'days_exposition']\n",
    "for column in list_to_int:\n",
    "    data[column] = data[data[column].notnull()][column].astype('int')\n",
    "\n",
    "# Список столбцов, которые необходимо округлить до десятых\n",
    "list_to_1 = ['total_area', 'ceiling_height', 'living_area', 'kitchen_area']\n",
    "\n",
    "for column in list_to_1:\n",
    "    data[column] = data[data[column].notnull()][column].round(1)\n",
    "\n",
    "data['first_day_exposition'] = pd.to_datetime(data['first_day_exposition'], format = '%Y-%m-%d')\n",
    "\n",
    "# Проверяем изменения \n",
    "print(data.info())\n",
    "print(data.head(10))"
   ]
  },
  {
   "cell_type": "markdown",
   "metadata": {},
   "source": [
    "Изучение уникальных значения в столбце с названиями и устранение неявных дубликатов. Изучив список уникальных значений столбца locality_name становится видно, что часто один и тот же населенный пункт имеет перед своим названием разные обозначения. В связи с чем, для сохранения логики исследования можно изменить данные таким образом, чтобы у объявлений остались исключительно имена собственные в столбце locality_name."
   ]
  },
  {
   "cell_type": "code",
   "execution_count": 9,
   "metadata": {},
   "outputs": [],
   "source": [
    "def upper_name(name):\n",
    "    for i in range(len(name)):\n",
    "        if name[i].isupper() == True:\n",
    "            return name[i:len(name)]\n",
    "\n",
    "data['locality_name'] = data['locality_name'].apply(upper_name)"
   ]
  },
  {
   "cell_type": "code",
   "execution_count": 10,
   "metadata": {},
   "outputs": [
    {
     "name": "stdout",
     "output_type": "stream",
     "text": [
      "    total_images  last_price  total_area first_day_exposition  rooms  \\\n",
      "0             20    13000000       108.0           2019-03-07      3   \n",
      "1              7     3350000        40.4           2018-12-04      1   \n",
      "2             10     5196000        56.0           2015-08-20      2   \n",
      "3              0    64900000       159.0           2015-07-24      3   \n",
      "4              2    10000000       100.0           2018-06-19      2   \n",
      "5             10     2890000        30.4           2018-09-10      1   \n",
      "6              6     3700000        37.3           2017-11-02      1   \n",
      "7              5     7915000        71.6           2019-04-18      2   \n",
      "8             20     2900000        33.2           2018-05-23      1   \n",
      "9             18     5400000        61.0           2017-02-26      3   \n",
      "10             5     5050000        39.6           2017-11-16      1   \n",
      "11             9     3300000        44.0           2018-08-27      2   \n",
      "12            10     3890000        54.0           2016-06-30      2   \n",
      "13            20     3550000        42.8           2017-07-01      2   \n",
      "14             1     4400000        36.0           2016-06-23      1   \n",
      "15            16     4650000        39.0           2017-11-18      1   \n",
      "16            11     6700000        82.0           2017-11-23      3   \n",
      "17             6     4180000        36.0           2016-09-09      1   \n",
      "18             8     3250000        31.0           2017-01-27      1   \n",
      "19            16    14200000       121.0           2019-01-09      3   \n",
      "\n",
      "    ceiling_height  floors_total  living_area  floor  is_apartment  ...  \\\n",
      "0              2.7            16         51.0      8         False  ...   \n",
      "1              2.8            11         18.6      1         False  ...   \n",
      "2              2.6             5         34.3      4         False  ...   \n",
      "3              2.6            14         45.0      9         False  ...   \n",
      "4              3.0            14         32.0     13         False  ...   \n",
      "5              2.6            12         14.4      5         False  ...   \n",
      "6              2.7            26         10.6      6         False  ...   \n",
      "7              2.8            24         30.5     22         False  ...   \n",
      "8              2.7            27         15.4     26         False  ...   \n",
      "9              2.5             9         43.6      7         False  ...   \n",
      "10             2.7            12         20.3      3         False  ...   \n",
      "11             2.6             5         31.0      4         False  ...   \n",
      "12             2.6             5         30.0      5         False  ...   \n",
      "13             2.6             5         27.0      5         False  ...   \n",
      "14             3.0             6         17.0      1         False  ...   \n",
      "15             2.6            14         20.5      5         False  ...   \n",
      "16             3.0             5         55.6      1         False  ...   \n",
      "17             2.7            17         16.5      7         False  ...   \n",
      "18             2.5             5         19.4      2         False  ...   \n",
      "19             2.8            16         76.0      8         False  ...   \n",
      "\n",
      "    kitchen_area  balcony    locality_name  airports_nearest  \\\n",
      "0           25.0        0  Санкт-Петербург           18863.0   \n",
      "1           11.0        2           Шушары           12817.0   \n",
      "2            8.3        0  Санкт-Петербург           21741.0   \n",
      "3            9.5        0  Санкт-Петербург           28098.0   \n",
      "4           41.0        0  Санкт-Петербург           31856.0   \n",
      "5            9.1        0          Янино-1               NaN   \n",
      "6           14.4        1        Парголово           52996.0   \n",
      "7           18.9        2  Санкт-Петербург           23982.0   \n",
      "8            8.8        0           Мурино               NaN   \n",
      "9            6.5        2  Санкт-Петербург           50898.0   \n",
      "10           8.5        0  Санкт-Петербург           38357.0   \n",
      "11           6.0        1        Ломоносов           48252.0   \n",
      "12           9.0        0        Сертолово               NaN   \n",
      "13           5.2        1         Петергоф           37868.0   \n",
      "14           8.0        0           Пушкин           20782.0   \n",
      "15           7.6        1  Санкт-Петербург           12900.0   \n",
      "16           9.0        0  Санкт-Петербург           22108.0   \n",
      "17          11.0        1  Санкт-Петербург           33564.0   \n",
      "18           5.6        1  Санкт-Петербург           44060.0   \n",
      "19          12.0        0  Санкт-Петербург           38900.0   \n",
      "\n",
      "   cityCenters_nearest  parks_around3000  parks_nearest  ponds_around3000  \\\n",
      "0              16028.0               1.0          482.0               2.0   \n",
      "1              18603.0               0.0            NaN               0.0   \n",
      "2              13933.0               1.0           90.0               2.0   \n",
      "3               6800.0               2.0           84.0               3.0   \n",
      "4               8098.0               2.0          112.0               1.0   \n",
      "5                  NaN               NaN            NaN               NaN   \n",
      "6              19143.0               0.0            NaN               0.0   \n",
      "7              11634.0               0.0            NaN               0.0   \n",
      "8                  NaN               NaN            NaN               NaN   \n",
      "9              15008.0               0.0            NaN               0.0   \n",
      "10             13878.0               1.0          310.0               2.0   \n",
      "11             51677.0               0.0            NaN               0.0   \n",
      "12                 NaN               NaN            NaN               NaN   \n",
      "13             33058.0               1.0          294.0               3.0   \n",
      "14             30759.0               0.0            NaN               1.0   \n",
      "15             14259.0               1.0          590.0               1.0   \n",
      "16             10698.0               3.0          420.0               0.0   \n",
      "17             14616.0               0.0            NaN               1.0   \n",
      "18             10842.0               1.0          759.0               0.0   \n",
      "19             12843.0               0.0            NaN               0.0   \n",
      "\n",
      "    ponds_nearest  days_exposition  \n",
      "0           755.0              NaN  \n",
      "1             NaN             81.0  \n",
      "2           574.0            558.0  \n",
      "3           234.0            424.0  \n",
      "4            48.0            121.0  \n",
      "5             NaN             55.0  \n",
      "6             NaN            155.0  \n",
      "7             NaN              NaN  \n",
      "8             NaN            189.0  \n",
      "9             NaN            289.0  \n",
      "10          553.0            137.0  \n",
      "11            NaN              7.0  \n",
      "12            NaN             90.0  \n",
      "13          298.0            366.0  \n",
      "14           96.0            203.0  \n",
      "15          296.0             19.0  \n",
      "16            NaN            397.0  \n",
      "17          859.0            571.0  \n",
      "18            NaN            168.0  \n",
      "19            NaN             97.0  \n",
      "\n",
      "[20 rows x 22 columns]\n"
     ]
    }
   ],
   "source": [
    "# проверяем, точно ли произошли необходимые изменения в столбце locality_name\n",
    "print(data.head(20))"
   ]
  },
  {
   "cell_type": "markdown",
   "metadata": {},
   "source": [
    "Переходя к изучению и устранению редких и выбивающихся значения в данных, строятся диорамы размаха или гистограммы, позволяющие определить, существуют ли аномалии или выбросы в данных, которые необходимо удалить. При этом используются основные хараетристики объекта недвижимости, которые необходимы для дальнейшего анализа.  "
   ]
  },
  {
   "cell_type": "code",
   "execution_count": 11,
   "metadata": {},
   "outputs": [
    {
     "name": "stdout",
     "output_type": "stream",
     "text": [
      "count    23565.000000\n",
      "mean        60.322813\n",
      "std         35.657072\n",
      "min         12.000000\n",
      "25%         40.000000\n",
      "50%         52.000000\n",
      "75%         69.700000\n",
      "max        900.000000\n",
      "Name: total_area, dtype: float64\n"
     ]
    },
    {
     "data": {
      "text/plain": [
       "{'whiskers': [<matplotlib.lines.Line2D at 0x7fd99c2cce50>,\n",
       "  <matplotlib.lines.Line2D at 0x7fd99c2dd1f0>],\n",
       " 'caps': [<matplotlib.lines.Line2D at 0x7fd99c2dd550>,\n",
       "  <matplotlib.lines.Line2D at 0x7fd99c2dd8b0>],\n",
       " 'boxes': [<matplotlib.lines.Line2D at 0x7fd99c2ccaf0>],\n",
       " 'medians': [<matplotlib.lines.Line2D at 0x7fd99c2ddc10>],\n",
       " 'fliers': [<matplotlib.lines.Line2D at 0x7fd99c2ddf70>],\n",
       " 'means': []}"
      ]
     },
     "execution_count": 11,
     "metadata": {},
     "output_type": "execute_result"
    },
    {
     "data": {
      "image/png": "[encoded data removed]",
      "text/plain": [
       "<Figure size 432x288 with 1 Axes>"
      ]
     },
     "metadata": {
      "needs_background": "light"
     },
     "output_type": "display_data"
    }
   ],
   "source": [
    "import matplotlib.pyplot as plt \n",
    "\n",
    "print(data['total_area'].describe())\n",
    "plt.boxplot(data['total_area'])"
   ]
  },
  {
   "cell_type": "code",
   "execution_count": 12,
   "metadata": {},
   "outputs": [
    {
     "data": {
      "text/plain": [
       "0.994345752985358"
      ]
     },
     "execution_count": 12,
     "metadata": {},
     "output_type": "execute_result"
    }
   ],
   "source": [
    "data.shape[0]/23699"
   ]
  },
  {
   "cell_type": "markdown",
   "metadata": {},
   "source": [
    "Таким образом, можно увидеть, что есть однозначные аномалии: максимальное значение в 900м2, а также несколько выбросов в районе 600м2. Действительно, такие размеры квартир встречаются не часто. Что же до расспредления остальных показателей, находящихся за пределами усов, можно увидеть, что до 400м2 расположено большое количество объектов недвижимости, таким образом, отсечение данных показателей может исказить весь дальнейший процесс исследования. Таким образом, все показатели объекты недвижимости с плошадью до 400м2 включительно будут сохранены. Можно предположить, что при большом числе комнат такая площадь, дейтсвительно, может существовать."
   ]
  },
  {
   "cell_type": "code",
   "execution_count": 13,
   "metadata": {},
   "outputs": [],
   "source": [
    "data = data.loc[(data['total_area'] <= 400)]"
   ]
  },
  {
   "cell_type": "code",
   "execution_count": 14,
   "metadata": {},
   "outputs": [
    {
     "name": "stdout",
     "output_type": "stream",
     "text": [
      "count    23542.000000\n",
      "mean         2.074760\n",
      "std          1.055497\n",
      "min          1.000000\n",
      "25%          1.000000\n",
      "50%          2.000000\n",
      "75%          3.000000\n",
      "max         19.000000\n",
      "Name: rooms, dtype: float64\n"
     ]
    },
    {
     "data": {
      "text/plain": [
       "{'whiskers': [<matplotlib.lines.Line2D at 0x7fd99c2b7160>,\n",
       "  <matplotlib.lines.Line2D at 0x7fd99c2b74c0>],\n",
       " 'caps': [<matplotlib.lines.Line2D at 0x7fd99c2b7820>,\n",
       "  <matplotlib.lines.Line2D at 0x7fd99c2b7b80>],\n",
       " 'boxes': [<matplotlib.lines.Line2D at 0x7fd99c2a8dc0>],\n",
       " 'medians': [<matplotlib.lines.Line2D at 0x7fd99c2b7ee0>],\n",
       " 'fliers': [<matplotlib.lines.Line2D at 0x7fd99c241280>],\n",
       " 'means': []}"
      ]
     },
     "execution_count": 14,
     "metadata": {},
     "output_type": "execute_result"
    },
    {
     "data": {
      "image/png": "[encoded data removed]",
      "text/plain": [
       "<Figure size 432x288 with 1 Axes>"
      ]
     },
     "metadata": {
      "needs_background": "light"
     },
     "output_type": "display_data"
    }
   ],
   "source": [
    "print(data['rooms'].describe())\n",
    "plt.boxplot(data['rooms'])"
   ]
  },
  {
   "cell_type": "code",
   "execution_count": 15,
   "metadata": {},
   "outputs": [
    {
     "data": {
      "text/plain": [
       "0.9933752479007553"
      ]
     },
     "execution_count": 15,
     "metadata": {},
     "output_type": "execute_result"
    }
   ],
   "source": [
    "data.shape[0]/23699"
   ]
  },
  {
   "cell_type": "markdown",
   "metadata": {},
   "source": [
    "Можно видеть, что максимальное число комнат - 19, что почти не встречается в реальности, таким образом данный показатель можно отности к аномалии. Построение боксплота также показывает, что за пределами усов находятся квартиры, в которых встречается такое число комант до 11. Принимая во внимание тот факт, что рассмотрение общей площади поазало, что существует большое число квартир с площадью до 400м2 включительно, предалагется исклчить из выборки только те показатели, которые расположене на боксплоте с большим промежутком от нескольких выбросов после усов, то есть отрезать те квартиры, в которых больше 11 комнат. "
   ]
  },
  {
   "cell_type": "code",
   "execution_count": 16,
   "metadata": {},
   "outputs": [],
   "source": [
    "data = data.loc[(data['rooms'] <= 11)]"
   ]
  },
  {
   "cell_type": "code",
   "execution_count": 17,
   "metadata": {},
   "outputs": [
    {
     "name": "stdout",
     "output_type": "stream",
     "text": [
      "count    23538.000000\n",
      "mean        10.678732\n",
      "std          6.595560\n",
      "min          1.000000\n",
      "25%          5.000000\n",
      "50%          9.000000\n",
      "75%         16.000000\n",
      "max         60.000000\n",
      "Name: floors_total, dtype: float64\n"
     ]
    },
    {
     "data": {
      "text/plain": [
       "{'whiskers': [<matplotlib.lines.Line2D at 0x7fd99c206fd0>,\n",
       "  <matplotlib.lines.Line2D at 0x7fd99c2153a0>],\n",
       " 'caps': [<matplotlib.lines.Line2D at 0x7fd99c215700>,\n",
       "  <matplotlib.lines.Line2D at 0x7fd99c215a60>],\n",
       " 'boxes': [<matplotlib.lines.Line2D at 0x7fd99c206c70>],\n",
       " 'medians': [<matplotlib.lines.Line2D at 0x7fd99c215dc0>],\n",
       " 'fliers': [<matplotlib.lines.Line2D at 0x7fd99c220160>],\n",
       " 'means': []}"
      ]
     },
     "execution_count": 17,
     "metadata": {},
     "output_type": "execute_result"
    },
    {
     "data": {
      "image/png": "[encoded data removed]",
      "text/plain": [
       "<Figure size 432x288 with 1 Axes>"
      ]
     },
     "metadata": {
      "needs_background": "light"
     },
     "output_type": "display_data"
    }
   ],
   "source": [
    "print(data['floors_total'].describe())\n",
    "plt.boxplot(data['floors_total'])"
   ]
  },
  {
   "cell_type": "code",
   "execution_count": 18,
   "metadata": {},
   "outputs": [],
   "source": [
    "data = data.loc[(data['floors_total'] <= 30)]"
   ]
  },
  {
   "cell_type": "code",
   "execution_count": 19,
   "metadata": {},
   "outputs": [
    {
     "data": {
      "text/plain": [
       "0.9918561964639858"
      ]
     },
     "execution_count": 19,
     "metadata": {},
     "output_type": "execute_result"
    }
   ],
   "source": [
    "data.shape[0]/23699"
   ]
  },
  {
   "cell_type": "code",
   "execution_count": 20,
   "metadata": {},
   "outputs": [
    {
     "name": "stdout",
     "output_type": "stream",
     "text": [
      "count    23506.000000\n",
      "mean        34.112346\n",
      "std         20.464586\n",
      "min          2.000000\n",
      "25%         18.400000\n",
      "50%         30.300000\n",
      "75%         42.600000\n",
      "max        260.000000\n",
      "Name: living_area, dtype: float64\n"
     ]
    },
    {
     "data": {
      "text/plain": [
       "{'whiskers': [<matplotlib.lines.Line2D at 0x7fd99c1e6a30>,\n",
       "  <matplotlib.lines.Line2D at 0x7fd99c1e6d90>],\n",
       " 'caps': [<matplotlib.lines.Line2D at 0x7fd99c1f3130>,\n",
       "  <matplotlib.lines.Line2D at 0x7fd99c1f3490>],\n",
       " 'boxes': [<matplotlib.lines.Line2D at 0x7fd99c1e66d0>],\n",
       " 'medians': [<matplotlib.lines.Line2D at 0x7fd99c1f37f0>],\n",
       " 'fliers': [<matplotlib.lines.Line2D at 0x7fd99c1f3b50>],\n",
       " 'means': []}"
      ]
     },
     "execution_count": 20,
     "metadata": {},
     "output_type": "execute_result"
    },
    {
     "data": {
      "image/png": "[encoded data removed]",
      "text/plain": [
       "<Figure size 432x288 with 1 Axes>"
      ]
     },
     "metadata": {
      "needs_background": "light"
     },
     "output_type": "display_data"
    }
   ],
   "source": [
    "print(data['living_area'].describe())\n",
    "plt.boxplot(data['living_area'])"
   ]
  },
  {
   "cell_type": "code",
   "execution_count": 21,
   "metadata": {},
   "outputs": [],
   "source": [
    "data = data.loc[(data['living_area'] <= 75)]"
   ]
  },
  {
   "cell_type": "code",
   "execution_count": 22,
   "metadata": {},
   "outputs": [
    {
     "data": {
      "text/plain": [
       "0.9553567661082746"
      ]
     },
     "execution_count": 22,
     "metadata": {},
     "output_type": "execute_result"
    }
   ],
   "source": [
    "data.shape[0]/23699"
   ]
  },
  {
   "cell_type": "code",
   "execution_count": 23,
   "metadata": {},
   "outputs": [
    {
     "name": "stdout",
     "output_type": "stream",
     "text": [
      "count    22641.000000\n",
      "mean         9.999033\n",
      "std          4.956705\n",
      "min          0.000000\n",
      "25%          7.100000\n",
      "50%          9.000000\n",
      "75%         11.000000\n",
      "max        107.000000\n",
      "Name: kitchen_area, dtype: float64\n"
     ]
    },
    {
     "data": {
      "text/plain": [
       "{'whiskers': [<matplotlib.lines.Line2D at 0x7fd99c1409d0>,\n",
       "  <matplotlib.lines.Line2D at 0x7fd99c140d30>],\n",
       " 'caps': [<matplotlib.lines.Line2D at 0x7fd99c14b0d0>,\n",
       "  <matplotlib.lines.Line2D at 0x7fd99c14b430>],\n",
       " 'boxes': [<matplotlib.lines.Line2D at 0x7fd99c140670>],\n",
       " 'medians': [<matplotlib.lines.Line2D at 0x7fd99c14b790>],\n",
       " 'fliers': [<matplotlib.lines.Line2D at 0x7fd99c14baf0>],\n",
       " 'means': []}"
      ]
     },
     "execution_count": 23,
     "metadata": {},
     "output_type": "execute_result"
    },
    {
     "data": {
      "image/png": "[encoded data removed]",
      "text/plain": [
       "<Figure size 432x288 with 1 Axes>"
      ]
     },
     "metadata": {
      "needs_background": "light"
     },
     "output_type": "display_data"
    }
   ],
   "source": [
    "print(data['kitchen_area'].describe())\n",
    "plt.boxplot(data['kitchen_area'])"
   ]
  },
  {
   "cell_type": "code",
   "execution_count": 24,
   "metadata": {},
   "outputs": [],
   "source": [
    "data = data.loc[(data['kitchen_area'] <= 20)]"
   ]
  },
  {
   "cell_type": "code",
   "execution_count": 25,
   "metadata": {},
   "outputs": [
    {
     "data": {
      "text/plain": [
       "0.9250179332461286"
      ]
     },
     "execution_count": 25,
     "metadata": {},
     "output_type": "execute_result"
    }
   ],
   "source": [
    "data.shape[0]/23699"
   ]
  },
  {
   "cell_type": "code",
   "execution_count": 26,
   "metadata": {},
   "outputs": [
    {
     "name": "stdout",
     "output_type": "stream",
     "text": [
      "count    21922.000000\n",
      "mean         2.727735\n",
      "std          1.008456\n",
      "min          1.000000\n",
      "25%          2.600000\n",
      "50%          2.600000\n",
      "75%          2.800000\n",
      "max        100.000000\n",
      "Name: ceiling_height, dtype: float64\n"
     ]
    },
    {
     "data": {
      "text/plain": [
       "{'whiskers': [<matplotlib.lines.Line2D at 0x7fd99c11a970>,\n",
       "  <matplotlib.lines.Line2D at 0x7fd99c11acd0>],\n",
       " 'caps': [<matplotlib.lines.Line2D at 0x7fd99c127070>,\n",
       "  <matplotlib.lines.Line2D at 0x7fd99c1273d0>],\n",
       " 'boxes': [<matplotlib.lines.Line2D at 0x7fd99c11a610>],\n",
       " 'medians': [<matplotlib.lines.Line2D at 0x7fd99c127730>],\n",
       " 'fliers': [<matplotlib.lines.Line2D at 0x7fd99c127a90>],\n",
       " 'means': []}"
      ]
     },
     "execution_count": 26,
     "metadata": {},
     "output_type": "execute_result"
    },
    {
     "data": {
      "image/png": "[encoded data removed]",
      "text/plain": [
       "<Figure size 432x288 with 1 Axes>"
      ]
     },
     "metadata": {
      "needs_background": "light"
     },
     "output_type": "display_data"
    }
   ],
   "source": [
    "print(data['ceiling_height'].describe())\n",
    "plt.boxplot(data['ceiling_height'])"
   ]
  },
  {
   "cell_type": "code",
   "execution_count": 27,
   "metadata": {},
   "outputs": [],
   "source": [
    "data = data.loc[(data['ceiling_height'] <= 7)]"
   ]
  },
  {
   "cell_type": "code",
   "execution_count": 28,
   "metadata": {},
   "outputs": [
    {
     "data": {
      "text/plain": [
       "0.9238364487953078"
      ]
     },
     "execution_count": 28,
     "metadata": {},
     "output_type": "execute_result"
    }
   ],
   "source": [
    "data.shape[0]/23699"
   ]
  },
  {
   "cell_type": "markdown",
   "metadata": {},
   "source": [
    "Если оставить предельный показатель в 3м, получается, что срез данных больше чем на 10%, что не допустимо. Рассмотрение боксплота показывает, что существует ольшое количество выбросов (плотность за усами), которые находятся на уровне 7 метров. Можно предположить, что данная высота потолков может встречаться в мансардах, квартирах на последнем этаже или же одноэтажных посройках (чатсный дом в лен области). "
   ]
  },
  {
   "cell_type": "code",
   "execution_count": 29,
   "metadata": {},
   "outputs": [
    {
     "name": "stdout",
     "output_type": "stream",
     "text": [
      "count    2.189400e+04\n",
      "mean     5.304920e+06\n",
      "std      3.843393e+06\n",
      "min      4.300000e+05\n",
      "25%      3.350000e+06\n",
      "50%      4.499000e+06\n",
      "75%      6.200000e+06\n",
      "max      1.240000e+08\n",
      "Name: last_price, dtype: float64\n"
     ]
    },
    {
     "data": {
      "text/plain": [
       "{'whiskers': [<matplotlib.lines.Line2D at 0x7fd99acadd00>,\n",
       "  <matplotlib.lines.Line2D at 0x7fd99acb4c10>],\n",
       " 'caps': [<matplotlib.lines.Line2D at 0x7fd99acb4880>,\n",
       "  <matplotlib.lines.Line2D at 0x7fd99acbb700>],\n",
       " 'boxes': [<matplotlib.lines.Line2D at 0x7fd99acadd90>],\n",
       " 'medians': [<matplotlib.lines.Line2D at 0x7fd99acbbdc0>],\n",
       " 'fliers': [<matplotlib.lines.Line2D at 0x7fd99ac4b490>],\n",
       " 'means': []}"
      ]
     },
     "execution_count": 29,
     "metadata": {},
     "output_type": "execute_result"
    },
    {
     "data": {
      "image/png": "[encoded data removed]",
      "text/plain": [
       "<Figure size 432x288 with 1 Axes>"
      ]
     },
     "metadata": {
      "needs_background": "light"
     },
     "output_type": "display_data"
    }
   ],
   "source": [
    "print(data['last_price'].describe())\n",
    "plt.boxplot(data['last_price'])"
   ]
  },
  {
   "cell_type": "markdown",
   "metadata": {},
   "source": [
    "Таким образом, становится видно, что максимальная цена 124 млн, что является аномалией, как и выбросы после 40 млн, так как до данной цены распределенне объектов плотное, что свидетельствует о том, что это не аномалии, а необходимые показатели для анализа. Учитывая тот факт, что датафрейм имеет в себе объекты, расположенные в Санкт-Петербурге, площадью до 400м2, как бло определено ранее, цена до 40млн включительно также не должны вызывать удивления: в городе есть престижные районы, в которых продается элитное жилье (Крестовский остров). "
   ]
  },
  {
   "cell_type": "code",
   "execution_count": 30,
   "metadata": {},
   "outputs": [],
   "source": [
    "data = data.loc[(data['last_price'] <= 40000000)]"
   ]
  },
  {
   "cell_type": "code",
   "execution_count": 31,
   "metadata": {},
   "outputs": [
    {
     "data": {
      "text/plain": [
       "0.9229503354571923"
      ]
     },
     "execution_count": 31,
     "metadata": {},
     "output_type": "execute_result"
    }
   ],
   "source": [
    "data.shape[0]/23699"
   ]
  },
  {
   "cell_type": "code",
   "execution_count": 32,
   "metadata": {},
   "outputs": [
    {
     "name": "stdout",
     "output_type": "stream",
     "text": [
      "count    19105.000000\n",
      "mean       174.195394\n",
      "std        212.876176\n",
      "min          1.000000\n",
      "25%         44.000000\n",
      "50%         92.000000\n",
      "75%        221.000000\n",
      "max       1580.000000\n",
      "Name: days_exposition, dtype: float64\n"
     ]
    }
   ],
   "source": [
    "print(data['days_exposition'].describe())"
   ]
  },
  {
   "cell_type": "code",
   "execution_count": 33,
   "metadata": {},
   "outputs": [
    {
     "data": {
      "text/plain": [
       "<AxesSubplot:>"
      ]
     },
     "execution_count": 33,
     "metadata": {},
     "output_type": "execute_result"
    },
    {
     "data": {
      "image/png": "[encoded data removed]",
      "text/plain": [
       "<Figure size 1080x1440 with 1 Axes>"
      ]
     },
     "metadata": {
      "needs_background": "light"
     },
     "output_type": "display_data"
    }
   ],
   "source": [
    "data['days_exposition'].hist(figsize=(15, 20))"
   ]
  },
  {
   "cell_type": "code",
   "execution_count": 34,
   "metadata": {},
   "outputs": [
    {
     "data": {
      "text/plain": [
       "0.9229503354571923"
      ]
     },
     "execution_count": 34,
     "metadata": {},
     "output_type": "execute_result"
    }
   ],
   "source": [
    "data.shape[0]/23699"
   ]
  },
  {
   "cell_type": "markdown",
   "metadata": {},
   "source": [
    "При подходе к сохранению только тех показателей, у которых длительность продаж составлет до 1400 дней включительно, получается, что срезается 20% данных, чего быть не должно. Таким образом, необходимо пересмотреть подход к избавлению от аномалий. Построение гистораммы  и рассмотрение описания данных показывает, что количество объявлений с продолжительностью размещения составляет 1580 дней. При этом, принимая во внимание тот факт, что при срезании до 1400 дней процент среза по данным в два раха превышает допустимую норму, можно рассжудать следюущим образом: объекты с размешением в 1580 дней имею значение для дальнейшего анализа, таким образом, это не единичные случаи, таким образом данные по показателю количество дней размещенияне срезаются вообще, а полностью сохраняются.\n",
    "    \n",
    "При data = data.loc[(data['days_exposition'] <= 1400)], data.shape[0]/23699 - 0,80."
   ]
  },
  {
   "cell_type": "markdown",
   "metadata": {},
   "source": [
    "**Таким образом, становится очевидно следующее для каждого столбца**: \n",
    " - rooms - выбросы начинаются с 6 комнат (не часто встреаются в обычной жизни 12 и далее комнатные квартиры).\n",
    " - floors_total - выбросы начинаются с 30 этажей (дейтсвительно, 60 этажное здание кажется крайне странным, с учтом того, что датасет содержит данне квартир на территории России, а не Китая).\n",
    " - living_area - выбросы начинаются с 75 м2.\n",
    " - kitchen_area - выбросы начинаются с 20 м2.\n",
    " - ceiling_height (метод describe() и гистограмма позволяют сделать вывод) - выбросы начинаются с 3м.\n",
    " - last_price (метод describe()) - становится очевидно, что выше 25 млн рублей объявлений не так много, в связи с чем, исходя из полученных описаний, 25 млн выступаюют местом начала выбросов.\n",
    "\n",
    "Поэтому происходит избавление от данных харатеристик."
   ]
  },
  {
   "cell_type": "code",
   "execution_count": 35,
   "metadata": {},
   "outputs": [
    {
     "data": {
      "text/plain": [
       "0.9229503354571923"
      ]
     },
     "execution_count": 35,
     "metadata": {},
     "output_type": "execute_result"
    }
   ],
   "source": [
    "data.shape[0]/23699"
   ]
  },
  {
   "cell_type": "markdown",
   "metadata": {},
   "source": [
    "## Добавление в таблицу новых столбцов"
   ]
  },
  {
   "cell_type": "markdown",
   "metadata": {},
   "source": [
    "**Необходимо добавить в исходный датафрейм следующие столбцы**: \n",
    "- цену одного квадратного метра;\n",
    "- день недели публикации объявления (0 — понедельник, 1 — вторник и так далее);\n",
    "- месяц публикации объявления;\n",
    "- год публикации объявления;\n",
    "- тип этажа квартиры (значения — «первый», «последний», «другой»);\n",
    "- расстояние до центра города в километрах (переведите из м в км и округлите до целых значений)."
   ]
  },
  {
   "cell_type": "code",
   "execution_count": 36,
   "metadata": {},
   "outputs": [],
   "source": [
    "# добавляем столбец с ценой одного квадратного метра.\n",
    "data['price_per_square_meter'] = data['last_price'] / data['total_area']\n",
    "\n",
    "# как и в случае с last_price, переводим к целочисленному формату.\n",
    "data['price_per_square_meter'] = data['price_per_square_meter'].astype('int')\n",
    "\n",
    "# добавляем столбец с днем публикации.\n",
    "data['weekday_exposition'] = data['first_day_exposition'].dt.weekday\n",
    "\n",
    "# добавляем столбец с месяцем публикации.\n",
    "data['month_exposition'] = data['first_day_exposition'].dt.month\n",
    "\n",
    "# добавляем столбец с годом публикации.\n",
    "data['year_exposition'] = data['first_day_exposition'].dt.year\n",
    "\n",
    "# добавляем столбец с типом этажа квартиры.\n",
    "def floor_category(number):\n",
    "    floors_total = number['floors_total']\n",
    "    floor = number['floor']\n",
    "    if floor == 1:\n",
    "        return 'первый'\n",
    "    elif floor == floors_total:\n",
    "        return 'последний'\n",
    "    elif 1 < floor < floors_total:\n",
    "        return 'другой'\n",
    "\n",
    "data['floor_category'] = data.apply(floor_category, axis = 1)\n",
    "\n",
    "# добавляем столбец с расстоянием до центра города в километрах.\n",
    "\n",
    "data['cityCenters_km'] = (data['cityCenters_nearest'] / 1000).round()"
   ]
  },
  {
   "cell_type": "code",
   "execution_count": 37,
   "metadata": {},
   "outputs": [
    {
     "data": {
      "text/html": [
       "<div>\n",
       "<style scoped>\n",
       "    .dataframe tbody tr th:only-of-type {\n",
       "        vertical-align: middle;\n",
       "    }\n",
       "\n",
       "    .dataframe tbody tr th {\n",
       "        vertical-align: top;\n",
       "    }\n",
       "\n",
       "    .dataframe thead th {\n",
       "        text-align: right;\n",
       "    }\n",
       "</style>\n",
       "<table border=\"1\" class=\"dataframe\">\n",
       "  <thead>\n",
       "    <tr style=\"text-align: right;\">\n",
       "      <th></th>\n",
       "      <th>total_images</th>\n",
       "      <th>last_price</th>\n",
       "      <th>total_area</th>\n",
       "      <th>first_day_exposition</th>\n",
       "      <th>rooms</th>\n",
       "      <th>ceiling_height</th>\n",
       "      <th>floors_total</th>\n",
       "      <th>living_area</th>\n",
       "      <th>floor</th>\n",
       "      <th>is_apartment</th>\n",
       "      <th>...</th>\n",
       "      <th>parks_nearest</th>\n",
       "      <th>ponds_around3000</th>\n",
       "      <th>ponds_nearest</th>\n",
       "      <th>days_exposition</th>\n",
       "      <th>price_per_square_meter</th>\n",
       "      <th>weekday_exposition</th>\n",
       "      <th>month_exposition</th>\n",
       "      <th>year_exposition</th>\n",
       "      <th>floor_category</th>\n",
       "      <th>cityCenters_km</th>\n",
       "    </tr>\n",
       "  </thead>\n",
       "  <tbody>\n",
       "    <tr>\n",
       "      <th>1</th>\n",
       "      <td>7</td>\n",
       "      <td>3350000</td>\n",
       "      <td>40.4</td>\n",
       "      <td>2018-12-04</td>\n",
       "      <td>1</td>\n",
       "      <td>2.8</td>\n",
       "      <td>11</td>\n",
       "      <td>18.6</td>\n",
       "      <td>1</td>\n",
       "      <td>False</td>\n",
       "      <td>...</td>\n",
       "      <td>NaN</td>\n",
       "      <td>0.0</td>\n",
       "      <td>NaN</td>\n",
       "      <td>81.0</td>\n",
       "      <td>82920</td>\n",
       "      <td>1</td>\n",
       "      <td>12</td>\n",
       "      <td>2018</td>\n",
       "      <td>первый</td>\n",
       "      <td>19.0</td>\n",
       "    </tr>\n",
       "    <tr>\n",
       "      <th>2</th>\n",
       "      <td>10</td>\n",
       "      <td>5196000</td>\n",
       "      <td>56.0</td>\n",
       "      <td>2015-08-20</td>\n",
       "      <td>2</td>\n",
       "      <td>2.6</td>\n",
       "      <td>5</td>\n",
       "      <td>34.3</td>\n",
       "      <td>4</td>\n",
       "      <td>False</td>\n",
       "      <td>...</td>\n",
       "      <td>90.0</td>\n",
       "      <td>2.0</td>\n",
       "      <td>574.0</td>\n",
       "      <td>558.0</td>\n",
       "      <td>92785</td>\n",
       "      <td>3</td>\n",
       "      <td>8</td>\n",
       "      <td>2015</td>\n",
       "      <td>другой</td>\n",
       "      <td>14.0</td>\n",
       "    </tr>\n",
       "    <tr>\n",
       "      <th>5</th>\n",
       "      <td>10</td>\n",
       "      <td>2890000</td>\n",
       "      <td>30.4</td>\n",
       "      <td>2018-09-10</td>\n",
       "      <td>1</td>\n",
       "      <td>2.6</td>\n",
       "      <td>12</td>\n",
       "      <td>14.4</td>\n",
       "      <td>5</td>\n",
       "      <td>False</td>\n",
       "      <td>...</td>\n",
       "      <td>NaN</td>\n",
       "      <td>NaN</td>\n",
       "      <td>NaN</td>\n",
       "      <td>55.0</td>\n",
       "      <td>95065</td>\n",
       "      <td>0</td>\n",
       "      <td>9</td>\n",
       "      <td>2018</td>\n",
       "      <td>другой</td>\n",
       "      <td>NaN</td>\n",
       "    </tr>\n",
       "    <tr>\n",
       "      <th>6</th>\n",
       "      <td>6</td>\n",
       "      <td>3700000</td>\n",
       "      <td>37.3</td>\n",
       "      <td>2017-11-02</td>\n",
       "      <td>1</td>\n",
       "      <td>2.7</td>\n",
       "      <td>26</td>\n",
       "      <td>10.6</td>\n",
       "      <td>6</td>\n",
       "      <td>False</td>\n",
       "      <td>...</td>\n",
       "      <td>NaN</td>\n",
       "      <td>0.0</td>\n",
       "      <td>NaN</td>\n",
       "      <td>155.0</td>\n",
       "      <td>99195</td>\n",
       "      <td>3</td>\n",
       "      <td>11</td>\n",
       "      <td>2017</td>\n",
       "      <td>другой</td>\n",
       "      <td>19.0</td>\n",
       "    </tr>\n",
       "    <tr>\n",
       "      <th>7</th>\n",
       "      <td>5</td>\n",
       "      <td>7915000</td>\n",
       "      <td>71.6</td>\n",
       "      <td>2019-04-18</td>\n",
       "      <td>2</td>\n",
       "      <td>2.8</td>\n",
       "      <td>24</td>\n",
       "      <td>30.5</td>\n",
       "      <td>22</td>\n",
       "      <td>False</td>\n",
       "      <td>...</td>\n",
       "      <td>NaN</td>\n",
       "      <td>0.0</td>\n",
       "      <td>NaN</td>\n",
       "      <td>NaN</td>\n",
       "      <td>110544</td>\n",
       "      <td>3</td>\n",
       "      <td>4</td>\n",
       "      <td>2019</td>\n",
       "      <td>другой</td>\n",
       "      <td>12.0</td>\n",
       "    </tr>\n",
       "    <tr>\n",
       "      <th>8</th>\n",
       "      <td>20</td>\n",
       "      <td>2900000</td>\n",
       "      <td>33.2</td>\n",
       "      <td>2018-05-23</td>\n",
       "      <td>1</td>\n",
       "      <td>2.7</td>\n",
       "      <td>27</td>\n",
       "      <td>15.4</td>\n",
       "      <td>26</td>\n",
       "      <td>False</td>\n",
       "      <td>...</td>\n",
       "      <td>NaN</td>\n",
       "      <td>NaN</td>\n",
       "      <td>NaN</td>\n",
       "      <td>189.0</td>\n",
       "      <td>87349</td>\n",
       "      <td>2</td>\n",
       "      <td>5</td>\n",
       "      <td>2018</td>\n",
       "      <td>другой</td>\n",
       "      <td>NaN</td>\n",
       "    </tr>\n",
       "    <tr>\n",
       "      <th>9</th>\n",
       "      <td>18</td>\n",
       "      <td>5400000</td>\n",
       "      <td>61.0</td>\n",
       "      <td>2017-02-26</td>\n",
       "      <td>3</td>\n",
       "      <td>2.5</td>\n",
       "      <td>9</td>\n",
       "      <td>43.6</td>\n",
       "      <td>7</td>\n",
       "      <td>False</td>\n",
       "      <td>...</td>\n",
       "      <td>NaN</td>\n",
       "      <td>0.0</td>\n",
       "      <td>NaN</td>\n",
       "      <td>289.0</td>\n",
       "      <td>88524</td>\n",
       "      <td>6</td>\n",
       "      <td>2</td>\n",
       "      <td>2017</td>\n",
       "      <td>другой</td>\n",
       "      <td>15.0</td>\n",
       "    </tr>\n",
       "    <tr>\n",
       "      <th>10</th>\n",
       "      <td>5</td>\n",
       "      <td>5050000</td>\n",
       "      <td>39.6</td>\n",
       "      <td>2017-11-16</td>\n",
       "      <td>1</td>\n",
       "      <td>2.7</td>\n",
       "      <td>12</td>\n",
       "      <td>20.3</td>\n",
       "      <td>3</td>\n",
       "      <td>False</td>\n",
       "      <td>...</td>\n",
       "      <td>310.0</td>\n",
       "      <td>2.0</td>\n",
       "      <td>553.0</td>\n",
       "      <td>137.0</td>\n",
       "      <td>127525</td>\n",
       "      <td>3</td>\n",
       "      <td>11</td>\n",
       "      <td>2017</td>\n",
       "      <td>другой</td>\n",
       "      <td>14.0</td>\n",
       "    </tr>\n",
       "    <tr>\n",
       "      <th>11</th>\n",
       "      <td>9</td>\n",
       "      <td>3300000</td>\n",
       "      <td>44.0</td>\n",
       "      <td>2018-08-27</td>\n",
       "      <td>2</td>\n",
       "      <td>2.6</td>\n",
       "      <td>5</td>\n",
       "      <td>31.0</td>\n",
       "      <td>4</td>\n",
       "      <td>False</td>\n",
       "      <td>...</td>\n",
       "      <td>NaN</td>\n",
       "      <td>0.0</td>\n",
       "      <td>NaN</td>\n",
       "      <td>7.0</td>\n",
       "      <td>75000</td>\n",
       "      <td>0</td>\n",
       "      <td>8</td>\n",
       "      <td>2018</td>\n",
       "      <td>другой</td>\n",
       "      <td>52.0</td>\n",
       "    </tr>\n",
       "    <tr>\n",
       "      <th>12</th>\n",
       "      <td>10</td>\n",
       "      <td>3890000</td>\n",
       "      <td>54.0</td>\n",
       "      <td>2016-06-30</td>\n",
       "      <td>2</td>\n",
       "      <td>2.6</td>\n",
       "      <td>5</td>\n",
       "      <td>30.0</td>\n",
       "      <td>5</td>\n",
       "      <td>False</td>\n",
       "      <td>...</td>\n",
       "      <td>NaN</td>\n",
       "      <td>NaN</td>\n",
       "      <td>NaN</td>\n",
       "      <td>90.0</td>\n",
       "      <td>72037</td>\n",
       "      <td>3</td>\n",
       "      <td>6</td>\n",
       "      <td>2016</td>\n",
       "      <td>последний</td>\n",
       "      <td>NaN</td>\n",
       "    </tr>\n",
       "    <tr>\n",
       "      <th>13</th>\n",
       "      <td>20</td>\n",
       "      <td>3550000</td>\n",
       "      <td>42.8</td>\n",
       "      <td>2017-07-01</td>\n",
       "      <td>2</td>\n",
       "      <td>2.6</td>\n",
       "      <td>5</td>\n",
       "      <td>27.0</td>\n",
       "      <td>5</td>\n",
       "      <td>False</td>\n",
       "      <td>...</td>\n",
       "      <td>294.0</td>\n",
       "      <td>3.0</td>\n",
       "      <td>298.0</td>\n",
       "      <td>366.0</td>\n",
       "      <td>82943</td>\n",
       "      <td>5</td>\n",
       "      <td>7</td>\n",
       "      <td>2017</td>\n",
       "      <td>последний</td>\n",
       "      <td>33.0</td>\n",
       "    </tr>\n",
       "    <tr>\n",
       "      <th>14</th>\n",
       "      <td>1</td>\n",
       "      <td>4400000</td>\n",
       "      <td>36.0</td>\n",
       "      <td>2016-06-23</td>\n",
       "      <td>1</td>\n",
       "      <td>3.0</td>\n",
       "      <td>6</td>\n",
       "      <td>17.0</td>\n",
       "      <td>1</td>\n",
       "      <td>False</td>\n",
       "      <td>...</td>\n",
       "      <td>NaN</td>\n",
       "      <td>1.0</td>\n",
       "      <td>96.0</td>\n",
       "      <td>203.0</td>\n",
       "      <td>122222</td>\n",
       "      <td>3</td>\n",
       "      <td>6</td>\n",
       "      <td>2016</td>\n",
       "      <td>первый</td>\n",
       "      <td>31.0</td>\n",
       "    </tr>\n",
       "    <tr>\n",
       "      <th>15</th>\n",
       "      <td>16</td>\n",
       "      <td>4650000</td>\n",
       "      <td>39.0</td>\n",
       "      <td>2017-11-18</td>\n",
       "      <td>1</td>\n",
       "      <td>2.6</td>\n",
       "      <td>14</td>\n",
       "      <td>20.5</td>\n",
       "      <td>5</td>\n",
       "      <td>False</td>\n",
       "      <td>...</td>\n",
       "      <td>590.0</td>\n",
       "      <td>1.0</td>\n",
       "      <td>296.0</td>\n",
       "      <td>19.0</td>\n",
       "      <td>119230</td>\n",
       "      <td>5</td>\n",
       "      <td>11</td>\n",
       "      <td>2017</td>\n",
       "      <td>другой</td>\n",
       "      <td>14.0</td>\n",
       "    </tr>\n",
       "    <tr>\n",
       "      <th>16</th>\n",
       "      <td>11</td>\n",
       "      <td>6700000</td>\n",
       "      <td>82.0</td>\n",
       "      <td>2017-11-23</td>\n",
       "      <td>3</td>\n",
       "      <td>3.0</td>\n",
       "      <td>5</td>\n",
       "      <td>55.6</td>\n",
       "      <td>1</td>\n",
       "      <td>False</td>\n",
       "      <td>...</td>\n",
       "      <td>420.0</td>\n",
       "      <td>0.0</td>\n",
       "      <td>NaN</td>\n",
       "      <td>397.0</td>\n",
       "      <td>81707</td>\n",
       "      <td>3</td>\n",
       "      <td>11</td>\n",
       "      <td>2017</td>\n",
       "      <td>первый</td>\n",
       "      <td>11.0</td>\n",
       "    </tr>\n",
       "    <tr>\n",
       "      <th>17</th>\n",
       "      <td>6</td>\n",
       "      <td>4180000</td>\n",
       "      <td>36.0</td>\n",
       "      <td>2016-09-09</td>\n",
       "      <td>1</td>\n",
       "      <td>2.7</td>\n",
       "      <td>17</td>\n",
       "      <td>16.5</td>\n",
       "      <td>7</td>\n",
       "      <td>False</td>\n",
       "      <td>...</td>\n",
       "      <td>NaN</td>\n",
       "      <td>1.0</td>\n",
       "      <td>859.0</td>\n",
       "      <td>571.0</td>\n",
       "      <td>116111</td>\n",
       "      <td>4</td>\n",
       "      <td>9</td>\n",
       "      <td>2016</td>\n",
       "      <td>другой</td>\n",
       "      <td>15.0</td>\n",
       "    </tr>\n",
       "    <tr>\n",
       "      <th>18</th>\n",
       "      <td>8</td>\n",
       "      <td>3250000</td>\n",
       "      <td>31.0</td>\n",
       "      <td>2017-01-27</td>\n",
       "      <td>1</td>\n",
       "      <td>2.5</td>\n",
       "      <td>5</td>\n",
       "      <td>19.4</td>\n",
       "      <td>2</td>\n",
       "      <td>False</td>\n",
       "      <td>...</td>\n",
       "      <td>759.0</td>\n",
       "      <td>0.0</td>\n",
       "      <td>NaN</td>\n",
       "      <td>168.0</td>\n",
       "      <td>104838</td>\n",
       "      <td>4</td>\n",
       "      <td>1</td>\n",
       "      <td>2017</td>\n",
       "      <td>другой</td>\n",
       "      <td>11.0</td>\n",
       "    </tr>\n",
       "    <tr>\n",
       "      <th>20</th>\n",
       "      <td>12</td>\n",
       "      <td>6120000</td>\n",
       "      <td>80.0</td>\n",
       "      <td>2017-09-28</td>\n",
       "      <td>3</td>\n",
       "      <td>2.7</td>\n",
       "      <td>27</td>\n",
       "      <td>48.0</td>\n",
       "      <td>11</td>\n",
       "      <td>False</td>\n",
       "      <td>...</td>\n",
       "      <td>NaN</td>\n",
       "      <td>0.0</td>\n",
       "      <td>NaN</td>\n",
       "      <td>74.0</td>\n",
       "      <td>76500</td>\n",
       "      <td>3</td>\n",
       "      <td>9</td>\n",
       "      <td>2017</td>\n",
       "      <td>другой</td>\n",
       "      <td>19.0</td>\n",
       "    </tr>\n",
       "    <tr>\n",
       "      <th>21</th>\n",
       "      <td>13</td>\n",
       "      <td>3200000</td>\n",
       "      <td>31.6</td>\n",
       "      <td>2018-03-14</td>\n",
       "      <td>1</td>\n",
       "      <td>2.6</td>\n",
       "      <td>5</td>\n",
       "      <td>16.9</td>\n",
       "      <td>2</td>\n",
       "      <td>False</td>\n",
       "      <td>...</td>\n",
       "      <td>248.0</td>\n",
       "      <td>0.0</td>\n",
       "      <td>NaN</td>\n",
       "      <td>310.0</td>\n",
       "      <td>101265</td>\n",
       "      <td>2</td>\n",
       "      <td>3</td>\n",
       "      <td>2018</td>\n",
       "      <td>другой</td>\n",
       "      <td>10.0</td>\n",
       "    </tr>\n",
       "    <tr>\n",
       "      <th>22</th>\n",
       "      <td>20</td>\n",
       "      <td>5000000</td>\n",
       "      <td>58.0</td>\n",
       "      <td>2017-04-24</td>\n",
       "      <td>2</td>\n",
       "      <td>2.8</td>\n",
       "      <td>25</td>\n",
       "      <td>30.0</td>\n",
       "      <td>15</td>\n",
       "      <td>False</td>\n",
       "      <td>...</td>\n",
       "      <td>NaN</td>\n",
       "      <td>NaN</td>\n",
       "      <td>NaN</td>\n",
       "      <td>60.0</td>\n",
       "      <td>86206</td>\n",
       "      <td>0</td>\n",
       "      <td>4</td>\n",
       "      <td>2017</td>\n",
       "      <td>другой</td>\n",
       "      <td>NaN</td>\n",
       "    </tr>\n",
       "    <tr>\n",
       "      <th>23</th>\n",
       "      <td>11</td>\n",
       "      <td>2950000</td>\n",
       "      <td>32.0</td>\n",
       "      <td>2016-10-29</td>\n",
       "      <td>1</td>\n",
       "      <td>2.6</td>\n",
       "      <td>9</td>\n",
       "      <td>17.7</td>\n",
       "      <td>9</td>\n",
       "      <td>False</td>\n",
       "      <td>...</td>\n",
       "      <td>517.0</td>\n",
       "      <td>1.0</td>\n",
       "      <td>190.0</td>\n",
       "      <td>615.0</td>\n",
       "      <td>92187</td>\n",
       "      <td>5</td>\n",
       "      <td>10</td>\n",
       "      <td>2016</td>\n",
       "      <td>последний</td>\n",
       "      <td>14.0</td>\n",
       "    </tr>\n",
       "  </tbody>\n",
       "</table>\n",
       "<p>20 rows × 28 columns</p>\n",
       "</div>"
      ],
      "text/plain": [
       "    total_images  last_price  total_area first_day_exposition  rooms  \\\n",
       "1              7     3350000        40.4           2018-12-04      1   \n",
       "2             10     5196000        56.0           2015-08-20      2   \n",
       "5             10     2890000        30.4           2018-09-10      1   \n",
       "6              6     3700000        37.3           2017-11-02      1   \n",
       "7              5     7915000        71.6           2019-04-18      2   \n",
       "8             20     2900000        33.2           2018-05-23      1   \n",
       "9             18     5400000        61.0           2017-02-26      3   \n",
       "10             5     5050000        39.6           2017-11-16      1   \n",
       "11             9     3300000        44.0           2018-08-27      2   \n",
       "12            10     3890000        54.0           2016-06-30      2   \n",
       "13            20     3550000        42.8           2017-07-01      2   \n",
       "14             1     4400000        36.0           2016-06-23      1   \n",
       "15            16     4650000        39.0           2017-11-18      1   \n",
       "16            11     6700000        82.0           2017-11-23      3   \n",
       "17             6     4180000        36.0           2016-09-09      1   \n",
       "18             8     3250000        31.0           2017-01-27      1   \n",
       "20            12     6120000        80.0           2017-09-28      3   \n",
       "21            13     3200000        31.6           2018-03-14      1   \n",
       "22            20     5000000        58.0           2017-04-24      2   \n",
       "23            11     2950000        32.0           2016-10-29      1   \n",
       "\n",
       "    ceiling_height  floors_total  living_area  floor  is_apartment  ...  \\\n",
       "1              2.8            11         18.6      1         False  ...   \n",
       "2              2.6             5         34.3      4         False  ...   \n",
       "5              2.6            12         14.4      5         False  ...   \n",
       "6              2.7            26         10.6      6         False  ...   \n",
       "7              2.8            24         30.5     22         False  ...   \n",
       "8              2.7            27         15.4     26         False  ...   \n",
       "9              2.5             9         43.6      7         False  ...   \n",
       "10             2.7            12         20.3      3         False  ...   \n",
       "11             2.6             5         31.0      4         False  ...   \n",
       "12             2.6             5         30.0      5         False  ...   \n",
       "13             2.6             5         27.0      5         False  ...   \n",
       "14             3.0             6         17.0      1         False  ...   \n",
       "15             2.6            14         20.5      5         False  ...   \n",
       "16             3.0             5         55.6      1         False  ...   \n",
       "17             2.7            17         16.5      7         False  ...   \n",
       "18             2.5             5         19.4      2         False  ...   \n",
       "20             2.7            27         48.0     11         False  ...   \n",
       "21             2.6             5         16.9      2         False  ...   \n",
       "22             2.8            25         30.0     15         False  ...   \n",
       "23             2.6             9         17.7      9         False  ...   \n",
       "\n",
       "    parks_nearest  ponds_around3000  ponds_nearest  days_exposition  \\\n",
       "1             NaN               0.0            NaN             81.0   \n",
       "2            90.0               2.0          574.0            558.0   \n",
       "5             NaN               NaN            NaN             55.0   \n",
       "6             NaN               0.0            NaN            155.0   \n",
       "7             NaN               0.0            NaN              NaN   \n",
       "8             NaN               NaN            NaN            189.0   \n",
       "9             NaN               0.0            NaN            289.0   \n",
       "10          310.0               2.0          553.0            137.0   \n",
       "11            NaN               0.0            NaN              7.0   \n",
       "12            NaN               NaN            NaN             90.0   \n",
       "13          294.0               3.0          298.0            366.0   \n",
       "14            NaN               1.0           96.0            203.0   \n",
       "15          590.0               1.0          296.0             19.0   \n",
       "16          420.0               0.0            NaN            397.0   \n",
       "17            NaN               1.0          859.0            571.0   \n",
       "18          759.0               0.0            NaN            168.0   \n",
       "20            NaN               0.0            NaN             74.0   \n",
       "21          248.0               0.0            NaN            310.0   \n",
       "22            NaN               NaN            NaN             60.0   \n",
       "23          517.0               1.0          190.0            615.0   \n",
       "\n",
       "   price_per_square_meter  weekday_exposition  month_exposition  \\\n",
       "1                   82920                   1                12   \n",
       "2                   92785                   3                 8   \n",
       "5                   95065                   0                 9   \n",
       "6                   99195                   3                11   \n",
       "7                  110544                   3                 4   \n",
       "8                   87349                   2                 5   \n",
       "9                   88524                   6                 2   \n",
       "10                 127525                   3                11   \n",
       "11                  75000                   0                 8   \n",
       "12                  72037                   3                 6   \n",
       "13                  82943                   5                 7   \n",
       "14                 122222                   3                 6   \n",
       "15                 119230                   5                11   \n",
       "16                  81707                   3                11   \n",
       "17                 116111                   4                 9   \n",
       "18                 104838                   4                 1   \n",
       "20                  76500                   3                 9   \n",
       "21                 101265                   2                 3   \n",
       "22                  86206                   0                 4   \n",
       "23                  92187                   5                10   \n",
       "\n",
       "    year_exposition  floor_category  cityCenters_km  \n",
       "1              2018          первый            19.0  \n",
       "2              2015          другой            14.0  \n",
       "5              2018          другой             NaN  \n",
       "6              2017          другой            19.0  \n",
       "7              2019          другой            12.0  \n",
       "8              2018          другой             NaN  \n",
       "9              2017          другой            15.0  \n",
       "10             2017          другой            14.0  \n",
       "11             2018          другой            52.0  \n",
       "12             2016       последний             NaN  \n",
       "13             2017       последний            33.0  \n",
       "14             2016          первый            31.0  \n",
       "15             2017          другой            14.0  \n",
       "16             2017          первый            11.0  \n",
       "17             2016          другой            15.0  \n",
       "18             2017          другой            11.0  \n",
       "20             2017          другой            19.0  \n",
       "21             2018          другой            10.0  \n",
       "22             2017          другой             NaN  \n",
       "23             2016       последний            14.0  \n",
       "\n",
       "[20 rows x 28 columns]"
      ]
     },
     "metadata": {},
     "output_type": "display_data"
    }
   ],
   "source": [
    "# проверяем, произошли ли добавление столбцов. \n",
    "\n",
    "display(data.head(20))"
   ]
  },
  {
   "cell_type": "markdown",
   "metadata": {},
   "source": [
    "## Проведите исследовательский анализ данных"
   ]
  },
  {
   "cell_type": "markdown",
   "metadata": {},
   "source": [
    "**Изучение следующих параметров объектов**:\n",
    " - общая площадь\n",
    " - жилая площадь\n",
    " - площадь кухни\n",
    " - цена объекта\n",
    " - количество комнат\n",
    " - высота потолков\n",
    " - этаж квартиры\n",
    " - тип этажа квартиры («первый», «последний», «другой»)\n",
    " - общее количество этажей в доме\n",
    " - расстояние до центра города в метрах\n",
    " - расстояние до ближайшего аэропорта\n",
    " - расстояние до ближайшего парка\n",
    " - день и месяц публикации объявления"
   ]
  },
  {
   "cell_type": "code",
   "execution_count": 38,
   "metadata": {},
   "outputs": [
    {
     "data": {
      "text/html": [
       "<div>\n",
       "<style scoped>\n",
       "    .dataframe tbody tr th:only-of-type {\n",
       "        vertical-align: middle;\n",
       "    }\n",
       "\n",
       "    .dataframe tbody tr th {\n",
       "        vertical-align: top;\n",
       "    }\n",
       "\n",
       "    .dataframe thead th {\n",
       "        text-align: right;\n",
       "    }\n",
       "</style>\n",
       "<table border=\"1\" class=\"dataframe\">\n",
       "  <thead>\n",
       "    <tr style=\"text-align: right;\">\n",
       "      <th></th>\n",
       "      <th>total_area</th>\n",
       "      <th>living_area</th>\n",
       "      <th>kitchen_area</th>\n",
       "      <th>last_price</th>\n",
       "      <th>rooms</th>\n",
       "      <th>ceiling_height</th>\n",
       "      <th>floor</th>\n",
       "      <th>floors_total</th>\n",
       "      <th>cityCenters_nearest</th>\n",
       "      <th>airports_nearest</th>\n",
       "      <th>parks_nearest</th>\n",
       "      <th>weekday_exposition</th>\n",
       "      <th>month_exposition</th>\n",
       "    </tr>\n",
       "  </thead>\n",
       "  <tbody>\n",
       "    <tr>\n",
       "      <th>count</th>\n",
       "      <td>21873.000000</td>\n",
       "      <td>21873.000000</td>\n",
       "      <td>21873.000000</td>\n",
       "      <td>2.187300e+04</td>\n",
       "      <td>21873.000000</td>\n",
       "      <td>21873.000000</td>\n",
       "      <td>21873.000000</td>\n",
       "      <td>21873.000000</td>\n",
       "      <td>16497.000000</td>\n",
       "      <td>16478.000000</td>\n",
       "      <td>7062.000000</td>\n",
       "      <td>21873.000000</td>\n",
       "      <td>21873.000000</td>\n",
       "    </tr>\n",
       "    <tr>\n",
       "      <th>mean</th>\n",
       "      <td>54.288250</td>\n",
       "      <td>31.007521</td>\n",
       "      <td>9.362945</td>\n",
       "      <td>5.249380e+06</td>\n",
       "      <td>1.956202</td>\n",
       "      <td>2.698802</td>\n",
       "      <td>5.890504</td>\n",
       "      <td>10.764778</td>\n",
       "      <td>14703.076681</td>\n",
       "      <td>28903.888700</td>\n",
       "      <td>494.129567</td>\n",
       "      <td>2.569561</td>\n",
       "      <td>6.402094</td>\n",
       "    </tr>\n",
       "    <tr>\n",
       "      <th>std</th>\n",
       "      <td>20.333995</td>\n",
       "      <td>13.384077</td>\n",
       "      <td>3.097225</td>\n",
       "      <td>3.352738e+06</td>\n",
       "      <td>0.888644</td>\n",
       "      <td>0.202935</td>\n",
       "      <td>4.869365</td>\n",
       "      <td>6.558863</td>\n",
       "      <td>8522.046091</td>\n",
       "      <td>12889.599702</td>\n",
       "      <td>339.152076</td>\n",
       "      <td>1.791817</td>\n",
       "      <td>3.488830</td>\n",
       "    </tr>\n",
       "    <tr>\n",
       "      <th>min</th>\n",
       "      <td>12.000000</td>\n",
       "      <td>2.000000</td>\n",
       "      <td>0.000000</td>\n",
       "      <td>4.300000e+05</td>\n",
       "      <td>1.000000</td>\n",
       "      <td>1.000000</td>\n",
       "      <td>1.000000</td>\n",
       "      <td>1.000000</td>\n",
       "      <td>208.000000</td>\n",
       "      <td>0.000000</td>\n",
       "      <td>1.000000</td>\n",
       "      <td>0.000000</td>\n",
       "      <td>1.000000</td>\n",
       "    </tr>\n",
       "    <tr>\n",
       "      <th>25%</th>\n",
       "      <td>39.000000</td>\n",
       "      <td>18.000000</td>\n",
       "      <td>7.000000</td>\n",
       "      <td>3.350000e+06</td>\n",
       "      <td>1.000000</td>\n",
       "      <td>2.600000</td>\n",
       "      <td>2.000000</td>\n",
       "      <td>5.000000</td>\n",
       "      <td>10251.000000</td>\n",
       "      <td>18140.750000</td>\n",
       "      <td>290.000000</td>\n",
       "      <td>1.000000</td>\n",
       "      <td>3.000000</td>\n",
       "    </tr>\n",
       "    <tr>\n",
       "      <th>50%</th>\n",
       "      <td>50.000000</td>\n",
       "      <td>30.000000</td>\n",
       "      <td>9.000000</td>\n",
       "      <td>4.490000e+06</td>\n",
       "      <td>2.000000</td>\n",
       "      <td>2.600000</td>\n",
       "      <td>4.000000</td>\n",
       "      <td>9.000000</td>\n",
       "      <td>13382.000000</td>\n",
       "      <td>27088.000000</td>\n",
       "      <td>458.000000</td>\n",
       "      <td>3.000000</td>\n",
       "      <td>6.000000</td>\n",
       "    </tr>\n",
       "    <tr>\n",
       "      <th>75%</th>\n",
       "      <td>65.000000</td>\n",
       "      <td>40.200000</td>\n",
       "      <td>11.000000</td>\n",
       "      <td>6.200000e+06</td>\n",
       "      <td>3.000000</td>\n",
       "      <td>2.800000</td>\n",
       "      <td>8.000000</td>\n",
       "      <td>16.000000</td>\n",
       "      <td>16527.000000</td>\n",
       "      <td>37490.250000</td>\n",
       "      <td>617.000000</td>\n",
       "      <td>4.000000</td>\n",
       "      <td>10.000000</td>\n",
       "    </tr>\n",
       "    <tr>\n",
       "      <th>max</th>\n",
       "      <td>295.000000</td>\n",
       "      <td>75.000000</td>\n",
       "      <td>20.000000</td>\n",
       "      <td>4.000000e+07</td>\n",
       "      <td>7.000000</td>\n",
       "      <td>5.800000</td>\n",
       "      <td>27.000000</td>\n",
       "      <td>29.000000</td>\n",
       "      <td>65968.000000</td>\n",
       "      <td>84869.000000</td>\n",
       "      <td>3190.000000</td>\n",
       "      <td>6.000000</td>\n",
       "      <td>12.000000</td>\n",
       "    </tr>\n",
       "  </tbody>\n",
       "</table>\n",
       "</div>"
      ],
      "text/plain": [
       "         total_area   living_area  kitchen_area    last_price         rooms  \\\n",
       "count  21873.000000  21873.000000  21873.000000  2.187300e+04  21873.000000   \n",
       "mean      54.288250     31.007521      9.362945  5.249380e+06      1.956202   \n",
       "std       20.333995     13.384077      3.097225  3.352738e+06      0.888644   \n",
       "min       12.000000      2.000000      0.000000  4.300000e+05      1.000000   \n",
       "25%       39.000000     18.000000      7.000000  3.350000e+06      1.000000   \n",
       "50%       50.000000     30.000000      9.000000  4.490000e+06      2.000000   \n",
       "75%       65.000000     40.200000     11.000000  6.200000e+06      3.000000   \n",
       "max      295.000000     75.000000     20.000000  4.000000e+07      7.000000   \n",
       "\n",
       "       ceiling_height         floor  floors_total  cityCenters_nearest  \\\n",
       "count    21873.000000  21873.000000  21873.000000         16497.000000   \n",
       "mean         2.698802      5.890504     10.764778         14703.076681   \n",
       "std          0.202935      4.869365      6.558863          8522.046091   \n",
       "min          1.000000      1.000000      1.000000           208.000000   \n",
       "25%          2.600000      2.000000      5.000000         10251.000000   \n",
       "50%          2.600000      4.000000      9.000000         13382.000000   \n",
       "75%          2.800000      8.000000     16.000000         16527.000000   \n",
       "max          5.800000     27.000000     29.000000         65968.000000   \n",
       "\n",
       "       airports_nearest  parks_nearest  weekday_exposition  month_exposition  \n",
       "count      16478.000000    7062.000000        21873.000000      21873.000000  \n",
       "mean       28903.888700     494.129567            2.569561          6.402094  \n",
       "std        12889.599702     339.152076            1.791817          3.488830  \n",
       "min            0.000000       1.000000            0.000000          1.000000  \n",
       "25%        18140.750000     290.000000            1.000000          3.000000  \n",
       "50%        27088.000000     458.000000            3.000000          6.000000  \n",
       "75%        37490.250000     617.000000            4.000000         10.000000  \n",
       "max        84869.000000    3190.000000            6.000000         12.000000  "
      ]
     },
     "execution_count": 38,
     "metadata": {},
     "output_type": "execute_result"
    }
   ],
   "source": [
    "data[['total_area','living_area','kitchen_area','last_price', 'rooms', 'ceiling_height','floor','floors_total','cityCenters_nearest','airports_nearest','parks_nearest','weekday_exposition','month_exposition']].describe()"
   ]
  },
  {
   "cell_type": "code",
   "execution_count": 39,
   "metadata": {},
   "outputs": [
    {
     "name": "stdout",
     "output_type": "stream",
     "text": [
      "другой       16071\n",
      "последний     3014\n",
      "первый        2788\n",
      "Name: floor_category, dtype: int64\n"
     ]
    }
   ],
   "source": [
    "print(data['floor_category'].value_counts())"
   ]
  },
  {
   "cell_type": "code",
   "execution_count": 40,
   "metadata": {
    "scrolled": false
   },
   "outputs": [
    {
     "data": {
      "text/plain": [
       "array([[<AxesSubplot:title={'center':'total_area'}>,\n",
       "        <AxesSubplot:title={'center':'living_area'}>,\n",
       "        <AxesSubplot:title={'center':'kitchen_area'}>,\n",
       "        <AxesSubplot:title={'center':'last_price'}>],\n",
       "       [<AxesSubplot:title={'center':'rooms'}>,\n",
       "        <AxesSubplot:title={'center':'ceiling_height'}>,\n",
       "        <AxesSubplot:title={'center':'floor'}>,\n",
       "        <AxesSubplot:title={'center':'floors_total'}>],\n",
       "       [<AxesSubplot:title={'center':'cityCenters_nearest'}>,\n",
       "        <AxesSubplot:title={'center':'airports_nearest'}>,\n",
       "        <AxesSubplot:title={'center':'parks_nearest'}>,\n",
       "        <AxesSubplot:title={'center':'weekday_exposition'}>],\n",
       "       [<AxesSubplot:title={'center':'month_exposition'}>,\n",
       "        <AxesSubplot:>, <AxesSubplot:>, <AxesSubplot:>]], dtype=object)"
      ]
     },
     "execution_count": 40,
     "metadata": {},
     "output_type": "execute_result"
    },
    {
     "data": {
      "image/png": "[encoded data removed]",
      "text/plain": [
       "<Figure size 1080x1440 with 16 Axes>"
      ]
     },
     "metadata": {
      "needs_background": "light"
     },
     "output_type": "display_data"
    }
   ],
   "source": [
    "data[['total_area','living_area','kitchen_area','last_price', 'rooms', 'ceiling_height','floor','floors_total','cityCenters_nearest','airports_nearest','parks_nearest','weekday_exposition','month_exposition']].hist(figsize=(15, 20))"
   ]
  },
  {
   "cell_type": "code",
   "execution_count": 41,
   "metadata": {},
   "outputs": [
    {
     "data": {
      "text/plain": [
       "<AxesSubplot:>"
      ]
     },
     "execution_count": 41,
     "metadata": {},
     "output_type": "execute_result"
    },
    {
     "data": {
      "image/png": "[encoded data removed]",
      "text/plain": [
       "<Figure size 1080x1440 with 1 Axes>"
      ]
     },
     "metadata": {
      "needs_background": "light"
     },
     "output_type": "display_data"
    }
   ],
   "source": [
    "data['floor_category'].hist(figsize=(15, 20))"
   ]
  },
  {
   "cell_type": "markdown",
   "metadata": {},
   "source": [
    "Описание параметров: \n",
    "\n",
    " - общая площадь – площадь представленных объявления недвижимости варьируются от 12м2 до 150м2. Можно предположить, что объект с минимальной площадью — это нежилое помещение, использование которого предлагается под иные нужды. При этом средняя площадь квартир составляет 53м2, что коррелируется с тем, что, в среднем, размещенные объекты недвижимости имеют по 2 комнаты. \n",
    "\n",
    "\n",
    " - жилая площадь – жилая площадь представленных объявления недвижимости варьируются от 2м2 до 75м2. Минимальная площадь, как и в случае с объектом недвижимости, который имеет площадь 12м2, скорее всего, не подразумевает использования объекта для проживания, а может относится к кладовке или иному типу недвижимости. При этом, средний показатель жилой площади составляет 30м2, что также коррелирует с тем, что, в среднем, размещенные объекты недвижимости имеют по 2 комнаты. Можно предположить, что одна комната маленькая, а другая чуть больше.  \n",
    "\n",
    "\n",
    " - площадь кухни – минимальная площадь кухни составляет 0м2. Помня о том, что в данных содержится информация о наличии студий, этот показатель не должен вызывать вопросы: студии не делятся на жилую площадь и площадь кухни так как имеют не имею разделений между двумя данными понятиями. Максимальная площадь кухни составляет 20м2, а средняя 9м2.\n",
    " \n",
    "\n",
    " - цена объекта – говоря о стоимости объектов недвижимости, можно заметить, что, в среднем, стоимость квартир составляет около 5млн рублей, при этом она также может достигать и 25 млн рублей\n",
    "\n",
    "\n",
    " - количество комнат – как уже было отмечено ранее, среднее значение комнат среди всех рассматриваемых объектов составляет 2. При этом минимальное количество 1, так как даже квартира студия имеет комнату. А максимальное значение 6, что коррелирует с максимальной общей площадью в 150м2.\n",
    "\n",
    "\n",
    " - высота потолков – средняя высота потолков составляет 2,6 м. Минимальное значении 1м может иметь отношение к наименьшему по площади объекту недвижимости, данная информация позволяет предположить, что это может быть маленькое подсобное помещение или кладовка. Максимальная высота потолков составляет 3 метра. \n",
    "\n",
    "\n",
    " - этаж квартиры – средний показатель этажа, на котором располагается объект из объявления составляет 6 этаж. При этом самый высокий этаж 27. Можно предположить, что данная квартира находится в такой геолокации как Мурино или Кудрово (они встречаются при изучении и работе со столбцом locality_name). Так как в данных локациях застройка, по большей части, новая, не такая, как, допустим, в центре Санкт-Петербурга, то и этажность в ней намного больше. Минимальный этаж – 1, что также соответствует реальности: на первых эта почти во всех жилых домах есть квартиры.\n",
    "\n",
    "\n",
    " - тип этажа квартиры («первый», «последний», «другой») – количество квартир на первых и последних этажах, почти одинаково: 2653 и 2824 соответственно. Остальные этажи преобладают вреди всех объявлений\n",
    "\n",
    "\n",
    " - общее количество этажей в доме – средний показатель этажности в доме составляет 11 этажей. При этом минимальным показателем является одноэтажная постройка (это может быть дом в пригороде), а максимальный показатель в 29 этажей может встречать в уже рассмотренных ранее Мурино и Кудрово. \n",
    "\n",
    "\n",
    " - расстояние до центра города в метрах – в среднем квартиры находятся в 15 км от центра города, что означает, что большинство из них находятся непосредственно в Санкт-Петербурге, а не Лен области. Максимальная удаленность от центра города составляет 65 км, что подходит для удаленных объектов, находящихся в Лен области. Минимальное значение составляет 400 метров. Если центр города принимается как Дворцовая площадь, то вокруг нее есть улицы, на которых находятся жилые квартиры.\n",
    "\n",
    "\n",
    " - расстояние до ближайшего аэропорта – в среднем расстояние до аэропорта составляет 29км. Минимальное значение составляет 0 (значит недвижимость находится в максимальной близости к аэропорту), а максимальная удаленность составляет 85км. Учитывая, что в Санкт-Петербурге один аэропорт Пулково, и что для всех объектов он является единственным аэропортом, данные показатели можно считать релевантным. Плюс не известно, как система рассчитывает расстояние до аэропорта: используется ли платная дорога ЗСД или нет, как способ добраться до аэропорта.\n",
    "\n",
    "\n",
    " - расстояние до ближайшего парка – среднее значение расстояние до парка составляет 500м, что означает, что много объявлений находятся в таких районах города, где есть сады/скверы/парки. При этом минимальное значение почти рано 0 (составляет 1), что может говорить о том, что квартира может находится в таких пригородах Санкт-Петербурга, где почти вся территория занята парком (Пушкин, Парголово). А максимальное значение составляет 3км, что означает, что объект недвижимости находится очень далеко от парка. \n",
    "\n",
    "\n",
    " - день и месяц публикации объявления – абсолютно логично, что минимальным и максимальным значением выступает понедельник и воскресенье, а также январь и декабрь. Что более интересно, так это то, что чаще всего объявления публикую в начале и в конце недели (понедельник-вторник и пятница), и в начале года (январь-февраль), и в конце года (ноябрь-декабрь). Можно предположить, что день публикации выбирается таким образом, что чаще всего потенциальные покупатели изучают объявление в те дни, когда они не заняты работой, то есть в выходные (поэтому публикуют в пятницу), или же в течение всей недели, поэтому стараются разместить объявления непосредственно в ее начале. Что же до месяцев, то их можно связать с тем, что продажа квартиры может быть связана переездом из-за работы/учебы, которая может начинается с нового календарного года, поэтому и квартиры хотят продать перед переездом. Если же мы говорим о начале года, то можно предположить, что многие принимают решение о том, что хотят продать свою квартиру во время новогодних каникул, в связи с чем и появляются объявления именно в этот период. "
   ]
  },
  {
   "cell_type": "markdown",
   "metadata": {},
   "source": [
    "### Изучение, как быстро продавались квартиры."
   ]
  },
  {
   "cell_type": "code",
   "execution_count": 42,
   "metadata": {},
   "outputs": [
    {
     "data": {
      "text/html": [
       "<div>\n",
       "<style scoped>\n",
       "    .dataframe tbody tr th:only-of-type {\n",
       "        vertical-align: middle;\n",
       "    }\n",
       "\n",
       "    .dataframe tbody tr th {\n",
       "        vertical-align: top;\n",
       "    }\n",
       "\n",
       "    .dataframe thead th {\n",
       "        text-align: right;\n",
       "    }\n",
       "</style>\n",
       "<table border=\"1\" class=\"dataframe\">\n",
       "  <thead>\n",
       "    <tr style=\"text-align: right;\">\n",
       "      <th></th>\n",
       "      <th>days_exposition</th>\n",
       "    </tr>\n",
       "  </thead>\n",
       "  <tbody>\n",
       "    <tr>\n",
       "      <th>count</th>\n",
       "      <td>19105.000000</td>\n",
       "    </tr>\n",
       "    <tr>\n",
       "      <th>mean</th>\n",
       "      <td>174.195394</td>\n",
       "    </tr>\n",
       "    <tr>\n",
       "      <th>std</th>\n",
       "      <td>212.876176</td>\n",
       "    </tr>\n",
       "    <tr>\n",
       "      <th>min</th>\n",
       "      <td>1.000000</td>\n",
       "    </tr>\n",
       "    <tr>\n",
       "      <th>25%</th>\n",
       "      <td>44.000000</td>\n",
       "    </tr>\n",
       "    <tr>\n",
       "      <th>50%</th>\n",
       "      <td>92.000000</td>\n",
       "    </tr>\n",
       "    <tr>\n",
       "      <th>75%</th>\n",
       "      <td>221.000000</td>\n",
       "    </tr>\n",
       "    <tr>\n",
       "      <th>max</th>\n",
       "      <td>1580.000000</td>\n",
       "    </tr>\n",
       "  </tbody>\n",
       "</table>\n",
       "</div>"
      ],
      "text/plain": [
       "       days_exposition\n",
       "count     19105.000000\n",
       "mean        174.195394\n",
       "std         212.876176\n",
       "min           1.000000\n",
       "25%          44.000000\n",
       "50%          92.000000\n",
       "75%         221.000000\n",
       "max        1580.000000"
      ]
     },
     "execution_count": 42,
     "metadata": {},
     "output_type": "execute_result"
    }
   ],
   "source": [
    "data['days_exposition'].describe().to_frame()"
   ]
  },
  {
   "cell_type": "code",
   "execution_count": 43,
   "metadata": {},
   "outputs": [
    {
     "data": {
      "text/plain": [
       "92.0"
      ]
     },
     "execution_count": 43,
     "metadata": {},
     "output_type": "execute_result"
    }
   ],
   "source": [
    "data['days_exposition'].median()"
   ]
  },
  {
   "cell_type": "code",
   "execution_count": 44,
   "metadata": {},
   "outputs": [
    {
     "data": {
      "text/plain": [
       "<AxesSubplot:>"
      ]
     },
     "execution_count": 44,
     "metadata": {},
     "output_type": "execute_result"
    },
    {
     "data": {
      "image/png": "[encoded data removed]",
      "text/plain": [
       "<Figure size 720x360 with 1 Axes>"
      ]
     },
     "metadata": {
      "needs_background": "light"
     },
     "output_type": "display_data"
    }
   ],
   "source": [
    "data['days_exposition'].hist(bins=70, figsize=(10,5))"
   ]
  },
  {
   "cell_type": "markdown",
   "metadata": {},
   "source": [
    "Итак, можно увидеть, что есть квартиры, которые продавались около 4х лет. Это самая долгая продажа квартиры. Среднее время продажи недвижимости составляет около полугода, что вполне похоже на правду. Все же, рынок недвижимости большой, и принятие решение о покупке квартиры редко люди совершают импульсивно и быстро. Медианное значение составляет 90 дней – 3 месяца с даты публикации до продажи — это отличный показатель. Гистограмма показывает, что большая часть квартир продавалась в течение первых 50 дней.Учитывая, что в выборке большое количество квартир в Санкт-Петербурге, данные цифры можно объяснить тем, что в крупных городах жители или только переехавшие люди больше покупают недвижимости."
   ]
  },
  {
   "cell_type": "markdown",
   "metadata": {},
   "source": [
    "### Изучение факторов, которые больше всего влияют на общую стоимость объекта: общая площадь, жилая площадь,площадь кухни, количество комнат, типа этажа, на котором расположена квартира (первый, последний, другой), даты размещения (день недели, месяц, год)."
   ]
  },
  {
   "cell_type": "code",
   "execution_count": 45,
   "metadata": {},
   "outputs": [
    {
     "data": {
      "text/plain": [
       "0.7173915607045791"
      ]
     },
     "execution_count": 45,
     "metadata": {},
     "output_type": "execute_result"
    },
    {
     "data": {
      "image/png": "[encoded data removed]",
      "text/plain": [
       "<Figure size 432x288 with 1 Axes>"
      ]
     },
     "metadata": {
      "needs_background": "light"
     },
     "output_type": "display_data"
    }
   ],
   "source": [
    "#Изучение зависимость цены от общей площади квартиры.\n",
    "\n",
    "pivot_table_total_area = data.pivot_table(index = 'total_area', values = 'last_price', aggfunc = ['mean', 'count', 'median'])\n",
    "pivot_table_total_area.columns = ['mean', 'count', 'median']\n",
    "pivot_table_total_area.plot(y = 'median', style = 'o')\n",
    "\n",
    "pivot_table_total_area.sort_values('median', ascending = False)\n",
    "\n",
    "data['total_area'].corr(data['last_price'])"
   ]
  },
  {
   "cell_type": "markdown",
   "metadata": {},
   "source": [
    "Зависимость цены от общей площади квартиры большая, коэффициент Пирсона составляет 0.7, то есть, с увеличением площади увеличивается и цена. При этом, как видно из графика, есть определенное количество недвижимости, для которой при площади 60-100м2 стоимость остается одинаковой. Можно предположить, что так происходит из-за того, что квартиры находятся в разных районах или пригородах города, характеристика которых влияет на цену. В связи с чем, в разных районах квартиры с площадью 60м2 могут стоить столько же, сколько квартиры 90м2 в других районах."
   ]
  },
  {
   "cell_type": "code",
   "execution_count": 46,
   "metadata": {},
   "outputs": [
    {
     "data": {
      "text/plain": [
       "0.5629904510896725"
      ]
     },
     "execution_count": 46,
     "metadata": {},
     "output_type": "execute_result"
    },
    {
     "data": {
      "image/png": "[encoded data removed]",
      "text/plain": [
       "<Figure size 432x288 with 1 Axes>"
      ]
     },
     "metadata": {
      "needs_background": "light"
     },
     "output_type": "display_data"
    }
   ],
   "source": [
    "#Изучение зависимость цены от жилой площади квартиры.\n",
    "\n",
    "pivot_table_total_area_living = data.pivot_table(index = 'living_area', values = 'last_price', aggfunc = ['mean', 'count', 'median'])\n",
    "pivot_table_total_area_living.columns = ['mean', 'count', 'median']\n",
    "pivot_table_total_area_living.plot(y = 'median', style = 'o')\n",
    "\n",
    "pivot_table_total_area_living.sort_values('median', ascending = False)\n",
    "\n",
    "data['living_area'].corr(data['last_price'])"
   ]
  },
  {
   "cell_type": "markdown",
   "metadata": {},
   "source": [
    "Зависимость цены от жилой площади немного ниже, чем от общей площади и составляет 0.5 коэффициента Пирсона. При этом, как и в случае с общей площадью можно говорить о том, что с увеличением жилой площади наблюдается тенденция к росту цены на квартиру."
   ]
  },
  {
   "cell_type": "code",
   "execution_count": 47,
   "metadata": {},
   "outputs": [
    {
     "data": {
      "text/plain": [
       "0.46841313363445125"
      ]
     },
     "execution_count": 47,
     "metadata": {},
     "output_type": "execute_result"
    },
    {
     "data": {
      "image/png": "[encoded data removed]",
      "text/plain": [
       "<Figure size 432x288 with 1 Axes>"
      ]
     },
     "metadata": {
      "needs_background": "light"
     },
     "output_type": "display_data"
    }
   ],
   "source": [
    "#Изучение зависимость цены от площади кухни квартиры.\n",
    "\n",
    "pivot_table_total_area_kitchen = data.pivot_table(index = 'kitchen_area', values = 'last_price', aggfunc = ['mean', 'count', 'median'])\n",
    "pivot_table_total_area_kitchen.columns = ['mean', 'count', 'median']\n",
    "pivot_table_total_area_kitchen.plot(y = 'median', style = 'o')\n",
    "\n",
    "pivot_table_total_area_kitchen.sort_values('median', ascending = False)\n",
    "\n",
    "data['kitchen_area'].corr(data['last_price'])"
   ]
  },
  {
   "cell_type": "markdown",
   "metadata": {},
   "source": [
    "Зависимость цены от площади кухни имеет чуть меньший коэффициент Пирсона, чем зависимость цены от жилой площади, составляет 0,49. При этом, вместе с увеличением площади кухни от 0 до 12,м2 происходит увеличение стоимость квартиры. Интересные случаи наблюдаются при размере кухни 15-20м2 – ценовой диапазон квартир, имеющих данную площадь кухни, не соотносится с тенденцией к росту общей стоимости. Можно предположить, что это происходит из-за того, что с увеличением площади кухни не увеличивается жилая площадь, или же площадь кухни увеличивается в ущерб жилой, из-за чего не происходит увеличения цены."
   ]
  },
  {
   "cell_type": "code",
   "execution_count": 48,
   "metadata": {},
   "outputs": [
    {
     "data": {
      "text/plain": [
       "0.41180962490702966"
      ]
     },
     "execution_count": 48,
     "metadata": {},
     "output_type": "execute_result"
    },
    {
     "data": {
      "image/png": "[encoded data removed]",
      "text/plain": [
       "<Figure size 432x288 with 1 Axes>"
      ]
     },
     "metadata": {
      "needs_background": "light"
     },
     "output_type": "display_data"
    }
   ],
   "source": [
    "#Изучение зависимость цены от количества комнат.\n",
    "\n",
    "pivot_table_rooms = data.pivot_table(index = 'rooms', values = 'last_price', aggfunc = ['mean', 'count', 'median'])\n",
    "pivot_table_rooms.columns = ['mean', 'count', 'median']\n",
    "pivot_table_rooms.plot(y = 'median')\n",
    "\n",
    "pivot_table_rooms.sort_values('median', ascending = False)\n",
    "\n",
    "data['rooms'].corr(data['last_price'])"
   ]
  },
  {
   "cell_type": "markdown",
   "metadata": {},
   "source": [
    "Зависимость цены от количества комнат примерно такое же, как и от площади кухни и составляет 0,42 коэффициента Пирсона. С увеличением числа комнат растет и общая стоимость квартиры. "
   ]
  },
  {
   "cell_type": "code",
   "execution_count": 49,
   "metadata": {},
   "outputs": [
    {
     "data": {
      "text/html": [
       "<div>\n",
       "<style scoped>\n",
       "    .dataframe tbody tr th:only-of-type {\n",
       "        vertical-align: middle;\n",
       "    }\n",
       "\n",
       "    .dataframe tbody tr th {\n",
       "        vertical-align: top;\n",
       "    }\n",
       "\n",
       "    .dataframe thead th {\n",
       "        text-align: right;\n",
       "    }\n",
       "</style>\n",
       "<table border=\"1\" class=\"dataframe\">\n",
       "  <thead>\n",
       "    <tr style=\"text-align: right;\">\n",
       "      <th></th>\n",
       "      <th>mean</th>\n",
       "      <th>count</th>\n",
       "      <th>median</th>\n",
       "    </tr>\n",
       "    <tr>\n",
       "      <th>floor_category</th>\n",
       "      <th></th>\n",
       "      <th></th>\n",
       "      <th></th>\n",
       "    </tr>\n",
       "  </thead>\n",
       "  <tbody>\n",
       "    <tr>\n",
       "      <th>другой</th>\n",
       "      <td>5.492748e+06</td>\n",
       "      <td>16071</td>\n",
       "      <td>4650000</td>\n",
       "    </tr>\n",
       "    <tr>\n",
       "      <th>первый</th>\n",
       "      <td>4.259785e+06</td>\n",
       "      <td>2788</td>\n",
       "      <td>3800000</td>\n",
       "    </tr>\n",
       "    <tr>\n",
       "      <th>последний</th>\n",
       "      <td>4.867110e+06</td>\n",
       "      <td>3014</td>\n",
       "      <td>4100000</td>\n",
       "    </tr>\n",
       "  </tbody>\n",
       "</table>\n",
       "</div>"
      ],
      "text/plain": [
       "                        mean  count   median\n",
       "floor_category                              \n",
       "другой          5.492748e+06  16071  4650000\n",
       "первый          4.259785e+06   2788  3800000\n",
       "последний       4.867110e+06   3014  4100000"
      ]
     },
     "execution_count": 49,
     "metadata": {},
     "output_type": "execute_result"
    },
    {
     "data": {
      "image/png": "[encoded data removed]",
      "text/plain": [
       "<Figure size 432x288 with 1 Axes>"
      ]
     },
     "metadata": {
      "needs_background": "light"
     },
     "output_type": "display_data"
    }
   ],
   "source": [
    "#Изучение зависимость цены от типа этажа.\n",
    "\n",
    "pivot_table_floor_category = data.pivot_table(index = 'floor_category', values = 'last_price', aggfunc = ['mean', 'count', 'median'])\n",
    "pivot_table_floor_category.columns = ['mean', 'count', 'median']\n",
    "pivot_table_floor_category.plot(y = 'median')\n",
    "pivot_table_floor_category"
   ]
  },
  {
   "cell_type": "markdown",
   "metadata": {},
   "source": [
    "Зависимость цены от типа этажа заключается в следующем: квартиры на первом этажа имеют самую низкую цену. Можно предположить, что это связано с тем, что жить на первом этаже крайне некомфортно: шум дороги, проходящие мимо люди и далее. При этом, стоимость квартир на других этажах является самой высокой. А квартиры на последнем этаже, хотя и дороже квартир на первом, но не такие дорогие как на других этаж. Можно предположить, что данный факт связан с риском жизни на последних этажа: протечки крыши. "
   ]
  },
  {
   "cell_type": "code",
   "execution_count": 50,
   "metadata": {},
   "outputs": [
    {
     "data": {
      "text/html": [
       "<div>\n",
       "<style scoped>\n",
       "    .dataframe tbody tr th:only-of-type {\n",
       "        vertical-align: middle;\n",
       "    }\n",
       "\n",
       "    .dataframe tbody tr th {\n",
       "        vertical-align: top;\n",
       "    }\n",
       "\n",
       "    .dataframe thead th {\n",
       "        text-align: right;\n",
       "    }\n",
       "</style>\n",
       "<table border=\"1\" class=\"dataframe\">\n",
       "  <thead>\n",
       "    <tr style=\"text-align: right;\">\n",
       "      <th></th>\n",
       "      <th>mean</th>\n",
       "      <th>count</th>\n",
       "      <th>median</th>\n",
       "    </tr>\n",
       "    <tr>\n",
       "      <th>weekday_exposition</th>\n",
       "      <th></th>\n",
       "      <th></th>\n",
       "      <th></th>\n",
       "    </tr>\n",
       "  </thead>\n",
       "  <tbody>\n",
       "    <tr>\n",
       "      <th>0</th>\n",
       "      <td>5.257690e+06</td>\n",
       "      <td>3346</td>\n",
       "      <td>4500000</td>\n",
       "    </tr>\n",
       "    <tr>\n",
       "      <th>1</th>\n",
       "      <td>5.276306e+06</td>\n",
       "      <td>3862</td>\n",
       "      <td>4500000</td>\n",
       "    </tr>\n",
       "    <tr>\n",
       "      <th>2</th>\n",
       "      <td>5.331025e+06</td>\n",
       "      <td>3664</td>\n",
       "      <td>4500000</td>\n",
       "    </tr>\n",
       "    <tr>\n",
       "      <th>3</th>\n",
       "      <td>5.306961e+06</td>\n",
       "      <td>3936</td>\n",
       "      <td>4479650</td>\n",
       "    </tr>\n",
       "    <tr>\n",
       "      <th>5</th>\n",
       "      <td>5.133843e+06</td>\n",
       "      <td>1800</td>\n",
       "      <td>4427500</td>\n",
       "    </tr>\n",
       "    <tr>\n",
       "      <th>4</th>\n",
       "      <td>5.184504e+06</td>\n",
       "      <td>3692</td>\n",
       "      <td>4400000</td>\n",
       "    </tr>\n",
       "    <tr>\n",
       "      <th>6</th>\n",
       "      <td>5.115825e+06</td>\n",
       "      <td>1573</td>\n",
       "      <td>4400000</td>\n",
       "    </tr>\n",
       "  </tbody>\n",
       "</table>\n",
       "</div>"
      ],
      "text/plain": [
       "                            mean  count   median\n",
       "weekday_exposition                              \n",
       "0                   5.257690e+06   3346  4500000\n",
       "1                   5.276306e+06   3862  4500000\n",
       "2                   5.331025e+06   3664  4500000\n",
       "3                   5.306961e+06   3936  4479650\n",
       "5                   5.133843e+06   1800  4427500\n",
       "4                   5.184504e+06   3692  4400000\n",
       "6                   5.115825e+06   1573  4400000"
      ]
     },
     "execution_count": 50,
     "metadata": {},
     "output_type": "execute_result"
    },
    {
     "data": {
      "image/png": "[encoded data removed]",
      "text/plain": [
       "<Figure size 432x288 with 1 Axes>"
      ]
     },
     "metadata": {
      "needs_background": "light"
     },
     "output_type": "display_data"
    }
   ],
   "source": [
    "#Изучение зависимость цены от дня размещения.\n",
    "\n",
    "pivot_table_weekday_exposition = data.pivot_table(index = 'weekday_exposition', values = 'last_price', aggfunc = ['mean', 'count', 'median'])\n",
    "pivot_table_weekday_exposition.columns = ['mean', 'count', 'median']\n",
    "pivot_table_weekday_exposition.plot(y = 'median')\n",
    "\n",
    "pivot_table_weekday_exposition.sort_values('median', ascending = False)"
   ]
  },
  {
   "cell_type": "markdown",
   "metadata": {},
   "source": [
    "Зависимость цены от дня публикации существует. В частности, квартиры, опубликованные в пн, вт и ср имею самую высокую цену. При этом объявления, опубликованные в пятницу, имеют цену намного ниже всех остальных объявлений. Объявления с субботы и воскресенья имеют одинаковую стоимость, но остаются ниже тех, что были размещены в пн, вт и ср. Можно предположить, что квартиры, которое публикуют в пятницу, выставляют на продажу люди в желанием, чтобы их квартиры посмотрели за входные и купили, в связи с чем, они ставят цену ниже, чтобы сделать предложение более привлекательным для покупателей."
   ]
  },
  {
   "cell_type": "code",
   "execution_count": 51,
   "metadata": {},
   "outputs": [
    {
     "data": {
      "text/html": [
       "<div>\n",
       "<style scoped>\n",
       "    .dataframe tbody tr th:only-of-type {\n",
       "        vertical-align: middle;\n",
       "    }\n",
       "\n",
       "    .dataframe tbody tr th {\n",
       "        vertical-align: top;\n",
       "    }\n",
       "\n",
       "    .dataframe thead th {\n",
       "        text-align: right;\n",
       "    }\n",
       "</style>\n",
       "<table border=\"1\" class=\"dataframe\">\n",
       "  <thead>\n",
       "    <tr style=\"text-align: right;\">\n",
       "      <th></th>\n",
       "      <th>mean</th>\n",
       "      <th>count</th>\n",
       "      <th>median</th>\n",
       "    </tr>\n",
       "    <tr>\n",
       "      <th>month_exposition</th>\n",
       "      <th></th>\n",
       "      <th></th>\n",
       "      <th></th>\n",
       "    </tr>\n",
       "  </thead>\n",
       "  <tbody>\n",
       "    <tr>\n",
       "      <th>4</th>\n",
       "      <td>5.307346e+06</td>\n",
       "      <td>2201</td>\n",
       "      <td>4600000</td>\n",
       "    </tr>\n",
       "    <tr>\n",
       "      <th>3</th>\n",
       "      <td>5.201655e+06</td>\n",
       "      <td>2395</td>\n",
       "      <td>4500000</td>\n",
       "    </tr>\n",
       "    <tr>\n",
       "      <th>9</th>\n",
       "      <td>5.351454e+06</td>\n",
       "      <td>1820</td>\n",
       "      <td>4500000</td>\n",
       "    </tr>\n",
       "    <tr>\n",
       "      <th>11</th>\n",
       "      <td>5.296701e+06</td>\n",
       "      <td>2180</td>\n",
       "      <td>4500000</td>\n",
       "    </tr>\n",
       "    <tr>\n",
       "      <th>12</th>\n",
       "      <td>5.269898e+06</td>\n",
       "      <td>1506</td>\n",
       "      <td>4500000</td>\n",
       "    </tr>\n",
       "    <tr>\n",
       "      <th>1</th>\n",
       "      <td>5.285976e+06</td>\n",
       "      <td>1372</td>\n",
       "      <td>4492500</td>\n",
       "    </tr>\n",
       "    <tr>\n",
       "      <th>10</th>\n",
       "      <td>5.268358e+06</td>\n",
       "      <td>1986</td>\n",
       "      <td>4490000</td>\n",
       "    </tr>\n",
       "    <tr>\n",
       "      <th>8</th>\n",
       "      <td>5.348659e+06</td>\n",
       "      <td>1629</td>\n",
       "      <td>4480000</td>\n",
       "    </tr>\n",
       "    <tr>\n",
       "      <th>2</th>\n",
       "      <td>5.197760e+06</td>\n",
       "      <td>2438</td>\n",
       "      <td>4450000</td>\n",
       "    </tr>\n",
       "    <tr>\n",
       "      <th>7</th>\n",
       "      <td>5.191121e+06</td>\n",
       "      <td>1551</td>\n",
       "      <td>4400000</td>\n",
       "    </tr>\n",
       "    <tr>\n",
       "      <th>5</th>\n",
       "      <td>5.055540e+06</td>\n",
       "      <td>1155</td>\n",
       "      <td>4350000</td>\n",
       "    </tr>\n",
       "    <tr>\n",
       "      <th>6</th>\n",
       "      <td>5.162405e+06</td>\n",
       "      <td>1640</td>\n",
       "      <td>4260000</td>\n",
       "    </tr>\n",
       "  </tbody>\n",
       "</table>\n",
       "</div>"
      ],
      "text/plain": [
       "                          mean  count   median\n",
       "month_exposition                              \n",
       "4                 5.307346e+06   2201  4600000\n",
       "3                 5.201655e+06   2395  4500000\n",
       "9                 5.351454e+06   1820  4500000\n",
       "11                5.296701e+06   2180  4500000\n",
       "12                5.269898e+06   1506  4500000\n",
       "1                 5.285976e+06   1372  4492500\n",
       "10                5.268358e+06   1986  4490000\n",
       "8                 5.348659e+06   1629  4480000\n",
       "2                 5.197760e+06   2438  4450000\n",
       "7                 5.191121e+06   1551  4400000\n",
       "5                 5.055540e+06   1155  4350000\n",
       "6                 5.162405e+06   1640  4260000"
      ]
     },
     "execution_count": 51,
     "metadata": {},
     "output_type": "execute_result"
    },
    {
     "data": {
      "image/png": "[encoded data removed]",
      "text/plain": [
       "<Figure size 432x288 with 1 Axes>"
      ]
     },
     "metadata": {
      "needs_background": "light"
     },
     "output_type": "display_data"
    }
   ],
   "source": [
    "#Изучение зависимость цены от месяца размещения.\n",
    "\n",
    "pivot_table_month_exposition = data.pivot_table(index = 'month_exposition', values = 'last_price', aggfunc = ['mean', 'count', 'median'])\n",
    "pivot_table_month_exposition.columns = ['mean', 'count', 'median']\n",
    "pivot_table_month_exposition.plot(y = 'median')\n",
    "\n",
    "pivot_table_month_exposition.sort_values('median', ascending = False)"
   ]
  },
  {
   "cell_type": "markdown",
   "metadata": {},
   "source": [
    "Зависимость цены от месяца размещения объявления заключается в том, что самые высокие цены на недвижимость у тех квартир, которые были выставленные на продажу в апреле. В летний период, а точнее в июне, цены самые маленькие, а к октябрю они выходят на тот же уровень, на котором были в первые январе. Объяснить снижение цен в июне можно тем, что в период отпусков не так много людей занимаются покупкой квартиры, в связи с чем, те, кто ее продают хотят сделать это как можно быстрее, в связи с чем, выставляют более низкую цену. Высокие цены на объекты, размещенные в апреле могут быть связаны с тем, что проходит уже 3 месяца с нового года, таким образом, что покупатели уже сконцентрировались на работе и делах, а также прошла пора новогодних трат, в связи с чем продавцы могут завышать стоимость квартир. "
   ]
  },
  {
   "cell_type": "code",
   "execution_count": 52,
   "metadata": {},
   "outputs": [
    {
     "data": {
      "text/html": [
       "<div>\n",
       "<style scoped>\n",
       "    .dataframe tbody tr th:only-of-type {\n",
       "        vertical-align: middle;\n",
       "    }\n",
       "\n",
       "    .dataframe tbody tr th {\n",
       "        vertical-align: top;\n",
       "    }\n",
       "\n",
       "    .dataframe thead th {\n",
       "        text-align: right;\n",
       "    }\n",
       "</style>\n",
       "<table border=\"1\" class=\"dataframe\">\n",
       "  <thead>\n",
       "    <tr style=\"text-align: right;\">\n",
       "      <th></th>\n",
       "      <th>mean</th>\n",
       "      <th>count</th>\n",
       "      <th>median</th>\n",
       "    </tr>\n",
       "    <tr>\n",
       "      <th>month_exposition</th>\n",
       "      <th></th>\n",
       "      <th></th>\n",
       "      <th></th>\n",
       "    </tr>\n",
       "  </thead>\n",
       "  <tbody>\n",
       "    <tr>\n",
       "      <th>4</th>\n",
       "      <td>5.307346e+06</td>\n",
       "      <td>2201</td>\n",
       "      <td>4600000</td>\n",
       "    </tr>\n",
       "    <tr>\n",
       "      <th>3</th>\n",
       "      <td>5.201655e+06</td>\n",
       "      <td>2395</td>\n",
       "      <td>4500000</td>\n",
       "    </tr>\n",
       "    <tr>\n",
       "      <th>9</th>\n",
       "      <td>5.351454e+06</td>\n",
       "      <td>1820</td>\n",
       "      <td>4500000</td>\n",
       "    </tr>\n",
       "    <tr>\n",
       "      <th>11</th>\n",
       "      <td>5.296701e+06</td>\n",
       "      <td>2180</td>\n",
       "      <td>4500000</td>\n",
       "    </tr>\n",
       "    <tr>\n",
       "      <th>12</th>\n",
       "      <td>5.269898e+06</td>\n",
       "      <td>1506</td>\n",
       "      <td>4500000</td>\n",
       "    </tr>\n",
       "    <tr>\n",
       "      <th>1</th>\n",
       "      <td>5.285976e+06</td>\n",
       "      <td>1372</td>\n",
       "      <td>4492500</td>\n",
       "    </tr>\n",
       "    <tr>\n",
       "      <th>10</th>\n",
       "      <td>5.268358e+06</td>\n",
       "      <td>1986</td>\n",
       "      <td>4490000</td>\n",
       "    </tr>\n",
       "    <tr>\n",
       "      <th>8</th>\n",
       "      <td>5.348659e+06</td>\n",
       "      <td>1629</td>\n",
       "      <td>4480000</td>\n",
       "    </tr>\n",
       "    <tr>\n",
       "      <th>2</th>\n",
       "      <td>5.197760e+06</td>\n",
       "      <td>2438</td>\n",
       "      <td>4450000</td>\n",
       "    </tr>\n",
       "    <tr>\n",
       "      <th>7</th>\n",
       "      <td>5.191121e+06</td>\n",
       "      <td>1551</td>\n",
       "      <td>4400000</td>\n",
       "    </tr>\n",
       "    <tr>\n",
       "      <th>5</th>\n",
       "      <td>5.055540e+06</td>\n",
       "      <td>1155</td>\n",
       "      <td>4350000</td>\n",
       "    </tr>\n",
       "    <tr>\n",
       "      <th>6</th>\n",
       "      <td>5.162405e+06</td>\n",
       "      <td>1640</td>\n",
       "      <td>4260000</td>\n",
       "    </tr>\n",
       "  </tbody>\n",
       "</table>\n",
       "</div>"
      ],
      "text/plain": [
       "                          mean  count   median\n",
       "month_exposition                              \n",
       "4                 5.307346e+06   2201  4600000\n",
       "3                 5.201655e+06   2395  4500000\n",
       "9                 5.351454e+06   1820  4500000\n",
       "11                5.296701e+06   2180  4500000\n",
       "12                5.269898e+06   1506  4500000\n",
       "1                 5.285976e+06   1372  4492500\n",
       "10                5.268358e+06   1986  4490000\n",
       "8                 5.348659e+06   1629  4480000\n",
       "2                 5.197760e+06   2438  4450000\n",
       "7                 5.191121e+06   1551  4400000\n",
       "5                 5.055540e+06   1155  4350000\n",
       "6                 5.162405e+06   1640  4260000"
      ]
     },
     "execution_count": 52,
     "metadata": {},
     "output_type": "execute_result"
    },
    {
     "data": {
      "image/png": "[encoded data removed]",
      "text/plain": [
       "<Figure size 432x288 with 1 Axes>"
      ]
     },
     "metadata": {
      "needs_background": "light"
     },
     "output_type": "display_data"
    }
   ],
   "source": [
    "#Изучение зависимость цены от года размещения.\n",
    "\n",
    "pivot_table_year_exposition = data.pivot_table(index = 'year_exposition', values = 'last_price', aggfunc = ['mean', 'count', 'median'])\n",
    "pivot_table_year_exposition.columns = ['mean', 'count', 'median']\n",
    "pivot_table_year_exposition.plot(y = 'median')\n",
    "\n",
    "pivot_table_month_exposition.sort_values('median', ascending = False)"
   ]
  },
  {
   "cell_type": "markdown",
   "metadata": {},
   "source": [
    "Зависимость цены от годы публикации заключается в том, что в период 2016-2017 годов цена на квартиры была самой низкой. Затем, в 2018 и 2019 году цены выросли, но не достигли показателей 2014- 2015 годов. Можно предположить, что падение цен в 2016-2017 году связано с тем, что в данный период возросли объемы первичного жилья, стоимость стала ниже, а в след за ним был вынужден опуститься и вторичный рынок жилья (чтобы квартиры продолжали покупать). Высокие цены на недвижимость в 2014 году можно связать с тем фактом, что произошло значительное и резкое падение рубля, таким образом, спроса на покупку недвижимости могло стать больше, чем предложения, что и привело к высоким ценам. О том, что после снижения цен началось их увеличение можно сказать, что либо это было связано со снижением количества строящихся домов, или же с ростом уровня благосостояния населения, что привело и к росту цен соответственно. "
   ]
  },
  {
   "cell_type": "markdown",
   "metadata": {},
   "source": [
    "### Подсчет средней цены одного квадратного метра в 10 населённых пунктах с наибольшим числом объявлений. Выделение населённые пунктов с самой высокой и низкой стоимостью квадратного метра."
   ]
  },
  {
   "cell_type": "code",
   "execution_count": 53,
   "metadata": {},
   "outputs": [
    {
     "data": {
      "text/html": [
       "<div>\n",
       "<style scoped>\n",
       "    .dataframe tbody tr th:only-of-type {\n",
       "        vertical-align: middle;\n",
       "    }\n",
       "\n",
       "    .dataframe tbody tr th {\n",
       "        vertical-align: top;\n",
       "    }\n",
       "\n",
       "    .dataframe thead th {\n",
       "        text-align: right;\n",
       "    }\n",
       "</style>\n",
       "<table border=\"1\" class=\"dataframe\">\n",
       "  <thead>\n",
       "    <tr style=\"text-align: right;\">\n",
       "      <th></th>\n",
       "      <th>Город</th>\n",
       "      <th>Средняя цена за кв.м.</th>\n",
       "      <th>Средняя цена за квартиру.</th>\n",
       "    </tr>\n",
       "  </thead>\n",
       "  <tbody>\n",
       "    <tr>\n",
       "      <th>0</th>\n",
       "      <td>Санкт-Петербург</td>\n",
       "      <td>103448.0</td>\n",
       "      <td>5249000.0</td>\n",
       "    </tr>\n",
       "    <tr>\n",
       "      <th>5</th>\n",
       "      <td>Пушкин</td>\n",
       "      <td>98471.0</td>\n",
       "      <td>4990000.0</td>\n",
       "    </tr>\n",
       "    <tr>\n",
       "      <th>2</th>\n",
       "      <td>Кудрово</td>\n",
       "      <td>95840.0</td>\n",
       "      <td>3800000.0</td>\n",
       "    </tr>\n",
       "    <tr>\n",
       "      <th>7</th>\n",
       "      <td>Парголово</td>\n",
       "      <td>91779.5</td>\n",
       "      <td>4100000.0</td>\n",
       "    </tr>\n",
       "    <tr>\n",
       "      <th>1</th>\n",
       "      <td>Мурино</td>\n",
       "      <td>86332.0</td>\n",
       "      <td>3400000.0</td>\n",
       "    </tr>\n",
       "    <tr>\n",
       "      <th>3</th>\n",
       "      <td>Шушары</td>\n",
       "      <td>76829.0</td>\n",
       "      <td>3950000.0</td>\n",
       "    </tr>\n",
       "    <tr>\n",
       "      <th>6</th>\n",
       "      <td>Колпино</td>\n",
       "      <td>74723.5</td>\n",
       "      <td>3600000.0</td>\n",
       "    </tr>\n",
       "    <tr>\n",
       "      <th>8</th>\n",
       "      <td>Гатчина</td>\n",
       "      <td>67695.0</td>\n",
       "      <td>3050000.0</td>\n",
       "    </tr>\n",
       "    <tr>\n",
       "      <th>4</th>\n",
       "      <td>Всеволожск</td>\n",
       "      <td>65648.0</td>\n",
       "      <td>3450000.0</td>\n",
       "    </tr>\n",
       "    <tr>\n",
       "      <th>9</th>\n",
       "      <td>Выборг</td>\n",
       "      <td>58108.0</td>\n",
       "      <td>2800000.0</td>\n",
       "    </tr>\n",
       "  </tbody>\n",
       "</table>\n",
       "</div>"
      ],
      "text/plain": [
       "             Город  Средняя цена за кв.м.  Средняя цена за квартиру.\n",
       "0  Санкт-Петербург               103448.0                  5249000.0\n",
       "5           Пушкин                98471.0                  4990000.0\n",
       "2          Кудрово                95840.0                  3800000.0\n",
       "7        Парголово                91779.5                  4100000.0\n",
       "1           Мурино                86332.0                  3400000.0\n",
       "3           Шушары                76829.0                  3950000.0\n",
       "6          Колпино                74723.5                  3600000.0\n",
       "8          Гатчина                67695.0                  3050000.0\n",
       "4       Всеволожск                65648.0                  3450000.0\n",
       "9           Выборг                58108.0                  2800000.0"
      ]
     },
     "execution_count": 53,
     "metadata": {},
     "output_type": "execute_result"
    }
   ],
   "source": [
    "top_10 = data['locality_name'].value_counts().index.tolist()[:10]\n",
    "mean_10_metrics = [data[data['locality_name'] == city]['price_per_square_meter'].median().round(2) for city in top_10]\n",
    "mean_10_prices = [data[data['locality_name'] == city]['last_price'].median() for city in top_10]\n",
    "frame = {'Город': top_10, 'Средняя цена за кв.м.': mean_10_metrics, 'Средняя цена за квартиру.': mean_10_prices}\n",
    "dataframe = pd.DataFrame(frame).sort_values(by='Средняя цена за кв.м.', ascending=False)\n",
    "dataframe"
   ]
  },
  {
   "cell_type": "code",
   "execution_count": 54,
   "metadata": {},
   "outputs": [
    {
     "data": {
      "text/html": [
       "<div>\n",
       "<style scoped>\n",
       "    .dataframe tbody tr th:only-of-type {\n",
       "        vertical-align: middle;\n",
       "    }\n",
       "\n",
       "    .dataframe tbody tr th {\n",
       "        vertical-align: top;\n",
       "    }\n",
       "\n",
       "    .dataframe thead th {\n",
       "        text-align: right;\n",
       "    }\n",
       "</style>\n",
       "<table border=\"1\" class=\"dataframe\">\n",
       "  <thead>\n",
       "    <tr style=\"text-align: right;\">\n",
       "      <th></th>\n",
       "      <th>mean_10_metrics</th>\n",
       "      <th>mean_10_prices</th>\n",
       "    </tr>\n",
       "    <tr>\n",
       "      <th>locality_name</th>\n",
       "      <th></th>\n",
       "      <th></th>\n",
       "    </tr>\n",
       "  </thead>\n",
       "  <tbody>\n",
       "    <tr>\n",
       "      <th>Санкт-Петербург</th>\n",
       "      <td>109806.62</td>\n",
       "      <td>6264696.81</td>\n",
       "    </tr>\n",
       "    <tr>\n",
       "      <th>Пушкин</th>\n",
       "      <td>101447.78</td>\n",
       "      <td>5568358.94</td>\n",
       "    </tr>\n",
       "    <tr>\n",
       "      <th>Кудрово</th>\n",
       "      <td>95599.31</td>\n",
       "      <td>4293010.49</td>\n",
       "    </tr>\n",
       "    <tr>\n",
       "      <th>Парголово</th>\n",
       "      <td>90297.88</td>\n",
       "      <td>4466322.40</td>\n",
       "    </tr>\n",
       "    <tr>\n",
       "      <th>Мурино</th>\n",
       "      <td>86114.94</td>\n",
       "      <td>3655082.67</td>\n",
       "    </tr>\n",
       "    <tr>\n",
       "      <th>Шушары</th>\n",
       "      <td>78554.30</td>\n",
       "      <td>4059621.24</td>\n",
       "    </tr>\n",
       "    <tr>\n",
       "      <th>Колпино</th>\n",
       "      <td>75387.04</td>\n",
       "      <td>3823220.62</td>\n",
       "    </tr>\n",
       "    <tr>\n",
       "      <th>Гатчина</th>\n",
       "      <td>68621.15</td>\n",
       "      <td>3424220.47</td>\n",
       "    </tr>\n",
       "    <tr>\n",
       "      <th>Всеволожск</th>\n",
       "      <td>68449.19</td>\n",
       "      <td>3715401.25</td>\n",
       "    </tr>\n",
       "    <tr>\n",
       "      <th>Выборг</th>\n",
       "      <td>58046.28</td>\n",
       "      <td>3036777.78</td>\n",
       "    </tr>\n",
       "  </tbody>\n",
       "</table>\n",
       "</div>"
      ],
      "text/plain": [
       "                 mean_10_metrics  mean_10_prices\n",
       "locality_name                                   \n",
       "Санкт-Петербург        109806.62      6264696.81\n",
       "Пушкин                 101447.78      5568358.94\n",
       "Кудрово                 95599.31      4293010.49\n",
       "Парголово               90297.88      4466322.40\n",
       "Мурино                  86114.94      3655082.67\n",
       "Шушары                  78554.30      4059621.24\n",
       "Колпино                 75387.04      3823220.62\n",
       "Гатчина                 68621.15      3424220.47\n",
       "Всеволожск              68449.19      3715401.25\n",
       "Выборг                  58046.28      3036777.78"
      ]
     },
     "execution_count": 54,
     "metadata": {},
     "output_type": "execute_result"
    }
   ],
   "source": [
    "data.loc[data.locality_name.isin(top_10)].groupby('locality_name').agg(\n",
    "    mean_10_metrics=('price_per_square_meter', 'mean'),\n",
    "    mean_10_prices=('last_price', 'mean')\n",
    ").sort_values('mean_10_metrics', ascending=False).round(2)"
   ]
  },
  {
   "cell_type": "markdown",
   "metadata": {},
   "source": [
    "Как можно увидеть, самые дорогие квартиры (как за все жилье, так и за 1 кв.м.) в Санкт-Петербурге и парковом городе Пушкине. Можно предположить, что Пушкин занимает второе место по стоимости жилья именно из-за того, что имеет большую парковую зону, которая может быть крайне привлекательна для определенных категорий покупателей. Также становится очевидно, что чем дальше от города, тем дешевле. Так, в Выборге средняя цена за квадратный метр в 2 раз ниже, чем в Санкт-Петербурге."
   ]
  },
  {
   "cell_type": "markdown",
   "metadata": {},
   "source": [
    "**Изучение квартир в Санкт-Петербурге и вычисление средней цены каждого километра. Описание того, как стоимость объектов зависит от расстояния до центра города.**"
   ]
  },
  {
   "cell_type": "code",
   "execution_count": 55,
   "metadata": {},
   "outputs": [
    {
     "data": {
      "text/html": [
       "<div>\n",
       "<style scoped>\n",
       "    .dataframe tbody tr th:only-of-type {\n",
       "        vertical-align: middle;\n",
       "    }\n",
       "\n",
       "    .dataframe tbody tr th {\n",
       "        vertical-align: top;\n",
       "    }\n",
       "\n",
       "    .dataframe thead th {\n",
       "        text-align: right;\n",
       "    }\n",
       "</style>\n",
       "<table border=\"1\" class=\"dataframe\">\n",
       "  <thead>\n",
       "    <tr style=\"text-align: right;\">\n",
       "      <th></th>\n",
       "      <th>price_per_square_meter</th>\n",
       "    </tr>\n",
       "    <tr>\n",
       "      <th>cityCenters_km</th>\n",
       "      <th></th>\n",
       "    </tr>\n",
       "  </thead>\n",
       "  <tbody>\n",
       "    <tr>\n",
       "      <th>0.0</th>\n",
       "      <td>169470.666667</td>\n",
       "    </tr>\n",
       "    <tr>\n",
       "      <th>1.0</th>\n",
       "      <td>150428.443548</td>\n",
       "    </tr>\n",
       "    <tr>\n",
       "      <th>2.0</th>\n",
       "      <td>138928.509804</td>\n",
       "    </tr>\n",
       "    <tr>\n",
       "      <th>3.0</th>\n",
       "      <td>117979.421687</td>\n",
       "    </tr>\n",
       "    <tr>\n",
       "      <th>4.0</th>\n",
       "      <td>125478.917160</td>\n",
       "    </tr>\n",
       "    <tr>\n",
       "      <th>5.0</th>\n",
       "      <td>133060.685590</td>\n",
       "    </tr>\n",
       "    <tr>\n",
       "      <th>6.0</th>\n",
       "      <td>132659.258947</td>\n",
       "    </tr>\n",
       "    <tr>\n",
       "      <th>7.0</th>\n",
       "      <td>132664.341317</td>\n",
       "    </tr>\n",
       "    <tr>\n",
       "      <th>8.0</th>\n",
       "      <td>120991.317460</td>\n",
       "    </tr>\n",
       "    <tr>\n",
       "      <th>9.0</th>\n",
       "      <td>111087.256831</td>\n",
       "    </tr>\n",
       "    <tr>\n",
       "      <th>10.0</th>\n",
       "      <td>111251.568249</td>\n",
       "    </tr>\n",
       "    <tr>\n",
       "      <th>11.0</th>\n",
       "      <td>107244.330349</td>\n",
       "    </tr>\n",
       "    <tr>\n",
       "      <th>12.0</th>\n",
       "      <td>107117.144337</td>\n",
       "    </tr>\n",
       "    <tr>\n",
       "      <th>13.0</th>\n",
       "      <td>107661.855000</td>\n",
       "    </tr>\n",
       "    <tr>\n",
       "      <th>14.0</th>\n",
       "      <td>103954.284211</td>\n",
       "    </tr>\n",
       "    <tr>\n",
       "      <th>15.0</th>\n",
       "      <td>103419.033490</td>\n",
       "    </tr>\n",
       "    <tr>\n",
       "      <th>16.0</th>\n",
       "      <td>100000.867971</td>\n",
       "    </tr>\n",
       "    <tr>\n",
       "      <th>17.0</th>\n",
       "      <td>96835.067138</td>\n",
       "    </tr>\n",
       "    <tr>\n",
       "      <th>18.0</th>\n",
       "      <td>96250.498024</td>\n",
       "    </tr>\n",
       "    <tr>\n",
       "      <th>19.0</th>\n",
       "      <td>98767.686275</td>\n",
       "    </tr>\n",
       "    <tr>\n",
       "      <th>20.0</th>\n",
       "      <td>87208.947368</td>\n",
       "    </tr>\n",
       "    <tr>\n",
       "      <th>21.0</th>\n",
       "      <td>93314.185841</td>\n",
       "    </tr>\n",
       "    <tr>\n",
       "      <th>22.0</th>\n",
       "      <td>91194.111111</td>\n",
       "    </tr>\n",
       "    <tr>\n",
       "      <th>23.0</th>\n",
       "      <td>92202.743902</td>\n",
       "    </tr>\n",
       "    <tr>\n",
       "      <th>24.0</th>\n",
       "      <td>85745.653846</td>\n",
       "    </tr>\n",
       "    <tr>\n",
       "      <th>25.0</th>\n",
       "      <td>92337.160000</td>\n",
       "    </tr>\n",
       "    <tr>\n",
       "      <th>26.0</th>\n",
       "      <td>87801.116279</td>\n",
       "    </tr>\n",
       "    <tr>\n",
       "      <th>27.0</th>\n",
       "      <td>70312.000000</td>\n",
       "    </tr>\n",
       "    <tr>\n",
       "      <th>28.0</th>\n",
       "      <td>81161.571429</td>\n",
       "    </tr>\n",
       "    <tr>\n",
       "      <th>29.0</th>\n",
       "      <td>72952.666667</td>\n",
       "    </tr>\n",
       "  </tbody>\n",
       "</table>\n",
       "</div>"
      ],
      "text/plain": [
       "                price_per_square_meter\n",
       "cityCenters_km                        \n",
       "0.0                      169470.666667\n",
       "1.0                      150428.443548\n",
       "2.0                      138928.509804\n",
       "3.0                      117979.421687\n",
       "4.0                      125478.917160\n",
       "5.0                      133060.685590\n",
       "6.0                      132659.258947\n",
       "7.0                      132664.341317\n",
       "8.0                      120991.317460\n",
       "9.0                      111087.256831\n",
       "10.0                     111251.568249\n",
       "11.0                     107244.330349\n",
       "12.0                     107117.144337\n",
       "13.0                     107661.855000\n",
       "14.0                     103954.284211\n",
       "15.0                     103419.033490\n",
       "16.0                     100000.867971\n",
       "17.0                      96835.067138\n",
       "18.0                      96250.498024\n",
       "19.0                      98767.686275\n",
       "20.0                      87208.947368\n",
       "21.0                      93314.185841\n",
       "22.0                      91194.111111\n",
       "23.0                      92202.743902\n",
       "24.0                      85745.653846\n",
       "25.0                      92337.160000\n",
       "26.0                      87801.116279\n",
       "27.0                      70312.000000\n",
       "28.0                      81161.571429\n",
       "29.0                      72952.666667"
      ]
     },
     "execution_count": 55,
     "metadata": {},
     "output_type": "execute_result"
    },
    {
     "data": {
      "image/png": "[encoded data removed]",
      "text/plain": [
       "<Figure size 432x288 with 1 Axes>"
      ]
     },
     "metadata": {
      "needs_background": "light"
     },
     "output_type": "display_data"
    }
   ],
   "source": [
    "pivot_table_km_price = data.query('locality_name == \"Санкт-Петербург\"').pivot_table(index = 'cityCenters_km', values = 'price_per_square_meter', aggfunc = 'mean')\n",
    "pivot_table_km_price.plot()\n",
    "pivot_table_km_price"
   ]
  },
  {
   "cell_type": "markdown",
   "metadata": {},
   "source": [
    "Рассматривая зависимость цены на квартиру от ее удаленности от центра Санкт-Петербурга, становится видно, что квартиры в самом центре не являются самыми дорогими. При этом, расстояние 1-2 и 4-7 км от центра оказывает значительное влияние на стоимость недвижимости: она является самой дорогой. Преодолевая радиус 7км удаленности от центра цена на квартиру начинает постепенно снижаться вместе с последующим удалением от центра города. Говоря о том, почему цена при расстоянии 4-7 км от центра схожа с ценой тех объектов недвижимости, которые находятся на расстоянии 1-2км, может заключатся в специфике районов города. Так, Василеостровский и Петроградский районы не считаются центральными, но при этом они считаются престижными для жизни, и находятся не далеко от центра. Таким образом, цена на квартиры в данных районах может быть столь же высокой, что и прямо в центре, что объясняет распределение цен в радиусе 4-7 км от центра. "
   ]
  },
  {
   "cell_type": "markdown",
   "metadata": {},
   "source": [
    "## Общий вывод"
   ]
  },
  {
   "cell_type": "markdown",
   "metadata": {},
   "source": [
    "В рамках проведения исследования были обнаружены следующие особенности рассматриваемого рынка недвижимости: \n",
    " - Во-первых, самая высокая стоимость у тех объектов недвижимости, которые находятся непосредственно Санкт-Петербурге. При этом их удаленность от центра города не обязательно означает снижение их цены, что, скорее всего связанно с районами города. Традиционно, стоимость жилья на Крестовском районе намного выше, чем во многих других районах города из-за его престижности, но при этом он удалён от центра (схожие выводы можно сказать и про Василеостровский и Петроградские районы).\n",
    " - Во-вторых, цена квартиры напрямую зависит от ее общей площади и числа комнат: цена увеличивается вместе с увеличением общей площади и количества комнат в квартире. Также важную роль играет этаж квартиры: квартиры на первом этаже самые дешевые. \n",
    " - В-третьих, говоря о том, в какие годы квартиры стоили больше всего, то стало оеивдно6 что это 2014-2015 годы. \n",
    " - В-четвертых, летние месяцы были наиболее удачными для покупателей, так как в них цена на квартире была намного ниже, чем зимой или осенью.\n",
    " - Наконец, говоря о продолжительно периоды продажи квартиры, то, в среднем, 3 месяца являются тем сроков, за которой в Санкт-Петербурге и Ленинградской области продавались квартиры. "
   ]
  }
 ],
 "metadata": {
  "ExecuteTimeLog": [
   {
    "duration": 777,
    "start_time": "2022-11-01T08:49:48.359Z"
   },
   {
    "duration": 117,
    "start_time": "2022-11-01T08:50:10.548Z"
   },
   {
    "duration": 2414,
    "start_time": "2022-11-01T08:51:21.886Z"
   },
   {
    "duration": 47,
    "start_time": "2022-11-10T09:20:02.487Z"
   },
   {
    "duration": 3021,
    "start_time": "2022-11-10T09:20:07.072Z"
   },
   {
    "duration": 12,
    "start_time": "2022-11-10T09:20:14.292Z"
   },
   {
    "duration": 2775,
    "start_time": "2022-11-11T10:02:19.194Z"
   },
   {
    "duration": 10,
    "start_time": "2022-11-11T10:02:30.032Z"
   },
   {
    "duration": 8,
    "start_time": "2022-11-11T10:24:50.953Z"
   },
   {
    "duration": 8,
    "start_time": "2022-11-11T10:25:01.987Z"
   },
   {
    "duration": 9,
    "start_time": "2022-11-11T10:25:24.377Z"
   },
   {
    "duration": 6,
    "start_time": "2022-11-11T10:44:04.789Z"
   },
   {
    "duration": 6,
    "start_time": "2022-11-11T10:44:19.449Z"
   },
   {
    "duration": 7,
    "start_time": "2022-11-11T10:44:43.140Z"
   },
   {
    "duration": 5,
    "start_time": "2022-11-11T10:44:50.489Z"
   },
   {
    "duration": 2696,
    "start_time": "2022-11-11T10:45:01.361Z"
   },
   {
    "duration": 8,
    "start_time": "2022-11-11T10:45:07.765Z"
   },
   {
    "duration": 4,
    "start_time": "2022-11-11T10:45:13.498Z"
   },
   {
    "duration": 3,
    "start_time": "2022-11-11T10:45:21.649Z"
   },
   {
    "duration": 5,
    "start_time": "2022-11-11T10:45:29.749Z"
   },
   {
    "duration": 8,
    "start_time": "2022-11-11T10:45:43.023Z"
   },
   {
    "duration": 4,
    "start_time": "2022-11-11T10:46:27.714Z"
   },
   {
    "duration": 3,
    "start_time": "2022-11-11T10:46:36.616Z"
   },
   {
    "duration": 4,
    "start_time": "2022-11-11T10:46:44.443Z"
   },
   {
    "duration": 2713,
    "start_time": "2022-11-11T10:47:08.040Z"
   },
   {
    "duration": 11,
    "start_time": "2022-11-11T10:47:14.746Z"
   },
   {
    "duration": 1300,
    "start_time": "2022-11-11T10:51:42.443Z"
   },
   {
    "duration": 1280,
    "start_time": "2022-11-11T10:52:45.995Z"
   },
   {
    "duration": 4,
    "start_time": "2022-11-11T10:55:33.905Z"
   },
   {
    "duration": 9,
    "start_time": "2022-11-11T10:55:39.292Z"
   },
   {
    "duration": 80,
    "start_time": "2022-11-11T10:59:50.376Z"
   },
   {
    "duration": 74,
    "start_time": "2022-11-11T10:59:57.944Z"
   },
   {
    "duration": 81,
    "start_time": "2022-11-11T11:00:02.039Z"
   },
   {
    "duration": 31,
    "start_time": "2022-11-11T11:00:12.133Z"
   },
   {
    "duration": 1294,
    "start_time": "2022-11-11T11:03:15.087Z"
   },
   {
    "duration": 60,
    "start_time": "2022-11-11T11:03:47.598Z"
   },
   {
    "duration": 70,
    "start_time": "2022-11-11T11:03:58.865Z"
   },
   {
    "duration": 62,
    "start_time": "2022-11-11T11:21:41.925Z"
   },
   {
    "duration": 85,
    "start_time": "2022-11-11T11:31:27.232Z"
   },
   {
    "duration": 112,
    "start_time": "2022-11-11T11:32:02.731Z"
   },
   {
    "duration": 142,
    "start_time": "2022-11-11T11:32:25.025Z"
   },
   {
    "duration": 292,
    "start_time": "2022-11-11T11:33:46.732Z"
   },
   {
    "duration": 875,
    "start_time": "2022-11-11T11:37:23.550Z"
   },
   {
    "duration": 9082,
    "start_time": "2022-11-11T11:38:59.438Z"
   },
   {
    "duration": 2638,
    "start_time": "2022-11-11T11:39:19.767Z"
   },
   {
    "duration": 11,
    "start_time": "2022-11-11T11:39:24.702Z"
   },
   {
    "duration": 9205,
    "start_time": "2022-11-11T11:39:31.273Z"
   },
   {
    "duration": 8691,
    "start_time": "2022-11-11T11:54:31.363Z"
   },
   {
    "duration": 89,
    "start_time": "2022-11-11T11:55:04.999Z"
   },
   {
    "duration": 120,
    "start_time": "2022-11-11T11:55:31.395Z"
   },
   {
    "duration": 2601,
    "start_time": "2022-11-11T11:55:48.704Z"
   },
   {
    "duration": 9,
    "start_time": "2022-11-11T11:55:54.604Z"
   },
   {
    "duration": 172,
    "start_time": "2022-11-11T11:56:00.471Z"
   },
   {
    "duration": 265,
    "start_time": "2022-11-11T11:56:28.119Z"
   },
   {
    "duration": 124,
    "start_time": "2022-11-11T12:02:01.926Z"
   },
   {
    "duration": 253,
    "start_time": "2022-11-11T12:14:28.842Z"
   },
   {
    "duration": 136,
    "start_time": "2022-11-11T12:23:19.142Z"
   },
   {
    "duration": 195,
    "start_time": "2022-11-11T12:23:44.093Z"
   },
   {
    "duration": 576,
    "start_time": "2022-11-11T12:24:12.719Z"
   },
   {
    "duration": 259,
    "start_time": "2022-11-11T12:24:34.552Z"
   },
   {
    "duration": 2612,
    "start_time": "2022-11-11T12:24:51.829Z"
   },
   {
    "duration": 9,
    "start_time": "2022-11-11T12:24:57.353Z"
   },
   {
    "duration": 150,
    "start_time": "2022-11-11T12:25:01.602Z"
   },
   {
    "duration": 294,
    "start_time": "2022-11-11T12:28:21.331Z"
   },
   {
    "duration": 73,
    "start_time": "2022-11-11T12:31:21.336Z"
   },
   {
    "duration": 72,
    "start_time": "2022-11-11T12:31:43.074Z"
   },
   {
    "duration": 68,
    "start_time": "2022-11-11T12:31:49.389Z"
   },
   {
    "duration": 66,
    "start_time": "2022-11-11T12:31:52.439Z"
   },
   {
    "duration": 73,
    "start_time": "2022-11-11T12:32:08.426Z"
   },
   {
    "duration": 18,
    "start_time": "2022-11-11T12:32:57.570Z"
   },
   {
    "duration": 2490,
    "start_time": "2022-11-11T12:33:09.147Z"
   },
   {
    "duration": 9,
    "start_time": "2022-11-11T12:33:18.397Z"
   },
   {
    "duration": 22,
    "start_time": "2022-11-11T12:33:22.946Z"
   },
   {
    "duration": 49,
    "start_time": "2022-11-11T12:33:47.770Z"
   },
   {
    "duration": 68,
    "start_time": "2022-11-11T12:34:05.546Z"
   },
   {
    "duration": 61,
    "start_time": "2022-11-11T12:36:03.736Z"
   },
   {
    "duration": 59,
    "start_time": "2022-11-11T12:36:17.169Z"
   },
   {
    "duration": 69,
    "start_time": "2022-11-11T12:36:55.401Z"
   },
   {
    "duration": 66,
    "start_time": "2022-11-11T12:37:19.226Z"
   },
   {
    "duration": 119,
    "start_time": "2022-11-11T12:37:51.594Z"
   },
   {
    "duration": 57,
    "start_time": "2022-11-11T12:38:10.118Z"
   },
   {
    "duration": 57,
    "start_time": "2022-11-11T12:41:27.603Z"
   },
   {
    "duration": 114,
    "start_time": "2022-11-11T12:43:55.450Z"
   },
   {
    "duration": 66,
    "start_time": "2022-11-11T12:44:29.118Z"
   },
   {
    "duration": 107,
    "start_time": "2022-11-11T12:44:46.426Z"
   },
   {
    "duration": 1353,
    "start_time": "2022-11-11T12:45:08.460Z"
   },
   {
    "duration": 2701,
    "start_time": "2022-11-11T12:45:49.461Z"
   },
   {
    "duration": 2645,
    "start_time": "2022-11-11T12:48:31.058Z"
   },
   {
    "duration": 109,
    "start_time": "2022-11-11T13:00:33.732Z"
   },
   {
    "duration": 111,
    "start_time": "2022-11-11T13:05:05.440Z"
   },
   {
    "duration": 120,
    "start_time": "2022-11-11T13:15:53.826Z"
   },
   {
    "duration": 118,
    "start_time": "2022-11-11T13:16:09.664Z"
   },
   {
    "duration": 117,
    "start_time": "2022-11-11T13:16:28.348Z"
   },
   {
    "duration": 20,
    "start_time": "2022-11-11T13:17:02.777Z"
   },
   {
    "duration": 121,
    "start_time": "2022-11-11T13:17:29.603Z"
   },
   {
    "duration": 122,
    "start_time": "2022-11-11T13:17:36.455Z"
   },
   {
    "duration": 145,
    "start_time": "2022-11-11T13:18:05.908Z"
   },
   {
    "duration": 83,
    "start_time": "2022-11-11T13:18:28.377Z"
   },
   {
    "duration": 132,
    "start_time": "2022-11-11T13:18:38.506Z"
   },
   {
    "duration": 2631,
    "start_time": "2022-11-11T13:20:14.818Z"
   },
   {
    "duration": 8,
    "start_time": "2022-11-11T13:20:20.438Z"
   },
   {
    "duration": 155,
    "start_time": "2022-11-11T13:20:26.211Z"
   },
   {
    "duration": 96,
    "start_time": "2022-11-11T13:35:22.083Z"
   },
   {
    "duration": 43,
    "start_time": "2022-11-11T13:35:46.859Z"
   },
   {
    "duration": 61,
    "start_time": "2022-11-11T13:36:15.396Z"
   },
   {
    "duration": 58,
    "start_time": "2022-11-11T13:36:31.466Z"
   },
   {
    "duration": 61,
    "start_time": "2022-11-11T13:36:59.226Z"
   },
   {
    "duration": 7,
    "start_time": "2022-11-11T13:42:24.320Z"
   },
   {
    "duration": 7,
    "start_time": "2022-11-11T13:43:31.308Z"
   },
   {
    "duration": 8,
    "start_time": "2022-11-11T13:45:13.056Z"
   },
   {
    "duration": 7,
    "start_time": "2022-11-11T13:45:22.186Z"
   },
   {
    "duration": 7,
    "start_time": "2022-11-11T13:45:27.606Z"
   },
   {
    "duration": 7,
    "start_time": "2022-11-11T13:45:36.155Z"
   },
   {
    "duration": 12,
    "start_time": "2022-11-11T13:50:22.351Z"
   },
   {
    "duration": 10,
    "start_time": "2022-11-11T13:50:36.265Z"
   },
   {
    "duration": 9,
    "start_time": "2022-11-11T13:50:50.326Z"
   },
   {
    "duration": 7,
    "start_time": "2022-11-11T13:51:04.378Z"
   },
   {
    "duration": 12,
    "start_time": "2022-11-11T13:51:39.306Z"
   },
   {
    "duration": 7,
    "start_time": "2022-11-11T13:51:56.526Z"
   },
   {
    "duration": 6,
    "start_time": "2022-11-11T13:56:33.305Z"
   },
   {
    "duration": 6,
    "start_time": "2022-11-11T14:07:42.556Z"
   },
   {
    "duration": 7,
    "start_time": "2022-11-11T14:08:03.488Z"
   },
   {
    "duration": 7,
    "start_time": "2022-11-11T14:08:18.682Z"
   },
   {
    "duration": 4,
    "start_time": "2022-11-11T14:35:03.794Z"
   },
   {
    "duration": 4,
    "start_time": "2022-11-11T16:57:56.256Z"
   },
   {
    "duration": 4,
    "start_time": "2022-11-11T16:59:32.497Z"
   },
   {
    "duration": 6,
    "start_time": "2022-11-11T17:00:33.514Z"
   },
   {
    "duration": 15,
    "start_time": "2022-11-11T17:00:56.433Z"
   },
   {
    "duration": 3,
    "start_time": "2022-11-11T17:01:00.585Z"
   },
   {
    "duration": 4,
    "start_time": "2022-11-11T17:01:05.874Z"
   },
   {
    "duration": 6,
    "start_time": "2022-11-11T17:04:48.239Z"
   },
   {
    "duration": 7,
    "start_time": "2022-11-11T17:05:02.813Z"
   },
   {
    "duration": 7,
    "start_time": "2022-11-11T17:05:11.421Z"
   },
   {
    "duration": 8,
    "start_time": "2022-11-11T17:08:54.849Z"
   },
   {
    "duration": 13,
    "start_time": "2022-11-11T17:11:08.963Z"
   },
   {
    "duration": 13,
    "start_time": "2022-11-11T17:12:36.553Z"
   },
   {
    "duration": 12,
    "start_time": "2022-11-11T17:12:53.965Z"
   },
   {
    "duration": 2619,
    "start_time": "2022-11-11T17:13:27.306Z"
   },
   {
    "duration": 9,
    "start_time": "2022-11-11T17:13:36.976Z"
   },
   {
    "duration": 143,
    "start_time": "2022-11-11T17:13:47.592Z"
   },
   {
    "duration": 66,
    "start_time": "2022-11-11T17:13:55.472Z"
   },
   {
    "duration": 7,
    "start_time": "2022-11-11T17:14:19.347Z"
   },
   {
    "duration": 79,
    "start_time": "2022-11-11T17:14:43.234Z"
   },
   {
    "duration": 107,
    "start_time": "2022-11-11T17:14:51.267Z"
   },
   {
    "duration": 157,
    "start_time": "2022-11-11T17:15:40.864Z"
   },
   {
    "duration": 206,
    "start_time": "2022-11-11T17:15:47.124Z"
   },
   {
    "duration": 180,
    "start_time": "2022-11-11T17:15:54.170Z"
   },
   {
    "duration": 15,
    "start_time": "2022-11-11T17:16:20.274Z"
   },
   {
    "duration": 178,
    "start_time": "2022-11-11T17:16:29.406Z"
   },
   {
    "duration": 533,
    "start_time": "2022-11-11T17:16:46.643Z"
   },
   {
    "duration": 12,
    "start_time": "2022-11-11T17:16:59.751Z"
   },
   {
    "duration": 82,
    "start_time": "2022-11-11T17:33:07.064Z"
   },
   {
    "duration": 77,
    "start_time": "2022-11-11T17:34:49.882Z"
   },
   {
    "duration": 92,
    "start_time": "2022-11-11T17:35:01.560Z"
   },
   {
    "duration": 90,
    "start_time": "2022-11-11T17:35:35.670Z"
   },
   {
    "duration": 2533,
    "start_time": "2022-11-11T17:39:43.100Z"
   },
   {
    "duration": 10,
    "start_time": "2022-11-11T17:39:49.092Z"
   },
   {
    "duration": 143,
    "start_time": "2022-11-11T17:39:57.248Z"
   },
   {
    "duration": 67,
    "start_time": "2022-11-11T17:40:02.254Z"
   },
   {
    "duration": 7,
    "start_time": "2022-11-11T17:40:13.556Z"
   },
   {
    "duration": 98,
    "start_time": "2022-11-11T17:40:17.927Z"
   },
   {
    "duration": 4,
    "start_time": "2022-11-11T17:40:41.154Z"
   },
   {
    "duration": 135,
    "start_time": "2022-11-11T17:41:27.808Z"
   },
   {
    "duration": 4,
    "start_time": "2022-11-11T17:41:35.994Z"
   },
   {
    "duration": 7,
    "start_time": "2022-11-11T17:41:43.238Z"
   },
   {
    "duration": 86,
    "start_time": "2022-11-11T17:41:51.879Z"
   },
   {
    "duration": 118,
    "start_time": "2022-11-11T17:43:50.166Z"
   },
   {
    "duration": 85,
    "start_time": "2022-11-11T17:44:46.108Z"
   },
   {
    "duration": 98,
    "start_time": "2022-11-11T17:45:11.516Z"
   },
   {
    "duration": 86,
    "start_time": "2022-11-11T17:46:09.054Z"
   },
   {
    "duration": 165,
    "start_time": "2022-11-11T17:50:05.582Z"
   },
   {
    "duration": 94,
    "start_time": "2022-11-11T17:51:20.598Z"
   },
   {
    "duration": 98,
    "start_time": "2022-11-11T17:54:52.139Z"
   },
   {
    "duration": 118,
    "start_time": "2022-11-11T18:01:39.326Z"
   },
   {
    "duration": 93,
    "start_time": "2022-11-11T18:01:53.344Z"
   },
   {
    "duration": 75,
    "start_time": "2022-11-11T18:02:02.530Z"
   },
   {
    "duration": 74,
    "start_time": "2022-11-11T18:02:13.100Z"
   },
   {
    "duration": 99,
    "start_time": "2022-11-11T18:02:21.675Z"
   },
   {
    "duration": 122,
    "start_time": "2022-11-11T18:02:41.348Z"
   },
   {
    "duration": 155,
    "start_time": "2022-11-11T18:02:52.404Z"
   },
   {
    "duration": 184,
    "start_time": "2022-11-11T18:03:01.474Z"
   },
   {
    "duration": 148,
    "start_time": "2022-11-11T18:03:50.773Z"
   },
   {
    "duration": 265,
    "start_time": "2022-11-11T18:03:56.485Z"
   },
   {
    "duration": 2064,
    "start_time": "2022-11-11T18:23:26.945Z"
   },
   {
    "duration": 9,
    "start_time": "2022-11-11T18:23:32.438Z"
   },
   {
    "duration": 153,
    "start_time": "2022-11-11T18:23:38.401Z"
   },
   {
    "duration": 73,
    "start_time": "2022-11-11T18:23:44.071Z"
   },
   {
    "duration": 5,
    "start_time": "2022-11-11T18:23:55.593Z"
   },
   {
    "duration": 65,
    "start_time": "2022-11-11T18:43:55.937Z"
   },
   {
    "duration": 142,
    "start_time": "2022-11-11T18:46:40.157Z"
   },
   {
    "duration": 122,
    "start_time": "2022-11-11T18:47:08.235Z"
   },
   {
    "duration": 190,
    "start_time": "2022-11-11T18:47:35.845Z"
   },
   {
    "duration": 175,
    "start_time": "2022-11-11T18:48:20.611Z"
   },
   {
    "duration": 165,
    "start_time": "2022-11-11T18:48:46.378Z"
   },
   {
    "duration": 92,
    "start_time": "2022-11-11T18:49:04.109Z"
   },
   {
    "duration": 2542,
    "start_time": "2022-11-11T18:49:19.315Z"
   },
   {
    "duration": 9,
    "start_time": "2022-11-11T18:49:25.144Z"
   },
   {
    "duration": 151,
    "start_time": "2022-11-11T18:49:31.773Z"
   },
   {
    "duration": 63,
    "start_time": "2022-11-11T18:49:35.941Z"
   },
   {
    "duration": 83,
    "start_time": "2022-11-11T18:49:42.993Z"
   },
   {
    "duration": 83,
    "start_time": "2022-11-11T18:50:16.948Z"
   },
   {
    "duration": 109,
    "start_time": "2022-11-11T18:50:28.691Z"
   },
   {
    "duration": 229,
    "start_time": "2022-11-11T18:50:59.008Z"
   },
   {
    "duration": 163,
    "start_time": "2022-11-11T18:51:26.442Z"
   },
   {
    "duration": 2565,
    "start_time": "2022-11-11T18:52:24.528Z"
   },
   {
    "duration": 8,
    "start_time": "2022-11-11T18:52:34.065Z"
   },
   {
    "duration": 148,
    "start_time": "2022-11-11T18:52:39.579Z"
   },
   {
    "duration": 64,
    "start_time": "2022-11-11T18:52:44.290Z"
   },
   {
    "duration": 82,
    "start_time": "2022-11-11T18:52:52.783Z"
   },
   {
    "duration": 77,
    "start_time": "2022-11-11T18:53:32.417Z"
   },
   {
    "duration": 95,
    "start_time": "2022-11-11T18:53:42.651Z"
   },
   {
    "duration": 157,
    "start_time": "2022-11-11T18:54:06.101Z"
   },
   {
    "duration": 85,
    "start_time": "2022-11-11T18:54:23.849Z"
   },
   {
    "duration": 90,
    "start_time": "2022-11-11T18:54:58.822Z"
   },
   {
    "duration": 99,
    "start_time": "2022-11-11T18:55:13.154Z"
   },
   {
    "duration": 100,
    "start_time": "2022-11-11T18:55:46.525Z"
   },
   {
    "duration": 94,
    "start_time": "2022-11-11T18:56:00.448Z"
   },
   {
    "duration": 161,
    "start_time": "2022-11-11T18:56:31.061Z"
   },
   {
    "duration": 129,
    "start_time": "2022-11-11T18:57:16.768Z"
   },
   {
    "duration": 77,
    "start_time": "2022-11-11T18:57:27.645Z"
   },
   {
    "duration": 150,
    "start_time": "2022-11-11T18:57:39.766Z"
   },
   {
    "duration": 433,
    "start_time": "2022-11-11T18:57:47.309Z"
   },
   {
    "duration": 3827,
    "start_time": "2022-11-11T18:58:01.549Z"
   },
   {
    "duration": 168,
    "start_time": "2022-11-11T18:58:50.553Z"
   },
   {
    "duration": 99,
    "start_time": "2022-11-11T18:59:49.743Z"
   },
   {
    "duration": 103,
    "start_time": "2022-11-11T19:00:10.854Z"
   },
   {
    "duration": 2573,
    "start_time": "2022-11-11T19:00:23.572Z"
   },
   {
    "duration": 9,
    "start_time": "2022-11-11T19:00:29.668Z"
   },
   {
    "duration": 157,
    "start_time": "2022-11-11T19:00:34.896Z"
   },
   {
    "duration": 68,
    "start_time": "2022-11-11T19:00:38.075Z"
   },
   {
    "duration": 92,
    "start_time": "2022-11-11T19:00:44.563Z"
   },
   {
    "duration": 78,
    "start_time": "2022-11-11T19:00:48.440Z"
   },
   {
    "duration": 87,
    "start_time": "2022-11-11T19:00:51.210Z"
   },
   {
    "duration": 145,
    "start_time": "2022-11-11T19:00:54.338Z"
   },
   {
    "duration": 88,
    "start_time": "2022-11-11T19:00:55.762Z"
   },
   {
    "duration": 89,
    "start_time": "2022-11-11T19:00:58.508Z"
   },
   {
    "duration": 99,
    "start_time": "2022-11-11T19:01:00.091Z"
   },
   {
    "duration": 86,
    "start_time": "2022-11-11T19:01:02.835Z"
   },
   {
    "duration": 87,
    "start_time": "2022-11-11T19:01:04.827Z"
   },
   {
    "duration": 147,
    "start_time": "2022-11-11T19:01:38.154Z"
   },
   {
    "duration": 107,
    "start_time": "2022-11-11T19:01:55.777Z"
   },
   {
    "duration": 7,
    "start_time": "2022-11-11T19:02:13.663Z"
   },
   {
    "duration": 2534,
    "start_time": "2022-11-11T19:02:35.531Z"
   },
   {
    "duration": 10,
    "start_time": "2022-11-11T19:02:41.627Z"
   },
   {
    "duration": 140,
    "start_time": "2022-11-11T19:02:46.247Z"
   },
   {
    "duration": 73,
    "start_time": "2022-11-11T19:02:49.027Z"
   },
   {
    "duration": 85,
    "start_time": "2022-11-11T19:02:56.581Z"
   },
   {
    "duration": 6,
    "start_time": "2022-11-11T19:03:09.395Z"
   },
   {
    "duration": 89,
    "start_time": "2022-11-11T19:03:12.076Z"
   },
   {
    "duration": 6,
    "start_time": "2022-11-11T19:03:25.808Z"
   },
   {
    "duration": 90,
    "start_time": "2022-11-11T19:03:28.456Z"
   },
   {
    "duration": 5,
    "start_time": "2022-11-11T19:03:38.634Z"
   },
   {
    "duration": 95,
    "start_time": "2022-11-11T19:03:41.385Z"
   },
   {
    "duration": 5,
    "start_time": "2022-11-11T19:04:00.682Z"
   },
   {
    "duration": 79,
    "start_time": "2022-11-11T19:04:02.992Z"
   },
   {
    "duration": 148,
    "start_time": "2022-11-11T19:04:09.776Z"
   },
   {
    "duration": 8,
    "start_time": "2022-11-11T19:04:15.948Z"
   },
   {
    "duration": 13,
    "start_time": "2022-11-11T19:04:28.596Z"
   },
   {
    "duration": 12,
    "start_time": "2022-11-11T19:04:30.827Z"
   },
   {
    "duration": 8,
    "start_time": "2022-11-11T19:04:44.638Z"
   },
   {
    "duration": 88,
    "start_time": "2022-11-11T19:05:15.229Z"
   },
   {
    "duration": 100,
    "start_time": "2022-11-11T19:06:20.006Z"
   },
   {
    "duration": 134,
    "start_time": "2022-11-11T19:06:26.958Z"
   },
   {
    "duration": 122,
    "start_time": "2022-11-11T19:08:58.433Z"
   },
   {
    "duration": 87,
    "start_time": "2022-11-11T19:09:20.605Z"
   },
   {
    "duration": 127,
    "start_time": "2022-11-11T19:09:34.635Z"
   },
   {
    "duration": 95,
    "start_time": "2022-11-11T19:10:32.129Z"
   },
   {
    "duration": 83,
    "start_time": "2022-11-11T19:10:41.362Z"
   },
   {
    "duration": 133,
    "start_time": "2022-11-11T19:10:53.901Z"
   },
   {
    "duration": 159,
    "start_time": "2022-11-11T19:12:00.383Z"
   },
   {
    "duration": 505,
    "start_time": "2022-11-11T19:12:04.866Z"
   },
   {
    "duration": 7,
    "start_time": "2022-11-11T19:12:43.773Z"
   },
   {
    "duration": 7,
    "start_time": "2022-11-11T19:13:15.804Z"
   },
   {
    "duration": 154,
    "start_time": "2022-11-11T19:13:32.823Z"
   },
   {
    "duration": 233,
    "start_time": "2022-11-11T19:13:50.826Z"
   },
   {
    "duration": 478,
    "start_time": "2022-11-11T19:14:16.427Z"
   },
   {
    "duration": 754,
    "start_time": "2022-11-11T19:20:27.297Z"
   },
   {
    "duration": 441,
    "start_time": "2022-11-11T19:20:32.585Z"
   },
   {
    "duration": 8,
    "start_time": "2022-11-11T19:23:39.831Z"
   },
   {
    "duration": 35,
    "start_time": "2022-11-11T19:23:53.379Z"
   },
   {
    "duration": 6,
    "start_time": "2022-11-11T19:30:02.624Z"
   },
   {
    "duration": 106,
    "start_time": "2022-11-11T20:33:31.035Z"
   },
   {
    "duration": 99,
    "start_time": "2022-11-11T20:33:36.561Z"
   },
   {
    "duration": 6,
    "start_time": "2022-11-11T20:33:40.657Z"
   },
   {
    "duration": 2460,
    "start_time": "2022-11-11T20:41:42.861Z"
   },
   {
    "duration": 9,
    "start_time": "2022-11-11T20:41:47.521Z"
   },
   {
    "duration": 141,
    "start_time": "2022-11-11T20:41:52.965Z"
   },
   {
    "duration": 63,
    "start_time": "2022-11-11T20:41:57.466Z"
   },
   {
    "duration": 6,
    "start_time": "2022-11-11T20:42:07.469Z"
   },
   {
    "duration": 67,
    "start_time": "2022-11-11T20:46:44.958Z"
   },
   {
    "duration": 8,
    "start_time": "2022-11-11T20:46:52.975Z"
   },
   {
    "duration": 6,
    "start_time": "2022-11-11T20:54:03.320Z"
   },
   {
    "duration": 9,
    "start_time": "2022-11-11T20:57:32.965Z"
   },
   {
    "duration": 5,
    "start_time": "2022-11-11T20:57:48.502Z"
   },
   {
    "duration": 6,
    "start_time": "2022-11-11T21:10:38.743Z"
   },
   {
    "duration": 5,
    "start_time": "2022-11-11T21:10:55.825Z"
   },
   {
    "duration": 5,
    "start_time": "2022-11-11T21:12:36.684Z"
   },
   {
    "duration": 290,
    "start_time": "2022-11-11T21:16:01.150Z"
   },
   {
    "duration": 13,
    "start_time": "2022-11-11T21:17:48.024Z"
   },
   {
    "duration": 22,
    "start_time": "2022-11-11T21:18:37.959Z"
   },
   {
    "duration": 3,
    "start_time": "2022-11-11T21:21:00.606Z"
   },
   {
    "duration": 4,
    "start_time": "2022-11-11T21:21:23.490Z"
   },
   {
    "duration": 3,
    "start_time": "2022-11-11T21:22:46.995Z"
   },
   {
    "duration": 3,
    "start_time": "2022-11-11T21:22:49.413Z"
   },
   {
    "duration": 3,
    "start_time": "2022-11-11T21:23:36.930Z"
   },
   {
    "duration": 3,
    "start_time": "2022-11-11T21:23:39.810Z"
   },
   {
    "duration": 3,
    "start_time": "2022-11-11T21:23:49.336Z"
   },
   {
    "duration": 3,
    "start_time": "2022-11-11T21:27:56.278Z"
   },
   {
    "duration": 4,
    "start_time": "2022-11-11T21:28:52.470Z"
   },
   {
    "duration": 21,
    "start_time": "2022-11-11T21:32:51.505Z"
   },
   {
    "duration": 17,
    "start_time": "2022-11-11T21:33:13.976Z"
   },
   {
    "duration": 17,
    "start_time": "2022-11-11T21:33:29.336Z"
   },
   {
    "duration": 18,
    "start_time": "2022-11-11T21:33:33.509Z"
   },
   {
    "duration": 17,
    "start_time": "2022-11-11T21:33:57.933Z"
   },
   {
    "duration": 18,
    "start_time": "2022-11-11T21:33:59.401Z"
   },
   {
    "duration": 3376,
    "start_time": "2022-11-12T10:32:50.743Z"
   },
   {
    "duration": 11,
    "start_time": "2022-11-12T10:32:54.551Z"
   },
   {
    "duration": 17,
    "start_time": "2022-11-12T10:32:57.184Z"
   },
   {
    "duration": 168,
    "start_time": "2022-11-12T10:33:02.532Z"
   },
   {
    "duration": 81,
    "start_time": "2022-11-12T10:33:08.899Z"
   },
   {
    "duration": 20,
    "start_time": "2022-11-12T10:33:21.823Z"
   },
   {
    "duration": 23,
    "start_time": "2022-11-12T10:33:24.307Z"
   },
   {
    "duration": 97,
    "start_time": "2022-11-12T10:33:29.509Z"
   },
   {
    "duration": 7,
    "start_time": "2022-11-12T10:33:32.246Z"
   },
   {
    "duration": 116,
    "start_time": "2022-11-12T10:33:33.980Z"
   },
   {
    "duration": 10,
    "start_time": "2022-11-12T10:33:38.793Z"
   },
   {
    "duration": 108,
    "start_time": "2022-11-12T10:33:40.976Z"
   },
   {
    "duration": 6,
    "start_time": "2022-11-12T10:33:43.601Z"
   },
   {
    "duration": 116,
    "start_time": "2022-11-12T10:33:45.206Z"
   },
   {
    "duration": 6,
    "start_time": "2022-11-12T10:33:48.320Z"
   },
   {
    "duration": 102,
    "start_time": "2022-11-12T10:33:50.200Z"
   },
   {
    "duration": 6,
    "start_time": "2022-11-12T10:33:54.545Z"
   },
   {
    "duration": 709,
    "start_time": "2022-11-12T10:33:56.176Z"
   },
   {
    "duration": 157,
    "start_time": "2022-11-12T10:34:10.041Z"
   },
   {
    "duration": 732,
    "start_time": "2022-11-12T10:34:15.671Z"
   },
   {
    "duration": 375,
    "start_time": "2022-11-12T10:34:20.610Z"
   },
   {
    "duration": 8,
    "start_time": "2022-11-12T10:34:28.595Z"
   },
   {
    "duration": 545,
    "start_time": "2022-11-12T10:34:30.457Z"
   },
   {
    "duration": 9,
    "start_time": "2022-11-12T10:34:33.337Z"
   },
   {
    "duration": 51,
    "start_time": "2022-11-12T11:28:03.564Z"
   },
   {
    "duration": 3132,
    "start_time": "2022-11-12T11:28:13.811Z"
   },
   {
    "duration": 11,
    "start_time": "2022-11-12T11:28:22.812Z"
   },
   {
    "duration": 161,
    "start_time": "2022-11-12T11:28:27.335Z"
   },
   {
    "duration": 88,
    "start_time": "2022-11-12T11:28:30.100Z"
   },
   {
    "duration": 23,
    "start_time": "2022-11-12T11:28:36.163Z"
   },
   {
    "duration": 135,
    "start_time": "2022-11-12T11:28:39.371Z"
   },
   {
    "duration": 6,
    "start_time": "2022-11-12T11:28:42.508Z"
   },
   {
    "duration": 110,
    "start_time": "2022-11-12T11:28:43.980Z"
   },
   {
    "duration": 7,
    "start_time": "2022-11-12T11:28:47.640Z"
   },
   {
    "duration": 130,
    "start_time": "2022-11-12T11:28:49.204Z"
   },
   {
    "duration": 6,
    "start_time": "2022-11-12T11:28:51.744Z"
   },
   {
    "duration": 115,
    "start_time": "2022-11-12T11:28:54.039Z"
   },
   {
    "duration": 13,
    "start_time": "2022-11-12T11:28:57.116Z"
   },
   {
    "duration": 101,
    "start_time": "2022-11-12T11:28:58.601Z"
   },
   {
    "duration": 6,
    "start_time": "2022-11-12T11:29:01.065Z"
   },
   {
    "duration": 368,
    "start_time": "2022-11-12T11:29:02.468Z"
   },
   {
    "duration": 7,
    "start_time": "2022-11-12T11:29:07.217Z"
   },
   {
    "duration": 557,
    "start_time": "2022-11-12T11:29:09.093Z"
   },
   {
    "duration": 6,
    "start_time": "2022-11-12T11:29:13.883Z"
   },
   {
    "duration": 329,
    "start_time": "2022-11-12T11:29:44.575Z"
   },
   {
    "duration": 37,
    "start_time": "2022-11-12T11:29:46.138Z"
   },
   {
    "duration": 312,
    "start_time": "2022-11-12T11:31:36.649Z"
   },
   {
    "duration": 34,
    "start_time": "2022-11-12T11:31:38.681Z"
   },
   {
    "duration": 3148,
    "start_time": "2022-11-13T11:14:30.876Z"
   },
   {
    "duration": 9,
    "start_time": "2022-11-13T11:14:46.344Z"
   },
   {
    "duration": 147,
    "start_time": "2022-11-13T11:14:51.495Z"
   },
   {
    "duration": 75,
    "start_time": "2022-11-13T11:14:54.898Z"
   },
   {
    "duration": 26,
    "start_time": "2022-11-13T11:15:01.551Z"
   },
   {
    "duration": 16,
    "start_time": "2022-11-13T11:15:02.993Z"
   },
   {
    "duration": 84,
    "start_time": "2022-11-13T11:15:07.304Z"
   },
   {
    "duration": 6,
    "start_time": "2022-11-13T11:15:09.702Z"
   },
   {
    "duration": 90,
    "start_time": "2022-11-13T11:15:11.146Z"
   },
   {
    "duration": 6,
    "start_time": "2022-11-13T11:15:13.472Z"
   },
   {
    "duration": 95,
    "start_time": "2022-11-13T11:15:15.239Z"
   },
   {
    "duration": 6,
    "start_time": "2022-11-13T11:15:17.480Z"
   },
   {
    "duration": 94,
    "start_time": "2022-11-13T11:15:19.730Z"
   },
   {
    "duration": 6,
    "start_time": "2022-11-13T11:15:22.131Z"
   },
   {
    "duration": 88,
    "start_time": "2022-11-13T11:15:23.498Z"
   },
   {
    "duration": 5,
    "start_time": "2022-11-13T11:15:26.330Z"
   },
   {
    "duration": 289,
    "start_time": "2022-11-13T11:15:27.795Z"
   },
   {
    "duration": 6,
    "start_time": "2022-11-13T11:15:30.539Z"
   },
   {
    "duration": 442,
    "start_time": "2022-11-13T11:15:33.168Z"
   },
   {
    "duration": 7,
    "start_time": "2022-11-13T11:15:35.766Z"
   },
   {
    "duration": 267,
    "start_time": "2022-11-13T11:15:41.900Z"
   },
   {
    "duration": 39,
    "start_time": "2022-11-13T11:15:44.599Z"
   },
   {
    "duration": 2729,
    "start_time": "2022-11-13T11:26:29.878Z"
   },
   {
    "duration": 10,
    "start_time": "2022-11-13T11:26:35.835Z"
   },
   {
    "duration": 142,
    "start_time": "2022-11-13T11:26:41.182Z"
   },
   {
    "duration": 69,
    "start_time": "2022-11-13T11:26:44.129Z"
   },
   {
    "duration": 19,
    "start_time": "2022-11-13T11:26:49.281Z"
   },
   {
    "duration": 19,
    "start_time": "2022-11-13T11:26:51.369Z"
   },
   {
    "duration": 89,
    "start_time": "2022-11-13T11:26:57.089Z"
   },
   {
    "duration": 7,
    "start_time": "2022-11-13T11:27:05.171Z"
   },
   {
    "duration": 97,
    "start_time": "2022-11-13T11:27:07.376Z"
   },
   {
    "duration": 7,
    "start_time": "2022-11-13T11:27:11.375Z"
   },
   {
    "duration": 97,
    "start_time": "2022-11-13T11:27:13.086Z"
   },
   {
    "duration": 5,
    "start_time": "2022-11-13T11:27:15.585Z"
   },
   {
    "duration": 97,
    "start_time": "2022-11-13T11:27:18.367Z"
   },
   {
    "duration": 5,
    "start_time": "2022-11-13T11:27:29.272Z"
   },
   {
    "duration": 85,
    "start_time": "2022-11-13T11:27:31.257Z"
   },
   {
    "duration": 6,
    "start_time": "2022-11-13T11:27:33.316Z"
   },
   {
    "duration": 380,
    "start_time": "2022-11-13T11:27:34.594Z"
   },
   {
    "duration": 6,
    "start_time": "2022-11-13T11:27:37.105Z"
   },
   {
    "duration": 468,
    "start_time": "2022-11-13T11:27:38.419Z"
   },
   {
    "duration": 6,
    "start_time": "2022-11-13T11:27:40.889Z"
   },
   {
    "duration": 255,
    "start_time": "2022-11-13T11:27:43.907Z"
   },
   {
    "duration": 30,
    "start_time": "2022-11-13T11:27:46.075Z"
   },
   {
    "duration": 49,
    "start_time": "2022-11-13T11:27:51.108Z"
   },
   {
    "duration": 50,
    "start_time": "2022-11-13T12:13:42.276Z"
   },
   {
    "duration": 74,
    "start_time": "2022-11-13T12:14:02.013Z"
   },
   {
    "duration": 2594,
    "start_time": "2022-11-13T12:15:29.142Z"
   },
   {
    "duration": 9,
    "start_time": "2022-11-13T12:15:35.684Z"
   },
   {
    "duration": 137,
    "start_time": "2022-11-13T12:15:57.295Z"
   },
   {
    "duration": 70,
    "start_time": "2022-11-13T12:16:05.435Z"
   },
   {
    "duration": 19,
    "start_time": "2022-11-13T12:16:08.547Z"
   },
   {
    "duration": 17,
    "start_time": "2022-11-13T12:16:10.719Z"
   },
   {
    "duration": 103,
    "start_time": "2022-11-13T12:16:14.827Z"
   },
   {
    "duration": 6,
    "start_time": "2022-11-13T12:16:20.312Z"
   },
   {
    "duration": 94,
    "start_time": "2022-11-13T12:16:22.292Z"
   },
   {
    "duration": 6,
    "start_time": "2022-11-13T12:16:25.772Z"
   },
   {
    "duration": 86,
    "start_time": "2022-11-13T12:16:27.293Z"
   },
   {
    "duration": 6,
    "start_time": "2022-11-13T12:16:30.134Z"
   },
   {
    "duration": 89,
    "start_time": "2022-11-13T12:16:31.647Z"
   },
   {
    "duration": 6,
    "start_time": "2022-11-13T12:16:34.377Z"
   },
   {
    "duration": 217,
    "start_time": "2022-11-13T12:16:35.576Z"
   },
   {
    "duration": 6,
    "start_time": "2022-11-13T12:16:38.923Z"
   },
   {
    "duration": 555,
    "start_time": "2022-11-13T12:16:40.272Z"
   },
   {
    "duration": 6,
    "start_time": "2022-11-13T12:16:43.617Z"
   },
   {
    "duration": 263,
    "start_time": "2022-11-13T12:16:47.131Z"
   },
   {
    "duration": 40,
    "start_time": "2022-11-13T12:16:49.533Z"
   },
   {
    "duration": 55,
    "start_time": "2022-11-13T12:16:58.599Z"
   },
   {
    "duration": 5,
    "start_time": "2022-11-13T12:17:01.582Z"
   },
   {
    "duration": 1564,
    "start_time": "2022-11-13T12:24:03.501Z"
   },
   {
    "duration": 225,
    "start_time": "2022-11-13T12:25:30.812Z"
   },
   {
    "duration": 1367,
    "start_time": "2022-11-13T12:25:55.253Z"
   },
   {
    "duration": 12,
    "start_time": "2022-11-13T12:33:26.953Z"
   },
   {
    "duration": 6,
    "start_time": "2022-11-13T12:34:04.809Z"
   },
   {
    "duration": 4,
    "start_time": "2022-11-13T12:34:13.087Z"
   },
   {
    "duration": 45,
    "start_time": "2022-11-13T12:42:00.414Z"
   },
   {
    "duration": 341,
    "start_time": "2022-11-13T12:42:03.979Z"
   },
   {
    "duration": 122,
    "start_time": "2022-11-13T12:49:55.580Z"
   },
   {
    "duration": 62,
    "start_time": "2022-11-13T12:50:22.952Z"
   },
   {
    "duration": 3102,
    "start_time": "2022-11-13T16:06:50.939Z"
   },
   {
    "duration": 12,
    "start_time": "2022-11-13T16:07:04.973Z"
   },
   {
    "duration": 157,
    "start_time": "2022-11-13T16:07:10.456Z"
   },
   {
    "duration": 71,
    "start_time": "2022-11-13T16:07:13.970Z"
   },
   {
    "duration": 19,
    "start_time": "2022-11-13T16:07:17.226Z"
   },
   {
    "duration": 28,
    "start_time": "2022-11-13T16:07:19.068Z"
   },
   {
    "duration": 98,
    "start_time": "2022-11-13T16:07:22.879Z"
   },
   {
    "duration": 6,
    "start_time": "2022-11-13T16:07:25.428Z"
   },
   {
    "duration": 114,
    "start_time": "2022-11-13T16:07:26.719Z"
   },
   {
    "duration": 6,
    "start_time": "2022-11-13T16:07:29.189Z"
   },
   {
    "duration": 114,
    "start_time": "2022-11-13T16:07:30.738Z"
   },
   {
    "duration": 6,
    "start_time": "2022-11-13T16:07:32.974Z"
   },
   {
    "duration": 107,
    "start_time": "2022-11-13T16:07:34.671Z"
   },
   {
    "duration": 6,
    "start_time": "2022-11-13T16:07:38.232Z"
   },
   {
    "duration": 89,
    "start_time": "2022-11-13T16:07:40.575Z"
   },
   {
    "duration": 7,
    "start_time": "2022-11-13T16:07:42.768Z"
   },
   {
    "duration": 311,
    "start_time": "2022-11-13T16:07:44.270Z"
   },
   {
    "duration": 6,
    "start_time": "2022-11-13T16:07:47.091Z"
   },
   {
    "duration": 483,
    "start_time": "2022-11-13T16:07:48.540Z"
   },
   {
    "duration": 6,
    "start_time": "2022-11-13T16:07:51.772Z"
   },
   {
    "duration": 251,
    "start_time": "2022-11-13T16:08:07.673Z"
   },
   {
    "duration": 32,
    "start_time": "2022-11-13T16:08:10.189Z"
   },
   {
    "duration": 57,
    "start_time": "2022-11-13T16:08:15.580Z"
   },
   {
    "duration": 7,
    "start_time": "2022-11-13T16:08:18.494Z"
   },
   {
    "duration": 6,
    "start_time": "2022-11-13T16:08:31.766Z"
   },
   {
    "duration": 1589,
    "start_time": "2022-11-13T16:08:42.087Z"
   },
   {
    "duration": 199,
    "start_time": "2022-11-13T16:08:47.686Z"
   },
   {
    "duration": 12,
    "start_time": "2022-11-13T16:08:55.494Z"
   },
   {
    "duration": 5,
    "start_time": "2022-11-13T16:08:57.670Z"
   },
   {
    "duration": 221,
    "start_time": "2022-11-13T16:08:59.412Z"
   },
   {
    "duration": 56,
    "start_time": "2022-11-13T16:09:04.113Z"
   },
   {
    "duration": 84,
    "start_time": "2022-11-13T16:22:32.617Z"
   },
   {
    "duration": 55,
    "start_time": "2022-11-13T16:30:07.701Z"
   },
   {
    "duration": 150,
    "start_time": "2022-11-13T16:30:22.450Z"
   },
   {
    "duration": 2617,
    "start_time": "2022-11-13T16:50:53.272Z"
   },
   {
    "duration": 10,
    "start_time": "2022-11-13T16:50:59.478Z"
   },
   {
    "duration": 151,
    "start_time": "2022-11-13T16:51:03.628Z"
   },
   {
    "duration": 72,
    "start_time": "2022-11-13T16:51:07.220Z"
   },
   {
    "duration": 19,
    "start_time": "2022-11-13T16:51:10.729Z"
   },
   {
    "duration": 18,
    "start_time": "2022-11-13T16:51:12.335Z"
   },
   {
    "duration": 123,
    "start_time": "2022-11-13T16:51:16.379Z"
   },
   {
    "duration": 6,
    "start_time": "2022-11-13T16:51:18.539Z"
   },
   {
    "duration": 99,
    "start_time": "2022-11-13T16:51:20.346Z"
   },
   {
    "duration": 6,
    "start_time": "2022-11-13T16:51:22.552Z"
   },
   {
    "duration": 102,
    "start_time": "2022-11-13T16:51:24.232Z"
   },
   {
    "duration": 7,
    "start_time": "2022-11-13T16:51:26.515Z"
   },
   {
    "duration": 93,
    "start_time": "2022-11-13T16:51:27.721Z"
   },
   {
    "duration": 5,
    "start_time": "2022-11-13T16:51:29.860Z"
   },
   {
    "duration": 94,
    "start_time": "2022-11-13T16:51:31.164Z"
   },
   {
    "duration": 8,
    "start_time": "2022-11-13T16:51:33.716Z"
   },
   {
    "duration": 333,
    "start_time": "2022-11-13T16:51:35.128Z"
   },
   {
    "duration": 6,
    "start_time": "2022-11-13T16:51:37.384Z"
   },
   {
    "duration": 493,
    "start_time": "2022-11-13T16:51:38.796Z"
   },
   {
    "duration": 5,
    "start_time": "2022-11-13T16:51:42.121Z"
   },
   {
    "duration": 270,
    "start_time": "2022-11-13T16:51:47.086Z"
   },
   {
    "duration": 34,
    "start_time": "2022-11-13T16:51:48.596Z"
   },
   {
    "duration": 51,
    "start_time": "2022-11-13T16:51:55.090Z"
   },
   {
    "duration": 6,
    "start_time": "2022-11-13T16:51:57.103Z"
   },
   {
    "duration": 1540,
    "start_time": "2022-11-13T16:52:02.290Z"
   },
   {
    "duration": 11,
    "start_time": "2022-11-13T16:52:13.362Z"
   },
   {
    "duration": 6,
    "start_time": "2022-11-13T16:52:16.362Z"
   },
   {
    "duration": 242,
    "start_time": "2022-11-13T16:52:17.967Z"
   },
   {
    "duration": 175,
    "start_time": "2022-11-13T16:52:23.856Z"
   },
   {
    "duration": 155,
    "start_time": "2022-11-13T16:59:45.896Z"
   },
   {
    "duration": 97,
    "start_time": "2022-11-13T17:04:22.496Z"
   },
   {
    "duration": 146,
    "start_time": "2022-11-13T17:04:39.894Z"
   },
   {
    "duration": 229,
    "start_time": "2022-11-13T17:07:18.508Z"
   },
   {
    "duration": 159,
    "start_time": "2022-11-13T17:18:15.515Z"
   },
   {
    "duration": 172,
    "start_time": "2022-11-13T17:18:51.194Z"
   },
   {
    "duration": 172,
    "start_time": "2022-11-13T17:19:02.648Z"
   },
   {
    "duration": 535,
    "start_time": "2022-11-13T17:30:39.131Z"
   },
   {
    "duration": 189,
    "start_time": "2022-11-13T17:31:10.635Z"
   },
   {
    "duration": 156,
    "start_time": "2022-11-13T17:36:09.709Z"
   },
   {
    "duration": 175,
    "start_time": "2022-11-13T17:51:05.385Z"
   },
   {
    "duration": 176,
    "start_time": "2022-11-13T17:59:45.124Z"
   },
   {
    "duration": 61,
    "start_time": "2022-11-13T18:08:16.849Z"
   },
   {
    "duration": 177,
    "start_time": "2022-11-13T18:08:22.927Z"
   },
   {
    "duration": 3068,
    "start_time": "2022-11-13T19:37:27.848Z"
   },
   {
    "duration": 10,
    "start_time": "2022-11-13T19:37:30.918Z"
   },
   {
    "duration": 175,
    "start_time": "2022-11-13T19:37:30.929Z"
   },
   {
    "duration": 74,
    "start_time": "2022-11-13T19:37:31.106Z"
   },
   {
    "duration": 17,
    "start_time": "2022-11-13T19:37:31.181Z"
   },
   {
    "duration": 21,
    "start_time": "2022-11-13T19:37:31.200Z"
   },
   {
    "duration": 112,
    "start_time": "2022-11-13T19:37:31.223Z"
   },
   {
    "duration": 6,
    "start_time": "2022-11-13T19:37:31.336Z"
   },
   {
    "duration": 114,
    "start_time": "2022-11-13T19:37:31.343Z"
   },
   {
    "duration": 5,
    "start_time": "2022-11-13T19:37:31.467Z"
   },
   {
    "duration": 111,
    "start_time": "2022-11-13T19:37:31.474Z"
   },
   {
    "duration": 6,
    "start_time": "2022-11-13T19:37:31.587Z"
   },
   {
    "duration": 114,
    "start_time": "2022-11-13T19:37:31.594Z"
   },
   {
    "duration": 6,
    "start_time": "2022-11-13T19:37:31.710Z"
   },
   {
    "duration": 106,
    "start_time": "2022-11-13T19:37:31.717Z"
   },
   {
    "duration": 5,
    "start_time": "2022-11-13T19:37:31.825Z"
   },
   {
    "duration": 357,
    "start_time": "2022-11-13T19:37:31.832Z"
   },
   {
    "duration": 7,
    "start_time": "2022-11-13T19:37:32.190Z"
   },
   {
    "duration": 516,
    "start_time": "2022-11-13T19:37:32.199Z"
   },
   {
    "duration": 7,
    "start_time": "2022-11-13T19:37:32.717Z"
   },
   {
    "duration": 270,
    "start_time": "2022-11-13T19:37:32.725Z"
   },
   {
    "duration": 33,
    "start_time": "2022-11-13T19:37:32.997Z"
   },
   {
    "duration": 82,
    "start_time": "2022-11-13T19:37:33.032Z"
   },
   {
    "duration": 7,
    "start_time": "2022-11-13T19:37:33.116Z"
   },
   {
    "duration": 1613,
    "start_time": "2022-11-13T19:37:33.125Z"
   },
   {
    "duration": 232,
    "start_time": "2022-11-13T19:37:34.740Z"
   },
   {
    "duration": 10,
    "start_time": "2022-11-13T19:37:34.974Z"
   },
   {
    "duration": 4,
    "start_time": "2022-11-13T19:37:34.988Z"
   },
   {
    "duration": 239,
    "start_time": "2022-11-13T19:37:34.994Z"
   },
   {
    "duration": 167,
    "start_time": "2022-11-13T19:37:35.235Z"
   },
   {
    "duration": 155,
    "start_time": "2022-11-13T19:37:35.403Z"
   },
   {
    "duration": 179,
    "start_time": "2022-11-13T19:37:35.567Z"
   },
   {
    "duration": 267,
    "start_time": "2022-11-13T19:37:35.748Z"
   },
   {
    "duration": 161,
    "start_time": "2022-11-13T19:37:36.017Z"
   },
   {
    "duration": 206,
    "start_time": "2022-11-13T19:37:36.180Z"
   },
   {
    "duration": 182,
    "start_time": "2022-11-13T19:37:36.388Z"
   },
   {
    "duration": 171,
    "start_time": "2022-11-13T19:37:36.571Z"
   },
   {
    "duration": 66,
    "start_time": "2022-11-13T19:37:36.744Z"
   },
   {
    "duration": 190,
    "start_time": "2022-11-13T19:37:36.812Z"
   },
   {
    "duration": 2224,
    "start_time": "2022-11-13T19:48:35.339Z"
   },
   {
    "duration": 2001,
    "start_time": "2022-11-13T19:48:41.208Z"
   },
   {
    "duration": 4,
    "start_time": "2022-11-13T20:09:03.163Z"
   },
   {
    "duration": 5,
    "start_time": "2022-11-13T20:09:24.106Z"
   },
   {
    "duration": 2110,
    "start_time": "2022-11-13T20:09:39.337Z"
   },
   {
    "duration": 9,
    "start_time": "2022-11-13T20:09:51.475Z"
   },
   {
    "duration": 152,
    "start_time": "2022-11-13T20:09:56.382Z"
   },
   {
    "duration": 4,
    "start_time": "2022-11-13T20:09:59.101Z"
   },
   {
    "duration": 4,
    "start_time": "2022-11-13T20:10:34.670Z"
   },
   {
    "duration": 4,
    "start_time": "2022-11-13T20:10:44.093Z"
   },
   {
    "duration": 4,
    "start_time": "2022-11-13T20:10:55.202Z"
   },
   {
    "duration": 4,
    "start_time": "2022-11-13T20:11:10.838Z"
   },
   {
    "duration": 4,
    "start_time": "2022-11-13T20:11:17.908Z"
   },
   {
    "duration": 4,
    "start_time": "2022-11-13T20:11:25.048Z"
   },
   {
    "duration": 48,
    "start_time": "2022-11-13T20:19:23.021Z"
   },
   {
    "duration": 13,
    "start_time": "2022-11-13T20:19:25.825Z"
   },
   {
    "duration": 84,
    "start_time": "2022-11-13T20:19:55.851Z"
   },
   {
    "duration": 17,
    "start_time": "2022-11-13T20:20:33.014Z"
   },
   {
    "duration": 14,
    "start_time": "2022-11-13T20:21:00.289Z"
   },
   {
    "duration": 2152,
    "start_time": "2022-11-13T20:21:31.228Z"
   },
   {
    "duration": 140,
    "start_time": "2022-11-13T20:21:39.549Z"
   },
   {
    "duration": 14,
    "start_time": "2022-11-13T20:21:51.865Z"
   },
   {
    "duration": 11,
    "start_time": "2022-11-13T20:21:56.538Z"
   },
   {
    "duration": 8,
    "start_time": "2022-11-13T20:27:15.957Z"
   },
   {
    "duration": 8,
    "start_time": "2022-11-13T20:27:17.048Z"
   },
   {
    "duration": 7,
    "start_time": "2022-11-13T20:27:17.558Z"
   },
   {
    "duration": 8,
    "start_time": "2022-11-13T20:27:17.933Z"
   },
   {
    "duration": 7,
    "start_time": "2022-11-13T20:27:18.203Z"
   },
   {
    "duration": 14,
    "start_time": "2022-11-13T20:27:28.867Z"
   },
   {
    "duration": 7,
    "start_time": "2022-11-13T20:27:30.329Z"
   },
   {
    "duration": 8,
    "start_time": "2022-11-13T20:27:31.126Z"
   },
   {
    "duration": 8,
    "start_time": "2022-11-13T20:27:53.211Z"
   },
   {
    "duration": 9,
    "start_time": "2022-11-13T20:28:17.444Z"
   },
   {
    "duration": 8,
    "start_time": "2022-11-13T20:28:22.130Z"
   },
   {
    "duration": 8,
    "start_time": "2022-11-13T20:28:42.353Z"
   },
   {
    "duration": 1959,
    "start_time": "2022-11-13T20:29:07.309Z"
   },
   {
    "duration": 138,
    "start_time": "2022-11-13T20:29:13.289Z"
   },
   {
    "duration": 11,
    "start_time": "2022-11-13T20:29:20.835Z"
   },
   {
    "duration": 18,
    "start_time": "2022-11-13T20:41:10.113Z"
   },
   {
    "duration": 20,
    "start_time": "2022-11-13T20:41:10.714Z"
   },
   {
    "duration": 4,
    "start_time": "2022-11-13T20:42:01.811Z"
   },
   {
    "duration": 3,
    "start_time": "2022-11-13T20:42:05.078Z"
   },
   {
    "duration": 3,
    "start_time": "2022-11-13T20:42:07.741Z"
   },
   {
    "duration": 5,
    "start_time": "2022-11-13T20:42:10.508Z"
   },
   {
    "duration": 4,
    "start_time": "2022-11-13T20:42:14.401Z"
   },
   {
    "duration": 4,
    "start_time": "2022-11-13T20:42:19.661Z"
   },
   {
    "duration": 4,
    "start_time": "2022-11-13T20:42:28.433Z"
   },
   {
    "duration": 8,
    "start_time": "2022-11-13T20:43:07.005Z"
   },
   {
    "duration": 2684,
    "start_time": "2022-11-13T20:46:59.473Z"
   },
   {
    "duration": 9,
    "start_time": "2022-11-13T20:47:02.159Z"
   },
   {
    "duration": 166,
    "start_time": "2022-11-13T20:47:02.169Z"
   },
   {
    "duration": 85,
    "start_time": "2022-11-13T20:47:02.337Z"
   },
   {
    "duration": 18,
    "start_time": "2022-11-13T20:47:02.423Z"
   },
   {
    "duration": 29,
    "start_time": "2022-11-13T20:47:02.443Z"
   },
   {
    "duration": 116,
    "start_time": "2022-11-13T20:47:02.474Z"
   },
   {
    "duration": 6,
    "start_time": "2022-11-13T20:47:02.592Z"
   },
   {
    "duration": 112,
    "start_time": "2022-11-13T20:47:02.600Z"
   },
   {
    "duration": 5,
    "start_time": "2022-11-13T20:47:02.715Z"
   },
   {
    "duration": 104,
    "start_time": "2022-11-13T20:47:02.722Z"
   },
   {
    "duration": 6,
    "start_time": "2022-11-13T20:47:02.827Z"
   },
   {
    "duration": 111,
    "start_time": "2022-11-13T20:47:02.834Z"
   },
   {
    "duration": 5,
    "start_time": "2022-11-13T20:47:02.946Z"
   },
   {
    "duration": 94,
    "start_time": "2022-11-13T20:47:02.953Z"
   },
   {
    "duration": 19,
    "start_time": "2022-11-13T20:47:03.049Z"
   },
   {
    "duration": 330,
    "start_time": "2022-11-13T20:47:03.070Z"
   },
   {
    "duration": 6,
    "start_time": "2022-11-13T20:47:03.402Z"
   },
   {
    "duration": 533,
    "start_time": "2022-11-13T20:47:03.410Z"
   },
   {
    "duration": 7,
    "start_time": "2022-11-13T20:47:03.945Z"
   },
   {
    "duration": 271,
    "start_time": "2022-11-13T20:47:03.954Z"
   },
   {
    "duration": 42,
    "start_time": "2022-11-13T20:47:04.227Z"
   },
   {
    "duration": 57,
    "start_time": "2022-11-13T20:47:04.271Z"
   },
   {
    "duration": 6,
    "start_time": "2022-11-13T20:47:04.330Z"
   },
   {
    "duration": 1571,
    "start_time": "2022-11-13T20:47:04.338Z"
   },
   {
    "duration": 244,
    "start_time": "2022-11-13T20:47:05.911Z"
   },
   {
    "duration": 19,
    "start_time": "2022-11-13T20:47:06.156Z"
   },
   {
    "duration": 4,
    "start_time": "2022-11-13T20:47:06.178Z"
   },
   {
    "duration": 224,
    "start_time": "2022-11-13T20:47:06.184Z"
   },
   {
    "duration": 165,
    "start_time": "2022-11-13T20:47:06.409Z"
   },
   {
    "duration": 161,
    "start_time": "2022-11-13T20:47:06.576Z"
   },
   {
    "duration": 175,
    "start_time": "2022-11-13T20:47:06.739Z"
   },
   {
    "duration": 153,
    "start_time": "2022-11-13T20:47:06.916Z"
   },
   {
    "duration": 162,
    "start_time": "2022-11-13T20:47:07.071Z"
   },
   {
    "duration": 158,
    "start_time": "2022-11-13T20:47:07.235Z"
   },
   {
    "duration": 282,
    "start_time": "2022-11-13T20:47:07.395Z"
   },
   {
    "duration": 160,
    "start_time": "2022-11-13T20:47:07.678Z"
   },
   {
    "duration": 64,
    "start_time": "2022-11-13T20:47:07.840Z"
   },
   {
    "duration": 171,
    "start_time": "2022-11-13T20:47:07.906Z"
   },
   {
    "duration": 65,
    "start_time": "2022-11-13T21:13:58.937Z"
   },
   {
    "duration": 54,
    "start_time": "2022-11-13T21:14:31.161Z"
   },
   {
    "duration": 46,
    "start_time": "2022-11-13T21:14:42.601Z"
   },
   {
    "duration": 46,
    "start_time": "2022-11-13T21:14:50.723Z"
   },
   {
    "duration": 45,
    "start_time": "2022-11-13T21:15:08.637Z"
   },
   {
    "duration": 42,
    "start_time": "2022-11-13T21:15:33.184Z"
   },
   {
    "duration": 44,
    "start_time": "2022-11-13T21:19:52.425Z"
   },
   {
    "duration": 45,
    "start_time": "2022-11-13T21:20:26.258Z"
   },
   {
    "duration": 6,
    "start_time": "2022-11-13T21:34:34.416Z"
   },
   {
    "duration": 4,
    "start_time": "2022-11-13T21:55:18.033Z"
   },
   {
    "duration": 37,
    "start_time": "2022-11-13T21:55:45.402Z"
   },
   {
    "duration": 44,
    "start_time": "2022-11-13T21:56:51.972Z"
   },
   {
    "duration": 18,
    "start_time": "2022-11-13T21:57:20.430Z"
   },
   {
    "duration": 19,
    "start_time": "2022-11-13T21:58:04.313Z"
   },
   {
    "duration": 24,
    "start_time": "2022-11-13T21:58:21.818Z"
   },
   {
    "duration": 3,
    "start_time": "2022-11-13T22:00:17.926Z"
   },
   {
    "duration": 3,
    "start_time": "2022-11-13T22:00:21.633Z"
   },
   {
    "duration": 21,
    "start_time": "2022-11-13T22:01:06.463Z"
   },
   {
    "duration": 22,
    "start_time": "2022-11-13T22:01:48.504Z"
   },
   {
    "duration": 23,
    "start_time": "2022-11-13T22:01:55.596Z"
   },
   {
    "duration": 22,
    "start_time": "2022-11-13T22:02:31.359Z"
   },
   {
    "duration": 22,
    "start_time": "2022-11-13T22:03:56.630Z"
   },
   {
    "duration": 47,
    "start_time": "2022-11-13T22:13:56.805Z"
   },
   {
    "duration": 55,
    "start_time": "2022-11-13T22:14:03.142Z"
   },
   {
    "duration": 53,
    "start_time": "2022-11-13T22:14:07.797Z"
   },
   {
    "duration": 4,
    "start_time": "2022-11-13T22:19:04.332Z"
   },
   {
    "duration": 4,
    "start_time": "2022-11-13T22:19:20.144Z"
   },
   {
    "duration": 4,
    "start_time": "2022-11-13T22:19:34.077Z"
   },
   {
    "duration": 3044,
    "start_time": "2022-11-18T11:20:45.422Z"
   },
   {
    "duration": 11,
    "start_time": "2022-11-18T11:20:54.641Z"
   },
   {
    "duration": 165,
    "start_time": "2022-11-18T11:20:59.422Z"
   },
   {
    "duration": 8,
    "start_time": "2022-11-18T11:24:19.104Z"
   },
   {
    "duration": 6,
    "start_time": "2022-11-18T11:24:26.677Z"
   },
   {
    "duration": 6,
    "start_time": "2022-11-18T11:24:36.143Z"
   },
   {
    "duration": 5,
    "start_time": "2022-11-18T11:24:41.514Z"
   },
   {
    "duration": 6,
    "start_time": "2022-11-18T11:25:00.453Z"
   },
   {
    "duration": 72,
    "start_time": "2022-11-18T11:27:13.248Z"
   },
   {
    "duration": 20,
    "start_time": "2022-11-18T11:27:22.738Z"
   },
   {
    "duration": 19,
    "start_time": "2022-11-18T11:27:25.631Z"
   },
   {
    "duration": 105,
    "start_time": "2022-11-18T11:27:31.738Z"
   },
   {
    "duration": 83,
    "start_time": "2022-11-18T11:31:48.391Z"
   },
   {
    "duration": 91,
    "start_time": "2022-11-18T11:32:13.771Z"
   },
   {
    "duration": 5,
    "start_time": "2022-11-18T11:32:22.293Z"
   },
   {
    "duration": 5,
    "start_time": "2022-11-18T11:32:33.275Z"
   },
   {
    "duration": 88,
    "start_time": "2022-11-18T11:32:49.275Z"
   },
   {
    "duration": 6,
    "start_time": "2022-11-18T11:42:14.248Z"
   },
   {
    "duration": 101,
    "start_time": "2022-11-18T11:42:16.887Z"
   },
   {
    "duration": 6,
    "start_time": "2022-11-18T11:47:21.736Z"
   },
   {
    "duration": 179,
    "start_time": "2022-11-18T11:47:31.758Z"
   },
   {
    "duration": 6,
    "start_time": "2022-11-18T11:47:36.615Z"
   },
   {
    "duration": 94,
    "start_time": "2022-11-18T11:47:40.619Z"
   },
   {
    "duration": 6,
    "start_time": "2022-11-18T11:47:43.530Z"
   },
   {
    "duration": 97,
    "start_time": "2022-11-18T11:47:45.089Z"
   },
   {
    "duration": 6,
    "start_time": "2022-11-18T11:47:47.486Z"
   },
   {
    "duration": 238,
    "start_time": "2022-11-18T11:47:49.479Z"
   },
   {
    "duration": 5,
    "start_time": "2022-11-18T11:47:52.512Z"
   },
   {
    "duration": 500,
    "start_time": "2022-11-18T11:47:54.776Z"
   },
   {
    "duration": 121,
    "start_time": "2022-11-18T11:48:20.629Z"
   },
   {
    "duration": 9,
    "start_time": "2022-11-18T11:55:17.775Z"
   },
   {
    "duration": 9,
    "start_time": "2022-11-18T11:57:42.547Z"
   },
   {
    "duration": 125,
    "start_time": "2022-11-18T11:58:28.760Z"
   },
   {
    "duration": 9,
    "start_time": "2022-11-18T12:01:11.804Z"
   },
   {
    "duration": 212,
    "start_time": "2022-11-18T12:02:01.390Z"
   },
   {
    "duration": 7,
    "start_time": "2022-11-18T12:06:30.575Z"
   },
   {
    "duration": 107,
    "start_time": "2022-11-18T12:07:31.431Z"
   },
   {
    "duration": 256,
    "start_time": "2022-11-18T12:08:32.845Z"
   },
   {
    "duration": 8,
    "start_time": "2022-11-18T12:12:48.879Z"
   },
   {
    "duration": 106,
    "start_time": "2022-11-18T12:12:56.482Z"
   },
   {
    "duration": 9,
    "start_time": "2022-11-18T12:13:40.121Z"
   },
   {
    "duration": 6,
    "start_time": "2022-11-18T12:13:41.888Z"
   },
   {
    "duration": 106,
    "start_time": "2022-11-18T12:13:43.215Z"
   },
   {
    "duration": 6,
    "start_time": "2022-11-18T12:17:36.072Z"
   },
   {
    "duration": 236,
    "start_time": "2022-11-18T12:17:41.079Z"
   },
   {
    "duration": 34,
    "start_time": "2022-11-18T12:17:42.549Z"
   },
   {
    "duration": 58,
    "start_time": "2022-11-18T12:17:51.226Z"
   },
   {
    "duration": 7,
    "start_time": "2022-11-18T12:17:53.528Z"
   },
   {
    "duration": 1700,
    "start_time": "2022-11-18T12:18:00.921Z"
   },
   {
    "duration": 216,
    "start_time": "2022-11-18T12:18:06.534Z"
   },
   {
    "duration": 12,
    "start_time": "2022-11-18T12:18:15.626Z"
   },
   {
    "duration": 6,
    "start_time": "2022-11-18T12:18:18.884Z"
   },
   {
    "duration": 210,
    "start_time": "2022-11-18T12:18:21.209Z"
   },
   {
    "duration": 198,
    "start_time": "2022-11-18T12:18:27.564Z"
   },
   {
    "duration": 155,
    "start_time": "2022-11-18T12:18:30.898Z"
   },
   {
    "duration": 172,
    "start_time": "2022-11-18T12:18:33.243Z"
   },
   {
    "duration": 141,
    "start_time": "2022-11-18T12:18:36.011Z"
   },
   {
    "duration": 156,
    "start_time": "2022-11-18T12:18:39.926Z"
   },
   {
    "duration": 150,
    "start_time": "2022-11-18T12:18:43.925Z"
   },
   {
    "duration": 292,
    "start_time": "2022-11-18T12:18:50.801Z"
   },
   {
    "duration": 166,
    "start_time": "2022-11-18T12:19:05.368Z"
   },
   {
    "duration": 60,
    "start_time": "2022-11-18T12:19:10.706Z"
   },
   {
    "duration": 173,
    "start_time": "2022-11-18T12:19:17.328Z"
   },
   {
    "duration": 3036,
    "start_time": "2022-11-18T20:53:04.770Z"
   },
   {
    "duration": 10,
    "start_time": "2022-11-18T20:53:07.808Z"
   },
   {
    "duration": 171,
    "start_time": "2022-11-18T20:53:07.820Z"
   },
   {
    "duration": 7,
    "start_time": "2022-11-18T20:53:07.993Z"
   },
   {
    "duration": 11,
    "start_time": "2022-11-18T20:53:08.002Z"
   },
   {
    "duration": 13,
    "start_time": "2022-11-18T20:53:08.015Z"
   },
   {
    "duration": 11,
    "start_time": "2022-11-18T20:53:08.030Z"
   },
   {
    "duration": 96,
    "start_time": "2022-11-18T20:53:08.043Z"
   },
   {
    "duration": 20,
    "start_time": "2022-11-18T20:53:08.141Z"
   },
   {
    "duration": 21,
    "start_time": "2022-11-18T20:53:08.178Z"
   },
   {
    "duration": 114,
    "start_time": "2022-11-18T20:53:08.201Z"
   },
   {
    "duration": 6,
    "start_time": "2022-11-18T20:53:08.317Z"
   },
   {
    "duration": 119,
    "start_time": "2022-11-18T20:53:08.324Z"
   },
   {
    "duration": 7,
    "start_time": "2022-11-18T20:53:08.445Z"
   },
   {
    "duration": 129,
    "start_time": "2022-11-18T20:53:08.453Z"
   },
   {
    "duration": 6,
    "start_time": "2022-11-18T20:53:08.584Z"
   },
   {
    "duration": 117,
    "start_time": "2022-11-18T20:53:08.591Z"
   },
   {
    "duration": 5,
    "start_time": "2022-11-18T20:53:08.710Z"
   },
   {
    "duration": 115,
    "start_time": "2022-11-18T20:53:08.717Z"
   },
   {
    "duration": 7,
    "start_time": "2022-11-18T20:53:08.834Z"
   },
   {
    "duration": 346,
    "start_time": "2022-11-18T20:53:08.843Z"
   },
   {
    "duration": 6,
    "start_time": "2022-11-18T20:53:09.190Z"
   },
   {
    "duration": 117,
    "start_time": "2022-11-18T20:53:09.197Z"
   },
   {
    "duration": 6,
    "start_time": "2022-11-18T20:53:09.316Z"
   },
   {
    "duration": 11,
    "start_time": "2022-11-18T20:53:09.323Z"
   },
   {
    "duration": 5,
    "start_time": "2022-11-18T20:53:09.336Z"
   },
   {
    "duration": 137,
    "start_time": "2022-11-18T20:53:09.342Z"
   },
   {
    "duration": 5,
    "start_time": "2022-11-18T20:53:09.483Z"
   },
   {
    "duration": 242,
    "start_time": "2022-11-18T20:53:09.490Z"
   },
   {
    "duration": 35,
    "start_time": "2022-11-18T20:53:09.734Z"
   },
   {
    "duration": 55,
    "start_time": "2022-11-18T20:53:09.778Z"
   },
   {
    "duration": 7,
    "start_time": "2022-11-18T20:53:09.835Z"
   },
   {
    "duration": 1570,
    "start_time": "2022-11-18T20:53:09.843Z"
   },
   {
    "duration": 220,
    "start_time": "2022-11-18T20:53:11.415Z"
   },
   {
    "duration": 11,
    "start_time": "2022-11-18T20:53:11.638Z"
   },
   {
    "duration": 4,
    "start_time": "2022-11-18T20:53:11.651Z"
   },
   {
    "duration": 236,
    "start_time": "2022-11-18T20:53:11.657Z"
   },
   {
    "duration": 176,
    "start_time": "2022-11-18T20:53:11.894Z"
   },
   {
    "duration": 169,
    "start_time": "2022-11-18T20:53:12.071Z"
   },
   {
    "duration": 181,
    "start_time": "2022-11-18T20:53:12.242Z"
   },
   {
    "duration": 155,
    "start_time": "2022-11-18T20:53:12.424Z"
   },
   {
    "duration": 196,
    "start_time": "2022-11-18T20:53:12.581Z"
   },
   {
    "duration": 182,
    "start_time": "2022-11-18T20:53:12.779Z"
   },
   {
    "duration": 166,
    "start_time": "2022-11-18T20:53:12.963Z"
   },
   {
    "duration": 167,
    "start_time": "2022-11-18T20:53:13.131Z"
   },
   {
    "duration": 57,
    "start_time": "2022-11-18T20:53:13.300Z"
   },
   {
    "duration": 40,
    "start_time": "2022-11-18T20:53:13.358Z"
   },
   {
    "duration": 283,
    "start_time": "2022-11-18T20:53:13.400Z"
   },
   {
    "duration": 42,
    "start_time": "2022-11-18T20:53:44.792Z"
   },
   {
    "duration": 4,
    "start_time": "2022-11-18T20:53:48.248Z"
   },
   {
    "duration": 4,
    "start_time": "2022-11-18T20:54:35.210Z"
   },
   {
    "duration": 4,
    "start_time": "2022-11-18T20:54:40.318Z"
   },
   {
    "duration": 4,
    "start_time": "2022-11-18T20:54:51.241Z"
   },
   {
    "duration": 5,
    "start_time": "2022-11-18T20:56:02.904Z"
   },
   {
    "duration": 3076,
    "start_time": "2022-11-18T20:57:47.598Z"
   },
   {
    "duration": 14,
    "start_time": "2022-11-18T20:57:50.675Z"
   },
   {
    "duration": 163,
    "start_time": "2022-11-18T20:57:50.691Z"
   },
   {
    "duration": 24,
    "start_time": "2022-11-18T20:57:50.856Z"
   },
   {
    "duration": 5,
    "start_time": "2022-11-18T20:57:50.882Z"
   },
   {
    "duration": 5,
    "start_time": "2022-11-18T20:57:50.889Z"
   },
   {
    "duration": 9,
    "start_time": "2022-11-18T20:57:50.895Z"
   },
   {
    "duration": 96,
    "start_time": "2022-11-18T20:57:50.906Z"
   },
   {
    "duration": 20,
    "start_time": "2022-11-18T20:57:51.003Z"
   },
   {
    "duration": 29,
    "start_time": "2022-11-18T20:57:51.026Z"
   },
   {
    "duration": 125,
    "start_time": "2022-11-18T20:57:51.057Z"
   },
   {
    "duration": 7,
    "start_time": "2022-11-18T20:57:51.183Z"
   },
   {
    "duration": 127,
    "start_time": "2022-11-18T20:57:51.191Z"
   },
   {
    "duration": 6,
    "start_time": "2022-11-18T20:57:51.320Z"
   },
   {
    "duration": 128,
    "start_time": "2022-11-18T20:57:51.328Z"
   },
   {
    "duration": 21,
    "start_time": "2022-11-18T20:57:51.457Z"
   },
   {
    "duration": 119,
    "start_time": "2022-11-18T20:57:51.480Z"
   },
   {
    "duration": 6,
    "start_time": "2022-11-18T20:57:51.601Z"
   },
   {
    "duration": 112,
    "start_time": "2022-11-18T20:57:51.609Z"
   },
   {
    "duration": 6,
    "start_time": "2022-11-18T20:57:51.723Z"
   },
   {
    "duration": 348,
    "start_time": "2022-11-18T20:57:51.730Z"
   },
   {
    "duration": 7,
    "start_time": "2022-11-18T20:57:52.079Z"
   },
   {
    "duration": 127,
    "start_time": "2022-11-18T20:57:52.087Z"
   },
   {
    "duration": 7,
    "start_time": "2022-11-18T20:57:52.215Z"
   },
   {
    "duration": 10,
    "start_time": "2022-11-18T20:57:52.223Z"
   },
   {
    "duration": 5,
    "start_time": "2022-11-18T20:57:52.235Z"
   },
   {
    "duration": 126,
    "start_time": "2022-11-18T20:57:52.242Z"
   },
   {
    "duration": 10,
    "start_time": "2022-11-18T20:57:52.371Z"
   },
   {
    "duration": 7,
    "start_time": "2022-11-18T20:57:52.383Z"
   },
   {
    "duration": 6,
    "start_time": "2022-11-18T20:57:52.392Z"
   },
   {
    "duration": 270,
    "start_time": "2022-11-18T20:57:52.400Z"
   },
   {
    "duration": 36,
    "start_time": "2022-11-18T20:57:52.672Z"
   },
   {
    "duration": 69,
    "start_time": "2022-11-18T20:57:52.710Z"
   },
   {
    "duration": 8,
    "start_time": "2022-11-18T20:57:52.781Z"
   },
   {
    "duration": 1683,
    "start_time": "2022-11-18T20:57:52.791Z"
   },
   {
    "duration": 227,
    "start_time": "2022-11-18T20:57:54.477Z"
   },
   {
    "duration": 12,
    "start_time": "2022-11-18T20:57:54.706Z"
   },
   {
    "duration": 5,
    "start_time": "2022-11-18T20:57:54.719Z"
   },
   {
    "duration": 246,
    "start_time": "2022-11-18T20:57:54.726Z"
   },
   {
    "duration": 196,
    "start_time": "2022-11-18T20:57:54.979Z"
   },
   {
    "duration": 175,
    "start_time": "2022-11-18T20:57:55.176Z"
   },
   {
    "duration": 197,
    "start_time": "2022-11-18T20:57:55.353Z"
   },
   {
    "duration": 167,
    "start_time": "2022-11-18T20:57:55.552Z"
   },
   {
    "duration": 184,
    "start_time": "2022-11-18T20:57:55.722Z"
   },
   {
    "duration": 165,
    "start_time": "2022-11-18T20:57:55.908Z"
   },
   {
    "duration": 167,
    "start_time": "2022-11-18T20:57:56.078Z"
   },
   {
    "duration": 171,
    "start_time": "2022-11-18T20:57:56.247Z"
   },
   {
    "duration": 67,
    "start_time": "2022-11-18T20:57:56.420Z"
   },
   {
    "duration": 23,
    "start_time": "2022-11-18T20:57:56.489Z"
   },
   {
    "duration": 176,
    "start_time": "2022-11-18T20:57:56.514Z"
   },
   {
    "duration": 2959,
    "start_time": "2022-11-18T20:58:38.591Z"
   },
   {
    "duration": 12,
    "start_time": "2022-11-18T20:58:41.553Z"
   },
   {
    "duration": 170,
    "start_time": "2022-11-18T20:58:41.567Z"
   },
   {
    "duration": 6,
    "start_time": "2022-11-18T20:58:41.739Z"
   },
   {
    "duration": 6,
    "start_time": "2022-11-18T20:58:41.747Z"
   },
   {
    "duration": 25,
    "start_time": "2022-11-18T20:58:41.754Z"
   },
   {
    "duration": 6,
    "start_time": "2022-11-18T20:58:41.781Z"
   },
   {
    "duration": 97,
    "start_time": "2022-11-18T20:58:41.789Z"
   },
   {
    "duration": 18,
    "start_time": "2022-11-18T20:58:41.888Z"
   },
   {
    "duration": 20,
    "start_time": "2022-11-18T20:58:41.909Z"
   },
   {
    "duration": 118,
    "start_time": "2022-11-18T20:58:41.930Z"
   },
   {
    "duration": 6,
    "start_time": "2022-11-18T20:58:42.050Z"
   },
   {
    "duration": 129,
    "start_time": "2022-11-18T20:58:42.058Z"
   },
   {
    "duration": 5,
    "start_time": "2022-11-18T20:58:42.189Z"
   },
   {
    "duration": 125,
    "start_time": "2022-11-18T20:58:42.196Z"
   },
   {
    "duration": 5,
    "start_time": "2022-11-18T20:58:42.323Z"
   },
   {
    "duration": 112,
    "start_time": "2022-11-18T20:58:42.330Z"
   },
   {
    "duration": 7,
    "start_time": "2022-11-18T20:58:42.444Z"
   },
   {
    "duration": 126,
    "start_time": "2022-11-18T20:58:42.453Z"
   },
   {
    "duration": 7,
    "start_time": "2022-11-18T20:58:42.581Z"
   },
   {
    "duration": 381,
    "start_time": "2022-11-18T20:58:42.590Z"
   },
   {
    "duration": 8,
    "start_time": "2022-11-18T20:58:42.973Z"
   },
   {
    "duration": 126,
    "start_time": "2022-11-18T20:58:42.983Z"
   },
   {
    "duration": 5,
    "start_time": "2022-11-18T20:58:43.111Z"
   },
   {
    "duration": 9,
    "start_time": "2022-11-18T20:58:43.118Z"
   },
   {
    "duration": 4,
    "start_time": "2022-11-18T20:58:43.129Z"
   },
   {
    "duration": 7,
    "start_time": "2022-11-18T20:58:43.135Z"
   },
   {
    "duration": 141,
    "start_time": "2022-11-18T20:58:43.145Z"
   },
   {
    "duration": 5,
    "start_time": "2022-11-18T20:58:43.288Z"
   },
   {
    "duration": 10,
    "start_time": "2022-11-18T20:58:43.294Z"
   },
   {
    "duration": 4,
    "start_time": "2022-11-18T20:58:43.306Z"
   },
   {
    "duration": 256,
    "start_time": "2022-11-18T20:58:43.312Z"
   },
   {
    "duration": 39,
    "start_time": "2022-11-18T20:58:43.570Z"
   },
   {
    "duration": 89,
    "start_time": "2022-11-18T20:58:43.610Z"
   },
   {
    "duration": 8,
    "start_time": "2022-11-18T20:58:43.701Z"
   },
   {
    "duration": 1759,
    "start_time": "2022-11-18T20:58:43.710Z"
   },
   {
    "duration": 229,
    "start_time": "2022-11-18T20:58:45.470Z"
   },
   {
    "duration": 11,
    "start_time": "2022-11-18T20:58:45.701Z"
   },
   {
    "duration": 5,
    "start_time": "2022-11-18T20:58:45.713Z"
   },
   {
    "duration": 251,
    "start_time": "2022-11-18T20:58:45.720Z"
   },
   {
    "duration": 199,
    "start_time": "2022-11-18T20:58:45.973Z"
   },
   {
    "duration": 178,
    "start_time": "2022-11-18T20:58:46.173Z"
   },
   {
    "duration": 199,
    "start_time": "2022-11-18T20:58:46.353Z"
   },
   {
    "duration": 162,
    "start_time": "2022-11-18T20:58:46.554Z"
   },
   {
    "duration": 189,
    "start_time": "2022-11-18T20:58:46.719Z"
   },
   {
    "duration": 198,
    "start_time": "2022-11-18T20:58:46.910Z"
   },
   {
    "duration": 191,
    "start_time": "2022-11-18T20:58:47.110Z"
   },
   {
    "duration": 176,
    "start_time": "2022-11-18T20:58:47.302Z"
   },
   {
    "duration": 66,
    "start_time": "2022-11-18T20:58:47.481Z"
   },
   {
    "duration": 48,
    "start_time": "2022-11-18T20:58:47.549Z"
   },
   {
    "duration": 169,
    "start_time": "2022-11-18T20:58:47.599Z"
   },
   {
    "duration": 3139,
    "start_time": "2022-11-18T20:59:32.759Z"
   },
   {
    "duration": 14,
    "start_time": "2022-11-18T20:59:35.901Z"
   },
   {
    "duration": 191,
    "start_time": "2022-11-18T20:59:35.917Z"
   },
   {
    "duration": 6,
    "start_time": "2022-11-18T20:59:36.111Z"
   },
   {
    "duration": 20,
    "start_time": "2022-11-18T20:59:36.119Z"
   },
   {
    "duration": 28,
    "start_time": "2022-11-18T20:59:36.141Z"
   },
   {
    "duration": 30,
    "start_time": "2022-11-18T20:59:36.171Z"
   },
   {
    "duration": 79,
    "start_time": "2022-11-18T20:59:36.202Z"
   },
   {
    "duration": 32,
    "start_time": "2022-11-18T20:59:36.286Z"
   },
   {
    "duration": 34,
    "start_time": "2022-11-18T20:59:36.322Z"
   },
   {
    "duration": 133,
    "start_time": "2022-11-18T20:59:36.358Z"
   },
   {
    "duration": 6,
    "start_time": "2022-11-18T20:59:36.494Z"
   },
   {
    "duration": 128,
    "start_time": "2022-11-18T20:59:36.502Z"
   },
   {
    "duration": 6,
    "start_time": "2022-11-18T20:59:36.632Z"
   },
   {
    "duration": 126,
    "start_time": "2022-11-18T20:59:36.640Z"
   },
   {
    "duration": 17,
    "start_time": "2022-11-18T20:59:36.768Z"
   },
   {
    "duration": 124,
    "start_time": "2022-11-18T20:59:36.793Z"
   },
   {
    "duration": 7,
    "start_time": "2022-11-18T20:59:36.919Z"
   },
   {
    "duration": 119,
    "start_time": "2022-11-18T20:59:36.927Z"
   },
   {
    "duration": 8,
    "start_time": "2022-11-18T20:59:37.048Z"
   },
   {
    "duration": 390,
    "start_time": "2022-11-18T20:59:37.058Z"
   },
   {
    "duration": 4,
    "start_time": "2022-11-18T20:59:37.451Z"
   },
   {
    "duration": 20,
    "start_time": "2022-11-18T20:59:37.457Z"
   },
   {
    "duration": 128,
    "start_time": "2022-11-18T20:59:37.479Z"
   },
   {
    "duration": 4,
    "start_time": "2022-11-18T20:59:37.609Z"
   },
   {
    "duration": 16,
    "start_time": "2022-11-18T20:59:37.615Z"
   },
   {
    "duration": 27,
    "start_time": "2022-11-18T20:59:37.633Z"
   },
   {
    "duration": 6,
    "start_time": "2022-11-18T20:59:37.663Z"
   },
   {
    "duration": 30,
    "start_time": "2022-11-18T20:59:37.671Z"
   },
   {
    "duration": 120,
    "start_time": "2022-11-18T20:59:37.703Z"
   },
   {
    "duration": 3,
    "start_time": "2022-11-18T20:59:37.825Z"
   },
   {
    "duration": 19,
    "start_time": "2022-11-18T20:59:37.830Z"
   },
   {
    "duration": 15,
    "start_time": "2022-11-18T20:59:37.851Z"
   },
   {
    "duration": 281,
    "start_time": "2022-11-18T20:59:37.868Z"
   },
   {
    "duration": 45,
    "start_time": "2022-11-18T20:59:38.151Z"
   },
   {
    "duration": 93,
    "start_time": "2022-11-18T20:59:38.198Z"
   },
   {
    "duration": 7,
    "start_time": "2022-11-18T20:59:38.293Z"
   },
   {
    "duration": 1699,
    "start_time": "2022-11-18T20:59:38.302Z"
   },
   {
    "duration": 230,
    "start_time": "2022-11-18T20:59:40.002Z"
   },
   {
    "duration": 12,
    "start_time": "2022-11-18T20:59:40.234Z"
   },
   {
    "duration": 5,
    "start_time": "2022-11-18T20:59:40.247Z"
   },
   {
    "duration": 255,
    "start_time": "2022-11-18T20:59:40.253Z"
   },
   {
    "duration": 186,
    "start_time": "2022-11-18T20:59:40.510Z"
   },
   {
    "duration": 189,
    "start_time": "2022-11-18T20:59:40.697Z"
   },
   {
    "duration": 208,
    "start_time": "2022-11-18T20:59:40.888Z"
   },
   {
    "duration": 166,
    "start_time": "2022-11-18T20:59:41.098Z"
   },
   {
    "duration": 182,
    "start_time": "2022-11-18T20:59:41.266Z"
   },
   {
    "duration": 181,
    "start_time": "2022-11-18T20:59:41.450Z"
   },
   {
    "duration": 176,
    "start_time": "2022-11-18T20:59:41.633Z"
   },
   {
    "duration": 183,
    "start_time": "2022-11-18T20:59:41.811Z"
   },
   {
    "duration": 59,
    "start_time": "2022-11-18T20:59:41.996Z"
   },
   {
    "duration": 39,
    "start_time": "2022-11-18T20:59:42.057Z"
   },
   {
    "duration": 174,
    "start_time": "2022-11-18T20:59:42.098Z"
   },
   {
    "duration": 75,
    "start_time": "2022-11-19T17:30:24.596Z"
   },
   {
    "duration": 3055,
    "start_time": "2022-11-19T17:32:12.821Z"
   },
   {
    "duration": 11,
    "start_time": "2022-11-19T17:32:21.213Z"
   },
   {
    "duration": 165,
    "start_time": "2022-11-19T17:32:26.410Z"
   },
   {
    "duration": 5,
    "start_time": "2022-11-19T17:32:30.066Z"
   },
   {
    "duration": 5,
    "start_time": "2022-11-19T17:32:30.857Z"
   },
   {
    "duration": 5,
    "start_time": "2022-11-19T17:32:31.258Z"
   },
   {
    "duration": 6,
    "start_time": "2022-11-19T17:32:31.774Z"
   },
   {
    "duration": 71,
    "start_time": "2022-11-19T17:32:34.347Z"
   },
   {
    "duration": 18,
    "start_time": "2022-11-19T17:32:40.545Z"
   },
   {
    "duration": 19,
    "start_time": "2022-11-19T17:32:43.183Z"
   },
   {
    "duration": 92,
    "start_time": "2022-11-19T17:32:46.044Z"
   },
   {
    "duration": 4,
    "start_time": "2022-11-19T17:34:08.213Z"
   },
   {
    "duration": 95,
    "start_time": "2022-11-19T17:34:18.031Z"
   },
   {
    "duration": 4,
    "start_time": "2022-11-19T17:34:20.204Z"
   },
   {
    "duration": 5,
    "start_time": "2022-11-19T17:34:54.711Z"
   },
   {
    "duration": 6,
    "start_time": "2022-11-19T17:35:01.366Z"
   },
   {
    "duration": 104,
    "start_time": "2022-11-19T17:35:02.753Z"
   },
   {
    "duration": 4,
    "start_time": "2022-11-19T17:35:08.529Z"
   },
   {
    "duration": 7,
    "start_time": "2022-11-19T17:35:33.274Z"
   },
   {
    "duration": 101,
    "start_time": "2022-11-19T17:35:34.604Z"
   },
   {
    "duration": 5,
    "start_time": "2022-11-19T17:35:41.716Z"
   },
   {
    "duration": 4,
    "start_time": "2022-11-19T17:35:46.524Z"
   },
   {
    "duration": 101,
    "start_time": "2022-11-19T17:35:49.204Z"
   },
   {
    "duration": 6,
    "start_time": "2022-11-19T17:35:53.125Z"
   },
   {
    "duration": 5,
    "start_time": "2022-11-19T17:35:58.868Z"
   },
   {
    "duration": 180,
    "start_time": "2022-11-19T17:36:01.408Z"
   },
   {
    "duration": 7,
    "start_time": "2022-11-19T17:36:03.940Z"
   },
   {
    "duration": 4,
    "start_time": "2022-11-19T17:36:10.258Z"
   },
   {
    "duration": 263,
    "start_time": "2022-11-19T17:36:15.910Z"
   },
   {
    "duration": 8,
    "start_time": "2022-11-19T17:36:19.209Z"
   },
   {
    "duration": 3,
    "start_time": "2022-11-19T17:36:26.735Z"
   },
   {
    "duration": 107,
    "start_time": "2022-11-19T17:38:11.683Z"
   },
   {
    "duration": 2913,
    "start_time": "2022-11-19T17:38:37.140Z"
   },
   {
    "duration": 14,
    "start_time": "2022-11-19T17:38:43.072Z"
   },
   {
    "duration": 180,
    "start_time": "2022-11-19T17:38:44.240Z"
   },
   {
    "duration": 6,
    "start_time": "2022-11-19T17:38:45.731Z"
   },
   {
    "duration": 7,
    "start_time": "2022-11-19T17:38:46.133Z"
   },
   {
    "duration": 6,
    "start_time": "2022-11-19T17:38:46.517Z"
   },
   {
    "duration": 7,
    "start_time": "2022-11-19T17:38:46.917Z"
   },
   {
    "duration": 73,
    "start_time": "2022-11-19T17:38:50.387Z"
   },
   {
    "duration": 30,
    "start_time": "2022-11-19T17:38:52.948Z"
   },
   {
    "duration": 19,
    "start_time": "2022-11-19T17:38:54.203Z"
   },
   {
    "duration": 96,
    "start_time": "2022-11-19T17:38:55.346Z"
   },
   {
    "duration": 4,
    "start_time": "2022-11-19T17:38:58.583Z"
   },
   {
    "duration": 8,
    "start_time": "2022-11-19T17:39:01.906Z"
   },
   {
    "duration": 96,
    "start_time": "2022-11-19T17:39:04.291Z"
   },
   {
    "duration": 5,
    "start_time": "2022-11-19T17:39:06.436Z"
   },
   {
    "duration": 6,
    "start_time": "2022-11-19T17:39:08.453Z"
   },
   {
    "duration": 124,
    "start_time": "2022-11-19T17:39:09.847Z"
   },
   {
    "duration": 8,
    "start_time": "2022-11-19T17:39:13.028Z"
   },
   {
    "duration": 5,
    "start_time": "2022-11-19T17:39:13.669Z"
   },
   {
    "duration": 101,
    "start_time": "2022-11-19T17:39:15.917Z"
   },
   {
    "duration": 6,
    "start_time": "2022-11-19T17:39:18.348Z"
   },
   {
    "duration": 4,
    "start_time": "2022-11-19T17:39:18.910Z"
   },
   {
    "duration": 98,
    "start_time": "2022-11-19T17:39:20.018Z"
   },
   {
    "duration": 6,
    "start_time": "2022-11-19T17:39:22.122Z"
   },
   {
    "duration": 4,
    "start_time": "2022-11-19T17:39:22.685Z"
   },
   {
    "duration": 117,
    "start_time": "2022-11-19T17:39:25.339Z"
   },
   {
    "duration": 6,
    "start_time": "2022-11-19T17:42:54.229Z"
   },
   {
    "duration": 5,
    "start_time": "2022-11-19T17:42:56.731Z"
   },
   {
    "duration": 188,
    "start_time": "2022-11-19T17:43:06.703Z"
   },
   {
    "duration": 6,
    "start_time": "2022-11-19T17:43:19.000Z"
   },
   {
    "duration": 4,
    "start_time": "2022-11-19T17:43:27.664Z"
   },
   {
    "duration": 9,
    "start_time": "2022-11-19T17:43:31.697Z"
   },
   {
    "duration": 5,
    "start_time": "2022-11-19T17:43:47.278Z"
   },
   {
    "duration": 105,
    "start_time": "2022-11-19T17:43:50.977Z"
   },
   {
    "duration": 6,
    "start_time": "2022-11-19T17:43:52.081Z"
   },
   {
    "duration": 3,
    "start_time": "2022-11-19T17:43:56.601Z"
   },
   {
    "duration": 5,
    "start_time": "2022-11-19T17:46:52.731Z"
   },
   {
    "duration": 5,
    "start_time": "2022-11-19T17:47:02.220Z"
   },
   {
    "duration": 91,
    "start_time": "2022-11-19T17:47:04.881Z"
   },
   {
    "duration": 127,
    "start_time": "2022-11-19T17:47:40.875Z"
   },
   {
    "duration": 5,
    "start_time": "2022-11-19T17:48:13.210Z"
   },
   {
    "duration": 4,
    "start_time": "2022-11-19T17:48:25.441Z"
   },
   {
    "duration": 5,
    "start_time": "2022-11-19T17:48:30.074Z"
   },
   {
    "duration": 5,
    "start_time": "2022-11-19T17:48:50.965Z"
   },
   {
    "duration": 5,
    "start_time": "2022-11-19T17:48:52.566Z"
   },
   {
    "duration": 6,
    "start_time": "2022-11-19T17:49:00.770Z"
   },
   {
    "duration": 4,
    "start_time": "2022-11-19T17:49:01.442Z"
   },
   {
    "duration": 5,
    "start_time": "2022-11-19T17:49:05.875Z"
   },
   {
    "duration": 5,
    "start_time": "2022-11-19T17:49:07.074Z"
   },
   {
    "duration": 5,
    "start_time": "2022-11-19T17:49:11.070Z"
   },
   {
    "duration": 9,
    "start_time": "2022-11-19T17:49:11.658Z"
   },
   {
    "duration": 5,
    "start_time": "2022-11-19T17:49:22.567Z"
   },
   {
    "duration": 96,
    "start_time": "2022-11-19T17:49:23.388Z"
   },
   {
    "duration": 5,
    "start_time": "2022-11-19T17:49:25.277Z"
   },
   {
    "duration": 5,
    "start_time": "2022-11-19T17:49:26.171Z"
   },
   {
    "duration": 3146,
    "start_time": "2022-11-19T17:49:39.334Z"
   },
   {
    "duration": 10,
    "start_time": "2022-11-19T17:49:45.725Z"
   },
   {
    "duration": 179,
    "start_time": "2022-11-19T17:49:46.634Z"
   },
   {
    "duration": 6,
    "start_time": "2022-11-19T17:49:48.116Z"
   },
   {
    "duration": 14,
    "start_time": "2022-11-19T17:49:48.557Z"
   },
   {
    "duration": 11,
    "start_time": "2022-11-19T17:49:49.059Z"
   },
   {
    "duration": 7,
    "start_time": "2022-11-19T17:49:49.506Z"
   },
   {
    "duration": 82,
    "start_time": "2022-11-19T17:49:51.243Z"
   },
   {
    "duration": 20,
    "start_time": "2022-11-19T17:49:54.032Z"
   },
   {
    "duration": 19,
    "start_time": "2022-11-19T17:49:55.090Z"
   },
   {
    "duration": 103,
    "start_time": "2022-11-19T17:49:56.346Z"
   },
   {
    "duration": 4,
    "start_time": "2022-11-19T17:49:57.831Z"
   },
   {
    "duration": 9,
    "start_time": "2022-11-19T17:49:59.714Z"
   },
   {
    "duration": 117,
    "start_time": "2022-11-19T17:50:00.335Z"
   },
   {
    "duration": 5,
    "start_time": "2022-11-19T17:50:01.437Z"
   },
   {
    "duration": 6,
    "start_time": "2022-11-19T17:50:03.274Z"
   },
   {
    "duration": 105,
    "start_time": "2022-11-19T17:50:04.313Z"
   },
   {
    "duration": 6,
    "start_time": "2022-11-19T17:50:05.224Z"
   },
   {
    "duration": 5,
    "start_time": "2022-11-19T17:50:06.676Z"
   },
   {
    "duration": 121,
    "start_time": "2022-11-19T17:50:07.575Z"
   },
   {
    "duration": 7,
    "start_time": "2022-11-19T17:50:10.047Z"
   },
   {
    "duration": 4,
    "start_time": "2022-11-19T17:50:11.813Z"
   },
   {
    "duration": 103,
    "start_time": "2022-11-19T17:50:12.423Z"
   },
   {
    "duration": 5,
    "start_time": "2022-11-19T17:50:13.136Z"
   },
   {
    "duration": 4,
    "start_time": "2022-11-19T17:50:13.835Z"
   },
   {
    "duration": 101,
    "start_time": "2022-11-19T17:50:14.569Z"
   },
   {
    "duration": 7,
    "start_time": "2022-11-19T17:50:15.893Z"
   },
   {
    "duration": 4,
    "start_time": "2022-11-19T17:50:17.107Z"
   },
   {
    "duration": 198,
    "start_time": "2022-11-19T17:50:18.568Z"
   },
   {
    "duration": 7,
    "start_time": "2022-11-19T17:50:21.185Z"
   },
   {
    "duration": 4,
    "start_time": "2022-11-19T17:50:21.732Z"
   },
   {
    "duration": 9,
    "start_time": "2022-11-19T17:50:24.019Z"
   },
   {
    "duration": 6,
    "start_time": "2022-11-19T17:50:50.578Z"
   },
   {
    "duration": 4,
    "start_time": "2022-11-19T17:50:53.337Z"
   },
   {
    "duration": 6,
    "start_time": "2022-11-19T17:51:02.479Z"
   },
   {
    "duration": 4,
    "start_time": "2022-11-19T17:51:05.562Z"
   },
   {
    "duration": 6,
    "start_time": "2022-11-19T17:51:28.344Z"
   },
   {
    "duration": 4,
    "start_time": "2022-11-19T17:51:31.280Z"
   },
   {
    "duration": 5,
    "start_time": "2022-11-19T17:51:33.537Z"
   },
   {
    "duration": 6,
    "start_time": "2022-11-19T17:51:44.695Z"
   },
   {
    "duration": 4,
    "start_time": "2022-11-19T17:51:45.287Z"
   },
   {
    "duration": 143,
    "start_time": "2022-11-19T17:51:48.162Z"
   },
   {
    "duration": 8,
    "start_time": "2022-11-19T17:51:54.244Z"
   },
   {
    "duration": 130,
    "start_time": "2022-11-19T17:51:54.937Z"
   },
   {
    "duration": 4,
    "start_time": "2022-11-19T17:52:47.620Z"
   },
   {
    "duration": 4,
    "start_time": "2022-11-19T17:53:18.092Z"
   },
   {
    "duration": 7,
    "start_time": "2022-11-19T17:53:21.113Z"
   },
   {
    "duration": 6,
    "start_time": "2022-11-19T17:53:24.971Z"
   },
   {
    "duration": 11,
    "start_time": "2022-11-19T17:53:26.909Z"
   },
   {
    "duration": 2933,
    "start_time": "2022-11-19T17:54:05.071Z"
   },
   {
    "duration": 10,
    "start_time": "2022-11-19T17:54:55.479Z"
   },
   {
    "duration": 196,
    "start_time": "2022-11-19T17:54:56.781Z"
   },
   {
    "duration": 6,
    "start_time": "2022-11-19T17:54:59.131Z"
   },
   {
    "duration": 6,
    "start_time": "2022-11-19T17:54:59.434Z"
   },
   {
    "duration": 8,
    "start_time": "2022-11-19T17:55:19.145Z"
   },
   {
    "duration": 24,
    "start_time": "2022-11-19T17:55:19.157Z"
   },
   {
    "duration": 113,
    "start_time": "2022-11-19T17:55:19.184Z"
   },
   {
    "duration": 25,
    "start_time": "2022-11-19T17:55:19.300Z"
   },
   {
    "duration": 35,
    "start_time": "2022-11-19T17:55:19.328Z"
   },
   {
    "duration": 116,
    "start_time": "2022-11-19T17:55:19.364Z"
   },
   {
    "duration": 4,
    "start_time": "2022-11-19T17:55:19.482Z"
   },
   {
    "duration": 7,
    "start_time": "2022-11-19T17:55:19.488Z"
   },
   {
    "duration": 143,
    "start_time": "2022-11-19T17:55:19.497Z"
   },
   {
    "duration": 24,
    "start_time": "2022-11-19T17:55:19.642Z"
   },
   {
    "duration": 9,
    "start_time": "2022-11-19T17:55:19.670Z"
   },
   {
    "duration": 146,
    "start_time": "2022-11-19T17:55:19.681Z"
   },
   {
    "duration": 7,
    "start_time": "2022-11-19T17:55:19.829Z"
   },
   {
    "duration": 20,
    "start_time": "2022-11-19T17:55:19.838Z"
   },
   {
    "duration": 120,
    "start_time": "2022-11-19T17:55:19.861Z"
   },
   {
    "duration": 6,
    "start_time": "2022-11-19T17:55:19.982Z"
   },
   {
    "duration": 9,
    "start_time": "2022-11-19T17:55:19.990Z"
   },
   {
    "duration": 120,
    "start_time": "2022-11-19T17:55:20.001Z"
   },
   {
    "duration": 7,
    "start_time": "2022-11-19T17:55:20.123Z"
   },
   {
    "duration": 31,
    "start_time": "2022-11-19T17:55:20.131Z"
   },
   {
    "duration": 113,
    "start_time": "2022-11-19T17:55:20.167Z"
   },
   {
    "duration": 5,
    "start_time": "2022-11-19T17:55:20.282Z"
   },
   {
    "duration": 9,
    "start_time": "2022-11-19T17:55:20.288Z"
   },
   {
    "duration": 215,
    "start_time": "2022-11-19T17:55:20.298Z"
   },
   {
    "duration": 5,
    "start_time": "2022-11-19T17:55:20.514Z"
   },
   {
    "duration": 5,
    "start_time": "2022-11-19T17:55:20.521Z"
   },
   {
    "duration": 19,
    "start_time": "2022-11-19T17:55:37.681Z"
   },
   {
    "duration": 10,
    "start_time": "2022-11-19T17:55:48.192Z"
   },
   {
    "duration": 71,
    "start_time": "2022-11-19T17:56:33.274Z"
   },
   {
    "duration": 72,
    "start_time": "2022-11-19T17:56:45.512Z"
   },
   {
    "duration": 80,
    "start_time": "2022-11-19T17:56:54.545Z"
   },
   {
    "duration": 242,
    "start_time": "2022-11-19T17:57:06.873Z"
   },
   {
    "duration": 5,
    "start_time": "2022-11-19T18:02:09.482Z"
   },
   {
    "duration": 5,
    "start_time": "2022-11-19T18:02:13.982Z"
   },
   {
    "duration": 6,
    "start_time": "2022-11-19T18:02:42.170Z"
   },
   {
    "duration": 2864,
    "start_time": "2022-11-19T20:12:14.402Z"
   },
   {
    "duration": 10,
    "start_time": "2022-11-19T20:12:17.268Z"
   },
   {
    "duration": 157,
    "start_time": "2022-11-19T20:12:17.280Z"
   },
   {
    "duration": 5,
    "start_time": "2022-11-19T20:12:17.439Z"
   },
   {
    "duration": 109,
    "start_time": "2022-11-19T20:12:17.445Z"
   },
   {
    "duration": 11,
    "start_time": "2022-11-19T20:12:17.555Z"
   },
   {
    "duration": 5,
    "start_time": "2022-11-19T20:12:17.567Z"
   },
   {
    "duration": 72,
    "start_time": "2022-11-19T20:12:17.574Z"
   },
   {
    "duration": 25,
    "start_time": "2022-11-19T20:12:17.647Z"
   },
   {
    "duration": 69,
    "start_time": "2022-11-19T20:12:17.675Z"
   },
   {
    "duration": 106,
    "start_time": "2022-11-19T20:12:17.746Z"
   },
   {
    "duration": 5,
    "start_time": "2022-11-19T20:12:17.854Z"
   },
   {
    "duration": 12,
    "start_time": "2022-11-19T20:12:17.860Z"
   },
   {
    "duration": 124,
    "start_time": "2022-11-19T20:12:17.874Z"
   },
   {
    "duration": 4,
    "start_time": "2022-11-19T20:12:18.000Z"
   },
   {
    "duration": 32,
    "start_time": "2022-11-19T20:12:18.006Z"
   },
   {
    "duration": 110,
    "start_time": "2022-11-19T20:12:18.040Z"
   },
   {
    "duration": 6,
    "start_time": "2022-11-19T20:12:18.152Z"
   },
   {
    "duration": 7,
    "start_time": "2022-11-19T20:12:18.159Z"
   },
   {
    "duration": 150,
    "start_time": "2022-11-19T20:12:18.168Z"
   },
   {
    "duration": 6,
    "start_time": "2022-11-19T20:12:18.321Z"
   },
   {
    "duration": 4,
    "start_time": "2022-11-19T20:12:18.329Z"
   },
   {
    "duration": 111,
    "start_time": "2022-11-19T20:12:18.335Z"
   },
   {
    "duration": 7,
    "start_time": "2022-11-19T20:12:18.447Z"
   },
   {
    "duration": 11,
    "start_time": "2022-11-19T20:12:18.456Z"
   },
   {
    "duration": 117,
    "start_time": "2022-11-19T20:12:18.469Z"
   },
   {
    "duration": 10,
    "start_time": "2022-11-19T20:12:18.598Z"
   },
   {
    "duration": 13,
    "start_time": "2022-11-19T20:12:18.614Z"
   },
   {
    "duration": 193,
    "start_time": "2022-11-19T20:12:18.628Z"
   },
   {
    "duration": 7,
    "start_time": "2022-11-19T20:12:18.823Z"
   },
   {
    "duration": 7,
    "start_time": "2022-11-19T20:12:18.833Z"
   },
   {
    "duration": 9,
    "start_time": "2022-11-19T20:12:18.842Z"
   },
   {
    "duration": 269,
    "start_time": "2022-11-19T20:12:18.853Z"
   },
   {
    "duration": 4,
    "start_time": "2022-11-19T20:12:19.125Z"
   },
   {
    "duration": 15,
    "start_time": "2022-11-19T20:12:19.131Z"
   },
   {
    "duration": 276,
    "start_time": "2022-11-19T20:12:19.147Z"
   },
   {
    "duration": 32,
    "start_time": "2022-11-19T20:12:19.424Z"
   },
   {
    "duration": 72,
    "start_time": "2022-11-19T20:12:19.457Z"
   },
   {
    "duration": 6,
    "start_time": "2022-11-19T20:12:19.531Z"
   },
   {
    "duration": 1651,
    "start_time": "2022-11-19T20:12:19.539Z"
   },
   {
    "duration": 239,
    "start_time": "2022-11-19T20:12:21.192Z"
   },
   {
    "duration": 10,
    "start_time": "2022-11-19T20:12:21.433Z"
   },
   {
    "duration": 31,
    "start_time": "2022-11-19T20:12:21.445Z"
   },
   {
    "duration": 245,
    "start_time": "2022-11-19T20:12:21.478Z"
   },
   {
    "duration": 167,
    "start_time": "2022-11-19T20:12:21.724Z"
   },
   {
    "duration": 188,
    "start_time": "2022-11-19T20:12:21.893Z"
   },
   {
    "duration": 178,
    "start_time": "2022-11-19T20:12:22.082Z"
   },
   {
    "duration": 175,
    "start_time": "2022-11-19T20:12:22.261Z"
   },
   {
    "duration": 152,
    "start_time": "2022-11-19T20:12:22.438Z"
   },
   {
    "duration": 179,
    "start_time": "2022-11-19T20:12:22.592Z"
   },
   {
    "duration": 189,
    "start_time": "2022-11-19T20:12:22.772Z"
   },
   {
    "duration": 178,
    "start_time": "2022-11-19T20:12:22.963Z"
   },
   {
    "duration": 67,
    "start_time": "2022-11-19T20:12:23.142Z"
   },
   {
    "duration": 27,
    "start_time": "2022-11-19T20:12:23.211Z"
   },
   {
    "duration": 154,
    "start_time": "2022-11-19T20:12:23.239Z"
   }
  ],
  "kernelspec": {
   "display_name": "Python 3 (ipykernel)",
   "language": "python",
   "name": "python3"
  },
  "language_info": {
   "codemirror_mode": {
    "name": "ipython",
    "version": 3
   },
   "file_extension": ".py",
   "mimetype": "text/x-python",
   "name": "python",
   "nbconvert_exporter": "python",
   "pygments_lexer": "ipython3",
   "version": "3.9.15"
  },
  "toc": {
   "base_numbering": 1,
   "nav_menu": {
    "height": "210px",
    "width": "383px"
   },
   "number_sections": true,
   "sideBar": true,
   "skip_h1_title": true,
   "title_cell": "Table of Contents",
   "title_sidebar": "Contents",
   "toc_cell": false,
   "toc_position": {},
   "toc_section_display": true,
   "toc_window_display": false
  }
 },
 "nbformat": 4,
 "nbformat_minor": 2
}
