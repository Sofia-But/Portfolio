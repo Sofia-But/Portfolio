{
 "cells": [
  {
   "cell_type": "code",
   "execution_count": 1,
   "id": "ac016416",
   "metadata": {
    "tags": [
     "aa81075c-062f-4de0-b5fe-14c73dc7468e"
    ]
   },
   "outputs": [],
   "source": [
    "import pandas as pd\n",
    "import numpy as np\n",
    "\n",
    "from sqlalchemy import create_engine"
   ]
  },
  {
   "cell_type": "code",
   "execution_count": 2,
   "id": "02e19cd4",
   "metadata": {},
   "outputs": [],
   "source": [
    "path_to_db = '/datasets/telecomm_csi.db'\n",
    "engine = create_engine(f'sqlite:///{path_to_db}', echo = False)"
   ]
  },
  {
   "cell_type": "code",
   "execution_count": 3,
   "id": "df1b5c5f",
   "metadata": {},
   "outputs": [],
   "source": [
    "query_gender = \"\"\"\n",
    "\n",
    "SELECT gender_segment\n",
    "FROM user\n",
    "\"\"\""
   ]
  },
  {
   "cell_type": "code",
   "execution_count": 4,
   "id": "d2a4529d",
   "metadata": {},
   "outputs": [
    {
     "data": {
      "text/plain": [
       "gender_segment\n",
       "1.0               272442\n",
       "0.0               228750\n",
       "dtype: int64"
      ]
     },
     "metadata": {},
     "output_type": "display_data"
    }
   ],
   "source": [
    "df_gender = pd.read_sql(query_gender, engine) \n",
    "display(df_gender.value_counts())"
   ]
  },
  {
   "cell_type": "code",
   "execution_count": 6,
   "id": "a31371b8",
   "metadata": {},
   "outputs": [],
   "source": [
    "query_all = \"\"\"\n",
    "WITH \n",
    "\n",
    "age_seg AS (SELECT age_gr_id,\n",
    "                   title AS age_segment\n",
    "           FROM age_segment),\n",
    "\n",
    "traffic_seg AS (SELECT tr_gr_id,\n",
    "                       title AS traffic_segment\n",
    "                FROM traffic_segment),\n",
    "\n",
    "lifetime_seg AS (SELECT lt_gr_id,\n",
    "                   title AS lifetime_segment\n",
    "           FROM lifetime_segment)\n",
    "\n",
    "SELECT u.user_id AS user_id,\n",
    "       u.lt_day AS lt_day,\n",
    "       CASE\n",
    "           WHEN u.lt_day <= 365 THEN 'new'\n",
    "           ELSE 'old'\n",
    "       END is_new,\n",
    "       u.age AS age,\n",
    "       u.gender_segment as raw_gender,\n",
    "       CASE\n",
    "           WHEN u.gender_segment == 1 THEN 'женщина'\n",
    "           WHEN u.gender_segment == 0 THEN 'мужчина'\n",
    "           ELSE 'unknown'\n",
    "       END gender_segment,\n",
    "       u.os_name AS os_name,\n",
    "       u.cpe_type_name AS cpe_type_name,\n",
    "       l.country AS country,\n",
    "       l.city AS city,\n",
    "       a.age_segment AS age_segment,\n",
    "       t.traffic_segment AS traffic_segment,\n",
    "       l.lifetime_segment AS lifetime_segment,\n",
    "       u.nps_score AS nps_score,\n",
    "       CASE\n",
    "           WHEN nps_score >= 9 THEN 'сторонник'\n",
    "           WHEN nps_score <=8 AND nps_score >=7 THEN 'нейтрал'\n",
    "           WHEN nps_score <= 6 THEN 'критик'\n",
    "       END nps_group       \n",
    "FROM user AS u LEFT JOIN location AS l ON u.location_id=l.location_id\n",
    "LEFT JOIN age_seg AS a ON u.age_gr_id=a.age_gr_id\n",
    "LEFT JOIN traffic_seg AS t ON u.tr_gr_id=t.tr_gr_id\n",
    "LEFT JOIN lifetime_seg AS l ON u.lt_gr_id=l.lt_gr_id\n",
    "              \n",
    "\"\"\""
   ]
  },
  {
   "cell_type": "code",
   "execution_count": 7,
   "id": "bfcd5501",
   "metadata": {},
   "outputs": [
    {
     "data": {
      "text/html": [
       "<div>\n",
       "<style scoped>\n",
       "    .dataframe tbody tr th:only-of-type {\n",
       "        vertical-align: middle;\n",
       "    }\n",
       "\n",
       "    .dataframe tbody tr th {\n",
       "        vertical-align: top;\n",
       "    }\n",
       "\n",
       "    .dataframe thead th {\n",
       "        text-align: right;\n",
       "    }\n",
       "</style>\n",
       "<table border=\"1\" class=\"dataframe\">\n",
       "  <thead>\n",
       "    <tr style=\"text-align: right;\">\n",
       "      <th></th>\n",
       "      <th>user_id</th>\n",
       "      <th>lt_day</th>\n",
       "      <th>is_new</th>\n",
       "      <th>age</th>\n",
       "      <th>raw_gender</th>\n",
       "      <th>gender_segment</th>\n",
       "      <th>os_name</th>\n",
       "      <th>cpe_type_name</th>\n",
       "      <th>country</th>\n",
       "      <th>city</th>\n",
       "      <th>age_segment</th>\n",
       "      <th>traffic_segment</th>\n",
       "      <th>lifetime_segment</th>\n",
       "      <th>nps_score</th>\n",
       "      <th>nps_group</th>\n",
       "    </tr>\n",
       "  </thead>\n",
       "  <tbody>\n",
       "    <tr>\n",
       "      <th>0</th>\n",
       "      <td>A001A2</td>\n",
       "      <td>2320</td>\n",
       "      <td>old</td>\n",
       "      <td>45.0</td>\n",
       "      <td>1.0</td>\n",
       "      <td>женщина</td>\n",
       "      <td>ANDROID</td>\n",
       "      <td>SMARTPHONE</td>\n",
       "      <td>Россия</td>\n",
       "      <td>Уфа</td>\n",
       "      <td>05 45-54</td>\n",
       "      <td>04 1-5</td>\n",
       "      <td>08 36+</td>\n",
       "      <td>10</td>\n",
       "      <td>сторонник</td>\n",
       "    </tr>\n",
       "    <tr>\n",
       "      <th>1</th>\n",
       "      <td>A001WF</td>\n",
       "      <td>2344</td>\n",
       "      <td>old</td>\n",
       "      <td>53.0</td>\n",
       "      <td>0.0</td>\n",
       "      <td>мужчина</td>\n",
       "      <td>ANDROID</td>\n",
       "      <td>SMARTPHONE</td>\n",
       "      <td>Россия</td>\n",
       "      <td>Киров</td>\n",
       "      <td>05 45-54</td>\n",
       "      <td>04 1-5</td>\n",
       "      <td>08 36+</td>\n",
       "      <td>10</td>\n",
       "      <td>сторонник</td>\n",
       "    </tr>\n",
       "    <tr>\n",
       "      <th>2</th>\n",
       "      <td>A003Q7</td>\n",
       "      <td>467</td>\n",
       "      <td>old</td>\n",
       "      <td>57.0</td>\n",
       "      <td>0.0</td>\n",
       "      <td>мужчина</td>\n",
       "      <td>ANDROID</td>\n",
       "      <td>SMARTPHONE</td>\n",
       "      <td>Россия</td>\n",
       "      <td>Москва</td>\n",
       "      <td>06 55-64</td>\n",
       "      <td>08 20-25</td>\n",
       "      <td>06 13-24</td>\n",
       "      <td>10</td>\n",
       "      <td>сторонник</td>\n",
       "    </tr>\n",
       "    <tr>\n",
       "      <th>3</th>\n",
       "      <td>A004TB</td>\n",
       "      <td>4190</td>\n",
       "      <td>old</td>\n",
       "      <td>44.0</td>\n",
       "      <td>1.0</td>\n",
       "      <td>женщина</td>\n",
       "      <td>IOS</td>\n",
       "      <td>SMARTPHONE</td>\n",
       "      <td>Россия</td>\n",
       "      <td>РостовнаДону</td>\n",
       "      <td>04 35-44</td>\n",
       "      <td>03 0.1-1</td>\n",
       "      <td>08 36+</td>\n",
       "      <td>10</td>\n",
       "      <td>сторонник</td>\n",
       "    </tr>\n",
       "    <tr>\n",
       "      <th>4</th>\n",
       "      <td>A004XT</td>\n",
       "      <td>1163</td>\n",
       "      <td>old</td>\n",
       "      <td>24.0</td>\n",
       "      <td>0.0</td>\n",
       "      <td>мужчина</td>\n",
       "      <td>ANDROID</td>\n",
       "      <td>SMARTPHONE</td>\n",
       "      <td>Россия</td>\n",
       "      <td>Рязань</td>\n",
       "      <td>02 16-24</td>\n",
       "      <td>05 5-10</td>\n",
       "      <td>08 36+</td>\n",
       "      <td>10</td>\n",
       "      <td>сторонник</td>\n",
       "    </tr>\n",
       "    <tr>\n",
       "      <th>5</th>\n",
       "      <td>A005O0</td>\n",
       "      <td>5501</td>\n",
       "      <td>old</td>\n",
       "      <td>42.0</td>\n",
       "      <td>1.0</td>\n",
       "      <td>женщина</td>\n",
       "      <td>ANDROID</td>\n",
       "      <td>SMARTPHONE</td>\n",
       "      <td>Россия</td>\n",
       "      <td>Омск</td>\n",
       "      <td>04 35-44</td>\n",
       "      <td>05 5-10</td>\n",
       "      <td>08 36+</td>\n",
       "      <td>6</td>\n",
       "      <td>критик</td>\n",
       "    </tr>\n",
       "    <tr>\n",
       "      <th>6</th>\n",
       "      <td>A0061R</td>\n",
       "      <td>1236</td>\n",
       "      <td>old</td>\n",
       "      <td>45.0</td>\n",
       "      <td>0.0</td>\n",
       "      <td>мужчина</td>\n",
       "      <td>ANDROID</td>\n",
       "      <td>SMARTPHONE</td>\n",
       "      <td>Россия</td>\n",
       "      <td>Уфа</td>\n",
       "      <td>05 45-54</td>\n",
       "      <td>06 10-15</td>\n",
       "      <td>08 36+</td>\n",
       "      <td>10</td>\n",
       "      <td>сторонник</td>\n",
       "    </tr>\n",
       "    <tr>\n",
       "      <th>7</th>\n",
       "      <td>A009KS</td>\n",
       "      <td>313</td>\n",
       "      <td>new</td>\n",
       "      <td>35.0</td>\n",
       "      <td>0.0</td>\n",
       "      <td>мужчина</td>\n",
       "      <td>ANDROID</td>\n",
       "      <td>SMARTPHONE</td>\n",
       "      <td>Россия</td>\n",
       "      <td>Москва</td>\n",
       "      <td>04 35-44</td>\n",
       "      <td>13 45-50</td>\n",
       "      <td>05 7-12</td>\n",
       "      <td>10</td>\n",
       "      <td>сторонник</td>\n",
       "    </tr>\n",
       "    <tr>\n",
       "      <th>8</th>\n",
       "      <td>A00AES</td>\n",
       "      <td>3238</td>\n",
       "      <td>old</td>\n",
       "      <td>36.0</td>\n",
       "      <td>1.0</td>\n",
       "      <td>женщина</td>\n",
       "      <td>ANDROID</td>\n",
       "      <td>SMARTPHONE</td>\n",
       "      <td>Россия</td>\n",
       "      <td>СанктПетербург</td>\n",
       "      <td>04 35-44</td>\n",
       "      <td>04 1-5</td>\n",
       "      <td>08 36+</td>\n",
       "      <td>10</td>\n",
       "      <td>сторонник</td>\n",
       "    </tr>\n",
       "    <tr>\n",
       "      <th>9</th>\n",
       "      <td>A00F70</td>\n",
       "      <td>4479</td>\n",
       "      <td>old</td>\n",
       "      <td>54.0</td>\n",
       "      <td>1.0</td>\n",
       "      <td>женщина</td>\n",
       "      <td>ANDROID</td>\n",
       "      <td>SMARTPHONE</td>\n",
       "      <td>Россия</td>\n",
       "      <td>Волгоград</td>\n",
       "      <td>05 45-54</td>\n",
       "      <td>07 15-20</td>\n",
       "      <td>08 36+</td>\n",
       "      <td>9</td>\n",
       "      <td>сторонник</td>\n",
       "    </tr>\n",
       "  </tbody>\n",
       "</table>\n",
       "</div>"
      ],
      "text/plain": [
       "  user_id  lt_day is_new   age  raw_gender gender_segment  os_name  \\\n",
       "0  A001A2    2320    old  45.0         1.0        женщина  ANDROID   \n",
       "1  A001WF    2344    old  53.0         0.0        мужчина  ANDROID   \n",
       "2  A003Q7     467    old  57.0         0.0        мужчина  ANDROID   \n",
       "3  A004TB    4190    old  44.0         1.0        женщина      IOS   \n",
       "4  A004XT    1163    old  24.0         0.0        мужчина  ANDROID   \n",
       "5  A005O0    5501    old  42.0         1.0        женщина  ANDROID   \n",
       "6  A0061R    1236    old  45.0         0.0        мужчина  ANDROID   \n",
       "7  A009KS     313    new  35.0         0.0        мужчина  ANDROID   \n",
       "8  A00AES    3238    old  36.0         1.0        женщина  ANDROID   \n",
       "9  A00F70    4479    old  54.0         1.0        женщина  ANDROID   \n",
       "\n",
       "  cpe_type_name country            city age_segment traffic_segment  \\\n",
       "0    SMARTPHONE  Россия             Уфа    05 45-54          04 1-5   \n",
       "1    SMARTPHONE  Россия           Киров    05 45-54          04 1-5   \n",
       "2    SMARTPHONE  Россия          Москва    06 55-64        08 20-25   \n",
       "3    SMARTPHONE  Россия    РостовнаДону    04 35-44        03 0.1-1   \n",
       "4    SMARTPHONE  Россия          Рязань    02 16-24         05 5-10   \n",
       "5    SMARTPHONE  Россия            Омск    04 35-44         05 5-10   \n",
       "6    SMARTPHONE  Россия             Уфа    05 45-54        06 10-15   \n",
       "7    SMARTPHONE  Россия          Москва    04 35-44        13 45-50   \n",
       "8    SMARTPHONE  Россия  СанктПетербург    04 35-44          04 1-5   \n",
       "9    SMARTPHONE  Россия       Волгоград    05 45-54        07 15-20   \n",
       "\n",
       "  lifetime_segment  nps_score  nps_group  \n",
       "0           08 36+         10  сторонник  \n",
       "1           08 36+         10  сторонник  \n",
       "2         06 13-24         10  сторонник  \n",
       "3           08 36+         10  сторонник  \n",
       "4           08 36+         10  сторонник  \n",
       "5           08 36+          6     критик  \n",
       "6           08 36+         10  сторонник  \n",
       "7          05 7-12         10  сторонник  \n",
       "8           08 36+         10  сторонник  \n",
       "9           08 36+          9  сторонник  "
      ]
     },
     "metadata": {},
     "output_type": "display_data"
    }
   ],
   "source": [
    "df_all = pd.read_sql(query_all, engine) \n",
    "display(df_all.head(10))"
   ]
  },
  {
   "cell_type": "code",
   "execution_count": 8,
   "id": "5133abd6",
   "metadata": {},
   "outputs": [],
   "source": [
    "df_all.to_csv('telecomm_csi_tableau.csv', index=False)"
   ]
  },
  {
   "cell_type": "markdown",
   "id": "565cc727",
   "metadata": {},
   "source": [
    "### Укажите ссылку на дашборд на сайте Tableau Public:"
   ]
  },
  {
   "cell_type": "markdown",
   "id": "7934987f",
   "metadata": {},
   "source": [
    "https://public.tableau.com/app/profile/sofia3695/viz/NPS_16764753828630/Dashboard1?publish=yes"
   ]
  },
  {
   "cell_type": "markdown",
   "id": "1d3e4639",
   "metadata": {},
   "source": [
    "### Укажите ссылку на pdf-файл с презентацией:"
   ]
  },
  {
   "cell_type": "markdown",
   "id": "0927686d",
   "metadata": {},
   "source": [
    "https://drive.google.com/file/d/1CosS61c1bCfpA2Zn5RnrVjPx7HQZR6GN/view?usp=sharing"
   ]
  }
 ],
 "metadata": {
  "ExecuteTimeLog": [
   {
    "duration": 752,
    "start_time": "2021-10-03T17:40:52.731Z"
   },
   {
    "duration": 20,
    "start_time": "2021-10-03T17:40:53.486Z"
   },
   {
    "duration": 4,
    "start_time": "2021-10-03T17:41:04.638Z"
   },
   {
    "duration": 461,
    "start_time": "2021-10-03T17:41:04.912Z"
   },
   {
    "duration": 284,
    "start_time": "2021-10-03T17:41:05.376Z"
   },
   {
    "duration": 574,
    "start_time": "2021-10-06T07:55:05.029Z"
   },
   {
    "duration": 6,
    "start_time": "2021-10-06T07:55:05.605Z"
   },
   {
    "duration": 3,
    "start_time": "2021-10-06T07:55:14.685Z"
   },
   {
    "duration": 406,
    "start_time": "2021-10-06T07:55:15.522Z"
   },
   {
    "duration": 67,
    "start_time": "2021-10-06T07:55:15.929Z"
   },
   {
    "duration": 840,
    "start_time": "2021-10-07T07:54:04.647Z"
   },
   {
    "duration": 10,
    "start_time": "2021-10-07T07:54:05.490Z"
   },
   {
    "duration": 4,
    "start_time": "2021-10-07T07:54:05.544Z"
   },
   {
    "duration": 391,
    "start_time": "2021-10-07T07:54:06.237Z"
   },
   {
    "duration": 293,
    "start_time": "2021-10-07T07:54:06.654Z"
   },
   {
    "duration": 487,
    "start_time": "2023-02-09T12:22:14.161Z"
   },
   {
    "duration": 38,
    "start_time": "2023-02-09T12:22:16.452Z"
   },
   {
    "duration": 3,
    "start_time": "2023-02-09T12:22:21.451Z"
   },
   {
    "duration": 636,
    "start_time": "2023-02-09T12:22:23.226Z"
   },
   {
    "duration": 160,
    "start_time": "2023-02-09T12:22:39.577Z"
   },
   {
    "duration": 10,
    "start_time": "2023-02-09T12:22:53.621Z"
   },
   {
    "duration": 46,
    "start_time": "2023-02-09T12:26:07.415Z"
   },
   {
    "duration": 7,
    "start_time": "2023-02-09T12:26:32.708Z"
   },
   {
    "duration": 530,
    "start_time": "2023-02-09T12:26:39.879Z"
   },
   {
    "duration": 11,
    "start_time": "2023-02-09T12:26:41.511Z"
   },
   {
    "duration": 4,
    "start_time": "2023-02-09T12:26:42.377Z"
   },
   {
    "duration": 558,
    "start_time": "2023-02-09T12:26:43.069Z"
   },
   {
    "duration": 576,
    "start_time": "2023-02-09T12:27:29.811Z"
   },
   {
    "duration": 607,
    "start_time": "2023-02-17T10:01:41.435Z"
   },
   {
    "duration": 24,
    "start_time": "2023-02-17T10:01:44.306Z"
   },
   {
    "duration": 4,
    "start_time": "2023-02-17T10:03:00.589Z"
   },
   {
    "duration": 6000,
    "start_time": "2023-02-17T10:05:43.857Z"
   },
   {
    "duration": 5438,
    "start_time": "2023-02-17T10:06:03.418Z"
   },
   {
    "duration": 527,
    "start_time": "2023-02-18T09:47:01.836Z"
   },
   {
    "duration": 9,
    "start_time": "2023-02-18T09:47:02.365Z"
   },
   {
    "duration": 4,
    "start_time": "2023-02-18T09:47:02.376Z"
   },
   {
    "duration": 5781,
    "start_time": "2023-02-18T09:47:02.381Z"
   },
   {
    "duration": 6486,
    "start_time": "2023-02-18T09:47:08.165Z"
   },
   {
    "duration": 535,
    "start_time": "2023-02-19T13:36:58.998Z"
   },
   {
    "duration": 30,
    "start_time": "2023-02-19T13:37:03.209Z"
   },
   {
    "duration": 4,
    "start_time": "2023-02-19T13:38:14.168Z"
   },
   {
    "duration": 2832,
    "start_time": "2023-02-19T13:38:47.764Z"
   },
   {
    "duration": 1503,
    "start_time": "2023-02-19T13:39:24.859Z"
   },
   {
    "duration": 1510,
    "start_time": "2023-02-19T13:39:47.051Z"
   },
   {
    "duration": 1397,
    "start_time": "2023-02-19T13:40:01.574Z"
   },
   {
    "duration": 1486,
    "start_time": "2023-02-19T13:41:37.834Z"
   },
   {
    "duration": 1426,
    "start_time": "2023-02-19T13:42:14.331Z"
   },
   {
    "duration": 1521,
    "start_time": "2023-02-19T13:43:14.423Z"
   },
   {
    "duration": 1448,
    "start_time": "2023-02-19T13:43:48.786Z"
   },
   {
    "duration": 1495,
    "start_time": "2023-02-19T13:44:09.225Z"
   },
   {
    "duration": 1735,
    "start_time": "2023-02-19T13:44:34.286Z"
   },
   {
    "duration": 1565,
    "start_time": "2023-02-19T13:44:46.816Z"
   },
   {
    "duration": 1377,
    "start_time": "2023-02-19T13:45:30.632Z"
   },
   {
    "duration": 1459,
    "start_time": "2023-02-19T13:45:47.701Z"
   },
   {
    "duration": 1483,
    "start_time": "2023-02-19T13:46:19.918Z"
   },
   {
    "duration": 4,
    "start_time": "2023-02-19T13:50:18.409Z"
   },
   {
    "duration": 5368,
    "start_time": "2023-02-19T13:50:18.980Z"
   },
   {
    "duration": 4405,
    "start_time": "2023-02-19T13:50:28.517Z"
   },
   {
    "duration": 457,
    "start_time": "2023-02-19T16:58:08.170Z"
   },
   {
    "duration": 8,
    "start_time": "2023-02-19T16:58:08.629Z"
   },
   {
    "duration": 9,
    "start_time": "2023-02-19T16:58:08.639Z"
   },
   {
    "duration": 1417,
    "start_time": "2023-02-19T16:58:08.650Z"
   },
   {
    "duration": 3,
    "start_time": "2023-02-19T16:58:10.069Z"
   },
   {
    "duration": 4890,
    "start_time": "2023-02-19T16:58:10.073Z"
   },
   {
    "duration": 3895,
    "start_time": "2023-02-19T16:58:14.964Z"
   },
   {
    "duration": 3,
    "start_time": "2023-02-19T16:59:56.606Z"
   },
   {
    "duration": 5367,
    "start_time": "2023-02-19T16:59:58.406Z"
   },
   {
    "duration": 15,
    "start_time": "2023-02-19T17:00:26.326Z"
   },
   {
    "duration": 2,
    "start_time": "2023-02-19T17:00:46.079Z"
   },
   {
    "duration": 1323,
    "start_time": "2023-02-19T17:00:46.494Z"
   },
   {
    "duration": 1280,
    "start_time": "2023-02-19T17:00:56.065Z"
   },
   {
    "duration": 102,
    "start_time": "2023-02-19T17:01:45.231Z"
   },
   {
    "duration": 549,
    "start_time": "2023-02-20T08:26:26.036Z"
   },
   {
    "duration": 12,
    "start_time": "2023-02-20T08:26:26.587Z"
   },
   {
    "duration": 6,
    "start_time": "2023-02-20T08:26:26.601Z"
   },
   {
    "duration": 1491,
    "start_time": "2023-02-20T08:26:26.610Z"
   },
   {
    "duration": 103,
    "start_time": "2023-02-20T08:26:28.102Z"
   },
   {
    "duration": 3,
    "start_time": "2023-02-20T08:26:28.207Z"
   },
   {
    "duration": 5685,
    "start_time": "2023-02-20T08:26:28.211Z"
   },
   {
    "duration": 5560,
    "start_time": "2023-02-20T08:26:33.897Z"
   }
  ],
  "kernelspec": {
   "display_name": "Python 3 (ipykernel)",
   "language": "python",
   "name": "python3"
  },
  "language_info": {
   "codemirror_mode": {
    "name": "ipython",
    "version": 3
   },
   "file_extension": ".py",
   "mimetype": "text/x-python",
   "name": "python",
   "nbconvert_exporter": "python",
   "pygments_lexer": "ipython3",
   "version": "3.9.15"
  },
  "toc": {
   "base_numbering": 1,
   "nav_menu": {},
   "number_sections": true,
   "sideBar": true,
   "skip_h1_title": true,
   "title_cell": "Table of Contents",
   "title_sidebar": "Contents",
   "toc_cell": false,
   "toc_position": {},
   "toc_section_display": true,
   "toc_window_display": false
  }
 },
 "nbformat": 4,
 "nbformat_minor": 5
}
