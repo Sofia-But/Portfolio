{
 "cells": [
  {
   "cell_type": "markdown",
   "metadata": {
    "id": "sIfNaMOxgFyK"
   },
   "source": [
    "# Исследование данных о российском кинопрокате\n",
    "\n",
    "Проект посвящен изучению рынка российского кинопроката и выявления текущих трендов. Отдельное внимание уделяется тому, насколько фильмы, которые получили государственную поддержку, интересны зрителеям.\n",
    "\n",
    "План работы проекта: \n",
    "1. Объединение данных в один датафрейм.\n",
    "2. Предобработка данных: проверка типа данных и преобразование; изучение и заполнение пропусков;поиск и устранение дубликатов;изучение столбцов с категориальными значениями и исправление проблем; изучение столбцов с количественными значениями и исправление проблем. Добавление столбцов: год проката, имя и фамилия главного режиссёра и основной жанр, доля государственной поддержки от общего бюджета фильма.\n",
    "3. Исследовательский анализ данных:сколько фильмов выходило в прокат каждый год; изучение динамика проката по годам; влияние возрастного ограничение аудитории («6+», «12+», «16+», «18+» и т. д.) на сборы фильма в прокате в период с 2015 по 2019 год.\n",
    "4. Исследование фильмов, которые получили государственную поддержку\n",
    "5. Общий вывод\n",
    "\n",
    "Описание данных\n",
    " - title — название фильма;\n",
    " - puNumber — номер прокатного удостоверения;\n",
    " - show_start_date — дата премьеры фильма;\n",
    " - type — тип фильма;\n",
    " - film_studio — студия-производитель;\n",
    " - production_country — страна-производитель;\n",
    " - director — режиссёр;\n",
    " - producer — продюсер;\n",
    " - age_restriction — возрастная категория;\n",
    " - refundable_support — объём возвратных средств государственной поддержки;\n",
    " - nonrefundable_support — объём невозвратных средств государственной поддержки;\n",
    " - financing_source — источник государственного финансирования;\n",
    " - budget — общий бюджет фильма;\n",
    " - ratings — рейтинг фильма на КиноПоиске;\n",
    " - genres — жанр фильма.\n",
    " - box_office — сборы в рублях."
   ]
  },
  {
   "cell_type": "markdown",
   "metadata": {
    "id": "3bSlkCsbgFyL"
   },
   "source": [
    "## Откройте файлы с данными и объедините их в один датафрейм. \n",
    "\n",
    "Объедините данные таким образом, чтобы все объекты из датасета `mkrf_movies` обязательно вошли в получившийся датафрейм. "
   ]
  },
  {
   "cell_type": "code",
   "execution_count": 1,
   "metadata": {
    "id": "dw87FlzMgFyM"
   },
   "outputs": [
    {
     "name": "stdout",
     "output_type": "stream",
     "text": [
      "<class 'pandas.core.frame.DataFrame'>\n",
      "RangeIndex: 7486 entries, 0 to 7485\n",
      "Data columns (total 15 columns):\n",
      " #   Column                 Non-Null Count  Dtype  \n",
      "---  ------                 --------------  -----  \n",
      " 0   title                  7486 non-null   object \n",
      " 1   puNumber               7486 non-null   object \n",
      " 2   show_start_date        7486 non-null   object \n",
      " 3   type                   7486 non-null   object \n",
      " 4   film_studio            7468 non-null   object \n",
      " 5   production_country     7484 non-null   object \n",
      " 6   director               7477 non-null   object \n",
      " 7   producer               6918 non-null   object \n",
      " 8   age_restriction        7486 non-null   object \n",
      " 9   refundable_support     332 non-null    float64\n",
      " 10  nonrefundable_support  332 non-null    float64\n",
      " 11  budget                 332 non-null    float64\n",
      " 12  financing_source       332 non-null    object \n",
      " 13  ratings                6519 non-null   object \n",
      " 14  genres                 6510 non-null   object \n",
      "dtypes: float64(3), object(12)\n",
      "memory usage: 877.4+ KB\n",
      "None\n",
      "<class 'pandas.core.frame.DataFrame'>\n",
      "RangeIndex: 3158 entries, 0 to 3157\n",
      "Data columns (total 2 columns):\n",
      " #   Column      Non-Null Count  Dtype  \n",
      "---  ------      --------------  -----  \n",
      " 0   puNumber    3158 non-null   int64  \n",
      " 1   box_office  3158 non-null   float64\n",
      "dtypes: float64(1), int64(1)\n",
      "memory usage: 49.5 KB\n",
      "None\n"
     ]
    }
   ],
   "source": [
    "import pandas as pd\n",
    "data_movies = pd.read_csv('/datasets/mkrf_movies.csv')\n",
    "data_shows = pd.read_csv('/datasets/mkrf_shows.csv')\n",
    "\n",
    "print(data_movies.info())\n",
    "print(data_shows.info())"
   ]
  },
  {
   "cell_type": "markdown",
   "metadata": {},
   "source": [
    "Объединение таблиц будет происходить по столбцу puNumber, в связи с чем необходимо привести его к одному типу данных. Данный столбец содержит в себе информацию о прокатном удостоверении, столбец приводит к вормату строки."
   ]
  },
  {
   "cell_type": "code",
   "execution_count": 2,
   "metadata": {},
   "outputs": [],
   "source": [
    "data_movies['puNumber'] = data_movies['puNumber'].astype('str')\n",
    "data_shows['puNumber'] = data_shows['puNumber'].astype('str')\n",
    "\n",
    "data = data_movies.merge(data_shows, how = 'left')\n",
    "del data_shows"
   ]
  },
  {
   "cell_type": "code",
   "execution_count": 3,
   "metadata": {},
   "outputs": [
    {
     "name": "stdout",
     "output_type": "stream",
     "text": [
      "<class 'pandas.core.frame.DataFrame'>\n",
      "Int64Index: 7486 entries, 0 to 7485\n",
      "Data columns (total 16 columns):\n",
      " #   Column                 Non-Null Count  Dtype  \n",
      "---  ------                 --------------  -----  \n",
      " 0   title                  7486 non-null   object \n",
      " 1   puNumber               7486 non-null   object \n",
      " 2   show_start_date        7486 non-null   object \n",
      " 3   type                   7486 non-null   object \n",
      " 4   film_studio            7468 non-null   object \n",
      " 5   production_country     7484 non-null   object \n",
      " 6   director               7477 non-null   object \n",
      " 7   producer               6918 non-null   object \n",
      " 8   age_restriction        7486 non-null   object \n",
      " 9   refundable_support     332 non-null    float64\n",
      " 10  nonrefundable_support  332 non-null    float64\n",
      " 11  budget                 332 non-null    float64\n",
      " 12  financing_source       332 non-null    object \n",
      " 13  ratings                6519 non-null   object \n",
      " 14  genres                 6510 non-null   object \n",
      " 15  box_office             3158 non-null   float64\n",
      "dtypes: float64(4), object(12)\n",
      "memory usage: 994.2+ KB\n"
     ]
    },
    {
     "data": {
      "text/html": [
       "<div>\n",
       "<style scoped>\n",
       "    .dataframe tbody tr th:only-of-type {\n",
       "        vertical-align: middle;\n",
       "    }\n",
       "\n",
       "    .dataframe tbody tr th {\n",
       "        vertical-align: top;\n",
       "    }\n",
       "\n",
       "    .dataframe thead th {\n",
       "        text-align: right;\n",
       "    }\n",
       "</style>\n",
       "<table border=\"1\" class=\"dataframe\">\n",
       "  <thead>\n",
       "    <tr style=\"text-align: right;\">\n",
       "      <th></th>\n",
       "      <th>title</th>\n",
       "      <th>puNumber</th>\n",
       "      <th>show_start_date</th>\n",
       "      <th>type</th>\n",
       "      <th>film_studio</th>\n",
       "      <th>production_country</th>\n",
       "      <th>director</th>\n",
       "      <th>producer</th>\n",
       "      <th>age_restriction</th>\n",
       "      <th>refundable_support</th>\n",
       "      <th>nonrefundable_support</th>\n",
       "      <th>budget</th>\n",
       "      <th>financing_source</th>\n",
       "      <th>ratings</th>\n",
       "      <th>genres</th>\n",
       "      <th>box_office</th>\n",
       "    </tr>\n",
       "  </thead>\n",
       "  <tbody>\n",
       "    <tr>\n",
       "      <th>0</th>\n",
       "      <td>Открытый простор</td>\n",
       "      <td>221048915</td>\n",
       "      <td>2015-11-27T12:00:00.000Z</td>\n",
       "      <td>Художественный</td>\n",
       "      <td>Тачстоун Пикчерз, Кобальт Пикчерз, Бикон Пикче...</td>\n",
       "      <td>США</td>\n",
       "      <td>Кевин Костнер</td>\n",
       "      <td>Дэвид Валдес, Кевин Костнер, Джейк Эбертс</td>\n",
       "      <td>«18+» - запрещено для детей</td>\n",
       "      <td>NaN</td>\n",
       "      <td>NaN</td>\n",
       "      <td>NaN</td>\n",
       "      <td>NaN</td>\n",
       "      <td>7.2</td>\n",
       "      <td>боевик,драма,мелодрама</td>\n",
       "      <td>NaN</td>\n",
       "    </tr>\n",
       "    <tr>\n",
       "      <th>1</th>\n",
       "      <td>Особо важное задание</td>\n",
       "      <td>111013716</td>\n",
       "      <td>2016-09-13T12:00:00.000Z</td>\n",
       "      <td>Художественный</td>\n",
       "      <td>Киностудия \"Мосфильм\"</td>\n",
       "      <td>СССР</td>\n",
       "      <td>Е.Матвеев</td>\n",
       "      <td>NaN</td>\n",
       "      <td>«6+» - для детей старше 6 лет</td>\n",
       "      <td>NaN</td>\n",
       "      <td>NaN</td>\n",
       "      <td>NaN</td>\n",
       "      <td>NaN</td>\n",
       "      <td>6.6</td>\n",
       "      <td>драма,военный</td>\n",
       "      <td>NaN</td>\n",
       "    </tr>\n",
       "    <tr>\n",
       "      <th>2</th>\n",
       "      <td>Особо опасен</td>\n",
       "      <td>221038416</td>\n",
       "      <td>2016-10-10T12:00:00.000Z</td>\n",
       "      <td>Художественный</td>\n",
       "      <td>Юниверсал Пикчерз, Кикстарт Продакшнз, Марк Пл...</td>\n",
       "      <td>США</td>\n",
       "      <td>Тимур Бекмамбетов</td>\n",
       "      <td>Джим Лемли, Джейсон Нетер, Марк Е.Платт, Яйн Смит</td>\n",
       "      <td>«18+» - запрещено для детей</td>\n",
       "      <td>NaN</td>\n",
       "      <td>NaN</td>\n",
       "      <td>NaN</td>\n",
       "      <td>NaN</td>\n",
       "      <td>6.8</td>\n",
       "      <td>фантастика,боевик,триллер</td>\n",
       "      <td>NaN</td>\n",
       "    </tr>\n",
       "    <tr>\n",
       "      <th>3</th>\n",
       "      <td>Особо опасен</td>\n",
       "      <td>221026916</td>\n",
       "      <td>2016-06-10T12:00:00.000Z</td>\n",
       "      <td>Художественный</td>\n",
       "      <td>Юниверсал Пикчерз, Кикстарт Продакшнз, Марк Пл...</td>\n",
       "      <td>США</td>\n",
       "      <td>Тимур Бекмамбетов</td>\n",
       "      <td>Джим Лемли, Джейсон Нетер, Марк Е.Платт, Яйн Смит</td>\n",
       "      <td>«18+» - запрещено для детей</td>\n",
       "      <td>NaN</td>\n",
       "      <td>NaN</td>\n",
       "      <td>NaN</td>\n",
       "      <td>NaN</td>\n",
       "      <td>6.8</td>\n",
       "      <td>фантастика,боевик,триллер</td>\n",
       "      <td>NaN</td>\n",
       "    </tr>\n",
       "    <tr>\n",
       "      <th>4</th>\n",
       "      <td>Особо опасен</td>\n",
       "      <td>221030815</td>\n",
       "      <td>2015-07-29T12:00:00.000Z</td>\n",
       "      <td>Художественный</td>\n",
       "      <td>Юниверсал Пикчерз, Кикстарт Продакшнз, Марк Пл...</td>\n",
       "      <td>США</td>\n",
       "      <td>Тимур Бекмамбетов</td>\n",
       "      <td>Джим Лемли, Джейсон Нетер, Марк Е.Платт, Яйн Смит</td>\n",
       "      <td>«18+» - запрещено для детей</td>\n",
       "      <td>NaN</td>\n",
       "      <td>NaN</td>\n",
       "      <td>NaN</td>\n",
       "      <td>NaN</td>\n",
       "      <td>6.8</td>\n",
       "      <td>фантастика,боевик,триллер</td>\n",
       "      <td>NaN</td>\n",
       "    </tr>\n",
       "  </tbody>\n",
       "</table>\n",
       "</div>"
      ],
      "text/plain": [
       "                  title   puNumber           show_start_date            type  \\\n",
       "0      Открытый простор  221048915  2015-11-27T12:00:00.000Z  Художественный   \n",
       "1  Особо важное задание  111013716  2016-09-13T12:00:00.000Z  Художественный   \n",
       "2          Особо опасен  221038416  2016-10-10T12:00:00.000Z  Художественный   \n",
       "3          Особо опасен  221026916  2016-06-10T12:00:00.000Z  Художественный   \n",
       "4          Особо опасен  221030815  2015-07-29T12:00:00.000Z  Художественный   \n",
       "\n",
       "                                         film_studio production_country  \\\n",
       "0  Тачстоун Пикчерз, Кобальт Пикчерз, Бикон Пикче...                США   \n",
       "1                              Киностудия \"Мосфильм\"               СССР   \n",
       "2  Юниверсал Пикчерз, Кикстарт Продакшнз, Марк Пл...                США   \n",
       "3  Юниверсал Пикчерз, Кикстарт Продакшнз, Марк Пл...                США   \n",
       "4  Юниверсал Пикчерз, Кикстарт Продакшнз, Марк Пл...                США   \n",
       "\n",
       "            director                                           producer  \\\n",
       "0      Кевин Костнер          Дэвид Валдес, Кевин Костнер, Джейк Эбертс   \n",
       "1          Е.Матвеев                                                NaN   \n",
       "2  Тимур Бекмамбетов  Джим Лемли, Джейсон Нетер, Марк Е.Платт, Яйн Смит   \n",
       "3  Тимур Бекмамбетов  Джим Лемли, Джейсон Нетер, Марк Е.Платт, Яйн Смит   \n",
       "4  Тимур Бекмамбетов  Джим Лемли, Джейсон Нетер, Марк Е.Платт, Яйн Смит   \n",
       "\n",
       "                 age_restriction  refundable_support  nonrefundable_support  \\\n",
       "0    «18+» - запрещено для детей                 NaN                    NaN   \n",
       "1  «6+» - для детей старше 6 лет                 NaN                    NaN   \n",
       "2    «18+» - запрещено для детей                 NaN                    NaN   \n",
       "3    «18+» - запрещено для детей                 NaN                    NaN   \n",
       "4    «18+» - запрещено для детей                 NaN                    NaN   \n",
       "\n",
       "   budget financing_source ratings                     genres  box_office  \n",
       "0     NaN              NaN     7.2     боевик,драма,мелодрама         NaN  \n",
       "1     NaN              NaN     6.6              драма,военный         NaN  \n",
       "2     NaN              NaN     6.8  фантастика,боевик,триллер         NaN  \n",
       "3     NaN              NaN     6.8  фантастика,боевик,триллер         NaN  \n",
       "4     NaN              NaN     6.8  фантастика,боевик,триллер         NaN  "
      ]
     },
     "execution_count": 3,
     "metadata": {},
     "output_type": "execute_result"
    }
   ],
   "source": [
    "data.info()\n",
    "data.head()"
   ]
  },
  {
   "cell_type": "markdown",
   "metadata": {},
   "source": [
    "Изучение информации о получившемся датафрейме и рассмотрение нескольких его строк. Становится видно, что в датафрейме существует довольно большое количество пропусков в данных в различных столбцах."
   ]
  },
  {
   "cell_type": "markdown",
   "metadata": {
    "id": "KLDGpPG0gFyM"
   },
   "source": [
    "## Предобработка данных"
   ]
  },
  {
   "cell_type": "markdown",
   "metadata": {
    "id": "ssWwKXsxgFyO"
   },
   "source": [
    "### Проверьте типы данных\n",
    "\n",
    "**Проверьте типы данных в датафрейме и преобразуйте их там, где это необходимо.**"
   ]
  },
  {
   "cell_type": "code",
   "execution_count": 4,
   "metadata": {
    "id": "kVGSplJOgFyO"
   },
   "outputs": [
    {
     "name": "stdout",
     "output_type": "stream",
     "text": [
      "<class 'pandas.core.frame.DataFrame'>\n",
      "Int64Index: 7486 entries, 0 to 7485\n",
      "Data columns (total 16 columns):\n",
      " #   Column                 Non-Null Count  Dtype  \n",
      "---  ------                 --------------  -----  \n",
      " 0   title                  7486 non-null   object \n",
      " 1   puNumber               7486 non-null   object \n",
      " 2   show_start_date        7486 non-null   object \n",
      " 3   type                   7486 non-null   object \n",
      " 4   film_studio            7468 non-null   object \n",
      " 5   production_country     7484 non-null   object \n",
      " 6   director               7477 non-null   object \n",
      " 7   producer               6918 non-null   object \n",
      " 8   age_restriction        7486 non-null   object \n",
      " 9   refundable_support     332 non-null    float64\n",
      " 10  nonrefundable_support  332 non-null    float64\n",
      " 11  budget                 332 non-null    float64\n",
      " 12  financing_source       332 non-null    object \n",
      " 13  ratings                6519 non-null   object \n",
      " 14  genres                 6510 non-null   object \n",
      " 15  box_office             3158 non-null   float64\n",
      "dtypes: float64(4), object(12)\n",
      "memory usage: 994.2+ KB\n",
      "None\n"
     ]
    },
    {
     "data": {
      "text/html": [
       "<div>\n",
       "<style scoped>\n",
       "    .dataframe tbody tr th:only-of-type {\n",
       "        vertical-align: middle;\n",
       "    }\n",
       "\n",
       "    .dataframe tbody tr th {\n",
       "        vertical-align: top;\n",
       "    }\n",
       "\n",
       "    .dataframe thead th {\n",
       "        text-align: right;\n",
       "    }\n",
       "</style>\n",
       "<table border=\"1\" class=\"dataframe\">\n",
       "  <thead>\n",
       "    <tr style=\"text-align: right;\">\n",
       "      <th></th>\n",
       "      <th>title</th>\n",
       "      <th>puNumber</th>\n",
       "      <th>show_start_date</th>\n",
       "      <th>type</th>\n",
       "      <th>film_studio</th>\n",
       "      <th>production_country</th>\n",
       "      <th>director</th>\n",
       "      <th>producer</th>\n",
       "      <th>age_restriction</th>\n",
       "      <th>refundable_support</th>\n",
       "      <th>nonrefundable_support</th>\n",
       "      <th>budget</th>\n",
       "      <th>financing_source</th>\n",
       "      <th>ratings</th>\n",
       "      <th>genres</th>\n",
       "      <th>box_office</th>\n",
       "    </tr>\n",
       "  </thead>\n",
       "  <tbody>\n",
       "    <tr>\n",
       "      <th>0</th>\n",
       "      <td>Открытый простор</td>\n",
       "      <td>221048915</td>\n",
       "      <td>2015-11-27T12:00:00.000Z</td>\n",
       "      <td>Художественный</td>\n",
       "      <td>Тачстоун Пикчерз, Кобальт Пикчерз, Бикон Пикче...</td>\n",
       "      <td>США</td>\n",
       "      <td>Кевин Костнер</td>\n",
       "      <td>Дэвид Валдес, Кевин Костнер, Джейк Эбертс</td>\n",
       "      <td>«18+» - запрещено для детей</td>\n",
       "      <td>NaN</td>\n",
       "      <td>NaN</td>\n",
       "      <td>NaN</td>\n",
       "      <td>NaN</td>\n",
       "      <td>7.2</td>\n",
       "      <td>боевик,драма,мелодрама</td>\n",
       "      <td>NaN</td>\n",
       "    </tr>\n",
       "    <tr>\n",
       "      <th>1</th>\n",
       "      <td>Особо важное задание</td>\n",
       "      <td>111013716</td>\n",
       "      <td>2016-09-13T12:00:00.000Z</td>\n",
       "      <td>Художественный</td>\n",
       "      <td>Киностудия \"Мосфильм\"</td>\n",
       "      <td>СССР</td>\n",
       "      <td>Е.Матвеев</td>\n",
       "      <td>NaN</td>\n",
       "      <td>«6+» - для детей старше 6 лет</td>\n",
       "      <td>NaN</td>\n",
       "      <td>NaN</td>\n",
       "      <td>NaN</td>\n",
       "      <td>NaN</td>\n",
       "      <td>6.6</td>\n",
       "      <td>драма,военный</td>\n",
       "      <td>NaN</td>\n",
       "    </tr>\n",
       "    <tr>\n",
       "      <th>2</th>\n",
       "      <td>Особо опасен</td>\n",
       "      <td>221038416</td>\n",
       "      <td>2016-10-10T12:00:00.000Z</td>\n",
       "      <td>Художественный</td>\n",
       "      <td>Юниверсал Пикчерз, Кикстарт Продакшнз, Марк Пл...</td>\n",
       "      <td>США</td>\n",
       "      <td>Тимур Бекмамбетов</td>\n",
       "      <td>Джим Лемли, Джейсон Нетер, Марк Е.Платт, Яйн Смит</td>\n",
       "      <td>«18+» - запрещено для детей</td>\n",
       "      <td>NaN</td>\n",
       "      <td>NaN</td>\n",
       "      <td>NaN</td>\n",
       "      <td>NaN</td>\n",
       "      <td>6.8</td>\n",
       "      <td>фантастика,боевик,триллер</td>\n",
       "      <td>NaN</td>\n",
       "    </tr>\n",
       "    <tr>\n",
       "      <th>3</th>\n",
       "      <td>Особо опасен</td>\n",
       "      <td>221026916</td>\n",
       "      <td>2016-06-10T12:00:00.000Z</td>\n",
       "      <td>Художественный</td>\n",
       "      <td>Юниверсал Пикчерз, Кикстарт Продакшнз, Марк Пл...</td>\n",
       "      <td>США</td>\n",
       "      <td>Тимур Бекмамбетов</td>\n",
       "      <td>Джим Лемли, Джейсон Нетер, Марк Е.Платт, Яйн Смит</td>\n",
       "      <td>«18+» - запрещено для детей</td>\n",
       "      <td>NaN</td>\n",
       "      <td>NaN</td>\n",
       "      <td>NaN</td>\n",
       "      <td>NaN</td>\n",
       "      <td>6.8</td>\n",
       "      <td>фантастика,боевик,триллер</td>\n",
       "      <td>NaN</td>\n",
       "    </tr>\n",
       "    <tr>\n",
       "      <th>4</th>\n",
       "      <td>Особо опасен</td>\n",
       "      <td>221030815</td>\n",
       "      <td>2015-07-29T12:00:00.000Z</td>\n",
       "      <td>Художественный</td>\n",
       "      <td>Юниверсал Пикчерз, Кикстарт Продакшнз, Марк Пл...</td>\n",
       "      <td>США</td>\n",
       "      <td>Тимур Бекмамбетов</td>\n",
       "      <td>Джим Лемли, Джейсон Нетер, Марк Е.Платт, Яйн Смит</td>\n",
       "      <td>«18+» - запрещено для детей</td>\n",
       "      <td>NaN</td>\n",
       "      <td>NaN</td>\n",
       "      <td>NaN</td>\n",
       "      <td>NaN</td>\n",
       "      <td>6.8</td>\n",
       "      <td>фантастика,боевик,триллер</td>\n",
       "      <td>NaN</td>\n",
       "    </tr>\n",
       "    <tr>\n",
       "      <th>5</th>\n",
       "      <td>Остановился поезд</td>\n",
       "      <td>111013816</td>\n",
       "      <td>2016-09-13T12:00:00.000Z</td>\n",
       "      <td>Художественный</td>\n",
       "      <td>Киностудия \"Мосфильм\"</td>\n",
       "      <td>СССР</td>\n",
       "      <td>В.Абдрашитов</td>\n",
       "      <td>NaN</td>\n",
       "      <td>«6+» - для детей старше 6 лет</td>\n",
       "      <td>NaN</td>\n",
       "      <td>NaN</td>\n",
       "      <td>NaN</td>\n",
       "      <td>NaN</td>\n",
       "      <td>7.7</td>\n",
       "      <td>драма</td>\n",
       "      <td>NaN</td>\n",
       "    </tr>\n",
       "    <tr>\n",
       "      <th>6</th>\n",
       "      <td>Любовь и голуби</td>\n",
       "      <td>111007013</td>\n",
       "      <td>2013-10-18T12:00:00.000Z</td>\n",
       "      <td>Художественный</td>\n",
       "      <td>Киностудия \"Мосфильм\"</td>\n",
       "      <td>СССР</td>\n",
       "      <td>В.Меньшов</td>\n",
       "      <td>NaN</td>\n",
       "      <td>«12+» - для детей старше 12 лет</td>\n",
       "      <td>NaN</td>\n",
       "      <td>NaN</td>\n",
       "      <td>NaN</td>\n",
       "      <td>NaN</td>\n",
       "      <td>8.3</td>\n",
       "      <td>мелодрама,комедия</td>\n",
       "      <td>2700.0</td>\n",
       "    </tr>\n",
       "    <tr>\n",
       "      <th>7</th>\n",
       "      <td>Любовь и сигареты</td>\n",
       "      <td>221074614</td>\n",
       "      <td>2014-12-29T12:00:00.000Z</td>\n",
       "      <td>Художественный</td>\n",
       "      <td>Юнайтед Артистс, Грин Стрит Филмз, Айкон Интер...</td>\n",
       "      <td>США</td>\n",
       "      <td>Джон Туртурро</td>\n",
       "      <td>Джон Пенотти, Джон Туртурро</td>\n",
       "      <td>«18+» - запрещено для детей</td>\n",
       "      <td>NaN</td>\n",
       "      <td>NaN</td>\n",
       "      <td>NaN</td>\n",
       "      <td>NaN</td>\n",
       "      <td>6.6</td>\n",
       "      <td>мюзикл,мелодрама,комедия</td>\n",
       "      <td>NaN</td>\n",
       "    </tr>\n",
       "    <tr>\n",
       "      <th>8</th>\n",
       "      <td>Отпетые мошенники.</td>\n",
       "      <td>121011416</td>\n",
       "      <td>2016-05-05T12:00:00.000Z</td>\n",
       "      <td>Художественный</td>\n",
       "      <td>Пульсар Продюксьон, ТФ1 Фильм</td>\n",
       "      <td>Франция</td>\n",
       "      <td>Эрик Беснард</td>\n",
       "      <td>Патрис Леду</td>\n",
       "      <td>«18+» - запрещено для детей</td>\n",
       "      <td>NaN</td>\n",
       "      <td>NaN</td>\n",
       "      <td>NaN</td>\n",
       "      <td>NaN</td>\n",
       "      <td>8.0</td>\n",
       "      <td>комедия,криминал</td>\n",
       "      <td>NaN</td>\n",
       "    </tr>\n",
       "    <tr>\n",
       "      <th>9</th>\n",
       "      <td>Отпуск за свой счет</td>\n",
       "      <td>111019114</td>\n",
       "      <td>2014-12-01T12:00:00.000Z</td>\n",
       "      <td>Художественный</td>\n",
       "      <td>Киностудия \"Мосфильм\", Телевидение ВНР</td>\n",
       "      <td>СССР, Венгрия</td>\n",
       "      <td>В.Титов</td>\n",
       "      <td>NaN</td>\n",
       "      <td>«12+» - для детей старше 12 лет</td>\n",
       "      <td>NaN</td>\n",
       "      <td>NaN</td>\n",
       "      <td>NaN</td>\n",
       "      <td>NaN</td>\n",
       "      <td>7.8</td>\n",
       "      <td>мелодрама,комедия</td>\n",
       "      <td>NaN</td>\n",
       "    </tr>\n",
       "  </tbody>\n",
       "</table>\n",
       "</div>"
      ],
      "text/plain": [
       "                  title   puNumber           show_start_date            type  \\\n",
       "0      Открытый простор  221048915  2015-11-27T12:00:00.000Z  Художественный   \n",
       "1  Особо важное задание  111013716  2016-09-13T12:00:00.000Z  Художественный   \n",
       "2          Особо опасен  221038416  2016-10-10T12:00:00.000Z  Художественный   \n",
       "3          Особо опасен  221026916  2016-06-10T12:00:00.000Z  Художественный   \n",
       "4          Особо опасен  221030815  2015-07-29T12:00:00.000Z  Художественный   \n",
       "5     Остановился поезд  111013816  2016-09-13T12:00:00.000Z  Художественный   \n",
       "6       Любовь и голуби  111007013  2013-10-18T12:00:00.000Z  Художественный   \n",
       "7     Любовь и сигареты  221074614  2014-12-29T12:00:00.000Z  Художественный   \n",
       "8    Отпетые мошенники.  121011416  2016-05-05T12:00:00.000Z  Художественный   \n",
       "9   Отпуск за свой счет  111019114  2014-12-01T12:00:00.000Z  Художественный   \n",
       "\n",
       "                                         film_studio production_country  \\\n",
       "0  Тачстоун Пикчерз, Кобальт Пикчерз, Бикон Пикче...                США   \n",
       "1                              Киностудия \"Мосфильм\"               СССР   \n",
       "2  Юниверсал Пикчерз, Кикстарт Продакшнз, Марк Пл...                США   \n",
       "3  Юниверсал Пикчерз, Кикстарт Продакшнз, Марк Пл...                США   \n",
       "4  Юниверсал Пикчерз, Кикстарт Продакшнз, Марк Пл...                США   \n",
       "5                              Киностудия \"Мосфильм\"               СССР   \n",
       "6                              Киностудия \"Мосфильм\"               СССР   \n",
       "7  Юнайтед Артистс, Грин Стрит Филмз, Айкон Интер...                США   \n",
       "8                     Пульсар Продюксьон, ТФ1 Фильм             Франция   \n",
       "9             Киностудия \"Мосфильм\", Телевидение ВНР      СССР, Венгрия   \n",
       "\n",
       "            director                                           producer  \\\n",
       "0      Кевин Костнер          Дэвид Валдес, Кевин Костнер, Джейк Эбертс   \n",
       "1          Е.Матвеев                                                NaN   \n",
       "2  Тимур Бекмамбетов  Джим Лемли, Джейсон Нетер, Марк Е.Платт, Яйн Смит   \n",
       "3  Тимур Бекмамбетов  Джим Лемли, Джейсон Нетер, Марк Е.Платт, Яйн Смит   \n",
       "4  Тимур Бекмамбетов  Джим Лемли, Джейсон Нетер, Марк Е.Платт, Яйн Смит   \n",
       "5       В.Абдрашитов                                                NaN   \n",
       "6          В.Меньшов                                                NaN   \n",
       "7      Джон Туртурро                        Джон Пенотти, Джон Туртурро   \n",
       "8       Эрик Беснард                                        Патрис Леду   \n",
       "9            В.Титов                                                NaN   \n",
       "\n",
       "                   age_restriction  refundable_support  nonrefundable_support  \\\n",
       "0      «18+» - запрещено для детей                 NaN                    NaN   \n",
       "1    «6+» - для детей старше 6 лет                 NaN                    NaN   \n",
       "2      «18+» - запрещено для детей                 NaN                    NaN   \n",
       "3      «18+» - запрещено для детей                 NaN                    NaN   \n",
       "4      «18+» - запрещено для детей                 NaN                    NaN   \n",
       "5    «6+» - для детей старше 6 лет                 NaN                    NaN   \n",
       "6  «12+» - для детей старше 12 лет                 NaN                    NaN   \n",
       "7      «18+» - запрещено для детей                 NaN                    NaN   \n",
       "8      «18+» - запрещено для детей                 NaN                    NaN   \n",
       "9  «12+» - для детей старше 12 лет                 NaN                    NaN   \n",
       "\n",
       "   budget financing_source ratings                     genres  box_office  \n",
       "0     NaN              NaN     7.2     боевик,драма,мелодрама         NaN  \n",
       "1     NaN              NaN     6.6              драма,военный         NaN  \n",
       "2     NaN              NaN     6.8  фантастика,боевик,триллер         NaN  \n",
       "3     NaN              NaN     6.8  фантастика,боевик,триллер         NaN  \n",
       "4     NaN              NaN     6.8  фантастика,боевик,триллер         NaN  \n",
       "5     NaN              NaN     7.7                      драма         NaN  \n",
       "6     NaN              NaN     8.3          мелодрама,комедия      2700.0  \n",
       "7     NaN              NaN     6.6   мюзикл,мелодрама,комедия         NaN  \n",
       "8     NaN              NaN     8.0           комедия,криминал         NaN  \n",
       "9     NaN              NaN     7.8          мелодрама,комедия         NaN  "
      ]
     },
     "metadata": {},
     "output_type": "display_data"
    }
   ],
   "source": [
    "print(data.info())\n",
    "display(data.head(10))"
   ]
  },
  {
   "cell_type": "markdown",
   "metadata": {},
   "source": [
    "Можно увидеть, что рейтинг и дата премьеры фильма храняться в строковом формате, следовательно формат данных в отмеченных столбцах необходимо изменить."
   ]
  },
  {
   "cell_type": "code",
   "execution_count": 5,
   "metadata": {},
   "outputs": [
    {
     "name": "stdout",
     "output_type": "stream",
     "text": [
      "['7.2' '6.6' '6.8' '7.7' '8.3' '8.0' '7.8' '8.1' '7.1' '6.0' '7.4' '5.8'\n",
      " '8.7' '6.3' '6.9' '5.0' '4.3' '7.3' '7.0' '6.4' nan '8.2' '7.5' '6.7'\n",
      " '7.9' '5.9' '6.2' '5.6' '6.5' '2.4' '7.6' '6.1' '8.6' '8.5' '8.8' '5.5'\n",
      " '5.1' '5.7' '5.4' '99%' '4.4' '4.5' '5.3' '4.1' '8.4' '2.6' '3.8' '4.6'\n",
      " '4.8' '4.0' '3.0' '1.6' '4.2' '5.2' '4.7' '4.9' '3.9' '2.7' '3.3' '2.9'\n",
      " '28%' '3.7' '1.4' '3.1' '97%' '3.5' '3.2' '2.8' '1.5' '2.1' '2.5' '9.2'\n",
      " '3.4' '1.1' '3.6' '83%' '64%' '91%' '94%' '62%' '79%' '90%' '19%' '88%'\n",
      " '1.0' '89%' '1.3' '1.9' '1.8' '1.2' '1.7' '9.0' '98%' '8.9' '9.1']\n"
     ]
    }
   ],
   "source": [
    "print(data['ratings'].unique())"
   ]
  },
  {
   "cell_type": "markdown",
   "metadata": {},
   "source": [
    "Для работы со столбцом ratings необходимо определить значения, которые содержат не только цифру и точку в своей записи. Затем необходимо, чтобы данные хранились не в % значениях, а все были приведы к 10 бальной системе оценивания и затем переведены в числовые значения."
   ]
  },
  {
   "cell_type": "code",
   "execution_count": 6,
   "metadata": {},
   "outputs": [],
   "source": [
    "useless_raitings = data[data['ratings'].str.contains('[^0-9.]').fillna(False)]\n",
    "data.loc[useless_raitings.index, 'ratings'] = useless_raitings['ratings'].str[0] + '.' + useless_raitings['ratings'].str[1]\n",
    "\n",
    "data['ratings'] = pd.to_numeric(data['ratings'])"
   ]
  },
  {
   "cell_type": "code",
   "execution_count": 7,
   "metadata": {},
   "outputs": [
    {
     "name": "stdout",
     "output_type": "stream",
     "text": [
      "[7.2 6.6 6.8 7.7 8.3 8.  7.8 8.1 7.1 6.  7.4 5.8 8.7 6.3 6.9 5.  4.3 7.3\n",
      " 7.  6.4 nan 8.2 7.5 6.7 7.9 5.9 6.2 5.6 6.5 2.4 7.6 6.1 8.6 8.5 8.8 5.5\n",
      " 5.1 5.7 5.4 9.9 4.4 4.5 5.3 4.1 8.4 2.6 3.8 4.6 4.8 4.  3.  1.6 4.2 5.2\n",
      " 4.7 4.9 3.9 2.7 3.3 2.9 2.8 3.7 1.4 3.1 9.7 3.5 3.2 1.5 2.1 2.5 9.2 3.4\n",
      " 1.1 3.6 9.1 9.4 9.  1.9 1.  8.9 1.3 1.8 1.2 1.7 9.8]\n"
     ]
    }
   ],
   "source": [
    "print(data['ratings'].unique())"
   ]
  },
  {
   "cell_type": "code",
   "execution_count": 8,
   "metadata": {},
   "outputs": [],
   "source": [
    "data['show_start_date'] = pd.to_datetime(data['show_start_date'], format='%Y-%m-%dT%H:%M:%S.%fZ')"
   ]
  },
  {
   "cell_type": "code",
   "execution_count": 9,
   "metadata": {},
   "outputs": [
    {
     "name": "stdout",
     "output_type": "stream",
     "text": [
      "<class 'pandas.core.frame.DataFrame'>\n",
      "Int64Index: 7486 entries, 0 to 7485\n",
      "Data columns (total 16 columns):\n",
      " #   Column                 Non-Null Count  Dtype         \n",
      "---  ------                 --------------  -----         \n",
      " 0   title                  7486 non-null   object        \n",
      " 1   puNumber               7486 non-null   object        \n",
      " 2   show_start_date        7486 non-null   datetime64[ns]\n",
      " 3   type                   7486 non-null   object        \n",
      " 4   film_studio            7468 non-null   object        \n",
      " 5   production_country     7484 non-null   object        \n",
      " 6   director               7477 non-null   object        \n",
      " 7   producer               6918 non-null   object        \n",
      " 8   age_restriction        7486 non-null   object        \n",
      " 9   refundable_support     332 non-null    float64       \n",
      " 10  nonrefundable_support  332 non-null    float64       \n",
      " 11  budget                 332 non-null    float64       \n",
      " 12  financing_source       332 non-null    object        \n",
      " 13  ratings                6519 non-null   float64       \n",
      " 14  genres                 6510 non-null   object        \n",
      " 15  box_office             3158 non-null   float64       \n",
      "dtypes: datetime64[ns](1), float64(5), object(10)\n",
      "memory usage: 1.2+ MB\n",
      "None\n"
     ]
    }
   ],
   "source": [
    "print(data.info())"
   ]
  },
  {
   "cell_type": "markdown",
   "metadata": {
    "id": "i0MOLbF-gFyP"
   },
   "source": [
    "### Изучите пропуски в датафрейме\n",
    "\n",
    "**Объясните, почему заполнили пропуски определённым образом или почему не стали этого делать.**"
   ]
  },
  {
   "cell_type": "code",
   "execution_count": 10,
   "metadata": {
    "id": "8MJD_lkngFyP"
   },
   "outputs": [
    {
     "name": "stdout",
     "output_type": "stream",
     "text": [
      "title                       0\n",
      "puNumber                    0\n",
      "show_start_date             0\n",
      "type                        0\n",
      "film_studio                18\n",
      "production_country          2\n",
      "director                    9\n",
      "producer                  568\n",
      "age_restriction             0\n",
      "refundable_support       7154\n",
      "nonrefundable_support    7154\n",
      "budget                   7154\n",
      "financing_source         7154\n",
      "ratings                   967\n",
      "genres                    976\n",
      "box_office               4328\n",
      "dtype: int64\n"
     ]
    }
   ],
   "source": [
    "print(data.isna().sum())"
   ]
  },
  {
   "cell_type": "markdown",
   "metadata": {},
   "source": [
    "Рассмотреение пропусков в данных показало, что пропуски существует в таких столбцах как: \n",
    "- film_studio                18\n",
    "- production_country          2\n",
    "- director                    9\n",
    "- producer                  568\n",
    "- refundable_support       7154\n",
    "- nonrefundable_support    7154\n",
    "- budget                   7154\n",
    "- financing_source         7154\n",
    "- ratings                   967\n",
    "- genres                    976\n",
    "- box_office               4328"
   ]
  },
  {
   "cell_type": "markdown",
   "metadata": {},
   "source": [
    "- Заполнение пропусков в данном наборе данных не кажется логичным. Пропусков в данных в столбац film_studio, production_country и director не превышают 20, данные показатели незначительны, а также не представляется логичным найти связь между, допустим, страной создателем и каким-либо другим показателем. \n",
    "- Количесство пропусков в столбцах, связанных с финансированием одинаково и, следовательно, относится к объему государственной поддержки (исходя из того, что данные в столбце бюджет указаны только для тех фильмов, которые получили государственную поддержку. \n",
    "- Заполненеи пропусков в столбац жанр и рейтинг средним или медианным значением по режиссеру также не кажется логичным, так как у всех случаются как удачные, так и провальные работы. \n",
    "- Сборы в рублях также не представляется логичным заполнить медианным значением, так как, чаше всего, на сборы влияет актерский состав и популряность актеров или же режиссера."
   ]
  },
  {
   "cell_type": "code",
   "execution_count": 11,
   "metadata": {},
   "outputs": [],
   "source": [
    "data['director'] = data['director'].fillna('Unknown')\n",
    "data['producer'] = data['producer'].fillna('Unknown')\n",
    "data['genres'] = data['genres'].fillna('Unknown')\n",
    "data['film_studio'] = data['film_studio'].fillna('Unknown')\n",
    "data['production_country'] = data['production_country'].fillna('Uknown')"
   ]
  },
  {
   "cell_type": "code",
   "execution_count": 12,
   "metadata": {},
   "outputs": [
    {
     "name": "stdout",
     "output_type": "stream",
     "text": [
      "title                       0\n",
      "puNumber                    0\n",
      "show_start_date             0\n",
      "type                        0\n",
      "film_studio                 0\n",
      "production_country          0\n",
      "director                    0\n",
      "producer                    0\n",
      "age_restriction             0\n",
      "refundable_support       7154\n",
      "nonrefundable_support    7154\n",
      "budget                   7154\n",
      "financing_source         7154\n",
      "ratings                   967\n",
      "genres                      0\n",
      "box_office               4328\n",
      "dtype: int64\n"
     ]
    }
   ],
   "source": [
    "print(data.isna().sum())"
   ]
  },
  {
   "cell_type": "markdown",
   "metadata": {
    "id": "4c6k1t9ygFyQ"
   },
   "source": [
    "### Изучите дубликаты в датафрейме\n",
    "**Проверьте, есть ли в данных дубликаты. Опишите причины, которые могли повлиять на появление дублей.**"
   ]
  },
  {
   "cell_type": "code",
   "execution_count": 13,
   "metadata": {
    "id": "aKck8RIdgFyQ"
   },
   "outputs": [
    {
     "name": "stdout",
     "output_type": "stream",
     "text": [
      "Количество дубликатов: 0\n"
     ]
    },
    {
     "data": {
      "text/plain": [
       "title                    6772\n",
       "puNumber                 7484\n",
       "show_start_date          1965\n",
       "type                        8\n",
       "film_studio              5491\n",
       "production_country        951\n",
       "director                 4812\n",
       "producer                 5350\n",
       "age_restriction             5\n",
       "refundable_support         34\n",
       "nonrefundable_support      75\n",
       "budget                    290\n",
       "financing_source            3\n",
       "ratings                    84\n",
       "genres                    743\n",
       "box_office               2938\n",
       "dtype: int64"
      ]
     },
     "execution_count": 13,
     "metadata": {},
     "output_type": "execute_result"
    }
   ],
   "source": [
    "print('Количество дубликатов:', data.duplicated().sum())\n",
    "data.nunique()"
   ]
  },
  {
   "cell_type": "markdown",
   "metadata": {},
   "source": [
    "- Дубликаты в столбце title можно объяснить тем, что один и тот же фильм мог выходить в разное время, его могли выпсукать разные прокатчики и на разных платформах (кинотератры и тв).\n",
    "- Дубликаты в столбце puNumberмогли появится из-за того, что один и тот же фильм показывали либо в кинотеатрах. либо на телевидении. Возможно, также мог сработать человеческий фактор и кто-то допустил ошибку при заполнении информации о киноленте. \n",
    "- Дубликаты в show_start_date не должны удивлять: старт показа фильмов может планироваться заранее на одну и ту же дату. \n",
    "- Дубликаты в столбце тип фильма, студия производителеь, страна производитель, режиссер, продюссер, возрастная категория,объём возвратных/невозвратных средств государственной поддержки, источник государственной поддержки, общий бюджет, рейтинг и жанр могли образоваться естественным образом: фильмы могут иметь одинаковые характеристики по данным показателям, так как могут быть сняты одно студией, одним режиссером и тд."
   ]
  },
  {
   "cell_type": "markdown",
   "metadata": {
    "id": "52fOPrEBgFyQ"
   },
   "source": [
    "### Изучите категориальные значения\n",
    "\n",
    "**Посмотрите, какая общая проблема встречается почти во всех категориальных столбцах;**\n",
    "\n",
    "**Исправьте проблемные значения в поле `type`.**\n",
    "\n",
    "<div id=\"accordion\">\n",
    "    <div class=\"card\">\n",
    "        <div class=\"card-header\" id=\"headingThree\">\n",
    "            <button class=\"btn btn-link collapsed\" data-toggle=\"collapse\" data-target=\"#collapseHint_1\" aria-expanded=\"false\" aria-controls=\"collapseHint_1\">Подсказка</button>\n",
    "        </div>\n",
    "        <div id=\"collapseHint_1\" class=\"collapse\" aria-labelledby=\"headingThree\" data-parent=\"#accordion\">\n",
    "            <div class=\"card-body\">\n",
    "В поле <code>type</code> есть несколько значений, у которых появился пробел в начале строки. Самый простой способ их «починить» -- использовать метод <a href=\"https://pandas.pydata.org/docs/reference/api/pandas.Series.str.strip.html#pandas.Series.str.strip\">.str.strip</a>. Этот метод удаляет все пробелы, которые встречаются в начале и в конце строки. Применяют его таким образом:<br>\n",
    "<code>df['type'].str.strip()</code>\n",
    "            </div>\n",
    "        </div>\n",
    "    </div>\n",
    "</div>"
   ]
  },
  {
   "cell_type": "code",
   "execution_count": 14,
   "metadata": {
    "id": "PnXKIVdFgFyR"
   },
   "outputs": [
    {
     "data": {
      "text/plain": [
       "array(['Художественный', 'Анимационный', 'Прочие', 'Документальный',\n",
       "       'Научно-популярный', ' Художественный', ' Анимационный',\n",
       "       'Музыкально-развлекательный'], dtype=object)"
      ]
     },
     "execution_count": 14,
     "metadata": {},
     "output_type": "execute_result"
    }
   ],
   "source": [
    "data['type'].str.strip()\n",
    "data['type'].unique()"
   ]
  },
  {
   "cell_type": "code",
   "execution_count": 15,
   "metadata": {},
   "outputs": [
    {
     "data": {
      "text/plain": [
       "array(['«18+» - запрещено для детей', '«6+» - для детей старше 6 лет',\n",
       "       '«12+» - для детей старше 12 лет',\n",
       "       '«16+» - для детей старше 16 лет',\n",
       "       '«0+» - для любой зрительской аудитории'], dtype=object)"
      ]
     },
     "execution_count": 15,
     "metadata": {},
     "output_type": "execute_result"
    }
   ],
   "source": [
    "data['age_restriction'].unique()"
   ]
  },
  {
   "cell_type": "code",
   "execution_count": 16,
   "metadata": {},
   "outputs": [
    {
     "data": {
      "text/plain": [
       "array([nan, 'Министерство культуры', 'Фонд кино',\n",
       "       'Министерство культуры, Фонд кино'], dtype=object)"
      ]
     },
     "execution_count": 16,
     "metadata": {},
     "output_type": "execute_result"
    }
   ],
   "source": [
    "data['financing_source'].unique()"
   ]
  },
  {
   "cell_type": "code",
   "execution_count": 17,
   "metadata": {},
   "outputs": [
    {
     "data": {
      "text/plain": [
       "array(['США', 'СССР', 'Франция', 'СССР, Венгрия',\n",
       "       'Германия-Великобритания', 'Великобритания - Италия',\n",
       "       'Чехословакия', 'США - Франция - Турция', 'Новая Зеландия',\n",
       "       'Канада - Франция - Испания', 'США-Германия',\n",
       "       'США - Великобритания', 'Великобритания', 'США - Германия',\n",
       "       'Франция - Мексика - США', 'Россия, Казахстан, США',\n",
       "       'СССР, Швеция', 'СССР, Франция, Англия, Куба, ГДР', 'Германия',\n",
       "       'Великобритания-США-Германия-КНР',\n",
       "       'СССР, ЧССР, Западный Берлин, ПНР', 'СССР, Италия', 'Гонконг, КНР',\n",
       "       'США - Франция', 'США - Япония - Франция - Великобритания',\n",
       "       'Гонконг - Сингапур - Таиланд - Великобритания', 'США-Канада',\n",
       "       'Франция - Италия - Великобритания - США', 'Франция - США',\n",
       "       'Ирландия-Великобритания-Германия', 'Чехия', 'США-Австралия',\n",
       "       'СССР, Финляндия', 'США-Франция-Великобритания-Австрия',\n",
       "       'США - Бельгия', 'США - Ирландия - Великобритания',\n",
       "       'Великобритания - США',\n",
       "       'Люксембург - Нидерланды - Испания - Великобритания - США - Италия',\n",
       "       'Великобритания - Франция - США', 'Новая Зеландия - США',\n",
       "       'США - Великобритания - Чехия',\n",
       "       'Канада - Франция - Великобритания', 'Ирландия',\n",
       "       'Великобритания - Германия - США',\n",
       "       'США - Франция - Великобритания', 'Япония', 'СССР, Польша',\n",
       "       'Франция - Испания', 'Канада-Франция', 'Германия - Италия - США',\n",
       "       'Аргентина - Бразилия', 'Дания - Швейцария - Бельгия - Франция',\n",
       "       'США - Испания', 'Германия - США',\n",
       "       'Франция - Австрия - Германия - Италия - США', 'Австрия',\n",
       "       'США - Канада - Германия', 'США - Канада',\n",
       "       'СССР - Швейцария - Франция', 'Россия - Казахстан', 'Гонконг',\n",
       "       'Италия', 'США - ОАЭ', 'Россия',\n",
       "       'США - Франция - Испания - Великобритания',\n",
       "       'Великобритания - Франция', 'США-Италия-Испания-Аргентина',\n",
       "       'Франция-Великобритания', 'КНР - Гонконг',\n",
       "       'Франция - Италия - Швейцария', 'США - Новая Зеландия',\n",
       "       'Франция - Бельгия', 'КНР', 'Германия - Великобритания - Австрия',\n",
       "       'Великобритания - Израиль - Франция - Япония - США', 'Швеция',\n",
       "       'Испания', 'Дания', 'Франция - Бельгия - Люксембург',\n",
       "       'США - Индия - ОАЭ',\n",
       "       'Германия-Канада-Великобритания-Швейцария-Франция',\n",
       "       'Мексика - Чили', 'Аргентина', 'Бразилия', 'Чили', 'Австралия',\n",
       "       'Португалия - Франция', 'США - ЮАР', 'Исландия-Ирландия-Германия',\n",
       "       'США-Индонезия', 'Южная Корея', 'Мексика - Испания - Дания - США',\n",
       "       'Великобритания-США', 'Франция - Италия', 'США-Франция',\n",
       "       'США - Венгрия - Великобритания', 'Бельгия-Франция-Италия',\n",
       "       'Чехия - Германия', 'Германия - Франция', 'США-Нидерланды',\n",
       "       'Украина', 'Великобритания - Германия', 'Франция-Бельгия',\n",
       "       'США-Франция-Испания', 'Италия - Франция', 'Канада',\n",
       "       'Швеция-Франция-Дания', 'Германия-Франция-Польша',\n",
       "       'Франция-Великобритания - Германия',\n",
       "       'США - Бразилия - Франция - Австралия - Великобритания - Германия',\n",
       "       'Германия-Австрия', 'Германия-Италия- Шри-Ланка',\n",
       "       'Великобритания - Испания',\n",
       "       'США - Великобритания - Канада - Швеция',\n",
       "       'Босния и Герцеговина - Франция - Великобритания - Германия - Словения - Бельгия - Сербия',\n",
       "       'Великобритания - Франция - Италия - США', 'США-ОАЭ',\n",
       "       'Испания - Франция', 'США-Великобритания', 'США-ЮАР',\n",
       "       'Великобритания-Австралия - США',\n",
       "       'Норвегия - Швеция - Дания - Германия', 'Норвегия', 'Швейцария',\n",
       "       'Греция - Германия - Франция', 'Норвения', 'Южная Корея - США',\n",
       "       'Чили - Франция - США', 'Австрия - Германия - Франция',\n",
       "       'Швеция - Дания', 'Великобритания - Франция - Бельгия - Италия',\n",
       "       'Франция - Германия', 'Грузия - Франция - Люксембург',\n",
       "       'США - Франция - Великобритания - Бразилия ', 'США - КНР',\n",
       "       'Мексика - Франция', 'США - Германия - Гонконг - Сингапур',\n",
       "       'Финляндия - Австрия - Россия', 'Испания - Куба',\n",
       "       'Великобритания - ЮАР', 'Великобритания - Ирландия', 'Израиль',\n",
       "       'Бразилия - Германия - Порртугалия - Франция ',\n",
       "       'Франция - Канада - Бельгия', 'Франция-Испания',\n",
       "       'Испания - Канада - Япония', 'Иран', 'Швеция-Куба',\n",
       "       'США-Великобритания-Ирландия', 'Гонконг - КНР', 'Нидерланды',\n",
       "       'Испания - Канада', 'Япония-Великобритания',\n",
       "       'Великобритания - Норвегия - Дания - Германия',\n",
       "       'Финляндия - Франция - Германия',\n",
       "       'Мексика - Франция - Нидерланды - Германия', 'США - Индия',\n",
       "       'США-Великобритания-Индия', 'США-Канада-Бельгия',\n",
       "       'Республика Узбекистан', 'Италия ', 'Турция',\n",
       "       'Сербия - Словения - Хорватия - Черногория - Македония',\n",
       "       'Киргизия', 'Германия - Нидерланды - Беларусь - Россия - Латвия',\n",
       "       'Индия', 'Нидерланды - Россия - Германия',\n",
       "       'Великобритания - Нидерланды - Франция - Хорватия',\n",
       "       'Канада - Южная Корея',\n",
       "       'Великобритания - Польша - КНР - Индия - Норвегия',\n",
       "       'Япония - Франция - США - Южная Корея - Турция',\n",
       "       'Мексика - Аргентина - Великобритания', 'Израиль - Франция',\n",
       "       'Польша - Португалия - Франция - Великобритания',\n",
       "       'Австралия - США', 'США - Великобритания ',\n",
       "       'Франция - Люксембург - Бельгия', 'Армения',\n",
       "       'Бельгия - Люксембург - Франция - Швейцария',\n",
       "       'США - Великобритания - Канада', 'Норвегия - Швеция',\n",
       "       'Канада - Франция', 'КНР - Гонконг - США',\n",
       "       'США - Сингапур - Малайзия - Индонезия', 'Германия - Россия',\n",
       "       'Япония - Канада', 'Финляндия - Дания - Германия - Ирландия',\n",
       "       'Франция - Люксембург - Германия - Бельгия - Швейцария - Великобритания ',\n",
       "       'Канада - США', 'США-Италия-Испания', 'США-Испания',\n",
       "       'США - Швейцария - Франция', 'Испания - США - Колумбия',\n",
       "       'Канада-ЮАР', 'Франция - Россия',\n",
       "       'Германия - Финляндия - Австралия', 'Дания - Швеция', 'Бельгия',\n",
       "       'Германия - Франция - Австрия', 'Франция-Индия', 'ЮАР',\n",
       "       'Франция-Перу', 'Франция - Канада', 'Республика Беларусь',\n",
       "       'Великобритания - Австрия - Франция - США',\n",
       "       'Австрия-Германия-Франция', 'США-Россия', 'Германия-США',\n",
       "       'США - Южная Корея', 'Канада - КНР',\n",
       "       'Дания - Швеция - Италия - Франция - Германия',\n",
       "       'Франция-Италия-Испания-Венгрия', 'Франция - Германия - Бельгия',\n",
       "       'Франция-Великобритания-Чехия', 'Румыния - Франция - Бельгия',\n",
       "       'Болгария - Франция - Изриль',\n",
       "       'Израиль - Германия - Польша - Бельгия - Франция - Люксембург',\n",
       "       'Россия, Германия, Франция, Бельгия', 'Индонезия',\n",
       "       'Франция - Португалия', 'Великобритания - Пуэрто-Рико',\n",
       "       'СССР, ФРГ, Западный Берлин', 'Россия, Республика Беларусь',\n",
       "       'США, Великобритания', 'Франция - Австрия', 'Бельгия-Нидерланды',\n",
       "       'Великобритания - США - Индия', 'США - Великобритания - Австралия',\n",
       "       'Канада - Франция - США - ОАЭ - Великобритания',\n",
       "       'США - Австралия - Франция',\n",
       "       'Дания-Франция-Бельгия-Германия-Великобритания',\n",
       "       'Испания - Аргентина', 'Исландия - Финляндия',\n",
       "       'Россия-Польша-Голландия-Словакия', 'Дания - Германия - Швеция',\n",
       "       'Южная Корея - США - Канада', 'Таиланд', 'США-Мальта',\n",
       "       'США -Германия',\n",
       "       'Великобритания - Германия - Франция - Кипр - США', 'Мексика',\n",
       "       'США - Великобритания - Ирландия', 'США - Украина',\n",
       "       'США - Финляндия - Испания - Великобритания - Франция',\n",
       "       'Австралия-Великобритания',\n",
       "       'США - Канада - Афганистан - Бельгия - Франция',\n",
       "       'США - Великобритания - Германия - Новая Зеландия - Бельгия - Франция',\n",
       "       'Франция-Канада',\n",
       "       'Ирландия - Финляндия - Бельгия - Великобритания - США - Швейцария',\n",
       "       'Малайзия - США', 'Германия - Италия',\n",
       "       'США - Франция - Бельгия - Италия', 'Франция - Ирландия - Швеция',\n",
       "       'Азербайджан-Россия', 'Великобритания - Италия - Швейцария',\n",
       "       'США - Германия - Великобритания',\n",
       "       'Германия - Бельгия - США -Франция', 'США-Китай', 'Чили - Испания',\n",
       "       'Франция - Швейцария', 'Канада - Испания',\n",
       "       'США - Румыния - Великобритания', 'США - Япония',\n",
       "       'США - Россия - Франция', 'Франция-США', 'Парагвай',\n",
       "       'Германия - Канада', 'США - Канада - Великобритания',\n",
       "       'Финляндия - Канада', 'Уругвай-Мексика-Германия ', 'США - Чили',\n",
       "       'Германия - Аргентина - Нидерланды - Чили',\n",
       "       'США - Канада - Индонезия', 'Армения - Казахстан', 'Финляндия',\n",
       "       'Испания - Италия - Франция',\n",
       "       'Бельгия - Испания - Канада - Нидерланды',\n",
       "       'Великобритания - Франция - Швеция - Бельгия',\n",
       "       'Мексика - Эквадор - Канада - США - Франция - Малайзия - Италия - Аргентина - Германия - Индия  ',\n",
       "       'Франция - Бенльгия', 'Индия - Великобритания',\n",
       "       'Япония - Великобритания - Франция',\n",
       "       'Испания - Уругвай - Аргентина',\n",
       "       'Франция - Италия - Бельгия - Люксембург',\n",
       "       'Франция - Украина - Грузия - Армения',\n",
       "       'Сербия - Германия - Венгрия', 'Франция-Польша', 'Франция ',\n",
       "       'Румыния-США', 'Россия-Азербайджан',\n",
       "       'США - Нидерланды - Бельгия - Венгрия - Греция - Канада',\n",
       "       'Германия - Франция - Люксембург', 'США - Россия',\n",
       "       'Великобритания - США - Франция', 'США - Австралия - Дания',\n",
       "       'Бельгия-Франция', 'США-Мексика',\n",
       "       'Норвегия - Азербайджан - Россия - Колумбия - Великобритания - Венгрия - Румыния - Франция - Грузия',\n",
       "       'СЩА', 'Бразилия - Испания', 'Россия, Франция, Латвия',\n",
       "       'Нидерланды - США - Германия - Канада - Франция - Ирландия - Великобритания',\n",
       "       'Уругвай - Колумбия', 'США - Испания - Болгария',\n",
       "       'Армения - Германия', 'США - Великобритания- Франция - Швеция',\n",
       "       'США - Мексика', 'Австралия-Турция-США', 'Швеция - Германия',\n",
       "       'Польша - Италия - Россия', 'Франция - Бразилия',\n",
       "       'США - Канада - КНР', 'СССР, Венгрия, ЧССР, ГДР',\n",
       "       'Бельгия - Германия - Люксембург', 'СССР  ', 'СССР ', ' СССР ',\n",
       "       'США - Австралия', 'Бразилия - США',\n",
       "       'США - Великобритания - Канада - КНР', 'Франция - Чили',\n",
       "       'Франция - США - Великобритания - Колумбия - Бельгия - Россия',\n",
       "       'Дания - Великобритания - ЮАР', 'СССР   ',\n",
       "       'Россия-США-Канада-Люксембург', 'Россия - Республика Кипр',\n",
       "       'Германия - США - Швеция - Франция',\n",
       "       'Великобритания-Германия-Канада-ЮАР', ' СССР   ', 'СССР     ',\n",
       "       'Ирландия, Канада',\n",
       "       'Япония - Великобритания - Швейцария - Ирландия - Дания - Франция - Польша - Австралия - Канада  ',\n",
       "       'Великобритания, Канада', 'Бельгия - США',\n",
       "       'Великобритания - США - Россия', 'Россия-Украина',\n",
       "       'Германия - США - Великобритания - Израиль', 'Канада - Германия',\n",
       "       'США- Ю.Корея', 'Индия - Мексика',\n",
       "       'Великобритания - Франция - Республика Кипр - Швейцария - США - Сербия',\n",
       "       'Испания - Аргентина - Индия - США',\n",
       "       'Норвегия - Исландия - США - Великобритания ',\n",
       "       'Турция - Германя - Франция', 'Германия - Великобритания',\n",
       "       'Австралия - Германия', 'Мексика - Испания',\n",
       "       'Великобритания - США - Германия - Бельгия',\n",
       "       'США - Чехия - Франция', 'Россия - Италия', 'Франция-Россия',\n",
       "       'Норвегия - Дания - Швеция', 'Франция - Швейцария - Германия',\n",
       "       'Грузия - Украина', 'Россия - Эстония - Финляндия - Беларусь',\n",
       "       'США - Франция - ЮАР', 'Великобритания - США - Швейцария',\n",
       "       'Канада-США', 'Мексика - Нидерланды - Германия - Франция',\n",
       "       'США - Испания - Франция', 'США - Великобритания - КНР',\n",
       "       'США-Франция-Канада',\n",
       "       'Япония, Великобритания, Австрия, Германия, Ю.Корея',\n",
       "       'Великобритания - Ирландия - США', 'Бельгия - Италия - Франция ',\n",
       "       'Швейцария-Германия-ЮАР', 'Великобритания - США - Германия',\n",
       "       'Германия - Исландия', 'Испания - США', 'СССР    ', 'Хорватия',\n",
       "       'Финляндия - Исландия - Швеция',\n",
       "       'Канада - США - Германия - Франция',\n",
       "       'США - Великобритания - Испания', 'Ирландия-Великобритания',\n",
       "       'Аргентина - Испания', 'Австрия - Германия', ' СССР',\n",
       "       'Германия - Швейцария - Франция - Южная Корея - США',\n",
       "       'Украина - Нидерланды', 'Венгрия - Германия - Швеция',\n",
       "       'Германия - Франция -  Польша - Турция - Канада - Италия - Россия ',\n",
       "       'СССР, Афганистан', 'СССР, Монголия', 'Россия-Кипр',\n",
       "       'Россия, Грузия, Испания',\n",
       "       'Великобритания - Нидерланды - Германия - Франция - Бельгия - Австрия ',\n",
       "       'Испания - Великобритания - Франция',\n",
       "       'Дания - Норвегия - Великобритания',\n",
       "       'Бельгия - Франция - Люксембург',\n",
       "       'Италия - Франция - Швейцария - Великобритания',\n",
       "       'Франция - Бельгия - Великобритания - Испания - Германия - США',\n",
       "       'Швейцария - Израиль - Франция - Великобритания',\n",
       "       'Великобритания - США - Канада - Нидерланды - Франция',\n",
       "       'Россия, Италия', 'СССР, Албания',\n",
       "       'Россия, Украина, Республика Беларусь, Литва',\n",
       "       'Финляндия - Великобритания - Германия', 'Россия, Украина, Польша',\n",
       "       'Франция - Италия - Бельгия - КНР',\n",
       "       'Германия - Бельгия - Люксембург - Ирландия', 'КНР - Сингапур',\n",
       "       'Франция - Бельгия - Великобритания - США - Нидерланды - Канада',\n",
       "       'США - Россия - Польша - Германия - Пуэрто Рико',\n",
       "       'Франция - Бельгия - Канада', 'США ', 'Мексика - США',\n",
       "       'США - Гонконг - КНР ', 'Греция - Россия',\n",
       "       'Ирландия - Дания - Бельгия - Люксембург - Франция',\n",
       "       'Эстония - Россия',\n",
       "       'Великобритания - Исландия - Испания - Швейцария - США',\n",
       "       'Австралия - Великобритания - Бельгия - Индия',\n",
       "       'Швеция - Германия - Франция - Норвегия',\n",
       "       'Нидерланды - Бельгия - Германия - Ирландия',\n",
       "       'Нидерланды - Великобритания - Бельгия',\n",
       "       'США - Колумбия - Испания', 'Франция-Испания-Бельгия-Панама',\n",
       "       'США-Великобритания-Чехия-Румыния',\n",
       "       'Аргентина - Уругвай - Россия - Германия - Франция - Нидерланды',\n",
       "       'Швеция - Франция - Норвегия - Дания',\n",
       "       'Италия-Франция-Великобритания', 'Великобритания, Франция',\n",
       "       'Австралия, США', 'Венесуэла',\n",
       "       'Великобритания - США - Австралия - Ирландия - Германия - Куба - Канада',\n",
       "       'Южная Корея - КНР',\n",
       "       'Аргентина - Мексика - Бразилия - Франция - США', 'Швеция - США',\n",
       "       'Франция - Германия - Турция - Катар', 'Франция-Китай',\n",
       "       'Россия, Германия, Великобритания',\n",
       "       'Великобритания - Италия - Испания', 'Италия - Россия',\n",
       "       'Япония - КНР - Южная Корея', 'Россия, Германия',\n",
       "       'Россия-Ирландия', 'Македония - Франция - Великобритания',\n",
       "       'Франция - Бразилия - Италия', 'Россия-США', 'Армения-Россия',\n",
       "       'Россия, Румыния', 'Франция -  Бельгия', 'Грузия-Франция',\n",
       "       'ЮАР - США', 'Великобритания-США-Франция',\n",
       "       'Великобритания - США - Германия - Канада - Австралия',\n",
       "       'США-Ирландия', 'Россия, Республика Кипр',\n",
       "       'Германия - Люксембург - Франция', 'Россия-Франция',\n",
       "       'США - Нидерланды - Финляндия - Великобритания - Италия',\n",
       "       'Республика Кипр', 'Венгрия', 'Франция - США - Норвегия - Дания',\n",
       "       'Германия - Австрия - Ирландия', 'США - Финляндия',\n",
       "       'Италия-Великобритания', 'Россия, Испания',\n",
       "       'США - Великобритания - Болгария', 'Великобритания - Люксембург',\n",
       "       'Индия - США', 'США - Канада - Россия - Франция - Чили - Ирландия',\n",
       "       'Грузия-Россия',\n",
       "       'Дания - Австрия - Ирландия - Финляндия - Норвегия - Швеция - Нидерланды',\n",
       "       'США-КНР', 'Грузия', 'Австралия - Ирландия',\n",
       "       'Великобритания - Канада', 'Италия - Аргентина - Словения ',\n",
       "       'Испания - Франция - Нидерланды - Германия - Бельгия - Великобритания - Канада',\n",
       "       'Франция - Чехия - Бельгия',\n",
       "       'Великобритания - Франция - Германия - США',\n",
       "       'Ирландия - Великобритания - Франция - США - Германия - Нидерланды',\n",
       "       'США - Канада - Япония - КНР', 'Италия-Франция',\n",
       "       'США - Великобритания - Исландия', 'Великобритания-Франция',\n",
       "       'Франция - Германия - Нидерланды', 'Иран ',\n",
       "       'Франция - Германия - Швеция - США - Чехия - Словакия - Великобритания - Нидерланды',\n",
       "       'Франция - Канада - Н.Зеландия - США - Нидерланды - Германия - Швеция - Россия',\n",
       "       'Турция - США',\n",
       "       'Великобритания - США - Канада - Бельгия - Нидерланды - Австрия - Германия',\n",
       "       'Израиль - Франция - Германия - Палестина - США - Австрия - Великобритания',\n",
       "       'Аргентина - Франция - Испания', 'СССР, Россия',\n",
       "       'Великобритания - Франция - Италия - Индия - Дания - КНР - Бангладеш - Камбоджа - Гаити - Уганда',\n",
       "       'Италия - Франция - Швейцария',\n",
       "       'Ирландия - Великобритания - Канада', 'Перу', 'США - Норвегия',\n",
       "       'Испания-Канада', 'Китай-Гонконг', 'США - Германия - КНР',\n",
       "       'Великобритания - Новая Зеландия',\n",
       "       'Франция - Дания - Швеция - КНР',\n",
       "       'США - Великобритания - Германия - Бельгия - Дания',\n",
       "       'США - Франция - Канада - Германия - Австралия - Индия', 'Uknown',\n",
       "       'СССР, Румыния, Франция', 'СССР, ГДР', 'Австралия-Ирландия',\n",
       "       'США - Китай', 'Великобритания - Франция - Австрия - Швеция',\n",
       "       'Россия, Таджикистан', 'Нидерланды - Бельгия - Болгария',\n",
       "       'Великобритания - Канада - США', 'Франция - Бельгия - Испания',\n",
       "       'Китай-Гонконг-США', 'Франция - Великобритания', 'США - Вьетнам',\n",
       "       'США - Германия - Франция', 'Германия - Франция - Бельгия',\n",
       "       'США - Италия',\n",
       "       'Германия - Дания - Испания - Швеция - Канада - Эстония - Франция',\n",
       "       'Княжество Андорра - Украина', 'Германия - Люксембург - Бельгия',\n",
       "       'Великобритания - Россия - Украина - США',\n",
       "       'Германия - Бельгия - Люксембург - Норвегия',\n",
       "       'США - Австралия - Новая Зеландия - Великобритания',\n",
       "       'США - Франция - Канада - Великобритания', 'Испания-Колумбия',\n",
       "       'Великобритания - Чехия - Франция', 'Россия, Украина', 'Исландия',\n",
       "       'Великобритания - Франция - Венгрия',\n",
       "       'Россия, Франция, Германия, Бельгия', 'Франция - Македония',\n",
       "       'Нидерланды - Франция - Германия - Бельгия - Швеция - Великобритания',\n",
       "       'Испания - США - Великобритания - Канада', 'Германия - Австрия',\n",
       "       'Республика Казахстан',\n",
       "       'Франция - Испания - Дания - Венгрия - Швейцария', 'Франция-КНР',\n",
       "       'США - Пуэрто-Рико - Франция ', 'Мексика - Тайвань - США',\n",
       "       'Великобритания - Испания - Непал - Индия - Венгрия - Гонконг - Германия - Дания - Бахрейн',\n",
       "       'Великобритания - Аргентина - США - Франция - Россия - Испания',\n",
       "       'КНР - США', 'Италия - США', 'Финляндия - Швеция - Германия',\n",
       "       'Канада- Испания', 'Франция - Бельгия - Чехия',\n",
       "       'Франция-Бельгия-Канада', 'Франция - Германия - США',\n",
       "       'США - Дания', 'Индия - КНР', 'Чехия-Великобритания-США',\n",
       "       'США-ФРГ-Россия', 'Ирландия-Нидерланды-Франция-США-Великобритания',\n",
       "       'Россия, Грузия, Хорватия, Испания',\n",
       "       'Финляндия - Швеция - Норвегия', 'Сербия - Великобритания - США',\n",
       "       'США - Великобритания - Франция - Гонконг', 'Швейцария - Франция',\n",
       "       'Швейцария - Великобритания', 'ОАЭ - США',\n",
       "       'США - Франция - Германия - Канада - Австралия ',\n",
       "       'Германия - Австралия', 'Иран, Франция',\n",
       "       'США - Великобритания - Новая Зеландия', 'США-Колумбия',\n",
       "       'США-Франция-Ирландия', 'Великобритания - Франция - Бельгия',\n",
       "       'США - Великобритания - Япония', 'США - Франция - Германия',\n",
       "       'Польша - Ирландия', 'Ирландия - Великобритания - Франция - США',\n",
       "       'США - Бельгия - Великобритания', 'СССР, ВНР',\n",
       "       'Испания - Франция - США - Великобритания - Бельгия',\n",
       "       'Франция - Дания - США', 'США - Гонконг', 'Бразилия - К;анада',\n",
       "       'Франция-Германия', 'США - Колумбия',\n",
       "       'США - Ирландия - Великобритания - Франция',\n",
       "       'Великобритания - США - Канада', 'Польша - Франция',\n",
       "       'Канада - США - Нидерланды - Великобритания - Аргентина',\n",
       "       'Великобритания - Дания', 'Франция - Бельгия - Япония',\n",
       "       'Россия,  Испания', 'Франция -Бельгия',\n",
       "       'США - Канада - Германия - Франция', 'США-Канада-Франция',\n",
       "       'Россия - Германия', 'Россия-Италия', 'Китай - Гонконг',\n",
       "       'Германия-Австрия-Франция-Италия', 'США-Япония',\n",
       "       'США - Германия - Канада', 'Испания-Мексика',\n",
       "       'США - Япония - Канада - Великобритания - Германия - Франция',\n",
       "       'США -Великобритания - Австралия', 'Россия-Украина-Германия',\n",
       "       'Израиль - Франция - Великобритания - Германия', 'Корея',\n",
       "       'Россия - Болгария', 'США-Индия',\n",
       "       'Германия-Канада-Франция-Бельгия', 'Германия-Кения',\n",
       "       'Франция - Монако', 'Франция-Испания-Швейцария',\n",
       "       'Австрия-Франция-Германия', 'Румыния',\n",
       "       'США-Великобритания-Франция', 'Канада-Великобритания',\n",
       "       'Канада-Бразилия-Япония', 'Германия - Дания - Норвегия',\n",
       "       'Дания - Германия', 'СССР - Италия',\n",
       "       'СССР - ГДР - Польша - Италия',\n",
       "       'США - Испания - Франция - Великобритания', 'Китай',\n",
       "       'Мексика-Аргентина',\n",
       "       'Германия - Великобритания - Италия - Испания',\n",
       "       'Франция-Германия-Великобритания', 'Россия - Германия - Швейцария',\n",
       "       'Франция-Австралия', 'Голландия', 'Швейцария-Франция',\n",
       "       'Россия-Белоруссия', 'Франция - Испания - Тайвань',\n",
       "       'США-Южная Корея-Новая Зеландия', 'Великобритания-Венгрия',\n",
       "       'Россия-Германия', 'Великобритания-Франция-Германия',\n",
       "       'Франция-Германия-Италия', 'Швеция-Финляндия-Франция-Норвегия',\n",
       "       'Франция-Италия', 'Германия-Израиль',\n",
       "       'Швеция - Германия - Дания - Норвегия', 'США-Бельгия',\n",
       "       'Франция-Гонконг-Ирландия', 'Эстония', 'Литва-Россия-Украина',\n",
       "       'Германия - Италия - Франция',\n",
       "       'Великобритания - Австрия - Германия', 'Бельгия - Франция',\n",
       "       'Россия-Казахстан', 'Испания - Мальта',\n",
       "       'Франция-Россия-Румыния-Италия-Бельгия', 'Россия - Польша',\n",
       "       'Испания - Мексика', 'США-Аргентина', 'Великобритания ',\n",
       "       'Израиль-США-Франция', 'США - Новая Зеландия - Япония',\n",
       "       'Франция - Чехия - Великобритания', 'Россия-Польша',\n",
       "       'Германия-Франция-Великобритания', 'США-Германия-Канада',\n",
       "       'США-Гонконг-Китай', 'США - Великобритания - Германия',\n",
       "       'США-Канада-Австралия', 'Япония-США-Франция',\n",
       "       'Франция-Испания-Германия', 'США - Хорватия - Босния-Герцеговина',\n",
       "       'Великобритания - Чехия - Франция - Италия',\n",
       "       'США - Германия - Нидерланды', 'Германия - Франция - Канада',\n",
       "       'Франция-Грузия-Германия-Россия-Украина-Бельгия',\n",
       "       'Великобритания - Франция - Италия', 'Россия - США',\n",
       "       'Франция - Италия - Иран', 'Россия - Азербайджан', 'Греция',\n",
       "       'Дания - США', 'США-Великобритания-Новая Зеландия',\n",
       "       'США-Германия-Австралия', 'США-Канада-Италия',\n",
       "       'США - Япония - Германия', 'Австралия-США',\n",
       "       'Франция - Великобритания - Багамские острова - США',\n",
       "       'Швейцария - Люксембург', 'Швейцария - Австрия',\n",
       "       'Германия - Швейцария', 'Дания-Швеция-Франция-Германия', 'Польша',\n",
       "       'Швейцария-Австрия', 'Бразилия - Канада - США',\n",
       "       'Нидерланды - Россия', 'Португалия', 'Франция-Аргентина',\n",
       "       'Швеция-Франция', 'Франция-Украина', 'Германия-Украина-Нидерланды',\n",
       "       'Италия-Швейцария', 'США-Германия-Великобритания',\n",
       "       'Латвия - Россия', 'Германия-Франция-Великобритания-США',\n",
       "       'Канада - Италия', 'США - Объединенные Арабские Эмираты',\n",
       "       'США-Венгрия', 'Малайзия', 'Россия - Германия - Украина',\n",
       "       'США - Австралия - Мексика', 'Литва - Венгрия', 'Германия - Китай',\n",
       "       'Казахстан', 'Республика Корея',\n",
       "       'США - Германия - Франция - Великобритания - Канада ',\n",
       "       'Бельгия - Германия - Люксембург - Франция', 'Франция - Греция',\n",
       "       'Италия - Канада', 'США - Великобритания - Франция',\n",
       "       'США-Италия-Греция', 'Германия - США - Великобритания - Ирландия',\n",
       "       'Великобритания - Франция - Германия',\n",
       "       'Германия - Нидерланды - ЮАР',\n",
       "       'США-Япония-Германия-Великобритания-Нидерланды',\n",
       "       'США-Япония-Германия-Великобритания',\n",
       "       'Германия - Франция - Польша',\n",
       "       'Таиланд-Великобритания-Франция-Германия-Испания-Нидерланды',\n",
       "       'Германия-Италия-Швейцария',\n",
       "       'Дания - Швеция - Великобритания - Франция - Германия - Нидерланды - Норвегия - Финляндия',\n",
       "       'Франция - Великобритания - Нидерланды - Люксембург',\n",
       "       'Нидерланды-Великобритания-Франция-Италия-Япония',\n",
       "       'Финляндия-Дания-Германия-Ирландия', 'Испания-Аргентина',\n",
       "       'Великобритания - Нидерланды - Франция - США', 'Канада - Мексика',\n",
       "       'США, Франция', 'Канада-Южная Корея-США',\n",
       "       'Великобритания - Франция - Бельгия - США', 'КНР - Канада - США',\n",
       "       'Италия - Франция - Германия',\n",
       "       'Швеция - Германия - Франция - Дания', 'Франция - США - Бельгия',\n",
       "       'Украина - Германия - Латвия - Эстония', 'Австрия - Люксембург',\n",
       "       'Великобритания - КНР', 'Монголия', 'Франция - Дания',\n",
       "       'Швеция - Дания - Финляндия',\n",
       "       'Сингапур - Великобритания - Индонезия - Канада - США',\n",
       "       'США - Германия - Япония', 'Таиланд - США', 'Франция - Нидерланды',\n",
       "       'Великобритания - Румыния', 'США - Мальта',\n",
       "       'Великобритания - Германия - Нидерланды - Дания',\n",
       "       'Франция - Германия - Литва - Нидерланды - Россия',\n",
       "       'США - ЮАР - Гонконг', 'Австралия - Колумбия',\n",
       "       'Великобритания - Польша', 'США - Великобритания - Швеция',\n",
       "       'Франция - Швеция - Дания - Норвегия', 'Болгария - США',\n",
       "       'СССР, ФРГ', 'Бельгия - Нидерланды - Франция',\n",
       "       'Финляндия - Германия', 'Болгария',\n",
       "       'Грузия - Россия - Украина - Хорватия - Германия',\n",
       "       'Франция - Люксембург', 'Франция - Германия - Австрия',\n",
       "       'Норвегия - США', 'Германия-Швеция', 'Франция - Германия - Италия',\n",
       "       'Франция-Германия-Австрия', 'КНР-США',\n",
       "       'Великобритания - Ирландия - США ',\n",
       "       'Дания - Латвия - Россия - США', 'Финляндия - Польша',\n",
       "       'Германия - Бельгия', 'Германия - США - Франция - Испания',\n",
       "       'Бельгия-Германия-Канада-Франция-США-Великобритания',\n",
       "       'Нидерланды - Бельгия - Люксембург', 'Канада-Германия',\n",
       "       'Люксембург - Бельгия - Франция', 'США-Великобритания-Австралия',\n",
       "       'Великобритания, Новая Зеландия', 'Бельгия, Великобритания, США',\n",
       "       'Великобритания, Австралия', 'Исландия, Бельгия',\n",
       "       'Испания - Швейцария - Великобритания - Германия - Новая Зеландия - Нидерланды - Канада',\n",
       "       'Франция, Бельгия', 'Великобритания, США', 'Киргизия-Россия',\n",
       "       'Германия, США', 'Великобритания, США, Испания',\n",
       "       'Италия - Швейцария - Германия', 'Россия, Армения',\n",
       "       'Франция, Германия', 'Китай, Канада, США', 'Германия, Австралия',\n",
       "       'КНР, США', 'США, Великобритания, Люксембург',\n",
       "       'Испания, Ирландия, Бельгия, Франция',\n",
       "       'Великобритания - Гонконг - Венгрия - США - Ирландия',\n",
       "       'США - Пуэрто Рико', 'Аргентина - Испания - Уругвай',\n",
       "       'Израиль - Германия - Франция - Швейцария',\n",
       "       'Великобритания - Мексика - США', 'Испания - Болгария - США',\n",
       "       'Россия-Словакия-Чехия',\n",
       "       'Швейцария - КНР - США - Россия - Республика Корея - Великобритания',\n",
       "       'Россия, Нидерланды, Финляндия',\n",
       "       'Испания - Бельгия - Франция - Португалия - Великобритания',\n",
       "       'Бразилия - Португалия - Франция', 'Швеция - Норвегия',\n",
       "       'Франция - Польша - Бельгия', 'CША', 'Китай, США',\n",
       "       'Италия, Франция, Германия', 'Германия - Австрия - Франция',\n",
       "       'Чехия - Словакия - Хорватия', 'Россия, Польша, Финляндия',\n",
       "       'Россия, Латвия, Чешская Республика',\n",
       "       'Франция - Великобритания - Камбоджа - США - КНР',\n",
       "       'Чехия - Испания - США', 'Германия - Люксембург - Дания',\n",
       "       'Великобритания - Испания - Германия', 'Дания - Исландия',\n",
       "       'Германия, Франция, Великобритания',\n",
       "       'Великобритания - Испания - Италия - Латвия - Франция - Эстония',\n",
       "       'Дания, Швеция, Великобритания, Франция, Германия, Норвегия, Финляндия, Нидерланды, Италия',\n",
       "       'Польша - Франция - Великобритания',\n",
       "       'Дания, Норвегия, Венгрия, Чехия',\n",
       "       'Дания - Франция - Германия - Швеция',\n",
       "       'Великобритания, Швеция, США',\n",
       "       'Канада, Франция, Италия, Швейцария, США', 'США, Индия',\n",
       "       'США - Великобритания - Германия - - Швеция - Канада',\n",
       "       'Италия, Франция', 'Республика Беларусь, Германия, США, Россия',\n",
       "       'Италия-Швейцария-Франция-Германия ',\n",
       "       'Россия - Франция - Великобритания - Латвия', 'Россия-Беларусь',\n",
       "       'Франция - Испания - Румыния - США - Бельгия', 'Италия-США',\n",
       "       'Россия, Австрия', 'Ирландия - Великобритания - США',\n",
       "       'Швейцария, Великобритания, Франция, США, Ирландия',\n",
       "       'Мексика, Франция, Германия, Дания, Швеция', 'Нидерланды, Бельгия',\n",
       "       'Швеция, Норвегия, Финляндия, Франция', 'Испания, Франция, Италия',\n",
       "       'Испания-Франция-Греция-Индия-США-Россия-Великобритания',\n",
       "       'Великобритания - Япония - США',\n",
       "       'Дания, Канада, Норвегия, Австралия, США', 'Аргентина, Испания',\n",
       "       'Россия, Германия, Казахстан, Польша, Китай',\n",
       "       'Португалия, Франция, Польша, США', 'США - Канада - Аргентина',\n",
       "       'Ливан-США', 'Япония - США', 'США, Гонконг ',\n",
       "       'Франция - Россия - Швейцария - Румыния - Венгрия',\n",
       "       'Аргентина-Испания', 'Россия, Сербия', 'США - Болгария - Мексика',\n",
       "       'США - Великобритания - Швейцария - Франция',\n",
       "       'Таиланд - КНР - США',\n",
       "       'Великобритания, Нидерланды, Польша, Швейцария, Франция',\n",
       "       'Ирландия - США',\n",
       "       'Германия - Франция - Великобритания - Польша - США',\n",
       "       'Великобритания-Франция-Италия', 'США - Австралия - Индия',\n",
       "       'Франция - КНР', 'Великобритания - Израиль',\n",
       "       'Великобритания - Норвегия - Кения - Хорватия',\n",
       "       'США - Бразилия - Великобритания - Канада', 'Германия, Бельгия',\n",
       "       'Австралия, Канада', 'США, Великобритания, Франция',\n",
       "       'Кения, Германия', 'Нидерланды, Бельгия, Люксембург', 'Колумбия',\n",
       "       'Латвия - Франция', 'Ирландия, Великобритания',\n",
       "       'Франция - Израиль - Германия', 'Швеция, Франция, Великобритания',\n",
       "       'Бельгия - Люксембург', 'Германия - Бельгия - Великобритания',\n",
       "       'Испания, Франция, Великобритания, Дания, Бельгия, Германия',\n",
       "       'Румыния, ЮАР, Иран, Франция, Канада, Великобритания',\n",
       "       'Германия, Франция', 'США, Япония',\n",
       "       'США, Великобритания, Ирландия, Люксембург', 'Республика Армения',\n",
       "       'США, Франция, Япония', 'Япония, США', 'Канада, США',\n",
       "       'Республика Кипр - Россия',\n",
       "       'Дания - Франция - Италия - Бельгия - Нидерланды',\n",
       "       'Россия - Грузия', 'Италия, Германия', 'Норвегия, Швеция, Дания',\n",
       "       'Республика Кипр, Россия', 'КНР, Индия, Гонконг, США',\n",
       "       'Израиль, Украина', 'США, Россия', 'США - КНР - Индия - Ю.Корея',\n",
       "       'США - Швеция', 'Франция, Канада', 'Россия-Китай',\n",
       "       'Канада, Великобритания', 'США, Германия',\n",
       "       'Канада, США, Каймановы острова',\n",
       "       'Бразилия, Уругвай, Дания, Норвегия, Чили, Швеция',\n",
       "       'Пуэрто-Рико, Великобритания, США',\n",
       "       'Уругвай - Аргентина - Испания',\n",
       "       'США - Великобритания - Италия - Израиль - Сербия - Индия',\n",
       "       'США - Канада - Франция - Индия', 'Великобритания - Россия - КНР',\n",
       "       'Франция, Новая Зеландия', 'Франция, Люксембург, Бельгия',\n",
       "       'Канада, США, Норвегия', 'Италия, Испания',\n",
       "       'Испания - Германия - Нидерланды', 'Бразилия - США - КНР ',\n",
       "       'Великобритания, Германия, Дания, США', '2019',\n",
       "       'Италия - Фрация - Бразилия - Германия',\n",
       "       'Норвегия - Швеция - Россия', 'Великобритания, Япония, США',\n",
       "       'Сша, Канада', 'Бельгия, Канада',\n",
       "       'Великобритания - Австралия - США', 'США, Канада', 'КНР - США ',\n",
       "       'Франция - Финляндия', 'Колумбия - США',\n",
       "       'Великобритания, Франция, Бельгия', 'Норвегия - Нидерланды',\n",
       "       'Великобритания, Канада, США', 'Япония, Великобритания',\n",
       "       'Италия - Бельгия - Франция', 'Россия, Бельгия, Финляндия',\n",
       "       'США, Украина', 'Франция, Норвегия',\n",
       "       'Великобритания, Южная Корея, Канада, США, Индия, Китай, Япония',\n",
       "       'Канада - Норвегия', 'Республика Кипр-Россия', 'Германия, Россия',\n",
       "       'Польша - Франция - Испания - Бразилия - Швеция',\n",
       "       'Австрия, Великобритания, Германия', 'Франция - Сенегал - Бельгия',\n",
       "       'Франция, Бельгия, Люксембург', 'Финляндия, Латвия', 'Пакистан',\n",
       "       'Германия, Франция, США', 'Германия - Великобритания - США',\n",
       "       'КНР - Франция', 'Дания, Норвегия, Швеция, Исландия',\n",
       "       'Республика Кипр, США, Россия', 'Новая Зеландия - КНР',\n",
       "       'Дания - Канада - Швеция - Франция - Германия - Великобритания - США'],\n",
       "      dtype=object)"
      ]
     },
     "execution_count": 17,
     "metadata": {},
     "output_type": "execute_result"
    }
   ],
   "source": [
    "data['production_country'].str.strip()\n",
    "data['production_country'].unique()"
   ]
  },
  {
   "cell_type": "code",
   "execution_count": 18,
   "metadata": {},
   "outputs": [
    {
     "data": {
      "text/plain": [
       "array(['Открытый простор', 'Особо важное задание', 'Особо опасен', ...,\n",
       "       'Щенячий патруль: Скорей спешим на помощь!',\n",
       "       'Машины песенки. Серия \"Испанские мотивы\"',\n",
       "       'Машины песенки. Серия \"Когда цветут кактусы\"'], dtype=object)"
      ]
     },
     "execution_count": 18,
     "metadata": {},
     "output_type": "execute_result"
    }
   ],
   "source": [
    "data['title'].unique()"
   ]
  },
  {
   "cell_type": "markdown",
   "metadata": {},
   "source": [
    "Говоря о столбцах, которые содержат категориальные значения, можно отметить, что в них присутсвует такая общая проблема как неодинаковый подход к записис данных. Таким образом, можно увидеть, что данные, например, о стране производителе были записаны либо с ипользованием тире, либо через запятую, также существуют данные с пробелами после стра. В данных столбца type имелись пробелы в начале значений. В названиях фильмов также существуют различия в написание названий фильмов: иногда используются знаки препинания.\n",
    "Таким образом, существуют не тольок проблемы с пропусками, которые были выявлены на более ранних этапах анализа, но и проблема с существующими значениями: значения в одном и том же столбце имеют разную форму записи."
   ]
  },
  {
   "cell_type": "markdown",
   "metadata": {
    "id": "XFSN5lrEgFyR"
   },
   "source": [
    "### Проверьте количественные значения\n",
    "\n",
    "**Проверьте, обнаружились ли в таких столбцах подозрительные данные. Как с такими данными лучше поступить?**"
   ]
  },
  {
   "cell_type": "code",
   "execution_count": 19,
   "metadata": {
    "id": "YbzClBxagFyS"
   },
   "outputs": [
    {
     "data": {
      "text/html": [
       "<div>\n",
       "<style scoped>\n",
       "    .dataframe tbody tr th:only-of-type {\n",
       "        vertical-align: middle;\n",
       "    }\n",
       "\n",
       "    .dataframe tbody tr th {\n",
       "        vertical-align: top;\n",
       "    }\n",
       "\n",
       "    .dataframe thead th {\n",
       "        text-align: right;\n",
       "    }\n",
       "</style>\n",
       "<table border=\"1\" class=\"dataframe\">\n",
       "  <thead>\n",
       "    <tr style=\"text-align: right;\">\n",
       "      <th></th>\n",
       "      <th>title</th>\n",
       "      <th>puNumber</th>\n",
       "      <th>show_start_date</th>\n",
       "      <th>type</th>\n",
       "      <th>film_studio</th>\n",
       "      <th>production_country</th>\n",
       "      <th>director</th>\n",
       "      <th>producer</th>\n",
       "      <th>age_restriction</th>\n",
       "      <th>refundable_support</th>\n",
       "      <th>nonrefundable_support</th>\n",
       "      <th>budget</th>\n",
       "      <th>financing_source</th>\n",
       "      <th>ratings</th>\n",
       "      <th>genres</th>\n",
       "      <th>box_office</th>\n",
       "    </tr>\n",
       "  </thead>\n",
       "  <tbody>\n",
       "    <tr>\n",
       "      <th>2053</th>\n",
       "      <td>14+</td>\n",
       "      <td>111023614</td>\n",
       "      <td>2014-12-19 12:00:00</td>\n",
       "      <td>Художественный</td>\n",
       "      <td>ООО Киностудия  \"Сентябрь\"</td>\n",
       "      <td>Россия</td>\n",
       "      <td>А.Зайцев</td>\n",
       "      <td>О.Гранина, А.Зайцев</td>\n",
       "      <td>«16+» - для детей старше 16 лет</td>\n",
       "      <td>0.0</td>\n",
       "      <td>23000000.0</td>\n",
       "      <td>0.0</td>\n",
       "      <td>Министерство культуры, Фонд кино</td>\n",
       "      <td>6.6</td>\n",
       "      <td>мелодрама</td>\n",
       "      <td>1.023402e+07</td>\n",
       "    </tr>\n",
       "    <tr>\n",
       "      <th>2058</th>\n",
       "      <td>Дуxless 2</td>\n",
       "      <td>111000415</td>\n",
       "      <td>2015-01-26 12:00:00</td>\n",
       "      <td>Художественный</td>\n",
       "      <td>ООО \"Киностудия \"Слово\", ООО \"Арт Пикчерс Студия\"</td>\n",
       "      <td>Россия</td>\n",
       "      <td>Р.Прыгунов</td>\n",
       "      <td>П.Ануров, Ф.Бондарчук, Д.Рудовский</td>\n",
       "      <td>«16+» - для детей старше 16 лет</td>\n",
       "      <td>0.0</td>\n",
       "      <td>75000000.0</td>\n",
       "      <td>0.0</td>\n",
       "      <td>Фонд кино</td>\n",
       "      <td>6.6</td>\n",
       "      <td>драма</td>\n",
       "      <td>4.461635e+08</td>\n",
       "    </tr>\n",
       "    <tr>\n",
       "      <th>2472</th>\n",
       "      <td>Воин (2015)</td>\n",
       "      <td>111017315</td>\n",
       "      <td>2015-09-28 12:00:00</td>\n",
       "      <td>Художественный</td>\n",
       "      <td>ООО \"Форпост Продакшн\", ООО \"Арт Пикчерс Студия\"</td>\n",
       "      <td>Россия</td>\n",
       "      <td>А.Андрианов</td>\n",
       "      <td>ООО \"Арт Пикчерс Студия\"</td>\n",
       "      <td>«12+» - для детей старше 12 лет</td>\n",
       "      <td>10000000.0</td>\n",
       "      <td>70000000.0</td>\n",
       "      <td>0.0</td>\n",
       "      <td>Фонд кино</td>\n",
       "      <td>7.8</td>\n",
       "      <td>боевик,драма,криминал</td>\n",
       "      <td>1.965724e+08</td>\n",
       "    </tr>\n",
       "    <tr>\n",
       "      <th>2532</th>\n",
       "      <td>Бармен.</td>\n",
       "      <td>111009615</td>\n",
       "      <td>2015-05-26 12:00:00</td>\n",
       "      <td>Художественный</td>\n",
       "      <td>АО \"ВайТ Медиа\", ООО \"Арт Пикчерс Студия\"</td>\n",
       "      <td>Россия</td>\n",
       "      <td>Д.Штурманова</td>\n",
       "      <td>Т.Вайнштейн</td>\n",
       "      <td>«16+» - для детей старше 16 лет</td>\n",
       "      <td>20000000.0</td>\n",
       "      <td>0.0</td>\n",
       "      <td>0.0</td>\n",
       "      <td>Фонд кино</td>\n",
       "      <td>6.2</td>\n",
       "      <td>комедия,фэнтези</td>\n",
       "      <td>6.741897e+07</td>\n",
       "    </tr>\n",
       "    <tr>\n",
       "      <th>2615</th>\n",
       "      <td>Савва. Сердце воина</td>\n",
       "      <td>114001715</td>\n",
       "      <td>2015-07-21 12:00:00</td>\n",
       "      <td>Анимационный</td>\n",
       "      <td>ООО \"Глюкоза Продакшн\", ООО \"Арт Пикчерс Студия\"</td>\n",
       "      <td>Россия</td>\n",
       "      <td>М.Фадеев</td>\n",
       "      <td>А.Чистяков</td>\n",
       "      <td>«6+» - для детей старше 6 лет</td>\n",
       "      <td>60000000.0</td>\n",
       "      <td>100000000.0</td>\n",
       "      <td>0.0</td>\n",
       "      <td>Фонд кино</td>\n",
       "      <td>4.6</td>\n",
       "      <td>мультфильм,приключения,фэнтези</td>\n",
       "      <td>1.844876e+08</td>\n",
       "    </tr>\n",
       "    <tr>\n",
       "      <th>2684</th>\n",
       "      <td>Тряпичный союз</td>\n",
       "      <td>111010215</td>\n",
       "      <td>2015-06-08 12:00:00</td>\n",
       "      <td>Художественный</td>\n",
       "      <td>ООО \"Кинокомпания \"КОКТЕБЕЛЬ\"</td>\n",
       "      <td>Россия</td>\n",
       "      <td>М.Местецкий</td>\n",
       "      <td>Р.Борисевич, А.Кушаев</td>\n",
       "      <td>«18+» - запрещено для детей</td>\n",
       "      <td>0.0</td>\n",
       "      <td>59000000.0</td>\n",
       "      <td>0.0</td>\n",
       "      <td>Фонд кино</td>\n",
       "      <td>6.3</td>\n",
       "      <td>комедия,драма</td>\n",
       "      <td>1.957739e+06</td>\n",
       "    </tr>\n",
       "    <tr>\n",
       "      <th>2788</th>\n",
       "      <td>Срочно выйду замуж</td>\n",
       "      <td>111017115</td>\n",
       "      <td>2015-09-30 12:00:00</td>\n",
       "      <td>Художественный</td>\n",
       "      <td>АО \"ВайТ Медиа\", ООО \"Арт Пикчерс Студия\"</td>\n",
       "      <td>Россия</td>\n",
       "      <td>С Чекалов</td>\n",
       "      <td>Ф.Бондарчук, Т.Вайнштейн, Д.Рудовский</td>\n",
       "      <td>«16+» - для детей старше 16 лет</td>\n",
       "      <td>0.0</td>\n",
       "      <td>35000000.0</td>\n",
       "      <td>0.0</td>\n",
       "      <td>Фонд кино</td>\n",
       "      <td>5.1</td>\n",
       "      <td>комедия,мелодрама</td>\n",
       "      <td>7.293778e+07</td>\n",
       "    </tr>\n",
       "    <tr>\n",
       "      <th>2874</th>\n",
       "      <td>Помню - не помню!</td>\n",
       "      <td>111004916</td>\n",
       "      <td>2016-03-01 12:00:00</td>\n",
       "      <td>Художественный</td>\n",
       "      <td>ООО \"КиноФирма\"</td>\n",
       "      <td>Россия</td>\n",
       "      <td>В.Ровенский</td>\n",
       "      <td>ООО \"КиноФирма\"</td>\n",
       "      <td>«12+» - для детей старше 12 лет</td>\n",
       "      <td>0.0</td>\n",
       "      <td>6000000.0</td>\n",
       "      <td>0.0</td>\n",
       "      <td>Министерство культуры</td>\n",
       "      <td>4.3</td>\n",
       "      <td>комедия</td>\n",
       "      <td>1.536293e+07</td>\n",
       "    </tr>\n",
       "    <tr>\n",
       "      <th>3047</th>\n",
       "      <td>Любовь с ограничениями</td>\n",
       "      <td>111008216</td>\n",
       "      <td>2016-04-29 12:00:00</td>\n",
       "      <td>Художественный</td>\n",
       "      <td>АО \"ВайТ Медиа\", ООО \"Арт Пикчерс Студия\"</td>\n",
       "      <td>Россия</td>\n",
       "      <td>Д.Тюрин</td>\n",
       "      <td>Ф.Бондарчук, Т.Вайнштейн, Д.Рудовский</td>\n",
       "      <td>«16+» - для детей старше 16 лет</td>\n",
       "      <td>19000000.0</td>\n",
       "      <td>51000000.0</td>\n",
       "      <td>0.0</td>\n",
       "      <td>Фонд кино</td>\n",
       "      <td>6.3</td>\n",
       "      <td>комедия,мелодрама</td>\n",
       "      <td>7.029905e+07</td>\n",
       "    </tr>\n",
       "    <tr>\n",
       "      <th>3565</th>\n",
       "      <td>Притяжение (2016)</td>\n",
       "      <td>111018116</td>\n",
       "      <td>2016-12-16 12:00:00</td>\n",
       "      <td>Художественный</td>\n",
       "      <td>ООО \"Водород 2011\",  ООО \"Арт Пикчерс Студия\"</td>\n",
       "      <td>Россия</td>\n",
       "      <td>Ф.Бондарчук</td>\n",
       "      <td>ООО \"Арт Пикчерс Студия\"</td>\n",
       "      <td>«12+» - для детей старше 12 лет</td>\n",
       "      <td>0.0</td>\n",
       "      <td>250000000.0</td>\n",
       "      <td>0.0</td>\n",
       "      <td>Фонд кино</td>\n",
       "      <td>5.6</td>\n",
       "      <td>фантастика</td>\n",
       "      <td>1.038321e+09</td>\n",
       "    </tr>\n",
       "    <tr>\n",
       "      <th>3675</th>\n",
       "      <td>Чудо-юдо</td>\n",
       "      <td>114001817</td>\n",
       "      <td>2017-06-27 12:00:00</td>\n",
       "      <td>Анимационный</td>\n",
       "      <td>ООО \"КиноФирма\"</td>\n",
       "      <td>Россия</td>\n",
       "      <td>А.Лукичев</td>\n",
       "      <td>ООО \"КиноФирма\"</td>\n",
       "      <td>«6+» - для детей старше 6 лет</td>\n",
       "      <td>20000000.0</td>\n",
       "      <td>20000000.0</td>\n",
       "      <td>0.0</td>\n",
       "      <td>Фонд кино</td>\n",
       "      <td>5.2</td>\n",
       "      <td>мультфильм,фэнтези,семейный</td>\n",
       "      <td>5.510801e+07</td>\n",
       "    </tr>\n",
       "    <tr>\n",
       "      <th>3739</th>\n",
       "      <td>Мифы</td>\n",
       "      <td>111004317</td>\n",
       "      <td>2017-06-07 12:00:00</td>\n",
       "      <td>Художественный</td>\n",
       "      <td>ООО \"ХАЙПФИЛМ\", ООО \"Арт Пикчерс Студия\"</td>\n",
       "      <td>Россия</td>\n",
       "      <td>А.Молочников</td>\n",
       "      <td>Ф.Бондарчук, Д.Рудовский, И.Стюарт, М.Османн, ...</td>\n",
       "      <td>«16+» - для детей старше 16 лет</td>\n",
       "      <td>25000000.0</td>\n",
       "      <td>20000000.0</td>\n",
       "      <td>0.0</td>\n",
       "      <td>Фонд кино</td>\n",
       "      <td>4.8</td>\n",
       "      <td>комедия</td>\n",
       "      <td>5.045195e+07</td>\n",
       "    </tr>\n",
       "    <tr>\n",
       "      <th>5673</th>\n",
       "      <td>Селфи</td>\n",
       "      <td>111012117</td>\n",
       "      <td>2018-02-01 12:00:00</td>\n",
       "      <td>Художественный</td>\n",
       "      <td>ООО \"Киностудия \"Слово\", ООО \"Арт Пикчерс Студия\"</td>\n",
       "      <td>Россия</td>\n",
       "      <td>Н.Хомерики</td>\n",
       "      <td>П.Ануров, Ф.Бондарчук, Д.Рудовский</td>\n",
       "      <td>«16+» - для детей старше 16 лет</td>\n",
       "      <td>20000000.0</td>\n",
       "      <td>40000000.0</td>\n",
       "      <td>0.0</td>\n",
       "      <td>Фонд кино</td>\n",
       "      <td>5.8</td>\n",
       "      <td>триллер,драма</td>\n",
       "      <td>2.251964e+08</td>\n",
       "    </tr>\n",
       "    <tr>\n",
       "      <th>5806</th>\n",
       "      <td>Два хвоста</td>\n",
       "      <td>114001018</td>\n",
       "      <td>2018-05-31 12:00:00</td>\n",
       "      <td>Анимационный</td>\n",
       "      <td>ООО \"ЛИЦЕНЗИОННЫЕ БРЕНДЫ\"</td>\n",
       "      <td>Россия</td>\n",
       "      <td>В.Ровенский, Н.Лопато, В.Азеев</td>\n",
       "      <td>ООО \"ЛИЦЕНЗИОННЫЕ БРЕНДЫ\"</td>\n",
       "      <td>«6+» - для детей старше 6 лет</td>\n",
       "      <td>10000000.0</td>\n",
       "      <td>60000000.0</td>\n",
       "      <td>0.0</td>\n",
       "      <td>Фонд кино</td>\n",
       "      <td>5.0</td>\n",
       "      <td>мультфильм,детский</td>\n",
       "      <td>1.065143e+08</td>\n",
       "    </tr>\n",
       "    <tr>\n",
       "      <th>6008</th>\n",
       "      <td>Принцесса и дракон</td>\n",
       "      <td>114003018</td>\n",
       "      <td>2018-08-23 12:00:00</td>\n",
       "      <td>Анимационный</td>\n",
       "      <td>ООО \"ЛИЦЕНЗИОННЫЕ БРЕНДЫ\"</td>\n",
       "      <td>Россия</td>\n",
       "      <td>М.Нефедова</td>\n",
       "      <td>ООО \"ЛИЦЕНЗИОННЫЕ БРЕНДЫ\"</td>\n",
       "      <td>«6+» - для детей старше 6 лет</td>\n",
       "      <td>40000000.0</td>\n",
       "      <td>40000000.0</td>\n",
       "      <td>0.0</td>\n",
       "      <td>Фонд кино</td>\n",
       "      <td>5.2</td>\n",
       "      <td>мультфильм,фэнтези,детский</td>\n",
       "      <td>8.336633e+07</td>\n",
       "    </tr>\n",
       "    <tr>\n",
       "      <th>6323</th>\n",
       "      <td>Баба Яга</td>\n",
       "      <td>114006518</td>\n",
       "      <td>2018-11-08 12:00:00</td>\n",
       "      <td>Анимационный</td>\n",
       "      <td>ООО \"Арт Пикчерс Студия\"</td>\n",
       "      <td>Россия</td>\n",
       "      <td>В.Саков</td>\n",
       "      <td>ООО \"Арт Пикчерс Студия\", ООО \"КРИЭЙТИВ АНИМЭЙ...</td>\n",
       "      <td>«6+» - для детей старше 6 лет</td>\n",
       "      <td>0.0</td>\n",
       "      <td>138969465.0</td>\n",
       "      <td>0.0</td>\n",
       "      <td>Фонд кино</td>\n",
       "      <td>NaN</td>\n",
       "      <td>Unknown</td>\n",
       "      <td>1.334699e+06</td>\n",
       "    </tr>\n",
       "    <tr>\n",
       "      <th>6823</th>\n",
       "      <td>Большое путешествие</td>\n",
       "      <td>114002419</td>\n",
       "      <td>2019-04-20 12:00:00</td>\n",
       "      <td>Анимационный</td>\n",
       "      <td>ООО \"ЛИЦЕНЗИОННЫЕ БРЕНДЫ\"</td>\n",
       "      <td>Россия</td>\n",
       "      <td>Н.Лопато, В.Ровенский</td>\n",
       "      <td>ООО \"ЛИЦЕНЗИОННЫЕ БРЕНДЫ\"</td>\n",
       "      <td>«6+» - для детей старше 6 лет</td>\n",
       "      <td>60000000.0</td>\n",
       "      <td>120000000.0</td>\n",
       "      <td>0.0</td>\n",
       "      <td>Фонд кино</td>\n",
       "      <td>6.2</td>\n",
       "      <td>мультфильм,комедия,приключения</td>\n",
       "      <td>1.476068e+08</td>\n",
       "    </tr>\n",
       "  </tbody>\n",
       "</table>\n",
       "</div>"
      ],
      "text/plain": [
       "                       title   puNumber     show_start_date             type  \\\n",
       "2053                     14+  111023614 2014-12-19 12:00:00   Художественный   \n",
       "2058               Дуxless 2  111000415 2015-01-26 12:00:00   Художественный   \n",
       "2472             Воин (2015)  111017315 2015-09-28 12:00:00   Художественный   \n",
       "2532                 Бармен.  111009615 2015-05-26 12:00:00   Художественный   \n",
       "2615     Савва. Сердце воина  114001715 2015-07-21 12:00:00     Анимационный   \n",
       "2684          Тряпичный союз  111010215 2015-06-08 12:00:00   Художественный   \n",
       "2788      Срочно выйду замуж  111017115 2015-09-30 12:00:00   Художественный   \n",
       "2874       Помню - не помню!  111004916 2016-03-01 12:00:00   Художественный   \n",
       "3047  Любовь с ограничениями  111008216 2016-04-29 12:00:00   Художественный   \n",
       "3565       Притяжение (2016)  111018116 2016-12-16 12:00:00   Художественный   \n",
       "3675                Чудо-юдо  114001817 2017-06-27 12:00:00     Анимационный   \n",
       "3739                    Мифы  111004317 2017-06-07 12:00:00   Художественный   \n",
       "5673                   Селфи  111012117 2018-02-01 12:00:00   Художественный   \n",
       "5806              Два хвоста  114001018 2018-05-31 12:00:00     Анимационный   \n",
       "6008      Принцесса и дракон  114003018 2018-08-23 12:00:00     Анимационный   \n",
       "6323                Баба Яга  114006518 2018-11-08 12:00:00     Анимационный   \n",
       "6823     Большое путешествие  114002419 2019-04-20 12:00:00     Анимационный   \n",
       "\n",
       "                                            film_studio production_country  \\\n",
       "2053                         ООО Киностудия  \"Сентябрь\"             Россия   \n",
       "2058  ООО \"Киностудия \"Слово\", ООО \"Арт Пикчерс Студия\"             Россия   \n",
       "2472   ООО \"Форпост Продакшн\", ООО \"Арт Пикчерс Студия\"             Россия   \n",
       "2532          АО \"ВайТ Медиа\", ООО \"Арт Пикчерс Студия\"             Россия   \n",
       "2615   ООО \"Глюкоза Продакшн\", ООО \"Арт Пикчерс Студия\"             Россия   \n",
       "2684                      ООО \"Кинокомпания \"КОКТЕБЕЛЬ\"             Россия   \n",
       "2788          АО \"ВайТ Медиа\", ООО \"Арт Пикчерс Студия\"             Россия   \n",
       "2874                                    ООО \"КиноФирма\"             Россия   \n",
       "3047          АО \"ВайТ Медиа\", ООО \"Арт Пикчерс Студия\"             Россия   \n",
       "3565      ООО \"Водород 2011\",  ООО \"Арт Пикчерс Студия\"             Россия   \n",
       "3675                                    ООО \"КиноФирма\"             Россия   \n",
       "3739           ООО \"ХАЙПФИЛМ\", ООО \"Арт Пикчерс Студия\"             Россия   \n",
       "5673  ООО \"Киностудия \"Слово\", ООО \"Арт Пикчерс Студия\"             Россия   \n",
       "5806                          ООО \"ЛИЦЕНЗИОННЫЕ БРЕНДЫ\"             Россия   \n",
       "6008                          ООО \"ЛИЦЕНЗИОННЫЕ БРЕНДЫ\"             Россия   \n",
       "6323                           ООО \"Арт Пикчерс Студия\"             Россия   \n",
       "6823                          ООО \"ЛИЦЕНЗИОННЫЕ БРЕНДЫ\"             Россия   \n",
       "\n",
       "                            director  \\\n",
       "2053                        А.Зайцев   \n",
       "2058                      Р.Прыгунов   \n",
       "2472                     А.Андрианов   \n",
       "2532                    Д.Штурманова   \n",
       "2615                        М.Фадеев   \n",
       "2684                     М.Местецкий   \n",
       "2788                       С Чекалов   \n",
       "2874                     В.Ровенский   \n",
       "3047                         Д.Тюрин   \n",
       "3565                     Ф.Бондарчук   \n",
       "3675                       А.Лукичев   \n",
       "3739                    А.Молочников   \n",
       "5673                      Н.Хомерики   \n",
       "5806  В.Ровенский, Н.Лопато, В.Азеев   \n",
       "6008                      М.Нефедова   \n",
       "6323                         В.Саков   \n",
       "6823           Н.Лопато, В.Ровенский   \n",
       "\n",
       "                                               producer  \\\n",
       "2053                                О.Гранина, А.Зайцев   \n",
       "2058                 П.Ануров, Ф.Бондарчук, Д.Рудовский   \n",
       "2472                           ООО \"Арт Пикчерс Студия\"   \n",
       "2532                                        Т.Вайнштейн   \n",
       "2615                                         А.Чистяков   \n",
       "2684                              Р.Борисевич, А.Кушаев   \n",
       "2788              Ф.Бондарчук, Т.Вайнштейн, Д.Рудовский   \n",
       "2874                                    ООО \"КиноФирма\"   \n",
       "3047              Ф.Бондарчук, Т.Вайнштейн, Д.Рудовский   \n",
       "3565                           ООО \"Арт Пикчерс Студия\"   \n",
       "3675                                    ООО \"КиноФирма\"   \n",
       "3739  Ф.Бондарчук, Д.Рудовский, И.Стюарт, М.Османн, ...   \n",
       "5673                 П.Ануров, Ф.Бондарчук, Д.Рудовский   \n",
       "5806                          ООО \"ЛИЦЕНЗИОННЫЕ БРЕНДЫ\"   \n",
       "6008                          ООО \"ЛИЦЕНЗИОННЫЕ БРЕНДЫ\"   \n",
       "6323  ООО \"Арт Пикчерс Студия\", ООО \"КРИЭЙТИВ АНИМЭЙ...   \n",
       "6823                          ООО \"ЛИЦЕНЗИОННЫЕ БРЕНДЫ\"   \n",
       "\n",
       "                      age_restriction  refundable_support  \\\n",
       "2053  «16+» - для детей старше 16 лет                 0.0   \n",
       "2058  «16+» - для детей старше 16 лет                 0.0   \n",
       "2472  «12+» - для детей старше 12 лет          10000000.0   \n",
       "2532  «16+» - для детей старше 16 лет          20000000.0   \n",
       "2615    «6+» - для детей старше 6 лет          60000000.0   \n",
       "2684      «18+» - запрещено для детей                 0.0   \n",
       "2788  «16+» - для детей старше 16 лет                 0.0   \n",
       "2874  «12+» - для детей старше 12 лет                 0.0   \n",
       "3047  «16+» - для детей старше 16 лет          19000000.0   \n",
       "3565  «12+» - для детей старше 12 лет                 0.0   \n",
       "3675    «6+» - для детей старше 6 лет          20000000.0   \n",
       "3739  «16+» - для детей старше 16 лет          25000000.0   \n",
       "5673  «16+» - для детей старше 16 лет          20000000.0   \n",
       "5806    «6+» - для детей старше 6 лет          10000000.0   \n",
       "6008    «6+» - для детей старше 6 лет          40000000.0   \n",
       "6323    «6+» - для детей старше 6 лет                 0.0   \n",
       "6823    «6+» - для детей старше 6 лет          60000000.0   \n",
       "\n",
       "      nonrefundable_support  budget                  financing_source  \\\n",
       "2053             23000000.0     0.0  Министерство культуры, Фонд кино   \n",
       "2058             75000000.0     0.0                         Фонд кино   \n",
       "2472             70000000.0     0.0                         Фонд кино   \n",
       "2532                    0.0     0.0                         Фонд кино   \n",
       "2615            100000000.0     0.0                         Фонд кино   \n",
       "2684             59000000.0     0.0                         Фонд кино   \n",
       "2788             35000000.0     0.0                         Фонд кино   \n",
       "2874              6000000.0     0.0             Министерство культуры   \n",
       "3047             51000000.0     0.0                         Фонд кино   \n",
       "3565            250000000.0     0.0                         Фонд кино   \n",
       "3675             20000000.0     0.0                         Фонд кино   \n",
       "3739             20000000.0     0.0                         Фонд кино   \n",
       "5673             40000000.0     0.0                         Фонд кино   \n",
       "5806             60000000.0     0.0                         Фонд кино   \n",
       "6008             40000000.0     0.0                         Фонд кино   \n",
       "6323            138969465.0     0.0                         Фонд кино   \n",
       "6823            120000000.0     0.0                         Фонд кино   \n",
       "\n",
       "      ratings                          genres    box_office  \n",
       "2053      6.6                       мелодрама  1.023402e+07  \n",
       "2058      6.6                           драма  4.461635e+08  \n",
       "2472      7.8           боевик,драма,криминал  1.965724e+08  \n",
       "2532      6.2                 комедия,фэнтези  6.741897e+07  \n",
       "2615      4.6  мультфильм,приключения,фэнтези  1.844876e+08  \n",
       "2684      6.3                   комедия,драма  1.957739e+06  \n",
       "2788      5.1               комедия,мелодрама  7.293778e+07  \n",
       "2874      4.3                         комедия  1.536293e+07  \n",
       "3047      6.3               комедия,мелодрама  7.029905e+07  \n",
       "3565      5.6                      фантастика  1.038321e+09  \n",
       "3675      5.2     мультфильм,фэнтези,семейный  5.510801e+07  \n",
       "3739      4.8                         комедия  5.045195e+07  \n",
       "5673      5.8                   триллер,драма  2.251964e+08  \n",
       "5806      5.0              мультфильм,детский  1.065143e+08  \n",
       "6008      5.2      мультфильм,фэнтези,детский  8.336633e+07  \n",
       "6323      NaN                         Unknown  1.334699e+06  \n",
       "6823      6.2  мультфильм,комедия,приключения  1.476068e+08  "
      ]
     },
     "metadata": {},
     "output_type": "display_data"
    }
   ],
   "source": [
    "wrong_budget = data[data['budget'] < (data['refundable_support'] + data['nonrefundable_support'])]\n",
    "display(wrong_budget)"
   ]
  },
  {
   "cell_type": "markdown",
   "metadata": {},
   "source": [
    "Получается, есть фильмы, которые получили государственную поддержку, но при этом имеют бюджет 0. Так как анализ в дальнейшем затрагивает киноленты, которые имеют государственную поддержку, предсставляется логичным выяснить, каков был медианный объем поддержки и определить ее медианный процент от поддержки, который, в дальнейшем используется для заполнения 0 в столбце бюджета для фильмов, которые государственную поддержку получали."
   ]
  },
  {
   "cell_type": "code",
   "execution_count": 20,
   "metadata": {},
   "outputs": [
    {
     "name": "stdout",
     "output_type": "stream",
     "text": [
      "0.6140376284219444\n"
     ]
    }
   ],
   "source": [
    "data['support'] = (data['refundable_support'] + data['nonrefundable_support']) / data['budget']\n",
    "support = data['support'].median()\n",
    "print(support)"
   ]
  },
  {
   "cell_type": "code",
   "execution_count": 21,
   "metadata": {},
   "outputs": [
    {
     "data": {
      "text/html": [
       "<div>\n",
       "<style scoped>\n",
       "    .dataframe tbody tr th:only-of-type {\n",
       "        vertical-align: middle;\n",
       "    }\n",
       "\n",
       "    .dataframe tbody tr th {\n",
       "        vertical-align: top;\n",
       "    }\n",
       "\n",
       "    .dataframe thead th {\n",
       "        text-align: right;\n",
       "    }\n",
       "</style>\n",
       "<table border=\"1\" class=\"dataframe\">\n",
       "  <thead>\n",
       "    <tr style=\"text-align: right;\">\n",
       "      <th></th>\n",
       "      <th>title</th>\n",
       "      <th>puNumber</th>\n",
       "      <th>show_start_date</th>\n",
       "      <th>type</th>\n",
       "      <th>film_studio</th>\n",
       "      <th>production_country</th>\n",
       "      <th>director</th>\n",
       "      <th>producer</th>\n",
       "      <th>age_restriction</th>\n",
       "      <th>refundable_support</th>\n",
       "      <th>nonrefundable_support</th>\n",
       "      <th>budget</th>\n",
       "      <th>financing_source</th>\n",
       "      <th>ratings</th>\n",
       "      <th>genres</th>\n",
       "      <th>box_office</th>\n",
       "      <th>support</th>\n",
       "    </tr>\n",
       "  </thead>\n",
       "  <tbody>\n",
       "    <tr>\n",
       "      <th>2053</th>\n",
       "      <td>14+</td>\n",
       "      <td>111023614</td>\n",
       "      <td>2014-12-19 12:00:00</td>\n",
       "      <td>Художественный</td>\n",
       "      <td>ООО Киностудия  \"Сентябрь\"</td>\n",
       "      <td>Россия</td>\n",
       "      <td>А.Зайцев</td>\n",
       "      <td>О.Гранина, А.Зайцев</td>\n",
       "      <td>«16+» - для детей старше 16 лет</td>\n",
       "      <td>0.0</td>\n",
       "      <td>23000000.0</td>\n",
       "      <td>3.745699e+07</td>\n",
       "      <td>Министерство культуры, Фонд кино</td>\n",
       "      <td>6.6</td>\n",
       "      <td>мелодрама</td>\n",
       "      <td>1.023402e+07</td>\n",
       "      <td>inf</td>\n",
       "    </tr>\n",
       "    <tr>\n",
       "      <th>2058</th>\n",
       "      <td>Дуxless 2</td>\n",
       "      <td>111000415</td>\n",
       "      <td>2015-01-26 12:00:00</td>\n",
       "      <td>Художественный</td>\n",
       "      <td>ООО \"Киностудия \"Слово\", ООО \"Арт Пикчерс Студия\"</td>\n",
       "      <td>Россия</td>\n",
       "      <td>Р.Прыгунов</td>\n",
       "      <td>П.Ануров, Ф.Бондарчук, Д.Рудовский</td>\n",
       "      <td>«16+» - для детей старше 16 лет</td>\n",
       "      <td>0.0</td>\n",
       "      <td>75000000.0</td>\n",
       "      <td>1.221424e+08</td>\n",
       "      <td>Фонд кино</td>\n",
       "      <td>6.6</td>\n",
       "      <td>драма</td>\n",
       "      <td>4.461635e+08</td>\n",
       "      <td>inf</td>\n",
       "    </tr>\n",
       "    <tr>\n",
       "      <th>2472</th>\n",
       "      <td>Воин (2015)</td>\n",
       "      <td>111017315</td>\n",
       "      <td>2015-09-28 12:00:00</td>\n",
       "      <td>Художественный</td>\n",
       "      <td>ООО \"Форпост Продакшн\", ООО \"Арт Пикчерс Студия\"</td>\n",
       "      <td>Россия</td>\n",
       "      <td>А.Андрианов</td>\n",
       "      <td>ООО \"Арт Пикчерс Студия\"</td>\n",
       "      <td>«12+» - для детей старше 12 лет</td>\n",
       "      <td>10000000.0</td>\n",
       "      <td>70000000.0</td>\n",
       "      <td>1.302852e+08</td>\n",
       "      <td>Фонд кино</td>\n",
       "      <td>7.8</td>\n",
       "      <td>боевик,драма,криминал</td>\n",
       "      <td>1.965724e+08</td>\n",
       "      <td>inf</td>\n",
       "    </tr>\n",
       "    <tr>\n",
       "      <th>2532</th>\n",
       "      <td>Бармен.</td>\n",
       "      <td>111009615</td>\n",
       "      <td>2015-05-26 12:00:00</td>\n",
       "      <td>Художественный</td>\n",
       "      <td>АО \"ВайТ Медиа\", ООО \"Арт Пикчерс Студия\"</td>\n",
       "      <td>Россия</td>\n",
       "      <td>Д.Штурманова</td>\n",
       "      <td>Т.Вайнштейн</td>\n",
       "      <td>«16+» - для детей старше 16 лет</td>\n",
       "      <td>20000000.0</td>\n",
       "      <td>0.0</td>\n",
       "      <td>3.257129e+07</td>\n",
       "      <td>Фонд кино</td>\n",
       "      <td>6.2</td>\n",
       "      <td>комедия,фэнтези</td>\n",
       "      <td>6.741897e+07</td>\n",
       "      <td>inf</td>\n",
       "    </tr>\n",
       "    <tr>\n",
       "      <th>2615</th>\n",
       "      <td>Савва. Сердце воина</td>\n",
       "      <td>114001715</td>\n",
       "      <td>2015-07-21 12:00:00</td>\n",
       "      <td>Анимационный</td>\n",
       "      <td>ООО \"Глюкоза Продакшн\", ООО \"Арт Пикчерс Студия\"</td>\n",
       "      <td>Россия</td>\n",
       "      <td>М.Фадеев</td>\n",
       "      <td>А.Чистяков</td>\n",
       "      <td>«6+» - для детей старше 6 лет</td>\n",
       "      <td>60000000.0</td>\n",
       "      <td>100000000.0</td>\n",
       "      <td>2.605704e+08</td>\n",
       "      <td>Фонд кино</td>\n",
       "      <td>4.6</td>\n",
       "      <td>мультфильм,приключения,фэнтези</td>\n",
       "      <td>1.844876e+08</td>\n",
       "      <td>inf</td>\n",
       "    </tr>\n",
       "    <tr>\n",
       "      <th>2684</th>\n",
       "      <td>Тряпичный союз</td>\n",
       "      <td>111010215</td>\n",
       "      <td>2015-06-08 12:00:00</td>\n",
       "      <td>Художественный</td>\n",
       "      <td>ООО \"Кинокомпания \"КОКТЕБЕЛЬ\"</td>\n",
       "      <td>Россия</td>\n",
       "      <td>М.Местецкий</td>\n",
       "      <td>Р.Борисевич, А.Кушаев</td>\n",
       "      <td>«18+» - запрещено для детей</td>\n",
       "      <td>0.0</td>\n",
       "      <td>59000000.0</td>\n",
       "      <td>9.608532e+07</td>\n",
       "      <td>Фонд кино</td>\n",
       "      <td>6.3</td>\n",
       "      <td>комедия,драма</td>\n",
       "      <td>1.957739e+06</td>\n",
       "      <td>inf</td>\n",
       "    </tr>\n",
       "    <tr>\n",
       "      <th>2788</th>\n",
       "      <td>Срочно выйду замуж</td>\n",
       "      <td>111017115</td>\n",
       "      <td>2015-09-30 12:00:00</td>\n",
       "      <td>Художественный</td>\n",
       "      <td>АО \"ВайТ Медиа\", ООО \"Арт Пикчерс Студия\"</td>\n",
       "      <td>Россия</td>\n",
       "      <td>С Чекалов</td>\n",
       "      <td>Ф.Бондарчук, Т.Вайнштейн, Д.Рудовский</td>\n",
       "      <td>«16+» - для детей старше 16 лет</td>\n",
       "      <td>0.0</td>\n",
       "      <td>35000000.0</td>\n",
       "      <td>5.699976e+07</td>\n",
       "      <td>Фонд кино</td>\n",
       "      <td>5.1</td>\n",
       "      <td>комедия,мелодрама</td>\n",
       "      <td>7.293778e+07</td>\n",
       "      <td>inf</td>\n",
       "    </tr>\n",
       "    <tr>\n",
       "      <th>2874</th>\n",
       "      <td>Помню - не помню!</td>\n",
       "      <td>111004916</td>\n",
       "      <td>2016-03-01 12:00:00</td>\n",
       "      <td>Художественный</td>\n",
       "      <td>ООО \"КиноФирма\"</td>\n",
       "      <td>Россия</td>\n",
       "      <td>В.Ровенский</td>\n",
       "      <td>ООО \"КиноФирма\"</td>\n",
       "      <td>«12+» - для детей старше 12 лет</td>\n",
       "      <td>0.0</td>\n",
       "      <td>6000000.0</td>\n",
       "      <td>9.771388e+06</td>\n",
       "      <td>Министерство культуры</td>\n",
       "      <td>4.3</td>\n",
       "      <td>комедия</td>\n",
       "      <td>1.536293e+07</td>\n",
       "      <td>inf</td>\n",
       "    </tr>\n",
       "    <tr>\n",
       "      <th>3047</th>\n",
       "      <td>Любовь с ограничениями</td>\n",
       "      <td>111008216</td>\n",
       "      <td>2016-04-29 12:00:00</td>\n",
       "      <td>Художественный</td>\n",
       "      <td>АО \"ВайТ Медиа\", ООО \"Арт Пикчерс Студия\"</td>\n",
       "      <td>Россия</td>\n",
       "      <td>Д.Тюрин</td>\n",
       "      <td>Ф.Бондарчук, Т.Вайнштейн, Д.Рудовский</td>\n",
       "      <td>«16+» - для детей старше 16 лет</td>\n",
       "      <td>19000000.0</td>\n",
       "      <td>51000000.0</td>\n",
       "      <td>1.139995e+08</td>\n",
       "      <td>Фонд кино</td>\n",
       "      <td>6.3</td>\n",
       "      <td>комедия,мелодрама</td>\n",
       "      <td>7.029905e+07</td>\n",
       "      <td>inf</td>\n",
       "    </tr>\n",
       "    <tr>\n",
       "      <th>3565</th>\n",
       "      <td>Притяжение (2016)</td>\n",
       "      <td>111018116</td>\n",
       "      <td>2016-12-16 12:00:00</td>\n",
       "      <td>Художественный</td>\n",
       "      <td>ООО \"Водород 2011\",  ООО \"Арт Пикчерс Студия\"</td>\n",
       "      <td>Россия</td>\n",
       "      <td>Ф.Бондарчук</td>\n",
       "      <td>ООО \"Арт Пикчерс Студия\"</td>\n",
       "      <td>«12+» - для детей старше 12 лет</td>\n",
       "      <td>0.0</td>\n",
       "      <td>250000000.0</td>\n",
       "      <td>4.071412e+08</td>\n",
       "      <td>Фонд кино</td>\n",
       "      <td>5.6</td>\n",
       "      <td>фантастика</td>\n",
       "      <td>1.038321e+09</td>\n",
       "      <td>inf</td>\n",
       "    </tr>\n",
       "    <tr>\n",
       "      <th>3675</th>\n",
       "      <td>Чудо-юдо</td>\n",
       "      <td>114001817</td>\n",
       "      <td>2017-06-27 12:00:00</td>\n",
       "      <td>Анимационный</td>\n",
       "      <td>ООО \"КиноФирма\"</td>\n",
       "      <td>Россия</td>\n",
       "      <td>А.Лукичев</td>\n",
       "      <td>ООО \"КиноФирма\"</td>\n",
       "      <td>«6+» - для детей старше 6 лет</td>\n",
       "      <td>20000000.0</td>\n",
       "      <td>20000000.0</td>\n",
       "      <td>6.514259e+07</td>\n",
       "      <td>Фонд кино</td>\n",
       "      <td>5.2</td>\n",
       "      <td>мультфильм,фэнтези,семейный</td>\n",
       "      <td>5.510801e+07</td>\n",
       "      <td>inf</td>\n",
       "    </tr>\n",
       "    <tr>\n",
       "      <th>3739</th>\n",
       "      <td>Мифы</td>\n",
       "      <td>111004317</td>\n",
       "      <td>2017-06-07 12:00:00</td>\n",
       "      <td>Художественный</td>\n",
       "      <td>ООО \"ХАЙПФИЛМ\", ООО \"Арт Пикчерс Студия\"</td>\n",
       "      <td>Россия</td>\n",
       "      <td>А.Молочников</td>\n",
       "      <td>Ф.Бондарчук, Д.Рудовский, И.Стюарт, М.Османн, ...</td>\n",
       "      <td>«16+» - для детей старше 16 лет</td>\n",
       "      <td>25000000.0</td>\n",
       "      <td>20000000.0</td>\n",
       "      <td>7.328541e+07</td>\n",
       "      <td>Фонд кино</td>\n",
       "      <td>4.8</td>\n",
       "      <td>комедия</td>\n",
       "      <td>5.045195e+07</td>\n",
       "      <td>inf</td>\n",
       "    </tr>\n",
       "    <tr>\n",
       "      <th>5673</th>\n",
       "      <td>Селфи</td>\n",
       "      <td>111012117</td>\n",
       "      <td>2018-02-01 12:00:00</td>\n",
       "      <td>Художественный</td>\n",
       "      <td>ООО \"Киностудия \"Слово\", ООО \"Арт Пикчерс Студия\"</td>\n",
       "      <td>Россия</td>\n",
       "      <td>Н.Хомерики</td>\n",
       "      <td>П.Ануров, Ф.Бондарчук, Д.Рудовский</td>\n",
       "      <td>«16+» - для детей старше 16 лет</td>\n",
       "      <td>20000000.0</td>\n",
       "      <td>40000000.0</td>\n",
       "      <td>9.771388e+07</td>\n",
       "      <td>Фонд кино</td>\n",
       "      <td>5.8</td>\n",
       "      <td>триллер,драма</td>\n",
       "      <td>2.251964e+08</td>\n",
       "      <td>inf</td>\n",
       "    </tr>\n",
       "    <tr>\n",
       "      <th>5806</th>\n",
       "      <td>Два хвоста</td>\n",
       "      <td>114001018</td>\n",
       "      <td>2018-05-31 12:00:00</td>\n",
       "      <td>Анимационный</td>\n",
       "      <td>ООО \"ЛИЦЕНЗИОННЫЕ БРЕНДЫ\"</td>\n",
       "      <td>Россия</td>\n",
       "      <td>В.Ровенский, Н.Лопато, В.Азеев</td>\n",
       "      <td>ООО \"ЛИЦЕНЗИОННЫЕ БРЕНДЫ\"</td>\n",
       "      <td>«6+» - для детей старше 6 лет</td>\n",
       "      <td>10000000.0</td>\n",
       "      <td>60000000.0</td>\n",
       "      <td>1.139995e+08</td>\n",
       "      <td>Фонд кино</td>\n",
       "      <td>5.0</td>\n",
       "      <td>мультфильм,детский</td>\n",
       "      <td>1.065143e+08</td>\n",
       "      <td>inf</td>\n",
       "    </tr>\n",
       "    <tr>\n",
       "      <th>6008</th>\n",
       "      <td>Принцесса и дракон</td>\n",
       "      <td>114003018</td>\n",
       "      <td>2018-08-23 12:00:00</td>\n",
       "      <td>Анимационный</td>\n",
       "      <td>ООО \"ЛИЦЕНЗИОННЫЕ БРЕНДЫ\"</td>\n",
       "      <td>Россия</td>\n",
       "      <td>М.Нефедова</td>\n",
       "      <td>ООО \"ЛИЦЕНЗИОННЫЕ БРЕНДЫ\"</td>\n",
       "      <td>«6+» - для детей старше 6 лет</td>\n",
       "      <td>40000000.0</td>\n",
       "      <td>40000000.0</td>\n",
       "      <td>1.302852e+08</td>\n",
       "      <td>Фонд кино</td>\n",
       "      <td>5.2</td>\n",
       "      <td>мультфильм,фэнтези,детский</td>\n",
       "      <td>8.336633e+07</td>\n",
       "      <td>inf</td>\n",
       "    </tr>\n",
       "    <tr>\n",
       "      <th>6323</th>\n",
       "      <td>Баба Яга</td>\n",
       "      <td>114006518</td>\n",
       "      <td>2018-11-08 12:00:00</td>\n",
       "      <td>Анимационный</td>\n",
       "      <td>ООО \"Арт Пикчерс Студия\"</td>\n",
       "      <td>Россия</td>\n",
       "      <td>В.Саков</td>\n",
       "      <td>ООО \"Арт Пикчерс Студия\", ООО \"КРИЭЙТИВ АНИМЭЙ...</td>\n",
       "      <td>«6+» - для детей старше 6 лет</td>\n",
       "      <td>0.0</td>\n",
       "      <td>138969465.0</td>\n",
       "      <td>2.263208e+08</td>\n",
       "      <td>Фонд кино</td>\n",
       "      <td>NaN</td>\n",
       "      <td>Unknown</td>\n",
       "      <td>1.334699e+06</td>\n",
       "      <td>inf</td>\n",
       "    </tr>\n",
       "    <tr>\n",
       "      <th>6823</th>\n",
       "      <td>Большое путешествие</td>\n",
       "      <td>114002419</td>\n",
       "      <td>2019-04-20 12:00:00</td>\n",
       "      <td>Анимационный</td>\n",
       "      <td>ООО \"ЛИЦЕНЗИОННЫЕ БРЕНДЫ\"</td>\n",
       "      <td>Россия</td>\n",
       "      <td>Н.Лопато, В.Ровенский</td>\n",
       "      <td>ООО \"ЛИЦЕНЗИОННЫЕ БРЕНДЫ\"</td>\n",
       "      <td>«6+» - для детей старше 6 лет</td>\n",
       "      <td>60000000.0</td>\n",
       "      <td>120000000.0</td>\n",
       "      <td>2.931416e+08</td>\n",
       "      <td>Фонд кино</td>\n",
       "      <td>6.2</td>\n",
       "      <td>мультфильм,комедия,приключения</td>\n",
       "      <td>1.476068e+08</td>\n",
       "      <td>inf</td>\n",
       "    </tr>\n",
       "  </tbody>\n",
       "</table>\n",
       "</div>"
      ],
      "text/plain": [
       "                       title   puNumber     show_start_date             type  \\\n",
       "2053                     14+  111023614 2014-12-19 12:00:00   Художественный   \n",
       "2058               Дуxless 2  111000415 2015-01-26 12:00:00   Художественный   \n",
       "2472             Воин (2015)  111017315 2015-09-28 12:00:00   Художественный   \n",
       "2532                 Бармен.  111009615 2015-05-26 12:00:00   Художественный   \n",
       "2615     Савва. Сердце воина  114001715 2015-07-21 12:00:00     Анимационный   \n",
       "2684          Тряпичный союз  111010215 2015-06-08 12:00:00   Художественный   \n",
       "2788      Срочно выйду замуж  111017115 2015-09-30 12:00:00   Художественный   \n",
       "2874       Помню - не помню!  111004916 2016-03-01 12:00:00   Художественный   \n",
       "3047  Любовь с ограничениями  111008216 2016-04-29 12:00:00   Художественный   \n",
       "3565       Притяжение (2016)  111018116 2016-12-16 12:00:00   Художественный   \n",
       "3675                Чудо-юдо  114001817 2017-06-27 12:00:00     Анимационный   \n",
       "3739                    Мифы  111004317 2017-06-07 12:00:00   Художественный   \n",
       "5673                   Селфи  111012117 2018-02-01 12:00:00   Художественный   \n",
       "5806              Два хвоста  114001018 2018-05-31 12:00:00     Анимационный   \n",
       "6008      Принцесса и дракон  114003018 2018-08-23 12:00:00     Анимационный   \n",
       "6323                Баба Яга  114006518 2018-11-08 12:00:00     Анимационный   \n",
       "6823     Большое путешествие  114002419 2019-04-20 12:00:00     Анимационный   \n",
       "\n",
       "                                            film_studio production_country  \\\n",
       "2053                         ООО Киностудия  \"Сентябрь\"             Россия   \n",
       "2058  ООО \"Киностудия \"Слово\", ООО \"Арт Пикчерс Студия\"             Россия   \n",
       "2472   ООО \"Форпост Продакшн\", ООО \"Арт Пикчерс Студия\"             Россия   \n",
       "2532          АО \"ВайТ Медиа\", ООО \"Арт Пикчерс Студия\"             Россия   \n",
       "2615   ООО \"Глюкоза Продакшн\", ООО \"Арт Пикчерс Студия\"             Россия   \n",
       "2684                      ООО \"Кинокомпания \"КОКТЕБЕЛЬ\"             Россия   \n",
       "2788          АО \"ВайТ Медиа\", ООО \"Арт Пикчерс Студия\"             Россия   \n",
       "2874                                    ООО \"КиноФирма\"             Россия   \n",
       "3047          АО \"ВайТ Медиа\", ООО \"Арт Пикчерс Студия\"             Россия   \n",
       "3565      ООО \"Водород 2011\",  ООО \"Арт Пикчерс Студия\"             Россия   \n",
       "3675                                    ООО \"КиноФирма\"             Россия   \n",
       "3739           ООО \"ХАЙПФИЛМ\", ООО \"Арт Пикчерс Студия\"             Россия   \n",
       "5673  ООО \"Киностудия \"Слово\", ООО \"Арт Пикчерс Студия\"             Россия   \n",
       "5806                          ООО \"ЛИЦЕНЗИОННЫЕ БРЕНДЫ\"             Россия   \n",
       "6008                          ООО \"ЛИЦЕНЗИОННЫЕ БРЕНДЫ\"             Россия   \n",
       "6323                           ООО \"Арт Пикчерс Студия\"             Россия   \n",
       "6823                          ООО \"ЛИЦЕНЗИОННЫЕ БРЕНДЫ\"             Россия   \n",
       "\n",
       "                            director  \\\n",
       "2053                        А.Зайцев   \n",
       "2058                      Р.Прыгунов   \n",
       "2472                     А.Андрианов   \n",
       "2532                    Д.Штурманова   \n",
       "2615                        М.Фадеев   \n",
       "2684                     М.Местецкий   \n",
       "2788                       С Чекалов   \n",
       "2874                     В.Ровенский   \n",
       "3047                         Д.Тюрин   \n",
       "3565                     Ф.Бондарчук   \n",
       "3675                       А.Лукичев   \n",
       "3739                    А.Молочников   \n",
       "5673                      Н.Хомерики   \n",
       "5806  В.Ровенский, Н.Лопато, В.Азеев   \n",
       "6008                      М.Нефедова   \n",
       "6323                         В.Саков   \n",
       "6823           Н.Лопато, В.Ровенский   \n",
       "\n",
       "                                               producer  \\\n",
       "2053                                О.Гранина, А.Зайцев   \n",
       "2058                 П.Ануров, Ф.Бондарчук, Д.Рудовский   \n",
       "2472                           ООО \"Арт Пикчерс Студия\"   \n",
       "2532                                        Т.Вайнштейн   \n",
       "2615                                         А.Чистяков   \n",
       "2684                              Р.Борисевич, А.Кушаев   \n",
       "2788              Ф.Бондарчук, Т.Вайнштейн, Д.Рудовский   \n",
       "2874                                    ООО \"КиноФирма\"   \n",
       "3047              Ф.Бондарчук, Т.Вайнштейн, Д.Рудовский   \n",
       "3565                           ООО \"Арт Пикчерс Студия\"   \n",
       "3675                                    ООО \"КиноФирма\"   \n",
       "3739  Ф.Бондарчук, Д.Рудовский, И.Стюарт, М.Османн, ...   \n",
       "5673                 П.Ануров, Ф.Бондарчук, Д.Рудовский   \n",
       "5806                          ООО \"ЛИЦЕНЗИОННЫЕ БРЕНДЫ\"   \n",
       "6008                          ООО \"ЛИЦЕНЗИОННЫЕ БРЕНДЫ\"   \n",
       "6323  ООО \"Арт Пикчерс Студия\", ООО \"КРИЭЙТИВ АНИМЭЙ...   \n",
       "6823                          ООО \"ЛИЦЕНЗИОННЫЕ БРЕНДЫ\"   \n",
       "\n",
       "                      age_restriction  refundable_support  \\\n",
       "2053  «16+» - для детей старше 16 лет                 0.0   \n",
       "2058  «16+» - для детей старше 16 лет                 0.0   \n",
       "2472  «12+» - для детей старше 12 лет          10000000.0   \n",
       "2532  «16+» - для детей старше 16 лет          20000000.0   \n",
       "2615    «6+» - для детей старше 6 лет          60000000.0   \n",
       "2684      «18+» - запрещено для детей                 0.0   \n",
       "2788  «16+» - для детей старше 16 лет                 0.0   \n",
       "2874  «12+» - для детей старше 12 лет                 0.0   \n",
       "3047  «16+» - для детей старше 16 лет          19000000.0   \n",
       "3565  «12+» - для детей старше 12 лет                 0.0   \n",
       "3675    «6+» - для детей старше 6 лет          20000000.0   \n",
       "3739  «16+» - для детей старше 16 лет          25000000.0   \n",
       "5673  «16+» - для детей старше 16 лет          20000000.0   \n",
       "5806    «6+» - для детей старше 6 лет          10000000.0   \n",
       "6008    «6+» - для детей старше 6 лет          40000000.0   \n",
       "6323    «6+» - для детей старше 6 лет                 0.0   \n",
       "6823    «6+» - для детей старше 6 лет          60000000.0   \n",
       "\n",
       "      nonrefundable_support        budget                  financing_source  \\\n",
       "2053             23000000.0  3.745699e+07  Министерство культуры, Фонд кино   \n",
       "2058             75000000.0  1.221424e+08                         Фонд кино   \n",
       "2472             70000000.0  1.302852e+08                         Фонд кино   \n",
       "2532                    0.0  3.257129e+07                         Фонд кино   \n",
       "2615            100000000.0  2.605704e+08                         Фонд кино   \n",
       "2684             59000000.0  9.608532e+07                         Фонд кино   \n",
       "2788             35000000.0  5.699976e+07                         Фонд кино   \n",
       "2874              6000000.0  9.771388e+06             Министерство культуры   \n",
       "3047             51000000.0  1.139995e+08                         Фонд кино   \n",
       "3565            250000000.0  4.071412e+08                         Фонд кино   \n",
       "3675             20000000.0  6.514259e+07                         Фонд кино   \n",
       "3739             20000000.0  7.328541e+07                         Фонд кино   \n",
       "5673             40000000.0  9.771388e+07                         Фонд кино   \n",
       "5806             60000000.0  1.139995e+08                         Фонд кино   \n",
       "6008             40000000.0  1.302852e+08                         Фонд кино   \n",
       "6323            138969465.0  2.263208e+08                         Фонд кино   \n",
       "6823            120000000.0  2.931416e+08                         Фонд кино   \n",
       "\n",
       "      ratings                          genres    box_office  support  \n",
       "2053      6.6                       мелодрама  1.023402e+07      inf  \n",
       "2058      6.6                           драма  4.461635e+08      inf  \n",
       "2472      7.8           боевик,драма,криминал  1.965724e+08      inf  \n",
       "2532      6.2                 комедия,фэнтези  6.741897e+07      inf  \n",
       "2615      4.6  мультфильм,приключения,фэнтези  1.844876e+08      inf  \n",
       "2684      6.3                   комедия,драма  1.957739e+06      inf  \n",
       "2788      5.1               комедия,мелодрама  7.293778e+07      inf  \n",
       "2874      4.3                         комедия  1.536293e+07      inf  \n",
       "3047      6.3               комедия,мелодрама  7.029905e+07      inf  \n",
       "3565      5.6                      фантастика  1.038321e+09      inf  \n",
       "3675      5.2     мультфильм,фэнтези,семейный  5.510801e+07      inf  \n",
       "3739      4.8                         комедия  5.045195e+07      inf  \n",
       "5673      5.8                   триллер,драма  2.251964e+08      inf  \n",
       "5806      5.0              мультфильм,детский  1.065143e+08      inf  \n",
       "6008      5.2      мультфильм,фэнтези,детский  8.336633e+07      inf  \n",
       "6323      NaN                         Unknown  1.334699e+06      inf  \n",
       "6823      6.2  мультфильм,комедия,приключения  1.476068e+08      inf  "
      ]
     },
     "metadata": {},
     "output_type": "display_data"
    }
   ],
   "source": [
    "# используя долю государственного финансирования в бюджете заменим отсутвующие данные.\n",
    "data.loc[wrong_budget.index, 'budget'] = (data.loc[wrong_budget.index, 'refundable_support'] + data.loc[wrong_budget.index, 'nonrefundable_support']) / support\n",
    "\n",
    "display(data.loc[wrong_budget.index])"
   ]
  },
  {
   "cell_type": "markdown",
   "metadata": {},
   "source": [
    "На данном этапе работы были обнаружены фильмы, в информации о которых отсутсвовали данные о бюджете, при этом они получили государственную поддержку. Пропсуки были заполнены с использованием доли государственного финансирования в бюджете."
   ]
  },
  {
   "cell_type": "markdown",
   "metadata": {
    "id": "Eu6oWp2CgFyS"
   },
   "source": [
    "### Добавьте новые столбцы\n",
    "\n",
    "\n",
    "\n"
   ]
  },
  {
   "cell_type": "markdown",
   "metadata": {
    "id": "7GgW-UpAgFyS"
   },
   "source": [
    "**Создайте столбец с информацией о годе проката. Выделите год из даты премьеры фильма.**"
   ]
  },
  {
   "cell_type": "code",
   "execution_count": 22,
   "metadata": {
    "id": "I-yd1DkWgFyT"
   },
   "outputs": [],
   "source": [
    "data['year'] = data['show_start_date'].dt.year"
   ]
  },
  {
   "cell_type": "markdown",
   "metadata": {
    "id": "nFTDLDYOgFyT"
   },
   "source": [
    "**Создайте два столбца: с именем и фамилией главного режиссёра и основным жанром фильма. В столбцы войдут первые значения из списка режиссёров и жанров соответственно.**\n",
    "\n",
    "<div id=\"accordion\">\n",
    "    <div class=\"card\">\n",
    "        <div class=\"card-header\" id=\"headingThree\">\n",
    "            <button class=\"btn btn-link collapsed\" data-toggle=\"collapse\" data-target=\"#collapseHint_2\" aria-expanded=\"false\" aria-controls=\"collapseHint_2\">Подсказка</button>\n",
    "        </div>\n",
    "        <div id=\"collapseHint_2\" class=\"collapse\" aria-labelledby=\"headingThree\" data-parent=\"#accordion\">\n",
    "            <div class=\"card-body\">\n",
    "Чтобы создать такие столбцы, лучше всего использовать собственную функцию. Эту функцию можно применить к двум столбцам сразу. \n",
    "            </div>\n",
    "        </div>\n",
    "    </div>\n",
    "</div>"
   ]
  },
  {
   "cell_type": "code",
   "execution_count": 23,
   "metadata": {
    "id": "LSbRZKbMgFyU"
   },
   "outputs": [],
   "source": [
    "def add_info(data, columns):\n",
    "    for column in columns:\n",
    "        data[f'info_{column}'] = data[column].dropna().apply(lambda x: x.split(',')[0])\n",
    "    return data\n",
    "\n",
    "data = add_info(data, ['director', 'genres'])"
   ]
  },
  {
   "cell_type": "markdown",
   "metadata": {
    "id": "1FsCXHwdgFyU"
   },
   "source": [
    "**Посчитайте, какую долю от общего бюджета фильма составляет государственная поддержка**."
   ]
  },
  {
   "cell_type": "markdown",
   "metadata": {},
   "source": [
    "Было сделано ранее, когда проводилось заполнение 0 в столбце бюджета у фильмов, которые имеют государственную поддержку. "
   ]
  },
  {
   "cell_type": "code",
   "execution_count": 24,
   "metadata": {
    "id": "LV6qFuZLgFyV"
   },
   "outputs": [],
   "source": [
    "data['support'] = (data['refundable_support'] + data['nonrefundable_support']) / data['budget']"
   ]
  },
  {
   "cell_type": "code",
   "execution_count": 25,
   "metadata": {},
   "outputs": [
    {
     "data": {
      "text/html": [
       "<div>\n",
       "<style scoped>\n",
       "    .dataframe tbody tr th:only-of-type {\n",
       "        vertical-align: middle;\n",
       "    }\n",
       "\n",
       "    .dataframe tbody tr th {\n",
       "        vertical-align: top;\n",
       "    }\n",
       "\n",
       "    .dataframe thead th {\n",
       "        text-align: right;\n",
       "    }\n",
       "</style>\n",
       "<table border=\"1\" class=\"dataframe\">\n",
       "  <thead>\n",
       "    <tr style=\"text-align: right;\">\n",
       "      <th></th>\n",
       "      <th>title</th>\n",
       "      <th>puNumber</th>\n",
       "      <th>show_start_date</th>\n",
       "      <th>type</th>\n",
       "      <th>film_studio</th>\n",
       "      <th>production_country</th>\n",
       "      <th>director</th>\n",
       "      <th>producer</th>\n",
       "      <th>age_restriction</th>\n",
       "      <th>refundable_support</th>\n",
       "      <th>nonrefundable_support</th>\n",
       "      <th>budget</th>\n",
       "      <th>financing_source</th>\n",
       "      <th>ratings</th>\n",
       "      <th>genres</th>\n",
       "      <th>box_office</th>\n",
       "      <th>support</th>\n",
       "      <th>year</th>\n",
       "      <th>info_director</th>\n",
       "      <th>info_genres</th>\n",
       "    </tr>\n",
       "  </thead>\n",
       "  <tbody>\n",
       "    <tr>\n",
       "      <th>0</th>\n",
       "      <td>Открытый простор</td>\n",
       "      <td>221048915</td>\n",
       "      <td>2015-11-27 12:00:00</td>\n",
       "      <td>Художественный</td>\n",
       "      <td>Тачстоун Пикчерз, Кобальт Пикчерз, Бикон Пикче...</td>\n",
       "      <td>США</td>\n",
       "      <td>Кевин Костнер</td>\n",
       "      <td>Дэвид Валдес, Кевин Костнер, Джейк Эбертс</td>\n",
       "      <td>«18+» - запрещено для детей</td>\n",
       "      <td>NaN</td>\n",
       "      <td>NaN</td>\n",
       "      <td>NaN</td>\n",
       "      <td>NaN</td>\n",
       "      <td>7.2</td>\n",
       "      <td>боевик,драма,мелодрама</td>\n",
       "      <td>NaN</td>\n",
       "      <td>NaN</td>\n",
       "      <td>2015</td>\n",
       "      <td>Кевин Костнер</td>\n",
       "      <td>боевик</td>\n",
       "    </tr>\n",
       "    <tr>\n",
       "      <th>1</th>\n",
       "      <td>Особо важное задание</td>\n",
       "      <td>111013716</td>\n",
       "      <td>2016-09-13 12:00:00</td>\n",
       "      <td>Художественный</td>\n",
       "      <td>Киностудия \"Мосфильм\"</td>\n",
       "      <td>СССР</td>\n",
       "      <td>Е.Матвеев</td>\n",
       "      <td>Unknown</td>\n",
       "      <td>«6+» - для детей старше 6 лет</td>\n",
       "      <td>NaN</td>\n",
       "      <td>NaN</td>\n",
       "      <td>NaN</td>\n",
       "      <td>NaN</td>\n",
       "      <td>6.6</td>\n",
       "      <td>драма,военный</td>\n",
       "      <td>NaN</td>\n",
       "      <td>NaN</td>\n",
       "      <td>2016</td>\n",
       "      <td>Е.Матвеев</td>\n",
       "      <td>драма</td>\n",
       "    </tr>\n",
       "    <tr>\n",
       "      <th>2</th>\n",
       "      <td>Особо опасен</td>\n",
       "      <td>221038416</td>\n",
       "      <td>2016-10-10 12:00:00</td>\n",
       "      <td>Художественный</td>\n",
       "      <td>Юниверсал Пикчерз, Кикстарт Продакшнз, Марк Пл...</td>\n",
       "      <td>США</td>\n",
       "      <td>Тимур Бекмамбетов</td>\n",
       "      <td>Джим Лемли, Джейсон Нетер, Марк Е.Платт, Яйн Смит</td>\n",
       "      <td>«18+» - запрещено для детей</td>\n",
       "      <td>NaN</td>\n",
       "      <td>NaN</td>\n",
       "      <td>NaN</td>\n",
       "      <td>NaN</td>\n",
       "      <td>6.8</td>\n",
       "      <td>фантастика,боевик,триллер</td>\n",
       "      <td>NaN</td>\n",
       "      <td>NaN</td>\n",
       "      <td>2016</td>\n",
       "      <td>Тимур Бекмамбетов</td>\n",
       "      <td>фантастика</td>\n",
       "    </tr>\n",
       "    <tr>\n",
       "      <th>3</th>\n",
       "      <td>Особо опасен</td>\n",
       "      <td>221026916</td>\n",
       "      <td>2016-06-10 12:00:00</td>\n",
       "      <td>Художественный</td>\n",
       "      <td>Юниверсал Пикчерз, Кикстарт Продакшнз, Марк Пл...</td>\n",
       "      <td>США</td>\n",
       "      <td>Тимур Бекмамбетов</td>\n",
       "      <td>Джим Лемли, Джейсон Нетер, Марк Е.Платт, Яйн Смит</td>\n",
       "      <td>«18+» - запрещено для детей</td>\n",
       "      <td>NaN</td>\n",
       "      <td>NaN</td>\n",
       "      <td>NaN</td>\n",
       "      <td>NaN</td>\n",
       "      <td>6.8</td>\n",
       "      <td>фантастика,боевик,триллер</td>\n",
       "      <td>NaN</td>\n",
       "      <td>NaN</td>\n",
       "      <td>2016</td>\n",
       "      <td>Тимур Бекмамбетов</td>\n",
       "      <td>фантастика</td>\n",
       "    </tr>\n",
       "    <tr>\n",
       "      <th>4</th>\n",
       "      <td>Особо опасен</td>\n",
       "      <td>221030815</td>\n",
       "      <td>2015-07-29 12:00:00</td>\n",
       "      <td>Художественный</td>\n",
       "      <td>Юниверсал Пикчерз, Кикстарт Продакшнз, Марк Пл...</td>\n",
       "      <td>США</td>\n",
       "      <td>Тимур Бекмамбетов</td>\n",
       "      <td>Джим Лемли, Джейсон Нетер, Марк Е.Платт, Яйн Смит</td>\n",
       "      <td>«18+» - запрещено для детей</td>\n",
       "      <td>NaN</td>\n",
       "      <td>NaN</td>\n",
       "      <td>NaN</td>\n",
       "      <td>NaN</td>\n",
       "      <td>6.8</td>\n",
       "      <td>фантастика,боевик,триллер</td>\n",
       "      <td>NaN</td>\n",
       "      <td>NaN</td>\n",
       "      <td>2015</td>\n",
       "      <td>Тимур Бекмамбетов</td>\n",
       "      <td>фантастика</td>\n",
       "    </tr>\n",
       "    <tr>\n",
       "      <th>...</th>\n",
       "      <td>...</td>\n",
       "      <td>...</td>\n",
       "      <td>...</td>\n",
       "      <td>...</td>\n",
       "      <td>...</td>\n",
       "      <td>...</td>\n",
       "      <td>...</td>\n",
       "      <td>...</td>\n",
       "      <td>...</td>\n",
       "      <td>...</td>\n",
       "      <td>...</td>\n",
       "      <td>...</td>\n",
       "      <td>...</td>\n",
       "      <td>...</td>\n",
       "      <td>...</td>\n",
       "      <td>...</td>\n",
       "      <td>...</td>\n",
       "      <td>...</td>\n",
       "      <td>...</td>\n",
       "      <td>...</td>\n",
       "    </tr>\n",
       "    <tr>\n",
       "      <th>7481</th>\n",
       "      <td>Сад художника: Американский импрессионизм</td>\n",
       "      <td>126008019</td>\n",
       "      <td>2019-12-23 12:00:00</td>\n",
       "      <td>Прочие</td>\n",
       "      <td>Севен Артс Продакшнз</td>\n",
       "      <td>Великобритания</td>\n",
       "      <td>Фил Грабски</td>\n",
       "      <td>Фил Грабски</td>\n",
       "      <td>«12+» - для детей старше 12 лет</td>\n",
       "      <td>NaN</td>\n",
       "      <td>NaN</td>\n",
       "      <td>NaN</td>\n",
       "      <td>NaN</td>\n",
       "      <td>NaN</td>\n",
       "      <td>Unknown</td>\n",
       "      <td>NaN</td>\n",
       "      <td>NaN</td>\n",
       "      <td>2019</td>\n",
       "      <td>Фил Грабски</td>\n",
       "      <td>Unknown</td>\n",
       "    </tr>\n",
       "    <tr>\n",
       "      <th>7482</th>\n",
       "      <td>Звериная ярость</td>\n",
       "      <td>121037819</td>\n",
       "      <td>2019-12-24 12:00:00</td>\n",
       "      <td>Художественный</td>\n",
       "      <td>Дэниел Гродник Продакшнз, Вандерфилм Медиа Кор...</td>\n",
       "      <td>США</td>\n",
       "      <td>Ник Пауэлл</td>\n",
       "      <td>Джефф Боулер, Дэниэл Гродник, Луильо Руис, Брэ...</td>\n",
       "      <td>«16+» - для детей старше 16 лет</td>\n",
       "      <td>NaN</td>\n",
       "      <td>NaN</td>\n",
       "      <td>NaN</td>\n",
       "      <td>NaN</td>\n",
       "      <td>5.4</td>\n",
       "      <td>боевик,триллер</td>\n",
       "      <td>NaN</td>\n",
       "      <td>NaN</td>\n",
       "      <td>2019</td>\n",
       "      <td>Ник Пауэлл</td>\n",
       "      <td>боевик</td>\n",
       "    </tr>\n",
       "    <tr>\n",
       "      <th>7483</th>\n",
       "      <td>Щенячий патруль: Скорей спешим на помощь!</td>\n",
       "      <td>124010819</td>\n",
       "      <td>2019-12-28 12:00:00</td>\n",
       "      <td>Художественный</td>\n",
       "      <td>Никелодеон Анимейшн Студиос, Спин Мастер</td>\n",
       "      <td>США - Канада</td>\n",
       "      <td>Чарльз Е.Бастьен</td>\n",
       "      <td>Дженнифер Додж</td>\n",
       "      <td>«0+» - для любой зрительской аудитории</td>\n",
       "      <td>NaN</td>\n",
       "      <td>NaN</td>\n",
       "      <td>NaN</td>\n",
       "      <td>NaN</td>\n",
       "      <td>NaN</td>\n",
       "      <td>Unknown</td>\n",
       "      <td>NaN</td>\n",
       "      <td>NaN</td>\n",
       "      <td>2019</td>\n",
       "      <td>Чарльз Е.Бастьен</td>\n",
       "      <td>Unknown</td>\n",
       "    </tr>\n",
       "    <tr>\n",
       "      <th>7484</th>\n",
       "      <td>Машины песенки. Серия \"Испанские мотивы\"</td>\n",
       "      <td>124010619</td>\n",
       "      <td>2019-12-30 12:00:00</td>\n",
       "      <td>Анимационный</td>\n",
       "      <td>Анимаккорд Лтд., ООО Студия \"АНИМАККОРД\"</td>\n",
       "      <td>Республика Кипр, Россия</td>\n",
       "      <td>А.Беляев</td>\n",
       "      <td>Д.Ловейко</td>\n",
       "      <td>«0+» - для любой зрительской аудитории</td>\n",
       "      <td>NaN</td>\n",
       "      <td>NaN</td>\n",
       "      <td>NaN</td>\n",
       "      <td>NaN</td>\n",
       "      <td>NaN</td>\n",
       "      <td>Unknown</td>\n",
       "      <td>NaN</td>\n",
       "      <td>NaN</td>\n",
       "      <td>2019</td>\n",
       "      <td>А.Беляев</td>\n",
       "      <td>Unknown</td>\n",
       "    </tr>\n",
       "    <tr>\n",
       "      <th>7485</th>\n",
       "      <td>Машины песенки. Серия \"Когда цветут кактусы\"</td>\n",
       "      <td>124010719</td>\n",
       "      <td>2019-12-30 12:00:00</td>\n",
       "      <td>Анимационный</td>\n",
       "      <td>Анимаккорд Лтд., ООО Студия \"АНИМАККОРД\"</td>\n",
       "      <td>Республика Кипр, Россия</td>\n",
       "      <td>И.Трусов</td>\n",
       "      <td>Д.Ловейко</td>\n",
       "      <td>«0+» - для любой зрительской аудитории</td>\n",
       "      <td>NaN</td>\n",
       "      <td>NaN</td>\n",
       "      <td>NaN</td>\n",
       "      <td>NaN</td>\n",
       "      <td>6.3</td>\n",
       "      <td>комедия,вестерн</td>\n",
       "      <td>NaN</td>\n",
       "      <td>NaN</td>\n",
       "      <td>2019</td>\n",
       "      <td>И.Трусов</td>\n",
       "      <td>комедия</td>\n",
       "    </tr>\n",
       "  </tbody>\n",
       "</table>\n",
       "<p>7486 rows × 20 columns</p>\n",
       "</div>"
      ],
      "text/plain": [
       "                                             title   puNumber  \\\n",
       "0                                 Открытый простор  221048915   \n",
       "1                             Особо важное задание  111013716   \n",
       "2                                     Особо опасен  221038416   \n",
       "3                                     Особо опасен  221026916   \n",
       "4                                     Особо опасен  221030815   \n",
       "...                                            ...        ...   \n",
       "7481     Сад художника: Американский импрессионизм  126008019   \n",
       "7482                               Звериная ярость  121037819   \n",
       "7483     Щенячий патруль: Скорей спешим на помощь!  124010819   \n",
       "7484      Машины песенки. Серия \"Испанские мотивы\"  124010619   \n",
       "7485  Машины песенки. Серия \"Когда цветут кактусы\"  124010719   \n",
       "\n",
       "         show_start_date             type  \\\n",
       "0    2015-11-27 12:00:00   Художественный   \n",
       "1    2016-09-13 12:00:00   Художественный   \n",
       "2    2016-10-10 12:00:00   Художественный   \n",
       "3    2016-06-10 12:00:00   Художественный   \n",
       "4    2015-07-29 12:00:00   Художественный   \n",
       "...                  ...              ...   \n",
       "7481 2019-12-23 12:00:00           Прочие   \n",
       "7482 2019-12-24 12:00:00   Художественный   \n",
       "7483 2019-12-28 12:00:00   Художественный   \n",
       "7484 2019-12-30 12:00:00     Анимационный   \n",
       "7485 2019-12-30 12:00:00     Анимационный   \n",
       "\n",
       "                                            film_studio  \\\n",
       "0     Тачстоун Пикчерз, Кобальт Пикчерз, Бикон Пикче...   \n",
       "1                                 Киностудия \"Мосфильм\"   \n",
       "2     Юниверсал Пикчерз, Кикстарт Продакшнз, Марк Пл...   \n",
       "3     Юниверсал Пикчерз, Кикстарт Продакшнз, Марк Пл...   \n",
       "4     Юниверсал Пикчерз, Кикстарт Продакшнз, Марк Пл...   \n",
       "...                                                 ...   \n",
       "7481                               Севен Артс Продакшнз   \n",
       "7482  Дэниел Гродник Продакшнз, Вандерфилм Медиа Кор...   \n",
       "7483           Никелодеон Анимейшн Студиос, Спин Мастер   \n",
       "7484           Анимаккорд Лтд., ООО Студия \"АНИМАККОРД\"   \n",
       "7485           Анимаккорд Лтд., ООО Студия \"АНИМАККОРД\"   \n",
       "\n",
       "           production_country           director  \\\n",
       "0                         США      Кевин Костнер   \n",
       "1                        СССР          Е.Матвеев   \n",
       "2                         США  Тимур Бекмамбетов   \n",
       "3                         США  Тимур Бекмамбетов   \n",
       "4                         США  Тимур Бекмамбетов   \n",
       "...                       ...                ...   \n",
       "7481           Великобритания        Фил Грабски   \n",
       "7482                      США         Ник Пауэлл   \n",
       "7483             США - Канада   Чарльз Е.Бастьен   \n",
       "7484  Республика Кипр, Россия           А.Беляев   \n",
       "7485  Республика Кипр, Россия           И.Трусов   \n",
       "\n",
       "                                               producer  \\\n",
       "0             Дэвид Валдес, Кевин Костнер, Джейк Эбертс   \n",
       "1                                               Unknown   \n",
       "2     Джим Лемли, Джейсон Нетер, Марк Е.Платт, Яйн Смит   \n",
       "3     Джим Лемли, Джейсон Нетер, Марк Е.Платт, Яйн Смит   \n",
       "4     Джим Лемли, Джейсон Нетер, Марк Е.Платт, Яйн Смит   \n",
       "...                                                 ...   \n",
       "7481                                        Фил Грабски   \n",
       "7482  Джефф Боулер, Дэниэл Гродник, Луильо Руис, Брэ...   \n",
       "7483                                     Дженнифер Додж   \n",
       "7484                                          Д.Ловейко   \n",
       "7485                                          Д.Ловейко   \n",
       "\n",
       "                             age_restriction  refundable_support  \\\n",
       "0                «18+» - запрещено для детей                 NaN   \n",
       "1              «6+» - для детей старше 6 лет                 NaN   \n",
       "2                «18+» - запрещено для детей                 NaN   \n",
       "3                «18+» - запрещено для детей                 NaN   \n",
       "4                «18+» - запрещено для детей                 NaN   \n",
       "...                                      ...                 ...   \n",
       "7481         «12+» - для детей старше 12 лет                 NaN   \n",
       "7482         «16+» - для детей старше 16 лет                 NaN   \n",
       "7483  «0+» - для любой зрительской аудитории                 NaN   \n",
       "7484  «0+» - для любой зрительской аудитории                 NaN   \n",
       "7485  «0+» - для любой зрительской аудитории                 NaN   \n",
       "\n",
       "      nonrefundable_support  budget financing_source  ratings  \\\n",
       "0                       NaN     NaN              NaN      7.2   \n",
       "1                       NaN     NaN              NaN      6.6   \n",
       "2                       NaN     NaN              NaN      6.8   \n",
       "3                       NaN     NaN              NaN      6.8   \n",
       "4                       NaN     NaN              NaN      6.8   \n",
       "...                     ...     ...              ...      ...   \n",
       "7481                    NaN     NaN              NaN      NaN   \n",
       "7482                    NaN     NaN              NaN      5.4   \n",
       "7483                    NaN     NaN              NaN      NaN   \n",
       "7484                    NaN     NaN              NaN      NaN   \n",
       "7485                    NaN     NaN              NaN      6.3   \n",
       "\n",
       "                         genres  box_office  support  year      info_director  \\\n",
       "0        боевик,драма,мелодрама         NaN      NaN  2015      Кевин Костнер   \n",
       "1                 драма,военный         NaN      NaN  2016          Е.Матвеев   \n",
       "2     фантастика,боевик,триллер         NaN      NaN  2016  Тимур Бекмамбетов   \n",
       "3     фантастика,боевик,триллер         NaN      NaN  2016  Тимур Бекмамбетов   \n",
       "4     фантастика,боевик,триллер         NaN      NaN  2015  Тимур Бекмамбетов   \n",
       "...                         ...         ...      ...   ...                ...   \n",
       "7481                    Unknown         NaN      NaN  2019        Фил Грабски   \n",
       "7482             боевик,триллер         NaN      NaN  2019         Ник Пауэлл   \n",
       "7483                    Unknown         NaN      NaN  2019   Чарльз Е.Бастьен   \n",
       "7484                    Unknown         NaN      NaN  2019           А.Беляев   \n",
       "7485            комедия,вестерн         NaN      NaN  2019           И.Трусов   \n",
       "\n",
       "     info_genres  \n",
       "0         боевик  \n",
       "1          драма  \n",
       "2     фантастика  \n",
       "3     фантастика  \n",
       "4     фантастика  \n",
       "...          ...  \n",
       "7481     Unknown  \n",
       "7482      боевик  \n",
       "7483     Unknown  \n",
       "7484     Unknown  \n",
       "7485     комедия  \n",
       "\n",
       "[7486 rows x 20 columns]"
      ]
     },
     "metadata": {},
     "output_type": "display_data"
    }
   ],
   "source": [
    "display(data)"
   ]
  },
  {
   "cell_type": "markdown",
   "metadata": {},
   "source": [
    "В датафрейм были добавлены данные о годе проката, об основном жанре фильма, имени и фамилии главного режиссера и доля государственной поддержки в бюджете (для фильмов, имеющих государственную поддержку)."
   ]
  },
  {
   "cell_type": "markdown",
   "metadata": {
    "id": "6t4EukPLgFyV"
   },
   "source": [
    "# Шаг 3. Проведите исследовательский анализ данных\n"
   ]
  },
  {
   "cell_type": "code",
   "execution_count": 26,
   "metadata": {},
   "outputs": [],
   "source": [
    "data_pivot = data.loc[data['box_office'].notna(), ['year', 'box_office']] \\\n",
    "                .groupby('year') \\\n",
    "                .agg(['count', 'sum', 'mean', 'median'])\n",
    "\n",
    "data_pivot.columns = data_pivot.columns.get_level_values(1)"
   ]
  },
  {
   "cell_type": "markdown",
   "metadata": {
    "id": "vAH8WCzugFyV"
   },
   "source": [
    "**Посмотрите, сколько фильмов выходило в прокат каждый год. Обратите внимание, что данные о прокате в кинотеатрах известны не для всех фильмов. Посчитайте, какую долю составляют фильмы с указанной информацией о прокате в кинотеатрах.**"
   ]
  },
  {
   "cell_type": "code",
   "execution_count": 27,
   "metadata": {
    "id": "ABeV47y7gFyW"
   },
   "outputs": [
    {
     "name": "stdout",
     "output_type": "stream",
     "text": [
      "      box_office  puNumber     parts\n",
      "year                                \n",
      "2010         105       985  0.106599\n",
      "2011         109       622  0.175241\n",
      "2012         128       593  0.215852\n",
      "2013         184       630  0.292063\n",
      "2014         279       807  0.345725\n",
      "2015         465       705  0.659574\n",
      "2016         526       818  0.643032\n",
      "2017         357       505  0.706931\n",
      "2018         475       891  0.533109\n",
      "2019         530       930  0.569892\n"
     ]
    }
   ],
   "source": [
    "films_years = data.pivot_table(index='year', values=('puNumber','box_office'), aggfunc='count')\n",
    "films_years['parts'] = data['box_office'].notna().groupby(data['year']).mean()\n",
    "print(films_years)"
   ]
  },
  {
   "cell_type": "markdown",
   "metadata": {},
   "source": [
    "Таким образом, становится очевидно, что доля тех фильмов, о которых есть информация о прокате в кинотеатрах постепенно увеличивается от года к году вплоть до 2018 года. 2018 год и 2019 год имееют некоторое снижение количестве фильмов, относительно которых есть инфоомация о сборах, в то время как общее количество фильмов в данные годы вляется высоким.  "
   ]
  },
  {
   "cell_type": "markdown",
   "metadata": {
    "id": "BEOdcIrIgFyW"
   },
   "source": [
    "**Изучите, как менялась динамика проката по годам. В каком году сумма сборов была минимальной? А максимальной?**"
   ]
  },
  {
   "cell_type": "code",
   "execution_count": 28,
   "metadata": {
    "id": "tfEhofYvgFyX"
   },
   "outputs": [
    {
     "name": "stdout",
     "output_type": "stream",
     "text": [
      "В 2010 году сумма сборов была минимальной, в 2018 максимальной.\n"
     ]
    },
    {
     "data": {
      "text/html": [
       "<div>\n",
       "<style scoped>\n",
       "    .dataframe tbody tr th:only-of-type {\n",
       "        vertical-align: middle;\n",
       "    }\n",
       "\n",
       "    .dataframe tbody tr th {\n",
       "        vertical-align: top;\n",
       "    }\n",
       "\n",
       "    .dataframe thead th {\n",
       "        text-align: right;\n",
       "    }\n",
       "</style>\n",
       "<table border=\"1\" class=\"dataframe\">\n",
       "  <thead>\n",
       "    <tr style=\"text-align: right;\">\n",
       "      <th></th>\n",
       "      <th>count</th>\n",
       "      <th>sum</th>\n",
       "      <th>mean</th>\n",
       "      <th>median</th>\n",
       "    </tr>\n",
       "    <tr>\n",
       "      <th>year</th>\n",
       "      <th></th>\n",
       "      <th></th>\n",
       "      <th></th>\n",
       "      <th></th>\n",
       "    </tr>\n",
       "  </thead>\n",
       "  <tbody>\n",
       "    <tr>\n",
       "      <th>2010</th>\n",
       "      <td>105</td>\n",
       "      <td>2.428654e+06</td>\n",
       "      <td>2.313004e+04</td>\n",
       "      <td>1700.000</td>\n",
       "    </tr>\n",
       "    <tr>\n",
       "      <th>2011</th>\n",
       "      <td>109</td>\n",
       "      <td>1.410276e+07</td>\n",
       "      <td>1.293832e+05</td>\n",
       "      <td>3000.000</td>\n",
       "    </tr>\n",
       "    <tr>\n",
       "      <th>2012</th>\n",
       "      <td>128</td>\n",
       "      <td>6.955423e+06</td>\n",
       "      <td>5.433924e+04</td>\n",
       "      <td>5660.000</td>\n",
       "    </tr>\n",
       "    <tr>\n",
       "      <th>2013</th>\n",
       "      <td>184</td>\n",
       "      <td>2.979971e+07</td>\n",
       "      <td>1.619549e+05</td>\n",
       "      <td>3522.500</td>\n",
       "    </tr>\n",
       "    <tr>\n",
       "      <th>2014</th>\n",
       "      <td>279</td>\n",
       "      <td>7.444952e+09</td>\n",
       "      <td>2.668442e+07</td>\n",
       "      <td>18160.000</td>\n",
       "    </tr>\n",
       "    <tr>\n",
       "      <th>2015</th>\n",
       "      <td>465</td>\n",
       "      <td>3.949737e+10</td>\n",
       "      <td>8.494057e+07</td>\n",
       "      <td>4920933.000</td>\n",
       "    </tr>\n",
       "    <tr>\n",
       "      <th>2016</th>\n",
       "      <td>526</td>\n",
       "      <td>4.786630e+10</td>\n",
       "      <td>9.100057e+07</td>\n",
       "      <td>3846679.410</td>\n",
       "    </tr>\n",
       "    <tr>\n",
       "      <th>2017</th>\n",
       "      <td>357</td>\n",
       "      <td>4.856371e+10</td>\n",
       "      <td>1.360328e+08</td>\n",
       "      <td>9968340.000</td>\n",
       "    </tr>\n",
       "    <tr>\n",
       "      <th>2018</th>\n",
       "      <td>475</td>\n",
       "      <td>4.966840e+10</td>\n",
       "      <td>1.045651e+08</td>\n",
       "      <td>8891102.210</td>\n",
       "    </tr>\n",
       "    <tr>\n",
       "      <th>2019</th>\n",
       "      <td>530</td>\n",
       "      <td>4.842571e+10</td>\n",
       "      <td>9.136926e+07</td>\n",
       "      <td>4627798.345</td>\n",
       "    </tr>\n",
       "  </tbody>\n",
       "</table>\n",
       "</div>"
      ],
      "text/plain": [
       "      count           sum          mean       median\n",
       "year                                                \n",
       "2010    105  2.428654e+06  2.313004e+04     1700.000\n",
       "2011    109  1.410276e+07  1.293832e+05     3000.000\n",
       "2012    128  6.955423e+06  5.433924e+04     5660.000\n",
       "2013    184  2.979971e+07  1.619549e+05     3522.500\n",
       "2014    279  7.444952e+09  2.668442e+07    18160.000\n",
       "2015    465  3.949737e+10  8.494057e+07  4920933.000\n",
       "2016    526  4.786630e+10  9.100057e+07  3846679.410\n",
       "2017    357  4.856371e+10  1.360328e+08  9968340.000\n",
       "2018    475  4.966840e+10  1.045651e+08  8891102.210\n",
       "2019    530  4.842571e+10  9.136926e+07  4627798.345"
      ]
     },
     "metadata": {},
     "output_type": "display_data"
    },
    {
     "data": {
      "image/png": "[encoded data removed]",
      "text/plain": [
       "<Figure size 432x288 with 1 Axes>"
      ]
     },
     "metadata": {
      "needs_background": "light"
     },
     "output_type": "display_data"
    }
   ],
   "source": [
    "data_pivot.plot(title='динамика проката по годам', kind='line', y='sum')\n",
    "print(f\"В {data_pivot['sum'].idxmin()} году сумма сборов была минимальной, в {data_pivot['sum'].idxmax()} максимальной.\")\n",
    "\n",
    "display(data_pivot)"
   ]
  },
  {
   "cell_type": "markdown",
   "metadata": {},
   "source": [
    "Итак, в 2010 году сумма сборов была минимальной, а в 2018 году максимальной.\n",
    "\n",
    "Говоря о динамике сборов фильмов по годам становится видно, что рост начинает происходить только в 2013 году, постепенно увеличивает оборот от года к году и достигает своего пика в 2018 году и затем незначиатлеьно снижается."
   ]
  },
  {
   "cell_type": "markdown",
   "metadata": {
    "id": "G-7qS-N-gFyY"
   },
   "source": [
    "**С помощью сводной таблицы посчитайте среднюю и медианную сумму сборов для каждого года.**"
   ]
  },
  {
   "cell_type": "code",
   "execution_count": 29,
   "metadata": {
    "id": "jmp-rgg9gFyY"
   },
   "outputs": [
    {
     "name": "stdout",
     "output_type": "stream",
     "text": [
      "\n"
     ]
    },
    {
     "data": {
      "image/png": "[encoded data removed]",
      "text/plain": [
       "<Figure size 432x288 with 1 Axes>"
      ]
     },
     "metadata": {
      "needs_background": "light"
     },
     "output_type": "display_data"
    }
   ],
   "source": [
    "data_pivot.plot(title='средняя и медианная сумма сборов по годам', kind='line', y=['median', 'mean'])\n",
    "print()"
   ]
  },
  {
   "cell_type": "code",
   "execution_count": 30,
   "metadata": {},
   "outputs": [
    {
     "data": {
      "text/html": [
       "<div>\n",
       "<style scoped>\n",
       "    .dataframe tbody tr th:only-of-type {\n",
       "        vertical-align: middle;\n",
       "    }\n",
       "\n",
       "    .dataframe tbody tr th {\n",
       "        vertical-align: top;\n",
       "    }\n",
       "\n",
       "    .dataframe thead th {\n",
       "        text-align: right;\n",
       "    }\n",
       "</style>\n",
       "<table border=\"1\" class=\"dataframe\">\n",
       "  <thead>\n",
       "    <tr style=\"text-align: right;\">\n",
       "      <th></th>\n",
       "      <th>count</th>\n",
       "      <th>sum</th>\n",
       "      <th>mean</th>\n",
       "      <th>median</th>\n",
       "    </tr>\n",
       "    <tr>\n",
       "      <th>year</th>\n",
       "      <th></th>\n",
       "      <th></th>\n",
       "      <th></th>\n",
       "      <th></th>\n",
       "    </tr>\n",
       "  </thead>\n",
       "  <tbody>\n",
       "    <tr>\n",
       "      <th>2010</th>\n",
       "      <td>105</td>\n",
       "      <td>2.428654e+06</td>\n",
       "      <td>2.313004e+04</td>\n",
       "      <td>1700.000</td>\n",
       "    </tr>\n",
       "    <tr>\n",
       "      <th>2011</th>\n",
       "      <td>109</td>\n",
       "      <td>1.410276e+07</td>\n",
       "      <td>1.293832e+05</td>\n",
       "      <td>3000.000</td>\n",
       "    </tr>\n",
       "    <tr>\n",
       "      <th>2012</th>\n",
       "      <td>128</td>\n",
       "      <td>6.955423e+06</td>\n",
       "      <td>5.433924e+04</td>\n",
       "      <td>5660.000</td>\n",
       "    </tr>\n",
       "    <tr>\n",
       "      <th>2013</th>\n",
       "      <td>184</td>\n",
       "      <td>2.979971e+07</td>\n",
       "      <td>1.619549e+05</td>\n",
       "      <td>3522.500</td>\n",
       "    </tr>\n",
       "    <tr>\n",
       "      <th>2014</th>\n",
       "      <td>279</td>\n",
       "      <td>7.444952e+09</td>\n",
       "      <td>2.668442e+07</td>\n",
       "      <td>18160.000</td>\n",
       "    </tr>\n",
       "    <tr>\n",
       "      <th>2015</th>\n",
       "      <td>465</td>\n",
       "      <td>3.949737e+10</td>\n",
       "      <td>8.494057e+07</td>\n",
       "      <td>4920933.000</td>\n",
       "    </tr>\n",
       "    <tr>\n",
       "      <th>2016</th>\n",
       "      <td>526</td>\n",
       "      <td>4.786630e+10</td>\n",
       "      <td>9.100057e+07</td>\n",
       "      <td>3846679.410</td>\n",
       "    </tr>\n",
       "    <tr>\n",
       "      <th>2017</th>\n",
       "      <td>357</td>\n",
       "      <td>4.856371e+10</td>\n",
       "      <td>1.360328e+08</td>\n",
       "      <td>9968340.000</td>\n",
       "    </tr>\n",
       "    <tr>\n",
       "      <th>2018</th>\n",
       "      <td>475</td>\n",
       "      <td>4.966840e+10</td>\n",
       "      <td>1.045651e+08</td>\n",
       "      <td>8891102.210</td>\n",
       "    </tr>\n",
       "    <tr>\n",
       "      <th>2019</th>\n",
       "      <td>530</td>\n",
       "      <td>4.842571e+10</td>\n",
       "      <td>9.136926e+07</td>\n",
       "      <td>4627798.345</td>\n",
       "    </tr>\n",
       "  </tbody>\n",
       "</table>\n",
       "</div>"
      ],
      "text/plain": [
       "      count           sum          mean       median\n",
       "year                                                \n",
       "2010    105  2.428654e+06  2.313004e+04     1700.000\n",
       "2011    109  1.410276e+07  1.293832e+05     3000.000\n",
       "2012    128  6.955423e+06  5.433924e+04     5660.000\n",
       "2013    184  2.979971e+07  1.619549e+05     3522.500\n",
       "2014    279  7.444952e+09  2.668442e+07    18160.000\n",
       "2015    465  3.949737e+10  8.494057e+07  4920933.000\n",
       "2016    526  4.786630e+10  9.100057e+07  3846679.410\n",
       "2017    357  4.856371e+10  1.360328e+08  9968340.000\n",
       "2018    475  4.966840e+10  1.045651e+08  8891102.210\n",
       "2019    530  4.842571e+10  9.136926e+07  4627798.345"
      ]
     },
     "metadata": {},
     "output_type": "display_data"
    }
   ],
   "source": [
    "display(data_pivot)"
   ]
  },
  {
   "cell_type": "markdown",
   "metadata": {},
   "source": [
    "Итак, становится видно следующее: \n",
    "- Медианная сумма сборов не сильно колеблется на протяжении всего рассматриваемого периода. Увеличение просиходит после 2014 года, а пик достигается в 2017 году и составляет 9968340 рублей. Затем происходит постепенное снижение. \n",
    "- Средняя сумма сборов отличается от медианной тем, что разброс данных от года к году достаочно большой. Увеличение среднего показателя сборов начинает происходить в 2013 году и достигает свеого пика в 2017-2018году. Средняя сумма сборов так сильно отличается от медианной так как, можно предположить, данные не одинаковы, существуют как очень маленькие сумма, так и большие6 что отражается на среднем значении.\n",
    "\n",
    "Однако, при рассмотрении обоих показателей необходимо учитывать тот факт, что само количество фильмов, вышедших в прокат не одинаково в каждый из годов. Таким образом, из постепенное увеличение также влиянет на показатели суммы сборов (как среднего, так и медианного)."
   ]
  },
  {
   "cell_type": "markdown",
   "metadata": {
    "id": "Ok89WFwJgFyZ"
   },
   "source": [
    "**Определите, влияет ли возрастное ограничение аудитории («6+», «12+», «16+», «18+» и т. д.) на сборы фильма в прокате в период с 2015 по 2019 год? Фильмы с каким возрастным ограничением собрали больше всего денег в прокате? Меняется ли картина в зависимости от года? Если да, предположите, с чем это может быть связано.**"
   ]
  },
  {
   "cell_type": "code",
   "execution_count": 31,
   "metadata": {
    "id": "jsSbEqfjgFya"
   },
   "outputs": [
    {
     "name": "stdout",
     "output_type": "stream",
     "text": [
      "\n"
     ]
    },
    {
     "data": {
      "image/png": "[encoded data removed]",
      "text/plain": [
       "<Figure size 1080x720 with 1 Axes>"
      ]
     },
     "metadata": {
      "needs_background": "light"
     },
     "output_type": "display_data"
    }
   ],
   "source": [
    "data[data['box_office'].notna()] \\\n",
    "    .pivot_table(index='year',\n",
    "                columns='age_restriction',\n",
    "                values='box_office',\n",
    "                aggfunc='sum') \\\n",
    "    .plot(title='сумма сборов по возрастным категориям с 2015 по 2019 год', kind='line', xlim=[2015, 2019], figsize=(15,10))\n",
    "print()"
   ]
  },
  {
   "cell_type": "markdown",
   "metadata": {},
   "source": [
    "Итак, рассматривая распределение сборов фильмов в прокате по возрастным категориям становится видно следующее: \n",
    "- Фильмы для любой зрительской категории никак не оказывают влияния на сумма споров в рассматриваемый перирод времени и являются минимальными по сумме сборов. \n",
    "- Фильмы для категории 16+ являются самими кассовыми. Можно предположить, что данный факт связан с тем, что подростки чаше взрослых ходят в кино, так как у них есть больше свободного времени или же сама популряность такого времяпрепровождения как поход в кино наиболее высока именно у людей в возрасте 16-17 лет. Соотвественно6 это сказывается на сумме сборов от проката, так как посещаемость сеансов высокая. \n",
    "- Категория фильмов 12+ имела высокие суммы сборов с 2015 до 2017 года. В 2017 году произошло резкое нижение суммы сборов в данной категории, а затем, к 2018 году она вновь возрасла. Можно предположить, что снижение сумм сборов связано с тем, что уже было отмечено ранее: в 2017 году общее число вышедших фильмов вообще снизислоь. Возможно, это были фильмы как раз категории 12+.\n",
    "- Категория фильмов 6+ имеет довольно высокие и стабильные показатели суммы сборов от проката. Данный факт свидетельствует о том, что поход в кино с детьми является поплуряным варинтом провести время вместе для родителей или иных родственников ребенка. Однако необходимо также отметить, что на сумму сборов а данной категории сильно влияет тот факт, что на фильмы 6+ чаще всего покупается 2 и более билета, так как маленькие дети не ходят в кино одни. В связи с чем, увеличивается и само число зрителей и сумма проката. \n",
    "- Категория 18+ имеет самые низкие показатели суммы сборов от праката из всех рассматриваемых категорий, в которых органичения установлены (0+ не берем). Можно предположить, что это связано с тем, что взрослые люди либо не любят ходить в кино, либо же, большинство фильмов попадают под категорию 16+, в связи с чем, они и занимают лидирующие позии по сумме сборов."
   ]
  },
  {
   "cell_type": "markdown",
   "metadata": {
    "id": "l_Kg6Ku4gFya"
   },
   "source": [
    "# Шаг 4. Исследуйте фильмы, которые получили государственную поддержку\n",
    "\n",
    "На этом этапе нет конкретных инструкций и заданий — поищите интересные закономерности в данных. Посмотрите, сколько выделяют средств на поддержку кино. Проверьте, хорошо ли окупаются такие фильмы, какой у них рейтинг."
   ]
  },
  {
   "cell_type": "code",
   "execution_count": 32,
   "metadata": {
    "id": "W9QKpjUdgFyb"
   },
   "outputs": [
    {
     "name": "stderr",
     "output_type": "stream",
     "text": [
      "/tmp/ipykernel_94/4042370738.py:5: SettingWithCopyWarning: \n",
      "A value is trying to be set on a copy of a slice from a DataFrame.\n",
      "Try using .loc[row_indexer,col_indexer] = value instead\n",
      "\n",
      "See the caveats in the documentation: https://pandas.pydata.org/pandas-docs/stable/user_guide/indexing.html#returning-a-view-versus-a-copy\n",
      "  data_support['full_support'] = data_support['nonrefundable_support'] + data_support['refundable_support']\n",
      "/tmp/ipykernel_94/4042370738.py:7: SettingWithCopyWarning: \n",
      "A value is trying to be set on a copy of a slice from a DataFrame.\n",
      "Try using .loc[row_indexer,col_indexer] = value instead\n",
      "\n",
      "See the caveats in the documentation: https://pandas.pydata.org/pandas-docs/stable/user_guide/indexing.html#returning-a-view-versus-a-copy\n",
      "  data_support['profit'] = data_support['box_office'] / data_support['full_support'] - 1\n",
      "/tmp/ipykernel_94/4042370738.py:9: SettingWithCopyWarning: \n",
      "A value is trying to be set on a copy of a slice from a DataFrame.\n",
      "Try using .loc[row_indexer,col_indexer] = value instead\n",
      "\n",
      "See the caveats in the documentation: https://pandas.pydata.org/pandas-docs/stable/user_guide/indexing.html#returning-a-view-versus-a-copy\n",
      "  data_support['paid'] = data_support['profit'] > 0\n",
      "/tmp/ipykernel_94/4042370738.py:11: SettingWithCopyWarning: \n",
      "A value is trying to be set on a copy of a slice from a DataFrame.\n",
      "Try using .loc[row_indexer,col_indexer] = value instead\n",
      "\n",
      "See the caveats in the documentation: https://pandas.pydata.org/pandas-docs/stable/user_guide/indexing.html#returning-a-view-versus-a-copy\n",
      "  data_support['not_paid'] = ~data_support['paid']\n"
     ]
    }
   ],
   "source": [
    "# Срздание столбцов для дальнейшего анализа.\n",
    "\n",
    "data_support = data[data['refundable_support'].notna() | data['nonrefundable_support'].notna()]\n",
    "\n",
    "data_support['full_support'] = data_support['nonrefundable_support'] + data_support['refundable_support']\n",
    "\n",
    "data_support['profit'] = data_support['box_office'] / data_support['full_support'] - 1\n",
    "\n",
    "data_support['paid'] = data_support['profit'] > 0\n",
    "\n",
    "data_support['not_paid'] = ~data_support['paid']"
   ]
  },
  {
   "cell_type": "code",
   "execution_count": 33,
   "metadata": {},
   "outputs": [
    {
     "data": {
      "text/plain": [
       "<AxesSubplot:title={'center':'количество фильмов, получивших господдержку по жанрам'}>"
      ]
     },
     "execution_count": 33,
     "metadata": {},
     "output_type": "execute_result"
    },
    {
     "data": {
      "image/png": "[encoded data removed]",
      "text/plain": [
       "<Figure size 1080x720 with 1 Axes>"
      ]
     },
     "metadata": {
      "needs_background": "light"
     },
     "output_type": "display_data"
    }
   ],
   "source": [
    "# Изучение общего количества фиьмов, получивших гос поддержку по жанрам.\n",
    "data_support['info_genres'].value_counts().plot(title='количество фильмов, получивших господдержку по жанрам', kind='bar', figsize=(15,10))"
   ]
  },
  {
   "cell_type": "code",
   "execution_count": 34,
   "metadata": {},
   "outputs": [
    {
     "data": {
      "image/png": "[encoded data removed]",
      "text/plain": [
       "<Figure size 1080x720 with 1 Axes>"
      ]
     },
     "metadata": {
      "needs_background": "light"
     },
     "output_type": "display_data"
    }
   ],
   "source": [
    "#Код ревьюера\n",
    "import matplotlib.pyplot as plt\n",
    "\n",
    "data_support['info_genres'].value_counts()\\\n",
    "    .plot(title='количество фильмов, получивших господдержку по жанрам', kind='bar', figsize=(15,10))\n",
    "plt.xticks(rotation = 25)\n",
    "plt.show()"
   ]
  },
  {
   "cell_type": "markdown",
   "metadata": {},
   "source": [
    "Становится очевидно, что наибольшую государственную поддержку получают такие жанры как драмма и комедия. Финансирование других жанров значительно ниже."
   ]
  },
  {
   "cell_type": "code",
   "execution_count": 35,
   "metadata": {},
   "outputs": [
    {
     "data": {
      "image/png": "[encoded data removed]",
      "text/plain": [
       "<Figure size 432x288 with 1 Axes>"
      ]
     },
     "metadata": {
      "needs_background": "light"
     },
     "output_type": "display_data"
    }
   ],
   "source": [
    "# Рассмотрение наиболее популярных жанров\n",
    "data_support[['info_genres', 'ratings']].groupby('info_genres') \\\n",
    "                                        .agg('mean') \\\n",
    "                                        .sort_values(by='ratings', ascending=False) \\\n",
    "                                        .plot(title='популярность фильмов по жанрам', kind='bar')\n",
    "plt.show()"
   ]
  },
  {
   "cell_type": "markdown",
   "metadata": {},
   "source": [
    "Итак, можно увидеть, что наибольшее предпочтение люди отдают таким жанрам как криминал, детский и спорт. При этом, ужасы занимают последнее место в рассмотрении рейтингов фильмов по их жанрам. Пополярность жанров среди зрителей не соотносится с тем, на что выдяляются бюджетные средства, что свидетельствует от необходимости пересомтра определния финансирования по жанрам."
   ]
  },
  {
   "cell_type": "code",
   "execution_count": 36,
   "metadata": {},
   "outputs": [
    {
     "data": {
      "image/png": "[encoded data removed]",
      "text/plain": [
       "<Figure size 432x288 with 1 Axes>"
      ]
     },
     "metadata": {
      "needs_background": "light"
     },
     "output_type": "display_data"
    }
   ],
   "source": [
    "# изучение окупаемости фильмов по жанрам\n",
    "\n",
    "data_support.groupby('info_genres') \\\n",
    "            .agg('mean') \\\n",
    "            .sort_values(by='profit',\n",
    "                         ascending=False) \\\n",
    "            .plot(title='окупаемость фильмов по жанрам',\n",
    "                  kind='bar',\n",
    "                  stacked=True,\n",
    "                  y='profit')\n",
    "plt.show()"
   ]
  },
  {
   "cell_type": "markdown",
   "metadata": {},
   "source": [
    "Рассмотрение окупаемости, в отличии от рейтинга, показывает, что биография, приклчения и спорт являются наиболее окупаемыми фильмами. В то время как жанры с высоким рейтингом - криминл и детский- наоборот уводят своих проихводителей в минус. Можно предположить, что данный факт связан с тем, что снять фильм в жанре криминал или детский намного дороже из-за спец эффектов или декораций, чем фильм жанра спорт."
   ]
  },
  {
   "cell_type": "code",
   "execution_count": 37,
   "metadata": {},
   "outputs": [
    {
     "name": "stdout",
     "output_type": "stream",
     "text": [
      "\n"
     ]
    },
    {
     "data": {
      "image/png": "[encoded data removed]",
      "text/plain": [
       "<Figure size 432x288 with 1 Axes>"
      ]
     },
     "metadata": {
      "needs_background": "light"
     },
     "output_type": "display_data"
    }
   ],
   "source": [
    "# изучение объема государственной поддержки по жанрам\n",
    "\n",
    "data_support.groupby('info_genres') \\\n",
    "            .agg('sum') \\\n",
    "            .sort_values(by='full_support',\n",
    "                         ascending=False) \\\n",
    "            .plot(title='объём государственной поддержки',\n",
    "                  kind='bar',\n",
    "                  stacked=True,\n",
    "                  y=['refundable_support', 'nonrefundable_support'])\n",
    "print()"
   ]
  },
  {
   "cell_type": "markdown",
   "metadata": {},
   "source": [
    "Можно увидеть, что такие жанры как драма, комедии и мультфильм получают наибольшую поддержку от государства в вопросе финансирования. При этом, данные жанры не являются ни наиболее окупаемыми, ни наиболее популряными по рейтингу. Таким образом, можно говорить о том, что распредление государственного субсидирования кинопроизводства по жанрам не логично с точки зрения результата как в вопросе заинтересованности зрителей, так и в вопросе окупаемости."
   ]
  },
  {
   "cell_type": "code",
   "execution_count": 38,
   "metadata": {},
   "outputs": [
    {
     "name": "stdout",
     "output_type": "stream",
     "text": [
      "\n"
     ]
    },
    {
     "data": {
      "image/png": "[encoded data removed]",
      "text/plain": [
       "<Figure size 432x288 with 1 Axes>"
      ]
     },
     "metadata": {
      "needs_background": "light"
     },
     "output_type": "display_data"
    }
   ],
   "source": [
    "# Изучение количества окупившихся и не окупившихся фильмов\n",
    "data_support.groupby('info_genres') \\\n",
    "            .agg({'title': 'count',\n",
    "                  'paid': 'sum',\n",
    "                  'not_paid': lambda x: 0 - x.sum()}) \\\n",
    "            .sort_values(by='title',\n",
    "                         ascending=False) \\\n",
    "            .plot(title='количество окупившихся и не окупившихся фильмов',\n",
    "                  kind='bar',\n",
    "                  stacked=True,\n",
    "                  y=['paid', 'not_paid'])\n",
    "print()"
   ]
  },
  {
   "cell_type": "markdown",
   "metadata": {},
   "source": [
    "Рассмотрение вопроса соотношения окупившихся и не окупившихся фильмов по жанарм демонстриурет, что съемка фильмов жанра драма самая не окупаемая, при этом мультфильмы окупаются намного чаще, чем не окупается, акомедии имеют одинаковые шансы на успех и на провал. Таким образом, данный график позволяет говорить о том, в какие жанры перспективней вкладываться государству в рамках пргнозирования рисков провала."
   ]
  },
  {
   "cell_type": "markdown",
   "metadata": {
    "id": "V2gYwMcPgFyd"
   },
   "source": [
    "# Шаг 5. Напишите общий вывод"
   ]
  },
  {
   "cell_type": "markdown",
   "metadata": {
    "id": "AYRg3dzXgFye"
   },
   "source": [
    "Говоря о датафрейме, можно выделить следующее: \n",
    "- данные содержат большое количество пропсуков в различных столбцах. \n",
    "- данные имеют различную форму записи: проценты, пропуски, знаки препинания.\n",
    "\n",
    "\n",
    "\n",
    "Говоря о киноиндустрии в целом, можно отметить следующее: \n",
    "- В 2010 году сумма сборов была минимальной, а в 2018 году максимальной.\n",
    "Говоря о динамике сборов фильмов по годам становится видно, что рост начинает происходить только в 2013 году, постепенно увеличивает оборот от года к году и достигает своего пика в 2018 году и затем незначиатлеьно снижается.\n",
    "    \n",
    "- Становится видно следующее:\n",
    "    - Медианная сумма сборов не сильно колеблется на протяжении всего рассматриваемого периода. Увеличение просиходит после 2014 года, а пик достигается в 2017 году и составляет 9968340 рублей. Затем происходит постепенное снижение.\n",
    "    - Средняя сумма сборов отличается от медианной тем, что разброс данных от года к году достаочно большой. Увеличение среднего показателя сборов начинает происходить в 2013 году и достигает свеого пика в 2017-2018году. Средняя сумма сборов так сильно отличается от медианной так как, можно предположить, данные не одинаковы, существуют как очень маленькие сумма, так и большие6 что отражается на среднем значении.\n",
    "    - Однако, при рассмотрении обоих показателей необходимо учитывать тот факт, что само количество фильмов, вышедших в прокат не одинаково в каждый из годов. Таким образом, из постепенное увеличение также влиянет на показатели суммы сборов (как среднего, так и медианного).\n",
    "    \n",
    "- Рассматривая распределение сборов фильмов в прокате по возрастным категориям становится видно следующее:\n",
    "    - Фильмы для любой зрительской категории никак не оказывают влияния на сумма споров в рассматриваемый перирод времени и являются минимальными по сумме сборов.\n",
    "    - Фильмы для категории 16+ являются самими кассовыми. Можно предположить, что данный факт связан с тем, что подростки чаше взрослых ходят в кино, так как у них есть больше свободного времени или же сама популряность такого времяпрепровождения как поход в кино наиболее высока именно у людей в возрасте 16-17 лет. Соотвественно6 это сказывается на сумме сборов от проката, так как посещаемость сеансов высокая.\n",
    "    - Категория фильмов 12+ имела высокие суммы сборов с 2015 до 2017 года. В 2017 году произошло резкое нижение суммы сборов в данной категории, а затем, к 2018 году она вновь возрасла. Можно предположить, что снижение сумм сборов связано с тем, что уже было отмечено ранее: в 2017 году общее число вышедших фильмов вообще снизислоь. Возможно, это были фильмы как раз категории 12+.\n",
    "    - Категория фильмов 6+ имеет довольно высокие и стабильные показатели суммы сборов от проката. Данный факт свидетельствует о том, что поход в кино с детьми является поплуряным варинтом провести время вместе для родителей или иных родственников ребенка. Однако необходимо также отметить, что на сумму сборов а данной категории сильно влияет тот факт, что на фильмы 6+ чаще всего покупается 2 и более билета, так как маленькие дети не ходят в кино одни. В связи с чем, увеличивается и само число зрителей и сумма проката.\n",
    "    - Категория 18+ имеет самые низкие показатели суммы сборов от праката из всех рассматриваемых категорий, в которых органичения установлены (0+ не берем). Можно предположить, что это связано с тем, что взрослые люди либо не любят ходить в кино, либо же, большинство фильмов попадают под категорию 16+, в связи с чем, они и занимают лидирующие позии по сумме сборов.\n",
    "    \n",
    "\n",
    "Говоря о фильмах с государственной поддержкой можно сделать следующие общие выводы: \n",
    "- наибольшую государственную поддержку получают такие жанры как драмма и комедия. Финансирование других жанров значительно ниже.\n",
    "- наибольшее предпочтение люди отдают таким жанрам как криминал, детский и спорт. При этом, ужасы занимают последнее место в рассмотрении рейтингов фильмов по их жанрам. Пополярность жанров среди зрителей не соотносится с тем, на что выдяляются бюджетные средства, что свидетельствует от необходимости пересомтра определния финансирования по жанрам.\n",
    "- рассмотрение окупаемости, в отличии от рейтинга, показывает, что биография, приклчения и спорт являются наиболее окупаемыми фильмами. В то время как жанры с высоким рейтингом - криминл и детский- наоборот уводят своих проихводителей в минус. Можно предположить, что данный факт связан с тем, что снять фильм в жанре криминал или детский намного дороже из-за спец эффектов или декораций, чем фильм жанра спорт.\n",
    "- такие жанры как драма, комедии и мультфильм получают наибольшую поддержку от государства в вопросе финансирования. При этом, данные жанры не являются ни наиболее окупаемыми, ни наиболее популряными по рейтингу. Таким образом, можно говорить о том, что распредление государственного субсидирования кинопроизводства по жанрам не логично с точки зрения результата как в вопросе заинтересованности зрителей, так и в вопросе окупаемости.\n",
    "- Рассмотрение вопроса соотношения окупившихся и не окупившихся фильмов по жанарм демонстриурет, что съемка фильмов жанра драма самая не окупаемая, при этом мультфильмы окупаются намного чаще, чем не окупается, акомедии имеют одинаковые шансы на успех и на провал. Таким образом, данный график позволяет говорить о том, в какие жанры перспективней вкладываться государству в рамках пргнозирования рисков провала."
   ]
  }
 ],
 "metadata": {
  "ExecuteTimeLog": [
   {
    "duration": 537,
    "start_time": "2021-07-07T10:12:08.634Z"
   },
   {
    "duration": 206,
    "start_time": "2021-07-07T10:12:30.191Z"
   },
   {
    "duration": 227,
    "start_time": "2021-07-07T10:12:33.078Z"
   },
   {
    "duration": 153,
    "start_time": "2021-07-07T10:13:42.146Z"
   },
   {
    "duration": 233,
    "start_time": "2021-07-07T10:30:09.252Z"
   },
   {
    "duration": 19,
    "start_time": "2021-07-07T10:30:15.577Z"
   },
   {
    "duration": 18,
    "start_time": "2021-07-07T10:30:57.348Z"
   },
   {
    "duration": 19,
    "start_time": "2021-07-07T10:31:17.452Z"
   },
   {
    "duration": 21,
    "start_time": "2021-07-07T10:31:32.227Z"
   },
   {
    "duration": 27,
    "start_time": "2021-07-07T10:32:06.588Z"
   },
   {
    "duration": 23,
    "start_time": "2021-07-07T10:32:43.645Z"
   },
   {
    "duration": 24,
    "start_time": "2021-07-07T10:33:06.948Z"
   },
   {
    "duration": 7,
    "start_time": "2021-07-07T10:33:28.558Z"
   },
   {
    "duration": 23,
    "start_time": "2021-07-07T10:33:43.761Z"
   },
   {
    "duration": 28,
    "start_time": "2021-07-07T10:34:13.466Z"
   },
   {
    "duration": 23,
    "start_time": "2021-07-07T10:35:56.187Z"
   },
   {
    "duration": 6,
    "start_time": "2021-07-07T10:36:48.182Z"
   },
   {
    "duration": 14,
    "start_time": "2021-07-07T10:37:49.641Z"
   },
   {
    "duration": 6,
    "start_time": "2021-07-07T10:38:06.694Z"
   },
   {
    "duration": 6,
    "start_time": "2021-07-07T10:38:13.493Z"
   },
   {
    "duration": 19,
    "start_time": "2021-07-07T10:38:44.056Z"
   },
   {
    "duration": 186,
    "start_time": "2021-07-07T10:48:35.618Z"
   },
   {
    "duration": 24,
    "start_time": "2021-07-07T10:48:51.498Z"
   },
   {
    "duration": 20,
    "start_time": "2021-07-07T10:48:59.415Z"
   },
   {
    "duration": 20,
    "start_time": "2021-07-07T10:53:02.195Z"
   },
   {
    "duration": 188,
    "start_time": "2021-07-07T10:54:40.486Z"
   },
   {
    "duration": 115,
    "start_time": "2021-07-07T10:54:52.552Z"
   },
   {
    "duration": 214,
    "start_time": "2021-07-07T10:54:56.354Z"
   },
   {
    "duration": 47,
    "start_time": "2021-07-07T10:54:58.282Z"
   },
   {
    "duration": 217,
    "start_time": "2021-07-07T10:59:16.075Z"
   },
   {
    "duration": 51,
    "start_time": "2021-07-07T10:59:16.243Z"
   },
   {
    "duration": 578,
    "start_time": "2021-07-07T10:59:18.774Z"
   },
   {
    "duration": 161,
    "start_time": "2021-07-07T10:59:21.238Z"
   },
   {
    "duration": 59,
    "start_time": "2021-07-07T10:59:21.453Z"
   },
   {
    "duration": 3,
    "start_time": "2021-07-07T11:02:10.786Z"
   },
   {
    "duration": 13,
    "start_time": "2021-07-07T11:07:07.722Z"
   },
   {
    "duration": 26,
    "start_time": "2021-07-07T11:07:17.958Z"
   },
   {
    "duration": 22,
    "start_time": "2021-07-07T11:08:17.939Z"
   },
   {
    "duration": 212,
    "start_time": "2021-07-07T11:08:19.665Z"
   },
   {
    "duration": 21,
    "start_time": "2021-07-07T11:08:29.945Z"
   },
   {
    "duration": 31,
    "start_time": "2021-07-07T11:08:38.899Z"
   },
   {
    "duration": 23,
    "start_time": "2021-07-07T11:08:54.527Z"
   },
   {
    "duration": 8,
    "start_time": "2021-07-07T11:18:55.974Z"
   },
   {
    "duration": 7,
    "start_time": "2021-07-07T11:19:03.639Z"
   },
   {
    "duration": 7,
    "start_time": "2021-07-07T11:19:06.444Z"
   },
   {
    "duration": 578,
    "start_time": "2021-07-07T12:09:59.576Z"
   },
   {
    "duration": 195,
    "start_time": "2021-07-07T12:10:00.156Z"
   },
   {
    "duration": 115,
    "start_time": "2021-07-07T12:10:00.353Z"
   },
   {
    "duration": 3,
    "start_time": "2021-07-07T12:10:00.470Z"
   },
   {
    "duration": 32,
    "start_time": "2021-07-07T12:10:00.474Z"
   },
   {
    "duration": 23,
    "start_time": "2021-07-07T12:10:00.508Z"
   },
   {
    "duration": 19,
    "start_time": "2021-07-07T12:10:00.533Z"
   },
   {
    "duration": 44,
    "start_time": "2021-07-07T12:10:00.553Z"
   },
   {
    "duration": 7,
    "start_time": "2021-07-07T12:10:00.600Z"
   },
   {
    "duration": 7,
    "start_time": "2021-07-07T12:19:45.761Z"
   },
   {
    "duration": 21,
    "start_time": "2021-07-07T12:21:35.482Z"
   },
   {
    "duration": 21,
    "start_time": "2021-07-07T12:29:23.569Z"
   },
   {
    "duration": 525,
    "start_time": "2021-07-07T12:29:44.542Z"
   },
   {
    "duration": 214,
    "start_time": "2021-07-07T12:29:45.069Z"
   },
   {
    "duration": 92,
    "start_time": "2021-07-07T12:29:45.285Z"
   },
   {
    "duration": 3,
    "start_time": "2021-07-07T12:29:45.379Z"
   },
   {
    "duration": 28,
    "start_time": "2021-07-07T12:29:45.384Z"
   },
   {
    "duration": 23,
    "start_time": "2021-07-07T12:29:45.413Z"
   },
   {
    "duration": 21,
    "start_time": "2021-07-07T12:29:45.437Z"
   },
   {
    "duration": 41,
    "start_time": "2021-07-07T12:29:45.460Z"
   },
   {
    "duration": 7,
    "start_time": "2021-07-07T12:29:45.502Z"
   },
   {
    "duration": 20,
    "start_time": "2021-07-07T12:29:45.511Z"
   },
   {
    "duration": 12,
    "start_time": "2021-07-07T12:34:02.800Z"
   },
   {
    "duration": 7,
    "start_time": "2021-07-07T12:35:10.479Z"
   },
   {
    "duration": 8,
    "start_time": "2021-07-07T12:35:22.440Z"
   },
   {
    "duration": 6,
    "start_time": "2021-07-07T12:35:35.649Z"
   },
   {
    "duration": 6,
    "start_time": "2021-07-07T12:35:43.107Z"
   },
   {
    "duration": 22,
    "start_time": "2021-07-07T12:38:03.029Z"
   },
   {
    "duration": 10,
    "start_time": "2021-07-07T12:38:06.592Z"
   },
   {
    "duration": 563,
    "start_time": "2021-07-07T12:38:46.493Z"
   },
   {
    "duration": 265,
    "start_time": "2021-07-07T12:38:47.058Z"
   },
   {
    "duration": 94,
    "start_time": "2021-07-07T12:38:47.325Z"
   },
   {
    "duration": 3,
    "start_time": "2021-07-07T12:38:47.422Z"
   },
   {
    "duration": 30,
    "start_time": "2021-07-07T12:38:47.427Z"
   },
   {
    "duration": 16,
    "start_time": "2021-07-07T12:38:53.305Z"
   },
   {
    "duration": 10,
    "start_time": "2021-07-07T12:38:53.499Z"
   },
   {
    "duration": 8,
    "start_time": "2021-07-07T12:39:48.161Z"
   },
   {
    "duration": 27,
    "start_time": "2021-07-07T12:41:17.629Z"
   },
   {
    "duration": 17,
    "start_time": "2021-07-07T12:41:17.867Z"
   },
   {
    "duration": 21,
    "start_time": "2021-07-07T12:41:19.310Z"
   },
   {
    "duration": 7,
    "start_time": "2021-07-07T12:41:19.544Z"
   },
   {
    "duration": 20,
    "start_time": "2021-07-07T12:41:20.504Z"
   },
   {
    "duration": 554,
    "start_time": "2021-07-07T12:56:23.696Z"
   },
   {
    "duration": 200,
    "start_time": "2021-07-07T12:56:25.234Z"
   },
   {
    "duration": 119,
    "start_time": "2021-07-07T12:56:25.480Z"
   },
   {
    "duration": 4,
    "start_time": "2021-07-07T12:56:25.762Z"
   },
   {
    "duration": 26,
    "start_time": "2021-07-07T12:56:27.172Z"
   },
   {
    "duration": 12,
    "start_time": "2021-07-07T12:56:29.051Z"
   },
   {
    "duration": 10,
    "start_time": "2021-07-07T12:56:29.291Z"
   },
   {
    "duration": 8,
    "start_time": "2021-07-07T12:56:29.623Z"
   },
   {
    "duration": 28,
    "start_time": "2021-07-07T12:56:32.137Z"
   },
   {
    "duration": 19,
    "start_time": "2021-07-07T12:56:39.785Z"
   },
   {
    "duration": 20,
    "start_time": "2021-07-07T12:56:44.297Z"
   },
   {
    "duration": 7,
    "start_time": "2021-07-07T12:56:45.392Z"
   },
   {
    "duration": 23,
    "start_time": "2021-07-07T12:56:46.615Z"
   },
   {
    "duration": 4,
    "start_time": "2021-07-07T12:57:06.625Z"
   },
   {
    "duration": 32,
    "start_time": "2021-07-07T12:57:36.690Z"
   },
   {
    "duration": 18,
    "start_time": "2021-07-07T12:58:00.149Z"
   },
   {
    "duration": 15,
    "start_time": "2021-07-07T12:59:16.793Z"
   },
   {
    "duration": 7,
    "start_time": "2021-07-07T13:19:22.624Z"
   },
   {
    "duration": 6,
    "start_time": "2021-07-07T14:17:33.527Z"
   },
   {
    "duration": 9,
    "start_time": "2021-07-07T14:17:48.409Z"
   },
   {
    "duration": 8,
    "start_time": "2021-07-07T14:20:13.060Z"
   },
   {
    "duration": 8,
    "start_time": "2021-07-07T14:20:37.957Z"
   },
   {
    "duration": 8,
    "start_time": "2021-07-07T14:20:47.470Z"
   },
   {
    "duration": 9,
    "start_time": "2021-07-07T14:20:54.503Z"
   },
   {
    "duration": 10,
    "start_time": "2021-07-07T14:28:57.763Z"
   },
   {
    "duration": 3,
    "start_time": "2021-07-07T14:30:23.377Z"
   },
   {
    "duration": 3,
    "start_time": "2021-07-07T14:30:36.489Z"
   },
   {
    "duration": 103,
    "start_time": "2021-07-07T14:30:52.351Z"
   },
   {
    "duration": 8,
    "start_time": "2021-07-07T14:30:54.763Z"
   },
   {
    "duration": 8,
    "start_time": "2021-07-07T14:31:29.301Z"
   },
   {
    "duration": 13,
    "start_time": "2021-07-07T14:31:44.516Z"
   },
   {
    "duration": 7,
    "start_time": "2021-07-07T14:33:10.972Z"
   },
   {
    "duration": 11,
    "start_time": "2021-07-07T14:33:27.780Z"
   },
   {
    "duration": 8,
    "start_time": "2021-07-07T14:34:44.588Z"
   },
   {
    "duration": 57,
    "start_time": "2021-07-07T14:35:59.042Z"
   },
   {
    "duration": 3,
    "start_time": "2021-07-07T14:36:28.168Z"
   },
   {
    "duration": 5,
    "start_time": "2021-07-07T14:36:46.254Z"
   },
   {
    "duration": 4,
    "start_time": "2021-07-07T14:36:52.714Z"
   },
   {
    "duration": 3,
    "start_time": "2021-07-07T14:36:56.612Z"
   },
   {
    "duration": 4,
    "start_time": "2021-07-07T14:36:57.049Z"
   },
   {
    "duration": 3,
    "start_time": "2021-07-07T14:39:21.214Z"
   },
   {
    "duration": 7,
    "start_time": "2021-07-07T14:39:52.406Z"
   },
   {
    "duration": 11,
    "start_time": "2021-07-07T14:39:58.576Z"
   },
   {
    "duration": 9,
    "start_time": "2021-07-07T14:40:26.301Z"
   },
   {
    "duration": 10,
    "start_time": "2021-07-07T14:40:31.704Z"
   },
   {
    "duration": 11,
    "start_time": "2021-07-07T14:40:36.249Z"
   },
   {
    "duration": 10,
    "start_time": "2021-07-07T14:40:39.783Z"
   },
   {
    "duration": 9,
    "start_time": "2021-07-07T14:40:48.558Z"
   },
   {
    "duration": 10,
    "start_time": "2021-07-07T14:40:57.143Z"
   },
   {
    "duration": 9,
    "start_time": "2021-07-07T14:41:06.074Z"
   },
   {
    "duration": 4324,
    "start_time": "2021-07-07T14:41:22.004Z"
   },
   {
    "duration": 11,
    "start_time": "2021-07-07T14:41:33.392Z"
   },
   {
    "duration": 9,
    "start_time": "2021-07-07T14:41:39.288Z"
   },
   {
    "duration": 569,
    "start_time": "2021-07-07T14:42:14.387Z"
   },
   {
    "duration": 197,
    "start_time": "2021-07-07T14:42:14.959Z"
   },
   {
    "duration": 84,
    "start_time": "2021-07-07T14:42:16.052Z"
   },
   {
    "duration": 4,
    "start_time": "2021-07-07T14:42:16.900Z"
   },
   {
    "duration": 27,
    "start_time": "2021-07-07T14:42:19.898Z"
   },
   {
    "duration": 12,
    "start_time": "2021-07-07T14:42:21.577Z"
   },
   {
    "duration": 9,
    "start_time": "2021-07-07T14:42:21.813Z"
   },
   {
    "duration": 9,
    "start_time": "2021-07-07T14:42:22.569Z"
   },
   {
    "duration": 29,
    "start_time": "2021-07-07T14:42:25.837Z"
   },
   {
    "duration": 20,
    "start_time": "2021-07-07T14:42:27.003Z"
   },
   {
    "duration": 21,
    "start_time": "2021-07-07T14:42:28.767Z"
   },
   {
    "duration": 7,
    "start_time": "2021-07-07T14:42:29.838Z"
   },
   {
    "duration": 4,
    "start_time": "2021-07-07T14:43:25.493Z"
   },
   {
    "duration": 7,
    "start_time": "2021-07-07T14:43:26.573Z"
   },
   {
    "duration": 10,
    "start_time": "2021-07-07T14:43:31.639Z"
   },
   {
    "duration": 9,
    "start_time": "2021-07-07T14:43:32.046Z"
   },
   {
    "duration": 10,
    "start_time": "2021-07-07T14:43:33.301Z"
   },
   {
    "duration": 12,
    "start_time": "2021-07-07T14:43:33.658Z"
   },
   {
    "duration": 8,
    "start_time": "2021-07-07T14:43:34.552Z"
   },
   {
    "duration": 9,
    "start_time": "2021-07-07T14:43:35.058Z"
   },
   {
    "duration": 12,
    "start_time": "2021-07-07T14:43:35.914Z"
   },
   {
    "duration": 17,
    "start_time": "2021-07-07T14:45:34.368Z"
   },
   {
    "duration": 512,
    "start_time": "2021-07-07T14:51:58.236Z"
   },
   {
    "duration": 223,
    "start_time": "2021-07-07T14:51:58.750Z"
   },
   {
    "duration": 93,
    "start_time": "2021-07-07T14:51:58.977Z"
   },
   {
    "duration": 4,
    "start_time": "2021-07-07T14:51:59.071Z"
   },
   {
    "duration": 37,
    "start_time": "2021-07-07T14:51:59.077Z"
   },
   {
    "duration": 18,
    "start_time": "2021-07-07T14:51:59.116Z"
   },
   {
    "duration": 10,
    "start_time": "2021-07-07T14:51:59.137Z"
   },
   {
    "duration": 8,
    "start_time": "2021-07-07T14:51:59.149Z"
   },
   {
    "duration": 54,
    "start_time": "2021-07-07T14:51:59.158Z"
   },
   {
    "duration": 18,
    "start_time": "2021-07-07T14:51:59.213Z"
   },
   {
    "duration": 22,
    "start_time": "2021-07-07T14:51:59.232Z"
   },
   {
    "duration": 36,
    "start_time": "2021-07-07T14:51:59.255Z"
   },
   {
    "duration": 7,
    "start_time": "2021-07-07T14:51:59.293Z"
   },
   {
    "duration": 10,
    "start_time": "2021-07-07T14:51:59.302Z"
   },
   {
    "duration": 9,
    "start_time": "2021-07-07T14:51:59.313Z"
   },
   {
    "duration": 11,
    "start_time": "2021-07-07T14:51:59.324Z"
   },
   {
    "duration": 8,
    "start_time": "2021-07-07T14:51:59.337Z"
   },
   {
    "duration": 46,
    "start_time": "2021-07-07T14:51:59.347Z"
   },
   {
    "duration": 22,
    "start_time": "2021-07-07T14:51:59.395Z"
   },
   {
    "duration": 24,
    "start_time": "2021-07-07T14:57:32.911Z"
   },
   {
    "duration": 7,
    "start_time": "2021-07-07T14:58:22.070Z"
   },
   {
    "duration": 4,
    "start_time": "2021-07-07T14:59:11.239Z"
   },
   {
    "duration": 25,
    "start_time": "2021-07-07T15:07:22.208Z"
   },
   {
    "duration": 16,
    "start_time": "2021-07-07T15:08:25.560Z"
   },
   {
    "duration": 15,
    "start_time": "2021-07-07T15:08:40.647Z"
   },
   {
    "duration": 14,
    "start_time": "2021-07-07T15:08:46.669Z"
   },
   {
    "duration": 533,
    "start_time": "2021-07-07T15:18:07.440Z"
   },
   {
    "duration": 173,
    "start_time": "2021-07-07T15:18:07.974Z"
   },
   {
    "duration": 84,
    "start_time": "2021-07-07T15:18:08.149Z"
   },
   {
    "duration": 3,
    "start_time": "2021-07-07T15:18:08.235Z"
   },
   {
    "duration": 30,
    "start_time": "2021-07-07T15:18:08.240Z"
   },
   {
    "duration": 22,
    "start_time": "2021-07-07T15:18:08.272Z"
   },
   {
    "duration": 11,
    "start_time": "2021-07-07T15:18:08.295Z"
   },
   {
    "duration": 11,
    "start_time": "2021-07-07T15:18:08.309Z"
   },
   {
    "duration": 40,
    "start_time": "2021-07-07T15:18:08.322Z"
   },
   {
    "duration": 42,
    "start_time": "2021-07-07T15:18:08.364Z"
   },
   {
    "duration": 22,
    "start_time": "2021-07-07T15:18:08.408Z"
   },
   {
    "duration": 5,
    "start_time": "2021-07-07T15:18:08.432Z"
   },
   {
    "duration": 13,
    "start_time": "2021-07-07T15:18:08.439Z"
   },
   {
    "duration": 9,
    "start_time": "2021-07-07T15:18:08.454Z"
   },
   {
    "duration": 32,
    "start_time": "2021-07-07T15:18:08.465Z"
   },
   {
    "duration": 10,
    "start_time": "2021-07-07T15:18:08.501Z"
   },
   {
    "duration": 7,
    "start_time": "2021-07-07T15:18:08.513Z"
   },
   {
    "duration": 11,
    "start_time": "2021-07-07T15:18:08.521Z"
   },
   {
    "duration": 17,
    "start_time": "2021-07-07T15:18:08.534Z"
   },
   {
    "duration": 44,
    "start_time": "2021-07-07T15:18:08.553Z"
   },
   {
    "duration": 22,
    "start_time": "2021-07-07T15:18:08.599Z"
   },
   {
    "duration": 61,
    "start_time": "2021-07-07T15:18:08.622Z"
   },
   {
    "duration": 7,
    "start_time": "2021-07-07T15:18:39.457Z"
   },
   {
    "duration": 5,
    "start_time": "2021-07-07T16:05:17.020Z"
   },
   {
    "duration": 5,
    "start_time": "2021-07-07T16:51:28.794Z"
   },
   {
    "duration": 546,
    "start_time": "2021-07-07T16:52:26.306Z"
   },
   {
    "duration": 203,
    "start_time": "2021-07-07T16:52:27.523Z"
   },
   {
    "duration": 85,
    "start_time": "2021-07-07T16:52:27.736Z"
   },
   {
    "duration": 4,
    "start_time": "2021-07-07T16:52:27.899Z"
   },
   {
    "duration": 25,
    "start_time": "2021-07-07T16:52:28.674Z"
   },
   {
    "duration": 8,
    "start_time": "2021-07-07T16:52:32.956Z"
   },
   {
    "duration": 18,
    "start_time": "2021-07-07T16:52:35.616Z"
   },
   {
    "duration": 6,
    "start_time": "2021-07-07T16:52:36.913Z"
   },
   {
    "duration": 11,
    "start_time": "2021-07-07T16:52:40.258Z"
   },
   {
    "duration": 10,
    "start_time": "2021-07-07T16:52:46.251Z"
   },
   {
    "duration": 8,
    "start_time": "2021-07-07T16:52:47.182Z"
   },
   {
    "duration": 27,
    "start_time": "2021-07-07T16:53:20.391Z"
   },
   {
    "duration": 20,
    "start_time": "2021-07-07T16:53:22.022Z"
   },
   {
    "duration": 23,
    "start_time": "2021-07-07T16:53:23.690Z"
   },
   {
    "duration": 8,
    "start_time": "2021-07-07T16:53:24.261Z"
   },
   {
    "duration": 4,
    "start_time": "2021-07-07T16:53:38.733Z"
   },
   {
    "duration": 7,
    "start_time": "2021-07-07T16:53:40.445Z"
   },
   {
    "duration": 11,
    "start_time": "2021-07-07T16:53:41.348Z"
   },
   {
    "duration": 13,
    "start_time": "2021-07-07T16:53:45.250Z"
   },
   {
    "duration": 12,
    "start_time": "2021-07-07T16:53:45.467Z"
   },
   {
    "duration": 4,
    "start_time": "2021-07-07T16:55:32.704Z"
   },
   {
    "duration": 12,
    "start_time": "2021-07-07T16:55:49.012Z"
   },
   {
    "duration": 18,
    "start_time": "2021-07-07T16:55:49.547Z"
   },
   {
    "duration": 611,
    "start_time": "2021-07-07T16:58:35.156Z"
   },
   {
    "duration": 200,
    "start_time": "2021-07-07T16:58:35.770Z"
   },
   {
    "duration": 86,
    "start_time": "2021-07-07T16:58:35.972Z"
   },
   {
    "duration": 3,
    "start_time": "2021-07-07T16:58:36.060Z"
   },
   {
    "duration": 27,
    "start_time": "2021-07-07T16:58:36.065Z"
   },
   {
    "duration": 8,
    "start_time": "2021-07-07T16:58:36.094Z"
   },
   {
    "duration": 17,
    "start_time": "2021-07-07T16:58:36.103Z"
   },
   {
    "duration": 5,
    "start_time": "2021-07-07T16:58:36.123Z"
   },
   {
    "duration": 11,
    "start_time": "2021-07-07T16:58:36.130Z"
   },
   {
    "duration": 7,
    "start_time": "2021-07-07T16:58:36.143Z"
   },
   {
    "duration": 37,
    "start_time": "2021-07-07T16:58:36.152Z"
   },
   {
    "duration": 27,
    "start_time": "2021-07-07T16:58:36.191Z"
   },
   {
    "duration": 19,
    "start_time": "2021-07-07T16:58:36.219Z"
   },
   {
    "duration": 49,
    "start_time": "2021-07-07T16:58:36.240Z"
   },
   {
    "duration": 6,
    "start_time": "2021-07-07T16:58:36.291Z"
   },
   {
    "duration": 3,
    "start_time": "2021-07-07T16:58:36.299Z"
   },
   {
    "duration": 13,
    "start_time": "2021-07-07T16:58:36.304Z"
   },
   {
    "duration": 10,
    "start_time": "2021-07-07T16:58:36.319Z"
   },
   {
    "duration": 10,
    "start_time": "2021-07-07T16:58:36.331Z"
   },
   {
    "duration": 44,
    "start_time": "2021-07-07T16:58:36.343Z"
   },
   {
    "duration": 4,
    "start_time": "2021-07-07T16:58:36.388Z"
   },
   {
    "duration": 13,
    "start_time": "2021-07-07T16:58:36.394Z"
   },
   {
    "duration": 16,
    "start_time": "2021-07-07T16:58:36.410Z"
   },
   {
    "duration": 8,
    "start_time": "2021-07-07T17:02:31.629Z"
   },
   {
    "duration": 8,
    "start_time": "2021-07-07T17:02:34.308Z"
   },
   {
    "duration": 6,
    "start_time": "2021-07-07T17:05:13.483Z"
   },
   {
    "duration": 17,
    "start_time": "2021-07-07T17:05:20.606Z"
   },
   {
    "duration": 7,
    "start_time": "2021-07-07T17:05:34.638Z"
   },
   {
    "duration": 3,
    "start_time": "2021-07-07T17:06:31.883Z"
   },
   {
    "duration": 570,
    "start_time": "2021-07-07T17:06:37.165Z"
   },
   {
    "duration": 174,
    "start_time": "2021-07-07T17:06:37.737Z"
   },
   {
    "duration": 47,
    "start_time": "2021-07-07T17:06:37.913Z"
   },
   {
    "duration": 3,
    "start_time": "2021-07-07T17:06:37.962Z"
   },
   {
    "duration": 27,
    "start_time": "2021-07-07T17:06:37.967Z"
   },
   {
    "duration": 7,
    "start_time": "2021-07-07T17:06:37.996Z"
   },
   {
    "duration": 16,
    "start_time": "2021-07-07T17:06:38.005Z"
   },
   {
    "duration": 6,
    "start_time": "2021-07-07T17:06:38.024Z"
   },
   {
    "duration": 12,
    "start_time": "2021-07-07T17:06:38.031Z"
   },
   {
    "duration": 41,
    "start_time": "2021-07-07T17:06:38.045Z"
   },
   {
    "duration": 8,
    "start_time": "2021-07-07T17:06:38.088Z"
   },
   {
    "duration": 26,
    "start_time": "2021-07-07T17:06:38.098Z"
   },
   {
    "duration": 17,
    "start_time": "2021-07-07T17:06:38.126Z"
   },
   {
    "duration": 43,
    "start_time": "2021-07-07T17:06:38.144Z"
   },
   {
    "duration": 6,
    "start_time": "2021-07-07T17:06:38.188Z"
   },
   {
    "duration": 5,
    "start_time": "2021-07-07T17:06:38.195Z"
   },
   {
    "duration": 9,
    "start_time": "2021-07-07T17:06:38.201Z"
   },
   {
    "duration": 12,
    "start_time": "2021-07-07T17:06:38.212Z"
   },
   {
    "duration": 11,
    "start_time": "2021-07-07T17:06:38.226Z"
   },
   {
    "duration": 47,
    "start_time": "2021-07-07T17:06:38.239Z"
   },
   {
    "duration": 4,
    "start_time": "2021-07-07T17:06:38.288Z"
   },
   {
    "duration": 13,
    "start_time": "2021-07-07T17:06:38.293Z"
   },
   {
    "duration": 5,
    "start_time": "2021-07-07T17:06:38.309Z"
   },
   {
    "duration": 18,
    "start_time": "2021-07-07T17:06:38.325Z"
   },
   {
    "duration": 20,
    "start_time": "2021-07-07T17:07:02.805Z"
   },
   {
    "duration": 19,
    "start_time": "2021-07-07T17:07:08.527Z"
   },
   {
    "duration": 19,
    "start_time": "2021-07-07T17:07:12.758Z"
   },
   {
    "duration": 22,
    "start_time": "2021-07-07T17:07:17.497Z"
   },
   {
    "duration": 19,
    "start_time": "2021-07-07T17:07:19.645Z"
   },
   {
    "duration": 10,
    "start_time": "2021-07-07T17:07:34.239Z"
   },
   {
    "duration": 17,
    "start_time": "2021-07-07T17:07:54.144Z"
   },
   {
    "duration": 14,
    "start_time": "2021-07-07T17:08:14.357Z"
   },
   {
    "duration": 616,
    "start_time": "2021-07-07T17:08:45.254Z"
   },
   {
    "duration": 178,
    "start_time": "2021-07-07T17:08:45.872Z"
   },
   {
    "duration": 60,
    "start_time": "2021-07-07T17:08:46.054Z"
   },
   {
    "duration": 3,
    "start_time": "2021-07-07T17:08:46.116Z"
   },
   {
    "duration": 26,
    "start_time": "2021-07-07T17:08:46.121Z"
   },
   {
    "duration": 7,
    "start_time": "2021-07-07T17:08:46.149Z"
   },
   {
    "duration": 17,
    "start_time": "2021-07-07T17:08:46.158Z"
   },
   {
    "duration": 14,
    "start_time": "2021-07-07T17:08:46.176Z"
   },
   {
    "duration": 17,
    "start_time": "2021-07-07T17:08:46.193Z"
   },
   {
    "duration": 9,
    "start_time": "2021-07-07T17:08:46.211Z"
   },
   {
    "duration": 21,
    "start_time": "2021-07-07T17:08:46.221Z"
   },
   {
    "duration": 49,
    "start_time": "2021-07-07T17:08:46.244Z"
   },
   {
    "duration": 24,
    "start_time": "2021-07-07T17:08:46.295Z"
   },
   {
    "duration": 22,
    "start_time": "2021-07-07T17:08:46.321Z"
   },
   {
    "duration": 6,
    "start_time": "2021-07-07T17:08:46.345Z"
   },
   {
    "duration": 5,
    "start_time": "2021-07-07T17:08:46.353Z"
   },
   {
    "duration": 13,
    "start_time": "2021-07-07T17:08:46.386Z"
   },
   {
    "duration": 12,
    "start_time": "2021-07-07T17:08:46.402Z"
   },
   {
    "duration": 10,
    "start_time": "2021-07-07T17:08:46.415Z"
   },
   {
    "duration": 7,
    "start_time": "2021-07-07T17:08:46.427Z"
   },
   {
    "duration": 8,
    "start_time": "2021-07-07T17:08:46.435Z"
   },
   {
    "duration": 68,
    "start_time": "2021-07-07T17:08:46.446Z"
   },
   {
    "duration": 13,
    "start_time": "2021-07-07T17:08:46.516Z"
   },
   {
    "duration": 78,
    "start_time": "2021-07-07T17:08:46.530Z"
   },
   {
    "duration": 40,
    "start_time": "2021-07-07T17:09:08.185Z"
   },
   {
    "duration": 16,
    "start_time": "2021-07-07T17:09:19.324Z"
   },
   {
    "duration": 21,
    "start_time": "2021-07-07T17:09:23.290Z"
   },
   {
    "duration": 13,
    "start_time": "2021-07-07T17:09:54.812Z"
   },
   {
    "duration": 13,
    "start_time": "2021-07-07T17:10:02.039Z"
   },
   {
    "duration": 10,
    "start_time": "2021-07-07T17:10:29.632Z"
   },
   {
    "duration": 13,
    "start_time": "2021-07-07T17:10:52.372Z"
   },
   {
    "duration": 13,
    "start_time": "2021-07-07T17:11:17.270Z"
   },
   {
    "duration": 13,
    "start_time": "2021-07-07T17:14:59.284Z"
   },
   {
    "duration": 547,
    "start_time": "2021-07-07T17:18:52.403Z"
   },
   {
    "duration": 163,
    "start_time": "2021-07-07T17:18:52.952Z"
   },
   {
    "duration": 44,
    "start_time": "2021-07-07T17:18:53.117Z"
   },
   {
    "duration": 3,
    "start_time": "2021-07-07T17:18:53.162Z"
   },
   {
    "duration": 26,
    "start_time": "2021-07-07T17:18:53.167Z"
   },
   {
    "duration": 6,
    "start_time": "2021-07-07T17:18:53.195Z"
   },
   {
    "duration": 15,
    "start_time": "2021-07-07T17:18:53.203Z"
   },
   {
    "duration": 5,
    "start_time": "2021-07-07T17:18:53.220Z"
   },
   {
    "duration": 11,
    "start_time": "2021-07-07T17:18:53.228Z"
   },
   {
    "duration": 9,
    "start_time": "2021-07-07T17:18:53.241Z"
   },
   {
    "duration": 41,
    "start_time": "2021-07-07T17:18:53.252Z"
   },
   {
    "duration": 33,
    "start_time": "2021-07-07T17:18:53.295Z"
   },
   {
    "duration": 19,
    "start_time": "2021-07-07T17:18:53.330Z"
   },
   {
    "duration": 49,
    "start_time": "2021-07-07T17:18:53.350Z"
   },
   {
    "duration": 5,
    "start_time": "2021-07-07T17:18:53.401Z"
   },
   {
    "duration": 5,
    "start_time": "2021-07-07T17:18:53.408Z"
   },
   {
    "duration": 11,
    "start_time": "2021-07-07T17:18:53.414Z"
   },
   {
    "duration": 9,
    "start_time": "2021-07-07T17:18:53.427Z"
   },
   {
    "duration": 10,
    "start_time": "2021-07-07T17:18:53.437Z"
   },
   {
    "duration": 39,
    "start_time": "2021-07-07T17:18:53.448Z"
   },
   {
    "duration": 26,
    "start_time": "2021-07-07T17:18:55.799Z"
   },
   {
    "duration": 598,
    "start_time": "2021-07-07T17:20:17.862Z"
   },
   {
    "duration": 161,
    "start_time": "2021-07-07T17:20:18.462Z"
   },
   {
    "duration": 45,
    "start_time": "2021-07-07T17:20:18.626Z"
   },
   {
    "duration": 4,
    "start_time": "2021-07-07T17:20:18.673Z"
   },
   {
    "duration": 38,
    "start_time": "2021-07-07T17:20:26.877Z"
   },
   {
    "duration": 7,
    "start_time": "2021-07-07T17:20:37.405Z"
   },
   {
    "duration": 19,
    "start_time": "2021-07-07T17:20:51.534Z"
   },
   {
    "duration": 5,
    "start_time": "2021-07-07T17:20:57.228Z"
   },
   {
    "duration": 7,
    "start_time": "2021-07-07T17:21:08.235Z"
   },
   {
    "duration": 19,
    "start_time": "2021-07-07T17:21:42.158Z"
   },
   {
    "duration": 14,
    "start_time": "2021-07-07T17:21:50.225Z"
   },
   {
    "duration": 22,
    "start_time": "2021-07-07T17:22:54.104Z"
   },
   {
    "duration": 5,
    "start_time": "2021-07-07T17:22:56.371Z"
   },
   {
    "duration": 14,
    "start_time": "2021-07-07T17:22:58.316Z"
   },
   {
    "duration": 5,
    "start_time": "2021-07-07T17:22:58.493Z"
   },
   {
    "duration": 35,
    "start_time": "2021-07-07T17:22:59.666Z"
   },
   {
    "duration": 6,
    "start_time": "2021-07-07T17:23:02.410Z"
   },
   {
    "duration": 611,
    "start_time": "2021-07-07T17:24:59.664Z"
   },
   {
    "duration": 178,
    "start_time": "2021-07-07T17:25:01.945Z"
   },
   {
    "duration": 47,
    "start_time": "2021-07-07T17:25:02.125Z"
   },
   {
    "duration": 2,
    "start_time": "2021-07-07T17:25:07.903Z"
   },
   {
    "duration": 254,
    "start_time": "2021-07-07T17:25:08.232Z"
   },
   {
    "duration": 182,
    "start_time": "2021-07-07T17:25:08.671Z"
   },
   {
    "duration": 6,
    "start_time": "2021-07-07T17:25:13.104Z"
   },
   {
    "duration": 36,
    "start_time": "2021-07-07T17:25:13.662Z"
   },
   {
    "duration": 7,
    "start_time": "2021-07-07T17:25:14.528Z"
   },
   {
    "duration": 24,
    "start_time": "2021-07-07T17:25:27.982Z"
   },
   {
    "duration": 3,
    "start_time": "2021-07-07T17:25:48.982Z"
   },
   {
    "duration": 165,
    "start_time": "2021-07-07T17:25:48.987Z"
   },
   {
    "duration": 50,
    "start_time": "2021-07-07T17:25:49.154Z"
   },
   {
    "duration": 4,
    "start_time": "2021-07-07T17:25:49.206Z"
   },
   {
    "duration": 26,
    "start_time": "2021-07-07T17:25:49.212Z"
   },
   {
    "duration": 7,
    "start_time": "2021-07-07T17:25:49.240Z"
   },
   {
    "duration": 16,
    "start_time": "2021-07-07T17:25:49.249Z"
   },
   {
    "duration": 22,
    "start_time": "2021-07-07T17:25:49.266Z"
   },
   {
    "duration": 16,
    "start_time": "2021-07-07T17:25:49.291Z"
   },
   {
    "duration": 9,
    "start_time": "2021-07-07T17:25:49.309Z"
   },
   {
    "duration": 7,
    "start_time": "2021-07-07T17:25:49.319Z"
   },
   {
    "duration": 28,
    "start_time": "2021-07-07T17:25:49.328Z"
   },
   {
    "duration": 44,
    "start_time": "2021-07-07T17:25:49.357Z"
   },
   {
    "duration": 22,
    "start_time": "2021-07-07T17:25:49.403Z"
   },
   {
    "duration": 7,
    "start_time": "2021-07-07T17:25:49.427Z"
   },
   {
    "duration": 3,
    "start_time": "2021-07-07T17:25:49.436Z"
   },
   {
    "duration": 44,
    "start_time": "2021-07-07T17:25:49.441Z"
   },
   {
    "duration": 12,
    "start_time": "2021-07-07T17:25:49.488Z"
   },
   {
    "duration": 13,
    "start_time": "2021-07-07T17:25:49.502Z"
   },
   {
    "duration": 10,
    "start_time": "2021-07-07T17:25:49.516Z"
   },
   {
    "duration": 62,
    "start_time": "2021-07-07T17:25:49.527Z"
   },
   {
    "duration": 26,
    "start_time": "2021-07-07T17:26:51.809Z"
   },
   {
    "duration": 26,
    "start_time": "2021-07-07T17:26:55.759Z"
   },
   {
    "duration": 26,
    "start_time": "2021-07-07T17:27:04.501Z"
   },
   {
    "duration": 25,
    "start_time": "2021-07-07T17:28:24.859Z"
   },
   {
    "duration": 21,
    "start_time": "2021-07-07T17:28:55.250Z"
   },
   {
    "duration": 21,
    "start_time": "2021-07-07T17:28:58.885Z"
   },
   {
    "duration": 7,
    "start_time": "2021-07-07T17:45:40.972Z"
   },
   {
    "duration": 13,
    "start_time": "2021-07-07T17:45:42.529Z"
   },
   {
    "duration": 27,
    "start_time": "2021-07-07T17:45:51.026Z"
   },
   {
    "duration": 518,
    "start_time": "2021-07-07T17:46:15.532Z"
   },
   {
    "duration": 235,
    "start_time": "2021-07-07T17:46:16.053Z"
   },
   {
    "duration": 80,
    "start_time": "2021-07-07T17:46:16.292Z"
   },
   {
    "duration": 5,
    "start_time": "2021-07-07T17:46:16.373Z"
   },
   {
    "duration": 26,
    "start_time": "2021-07-07T17:46:16.380Z"
   },
   {
    "duration": 7,
    "start_time": "2021-07-07T17:46:16.408Z"
   },
   {
    "duration": 16,
    "start_time": "2021-07-07T17:46:16.418Z"
   },
   {
    "duration": 5,
    "start_time": "2021-07-07T17:46:16.436Z"
   },
   {
    "duration": 13,
    "start_time": "2021-07-07T17:46:16.442Z"
   },
   {
    "duration": 35,
    "start_time": "2021-07-07T17:46:16.456Z"
   },
   {
    "duration": 8,
    "start_time": "2021-07-07T17:46:16.493Z"
   },
   {
    "duration": 28,
    "start_time": "2021-07-07T17:46:16.502Z"
   },
   {
    "duration": 17,
    "start_time": "2021-07-07T17:46:16.532Z"
   },
   {
    "duration": 44,
    "start_time": "2021-07-07T17:46:16.551Z"
   },
   {
    "duration": 6,
    "start_time": "2021-07-07T17:46:16.597Z"
   },
   {
    "duration": 4,
    "start_time": "2021-07-07T17:46:16.605Z"
   },
   {
    "duration": 9,
    "start_time": "2021-07-07T17:46:16.610Z"
   },
   {
    "duration": 9,
    "start_time": "2021-07-07T17:46:16.621Z"
   },
   {
    "duration": 10,
    "start_time": "2021-07-07T17:46:16.632Z"
   },
   {
    "duration": 43,
    "start_time": "2021-07-07T17:46:16.644Z"
   },
   {
    "duration": 26,
    "start_time": "2021-07-07T17:46:16.689Z"
   },
   {
    "duration": 19,
    "start_time": "2021-07-07T17:46:16.718Z"
   },
   {
    "duration": 8,
    "start_time": "2021-07-07T17:46:16.738Z"
   },
   {
    "duration": 43,
    "start_time": "2021-07-07T17:46:16.747Z"
   },
   {
    "duration": 19,
    "start_time": "2021-07-07T17:46:16.791Z"
   },
   {
    "duration": 9,
    "start_time": "2021-07-07T17:46:16.812Z"
   },
   {
    "duration": 60,
    "start_time": "2021-07-07T17:46:16.822Z"
   },
   {
    "duration": -8,
    "start_time": "2021-07-07T17:46:16.892Z"
   },
   {
    "duration": 12,
    "start_time": "2021-07-07T17:48:47.707Z"
   },
   {
    "duration": 553,
    "start_time": "2021-07-07T18:10:09.350Z"
   },
   {
    "duration": 230,
    "start_time": "2021-07-07T18:10:09.905Z"
   },
   {
    "duration": 97,
    "start_time": "2021-07-07T18:10:10.137Z"
   },
   {
    "duration": 5,
    "start_time": "2021-07-07T18:10:10.236Z"
   },
   {
    "duration": 29,
    "start_time": "2021-07-07T18:10:10.242Z"
   },
   {
    "duration": 7,
    "start_time": "2021-07-07T18:10:10.272Z"
   },
   {
    "duration": 15,
    "start_time": "2021-07-07T18:10:10.281Z"
   },
   {
    "duration": 4,
    "start_time": "2021-07-07T18:10:10.299Z"
   },
   {
    "duration": 14,
    "start_time": "2021-07-07T18:10:10.305Z"
   },
   {
    "duration": 8,
    "start_time": "2021-07-07T18:10:10.321Z"
   },
   {
    "duration": 8,
    "start_time": "2021-07-07T18:10:10.331Z"
   },
   {
    "duration": 56,
    "start_time": "2021-07-07T18:10:10.341Z"
   },
   {
    "duration": 19,
    "start_time": "2021-07-07T18:10:10.399Z"
   },
   {
    "duration": 23,
    "start_time": "2021-07-07T18:10:10.419Z"
   },
   {
    "duration": 6,
    "start_time": "2021-07-07T18:10:10.444Z"
   },
   {
    "duration": 9,
    "start_time": "2021-07-07T18:10:10.451Z"
   },
   {
    "duration": 30,
    "start_time": "2021-07-07T18:10:10.462Z"
   },
   {
    "duration": 9,
    "start_time": "2021-07-07T18:10:10.494Z"
   },
   {
    "duration": 14,
    "start_time": "2021-07-07T18:10:10.505Z"
   },
   {
    "duration": 7,
    "start_time": "2021-07-07T18:10:10.521Z"
   },
   {
    "duration": 26,
    "start_time": "2021-07-07T18:10:10.530Z"
   },
   {
    "duration": 44,
    "start_time": "2021-07-07T18:10:10.558Z"
   },
   {
    "duration": 7,
    "start_time": "2021-07-07T18:10:10.605Z"
   },
   {
    "duration": 11,
    "start_time": "2021-07-07T18:10:10.614Z"
   },
   {
    "duration": 19,
    "start_time": "2021-07-07T18:10:10.626Z"
   },
   {
    "duration": 44,
    "start_time": "2021-07-07T18:10:10.646Z"
   },
   {
    "duration": 516,
    "start_time": "2021-07-07T18:14:00.826Z"
   },
   {
    "duration": 230,
    "start_time": "2021-07-07T18:14:01.344Z"
   },
   {
    "duration": 105,
    "start_time": "2021-07-07T18:14:01.576Z"
   },
   {
    "duration": 5,
    "start_time": "2021-07-07T18:14:01.683Z"
   },
   {
    "duration": 46,
    "start_time": "2021-07-07T18:14:01.690Z"
   },
   {
    "duration": 7,
    "start_time": "2021-07-07T18:14:01.738Z"
   },
   {
    "duration": 20,
    "start_time": "2021-07-07T18:14:01.747Z"
   },
   {
    "duration": 16,
    "start_time": "2021-07-07T18:14:01.769Z"
   },
   {
    "duration": 14,
    "start_time": "2021-07-07T18:14:01.787Z"
   },
   {
    "duration": 15,
    "start_time": "2021-07-07T18:14:01.803Z"
   },
   {
    "duration": 12,
    "start_time": "2021-07-07T18:14:01.820Z"
   },
   {
    "duration": 35,
    "start_time": "2021-07-07T18:14:01.833Z"
   },
   {
    "duration": 31,
    "start_time": "2021-07-07T18:14:01.869Z"
   },
   {
    "duration": 37,
    "start_time": "2021-07-07T18:14:01.902Z"
   },
   {
    "duration": 8,
    "start_time": "2021-07-07T18:14:01.942Z"
   },
   {
    "duration": 16,
    "start_time": "2021-07-07T18:14:01.952Z"
   },
   {
    "duration": 13,
    "start_time": "2021-07-07T18:14:01.970Z"
   },
   {
    "duration": 32,
    "start_time": "2021-07-07T18:14:01.985Z"
   },
   {
    "duration": 11,
    "start_time": "2021-07-07T18:14:02.019Z"
   },
   {
    "duration": 22,
    "start_time": "2021-07-07T18:14:02.031Z"
   },
   {
    "duration": 27,
    "start_time": "2021-07-07T18:14:02.055Z"
   },
   {
    "duration": 18,
    "start_time": "2021-07-07T18:14:02.084Z"
   },
   {
    "duration": 18,
    "start_time": "2021-07-07T18:14:02.106Z"
   },
   {
    "duration": 11,
    "start_time": "2021-07-07T18:14:02.126Z"
   },
   {
    "duration": 21,
    "start_time": "2021-07-07T18:14:02.138Z"
   },
   {
    "duration": 32,
    "start_time": "2021-07-07T18:14:02.161Z"
   },
   {
    "duration": 28,
    "start_time": "2021-07-07T18:14:44.295Z"
   },
   {
    "duration": 6,
    "start_time": "2021-07-07T18:15:05.834Z"
   },
   {
    "duration": 511,
    "start_time": "2021-07-07T18:15:41.541Z"
   },
   {
    "duration": 183,
    "start_time": "2021-07-07T18:15:42.054Z"
   },
   {
    "duration": 50,
    "start_time": "2021-07-07T18:15:42.239Z"
   },
   {
    "duration": 5,
    "start_time": "2021-07-07T18:15:42.291Z"
   },
   {
    "duration": 48,
    "start_time": "2021-07-07T18:15:42.297Z"
   },
   {
    "duration": 8,
    "start_time": "2021-07-07T18:15:42.346Z"
   },
   {
    "duration": 17,
    "start_time": "2021-07-07T18:15:42.356Z"
   },
   {
    "duration": 15,
    "start_time": "2021-07-07T18:15:42.375Z"
   },
   {
    "duration": 12,
    "start_time": "2021-07-07T18:15:42.392Z"
   },
   {
    "duration": 7,
    "start_time": "2021-07-07T18:15:42.406Z"
   },
   {
    "duration": 7,
    "start_time": "2021-07-07T18:15:42.415Z"
   },
   {
    "duration": 29,
    "start_time": "2021-07-07T18:15:42.423Z"
   },
   {
    "duration": 43,
    "start_time": "2021-07-07T18:15:42.453Z"
   },
   {
    "duration": 18,
    "start_time": "2021-07-07T18:15:42.497Z"
   },
   {
    "duration": 6,
    "start_time": "2021-07-07T18:15:42.516Z"
   },
   {
    "duration": 3,
    "start_time": "2021-07-07T18:15:42.523Z"
   },
   {
    "duration": 18,
    "start_time": "2021-07-07T18:15:42.528Z"
   },
   {
    "duration": 10,
    "start_time": "2021-07-07T18:15:42.547Z"
   },
   {
    "duration": 36,
    "start_time": "2021-07-07T18:15:42.559Z"
   },
   {
    "duration": 8,
    "start_time": "2021-07-07T18:15:42.597Z"
   },
   {
    "duration": 28,
    "start_time": "2021-07-07T18:15:42.606Z"
   },
   {
    "duration": 52,
    "start_time": "2021-07-07T18:15:42.635Z"
   },
   {
    "duration": 7,
    "start_time": "2021-07-07T18:15:42.690Z"
   },
   {
    "duration": 10,
    "start_time": "2021-07-07T18:15:42.699Z"
   },
   {
    "duration": 19,
    "start_time": "2021-07-07T18:15:42.711Z"
   },
   {
    "duration": 9,
    "start_time": "2021-07-07T18:15:42.732Z"
   },
   {
    "duration": 5,
    "start_time": "2021-07-07T18:15:42.743Z"
   },
   {
    "duration": 1450,
    "start_time": "2021-07-07T18:15:51.984Z"
   },
   {
    "duration": 161,
    "start_time": "2021-07-07T18:15:53.435Z"
   },
   {
    "duration": 124,
    "start_time": "2021-07-07T18:15:53.598Z"
   },
   {
    "duration": 5,
    "start_time": "2021-07-07T18:15:53.724Z"
   },
   {
    "duration": 34,
    "start_time": "2021-07-07T18:15:53.730Z"
   },
   {
    "duration": 7,
    "start_time": "2021-07-07T18:15:53.765Z"
   },
   {
    "duration": 15,
    "start_time": "2021-07-07T18:15:53.773Z"
   },
   {
    "duration": 5,
    "start_time": "2021-07-07T18:15:53.791Z"
   },
   {
    "duration": 19,
    "start_time": "2021-07-07T18:15:53.798Z"
   },
   {
    "duration": 9,
    "start_time": "2021-07-07T18:15:53.818Z"
   },
   {
    "duration": 19,
    "start_time": "2021-07-07T18:15:53.828Z"
   },
   {
    "duration": 27,
    "start_time": "2021-07-07T18:15:53.848Z"
   },
   {
    "duration": 16,
    "start_time": "2021-07-07T18:15:53.884Z"
   },
   {
    "duration": 29,
    "start_time": "2021-07-07T18:15:53.901Z"
   },
   {
    "duration": 5,
    "start_time": "2021-07-07T18:15:53.932Z"
   },
   {
    "duration": 15,
    "start_time": "2021-07-07T18:15:53.939Z"
   },
   {
    "duration": 13,
    "start_time": "2021-07-07T18:15:53.956Z"
   },
   {
    "duration": 20,
    "start_time": "2021-07-07T18:15:53.971Z"
   },
   {
    "duration": 14,
    "start_time": "2021-07-07T18:15:53.992Z"
   },
   {
    "duration": 9,
    "start_time": "2021-07-07T18:15:54.009Z"
   },
   {
    "duration": 28,
    "start_time": "2021-07-07T18:15:54.020Z"
   },
   {
    "duration": 50,
    "start_time": "2021-07-07T18:15:54.051Z"
   },
   {
    "duration": 8,
    "start_time": "2021-07-07T18:15:54.105Z"
   },
   {
    "duration": 11,
    "start_time": "2021-07-07T18:15:54.115Z"
   },
   {
    "duration": 20,
    "start_time": "2021-07-07T18:15:54.128Z"
   },
   {
    "duration": 13,
    "start_time": "2021-07-07T18:15:54.184Z"
   },
   {
    "duration": 7,
    "start_time": "2021-07-07T18:15:54.199Z"
   },
   {
    "duration": 7,
    "start_time": "2021-07-07T18:17:08.042Z"
   },
   {
    "duration": 8,
    "start_time": "2021-07-07T18:17:21.008Z"
   },
   {
    "duration": 7,
    "start_time": "2021-07-07T18:17:29.003Z"
   },
   {
    "duration": 8,
    "start_time": "2021-07-07T18:17:32.492Z"
   },
   {
    "duration": 9,
    "start_time": "2021-07-07T18:17:41.758Z"
   },
   {
    "duration": 255,
    "start_time": "2021-07-07T18:20:20.897Z"
   },
   {
    "duration": 173,
    "start_time": "2021-07-07T18:20:26.636Z"
   },
   {
    "duration": 7,
    "start_time": "2021-07-07T18:21:47.164Z"
   },
   {
    "duration": 254,
    "start_time": "2021-07-07T18:23:08.703Z"
   },
   {
    "duration": 21,
    "start_time": "2021-07-07T18:23:22.506Z"
   },
   {
    "duration": 315,
    "start_time": "2021-07-07T18:25:54.801Z"
   },
   {
    "duration": 34,
    "start_time": "2021-07-07T18:26:51.817Z"
   },
   {
    "duration": 327,
    "start_time": "2021-07-07T18:26:56.147Z"
   },
   {
    "duration": 342,
    "start_time": "2021-07-07T18:27:15.887Z"
   },
   {
    "duration": 302,
    "start_time": "2021-07-07T18:28:18.569Z"
   },
   {
    "duration": 226,
    "start_time": "2021-07-07T18:29:20.879Z"
   },
   {
    "duration": 207,
    "start_time": "2021-07-07T18:29:58.114Z"
   },
   {
    "duration": 140,
    "start_time": "2021-07-07T18:32:04.372Z"
   },
   {
    "duration": 158,
    "start_time": "2021-07-07T18:32:32.508Z"
   },
   {
    "duration": 145,
    "start_time": "2021-07-07T18:32:41.365Z"
   },
   {
    "duration": 132,
    "start_time": "2021-07-07T18:32:45.199Z"
   },
   {
    "duration": 11,
    "start_time": "2021-07-07T18:35:24.679Z"
   },
   {
    "duration": 268,
    "start_time": "2021-07-07T18:36:16.145Z"
   },
   {
    "duration": 227,
    "start_time": "2021-07-07T18:37:04.918Z"
   },
   {
    "duration": 3,
    "start_time": "2021-07-07T18:37:33.012Z"
   },
   {
    "duration": 671,
    "start_time": "2021-07-07T18:37:38.295Z"
   },
   {
    "duration": 54,
    "start_time": "2021-07-07T18:37:53.406Z"
   },
   {
    "duration": 631,
    "start_time": "2021-07-07T18:37:56.463Z"
   },
   {
    "duration": 19,
    "start_time": "2021-07-07T18:39:40.535Z"
   },
   {
    "duration": 20,
    "start_time": "2021-07-07T18:40:12.236Z"
   },
   {
    "duration": 633,
    "start_time": "2021-07-07T18:42:00.398Z"
   },
   {
    "duration": 218,
    "start_time": "2021-07-07T18:42:01.033Z"
   },
   {
    "duration": 49,
    "start_time": "2021-07-07T18:42:01.253Z"
   },
   {
    "duration": 5,
    "start_time": "2021-07-07T18:42:01.303Z"
   },
   {
    "duration": 27,
    "start_time": "2021-07-07T18:42:01.310Z"
   },
   {
    "duration": 8,
    "start_time": "2021-07-07T18:42:01.339Z"
   },
   {
    "duration": 20,
    "start_time": "2021-07-07T18:42:01.348Z"
   },
   {
    "duration": 6,
    "start_time": "2021-07-07T18:42:01.386Z"
   },
   {
    "duration": 16,
    "start_time": "2021-07-07T18:42:01.394Z"
   },
   {
    "duration": 9,
    "start_time": "2021-07-07T18:42:01.411Z"
   },
   {
    "duration": 11,
    "start_time": "2021-07-07T18:42:01.421Z"
   },
   {
    "duration": 31,
    "start_time": "2021-07-07T18:42:01.434Z"
   },
   {
    "duration": 18,
    "start_time": "2021-07-07T18:42:01.485Z"
   },
   {
    "duration": 23,
    "start_time": "2021-07-07T18:42:01.505Z"
   },
   {
    "duration": 6,
    "start_time": "2021-07-07T18:42:01.530Z"
   },
   {
    "duration": 10,
    "start_time": "2021-07-07T18:42:01.538Z"
   },
   {
    "duration": 13,
    "start_time": "2021-07-07T18:42:01.550Z"
   },
   {
    "duration": 24,
    "start_time": "2021-07-07T18:42:01.564Z"
   },
   {
    "duration": 20,
    "start_time": "2021-07-07T18:42:01.590Z"
   },
   {
    "duration": 8,
    "start_time": "2021-07-07T18:42:01.611Z"
   },
   {
    "duration": 31,
    "start_time": "2021-07-07T18:42:01.620Z"
   },
   {
    "duration": 39,
    "start_time": "2021-07-07T18:42:01.653Z"
   },
   {
    "duration": 8,
    "start_time": "2021-07-07T18:42:01.696Z"
   },
   {
    "duration": 13,
    "start_time": "2021-07-07T18:42:01.705Z"
   },
   {
    "duration": 20,
    "start_time": "2021-07-07T18:42:01.720Z"
   },
   {
    "duration": 12,
    "start_time": "2021-07-07T18:42:01.741Z"
   },
   {
    "duration": 35,
    "start_time": "2021-07-07T18:42:01.755Z"
   },
   {
    "duration": 14,
    "start_time": "2021-07-07T18:42:01.792Z"
   },
   {
    "duration": 188,
    "start_time": "2021-07-07T18:42:01.808Z"
   },
   {
    "duration": 19,
    "start_time": "2021-07-07T18:42:01.998Z"
   },
   {
    "duration": 175,
    "start_time": "2021-07-07T18:42:02.019Z"
   },
   {
    "duration": 134,
    "start_time": "2021-07-07T18:42:02.196Z"
   },
   {
    "duration": 10,
    "start_time": "2021-07-07T18:42:02.331Z"
   },
   {
    "duration": 19,
    "start_time": "2021-07-07T18:42:02.343Z"
   },
   {
    "duration": 628,
    "start_time": "2021-07-07T18:46:30.701Z"
   },
   {
    "duration": 183,
    "start_time": "2021-07-07T18:46:31.331Z"
   },
   {
    "duration": 48,
    "start_time": "2021-07-07T18:46:31.516Z"
   },
   {
    "duration": 5,
    "start_time": "2021-07-07T18:46:31.566Z"
   },
   {
    "duration": 28,
    "start_time": "2021-07-07T18:46:31.572Z"
   },
   {
    "duration": 8,
    "start_time": "2021-07-07T18:46:31.602Z"
   },
   {
    "duration": 19,
    "start_time": "2021-07-07T18:46:31.611Z"
   },
   {
    "duration": 6,
    "start_time": "2021-07-07T18:46:31.633Z"
   },
   {
    "duration": 17,
    "start_time": "2021-07-07T18:46:31.642Z"
   },
   {
    "duration": 10,
    "start_time": "2021-07-07T18:46:31.684Z"
   },
   {
    "duration": 9,
    "start_time": "2021-07-07T18:46:31.695Z"
   },
   {
    "duration": 28,
    "start_time": "2021-07-07T18:46:31.705Z"
   },
   {
    "duration": 18,
    "start_time": "2021-07-07T18:46:31.735Z"
   },
   {
    "duration": 48,
    "start_time": "2021-07-07T18:46:31.755Z"
   },
   {
    "duration": 6,
    "start_time": "2021-07-07T18:46:31.804Z"
   },
   {
    "duration": 4,
    "start_time": "2021-07-07T18:46:31.812Z"
   },
   {
    "duration": 9,
    "start_time": "2021-07-07T18:46:31.817Z"
   },
   {
    "duration": 10,
    "start_time": "2021-07-07T18:46:31.827Z"
   },
   {
    "duration": 12,
    "start_time": "2021-07-07T18:46:31.838Z"
   },
   {
    "duration": 39,
    "start_time": "2021-07-07T18:46:31.851Z"
   },
   {
    "duration": 24,
    "start_time": "2021-07-07T18:46:31.892Z"
   },
   {
    "duration": 15,
    "start_time": "2021-07-07T18:46:31.918Z"
   },
   {
    "duration": 7,
    "start_time": "2021-07-07T18:46:31.936Z"
   },
   {
    "duration": 8,
    "start_time": "2021-07-07T18:46:31.944Z"
   },
   {
    "duration": 19,
    "start_time": "2021-07-07T18:46:31.984Z"
   },
   {
    "duration": 10,
    "start_time": "2021-07-07T18:46:32.004Z"
   },
   {
    "duration": 5,
    "start_time": "2021-07-07T18:46:32.016Z"
   },
   {
    "duration": 9,
    "start_time": "2021-07-07T18:46:32.023Z"
   },
   {
    "duration": 199,
    "start_time": "2021-07-07T18:46:32.033Z"
   },
   {
    "duration": 19,
    "start_time": "2021-07-07T18:46:32.234Z"
   },
   {
    "duration": 159,
    "start_time": "2021-07-07T18:46:32.255Z"
   },
   {
    "duration": 134,
    "start_time": "2021-07-07T18:46:32.416Z"
   },
   {
    "duration": 10,
    "start_time": "2021-07-07T18:46:32.552Z"
   },
   {
    "duration": 34,
    "start_time": "2021-07-07T18:46:32.563Z"
   },
   {
    "duration": 1039,
    "start_time": "2021-07-08T08:41:09.419Z"
   },
   {
    "duration": 333,
    "start_time": "2021-07-08T08:41:10.459Z"
   },
   {
    "duration": 173,
    "start_time": "2021-07-08T08:41:10.794Z"
   },
   {
    "duration": 5,
    "start_time": "2021-07-08T08:41:10.968Z"
   },
   {
    "duration": 25,
    "start_time": "2021-07-08T08:41:10.975Z"
   },
   {
    "duration": 9,
    "start_time": "2021-07-08T08:41:11.002Z"
   },
   {
    "duration": 18,
    "start_time": "2021-07-08T08:41:11.013Z"
   },
   {
    "duration": 6,
    "start_time": "2021-07-08T08:41:11.033Z"
   },
   {
    "duration": 44,
    "start_time": "2021-07-08T08:41:11.042Z"
   },
   {
    "duration": 10,
    "start_time": "2021-07-08T08:41:11.088Z"
   },
   {
    "duration": 9,
    "start_time": "2021-07-08T08:41:11.100Z"
   },
   {
    "duration": 27,
    "start_time": "2021-07-08T08:41:11.111Z"
   },
   {
    "duration": 46,
    "start_time": "2021-07-08T08:41:11.140Z"
   },
   {
    "duration": 17,
    "start_time": "2021-07-08T08:41:11.187Z"
   },
   {
    "duration": 6,
    "start_time": "2021-07-08T08:41:11.206Z"
   },
   {
    "duration": 5,
    "start_time": "2021-07-08T08:41:11.213Z"
   },
   {
    "duration": 10,
    "start_time": "2021-07-08T08:41:11.219Z"
   },
   {
    "duration": 9,
    "start_time": "2021-07-08T08:41:11.230Z"
   },
   {
    "duration": 45,
    "start_time": "2021-07-08T08:41:11.241Z"
   },
   {
    "duration": 7,
    "start_time": "2021-07-08T08:41:11.287Z"
   },
   {
    "duration": 24,
    "start_time": "2021-07-08T08:41:11.296Z"
   },
   {
    "duration": 16,
    "start_time": "2021-07-08T08:41:11.322Z"
   },
   {
    "duration": 7,
    "start_time": "2021-07-08T08:41:11.341Z"
   },
   {
    "duration": 41,
    "start_time": "2021-07-08T08:41:11.349Z"
   },
   {
    "duration": 17,
    "start_time": "2021-07-08T08:41:11.391Z"
   },
   {
    "duration": 9,
    "start_time": "2021-07-08T08:41:11.410Z"
   },
   {
    "duration": 5,
    "start_time": "2021-07-08T08:41:11.421Z"
   },
   {
    "duration": 6,
    "start_time": "2021-07-08T08:41:11.428Z"
   },
   {
    "duration": 198,
    "start_time": "2021-07-08T08:41:11.435Z"
   },
   {
    "duration": 18,
    "start_time": "2021-07-08T08:41:11.635Z"
   },
   {
    "duration": 155,
    "start_time": "2021-07-08T08:41:11.655Z"
   },
   {
    "duration": 138,
    "start_time": "2021-07-08T08:41:11.811Z"
   },
   {
    "duration": 10,
    "start_time": "2021-07-08T08:41:11.950Z"
   },
   {
    "duration": 29,
    "start_time": "2021-07-08T08:41:11.961Z"
   },
   {
    "duration": 171,
    "start_time": "2021-07-08T08:47:44.522Z"
   },
   {
    "duration": 124,
    "start_time": "2021-07-08T08:47:46.872Z"
   },
   {
    "duration": 191,
    "start_time": "2021-07-08T08:47:58.148Z"
   },
   {
    "duration": 191,
    "start_time": "2021-07-08T08:48:07.412Z"
   },
   {
    "duration": 261,
    "start_time": "2021-07-08T08:48:10.385Z"
   },
   {
    "duration": 255,
    "start_time": "2021-07-08T08:48:14.494Z"
   },
   {
    "duration": 219,
    "start_time": "2021-07-08T08:48:22.752Z"
   },
   {
    "duration": 173,
    "start_time": "2021-07-08T08:49:06.395Z"
   },
   {
    "duration": 180,
    "start_time": "2021-07-08T08:49:21.011Z"
   },
   {
    "duration": 6,
    "start_time": "2021-07-08T08:50:31.697Z"
   },
   {
    "duration": 10,
    "start_time": "2021-07-08T08:50:47.394Z"
   },
   {
    "duration": 11,
    "start_time": "2021-07-08T08:53:49.332Z"
   },
   {
    "duration": 171,
    "start_time": "2021-07-08T08:54:28.408Z"
   },
   {
    "duration": 636,
    "start_time": "2021-07-08T09:02:48.385Z"
   },
   {
    "duration": 227,
    "start_time": "2021-07-08T09:02:49.023Z"
   },
   {
    "duration": 104,
    "start_time": "2021-07-08T09:02:49.252Z"
   },
   {
    "duration": 5,
    "start_time": "2021-07-08T09:02:49.358Z"
   },
   {
    "duration": 27,
    "start_time": "2021-07-08T09:02:49.365Z"
   },
   {
    "duration": 8,
    "start_time": "2021-07-08T09:02:49.394Z"
   },
   {
    "duration": 18,
    "start_time": "2021-07-08T09:02:49.404Z"
   },
   {
    "duration": 6,
    "start_time": "2021-07-08T09:02:49.424Z"
   },
   {
    "duration": 11,
    "start_time": "2021-07-08T09:02:49.433Z"
   },
   {
    "duration": 13,
    "start_time": "2021-07-08T09:02:49.485Z"
   },
   {
    "duration": 9,
    "start_time": "2021-07-08T09:02:49.500Z"
   },
   {
    "duration": 38,
    "start_time": "2021-07-08T09:02:49.511Z"
   },
   {
    "duration": 42,
    "start_time": "2021-07-08T09:02:49.551Z"
   },
   {
    "duration": 21,
    "start_time": "2021-07-08T09:02:49.594Z"
   },
   {
    "duration": 6,
    "start_time": "2021-07-08T09:02:49.616Z"
   },
   {
    "duration": 3,
    "start_time": "2021-07-08T09:02:49.623Z"
   },
   {
    "duration": 9,
    "start_time": "2021-07-08T09:02:49.628Z"
   },
   {
    "duration": 52,
    "start_time": "2021-07-08T09:02:49.638Z"
   },
   {
    "duration": 11,
    "start_time": "2021-07-08T09:02:49.692Z"
   },
   {
    "duration": 8,
    "start_time": "2021-07-08T09:02:49.704Z"
   },
   {
    "duration": 27,
    "start_time": "2021-07-08T09:02:49.713Z"
   },
   {
    "duration": 59,
    "start_time": "2021-07-08T09:02:49.741Z"
   },
   {
    "duration": 8,
    "start_time": "2021-07-08T09:02:49.803Z"
   },
   {
    "duration": 14,
    "start_time": "2021-07-08T09:02:49.813Z"
   },
   {
    "duration": 20,
    "start_time": "2021-07-08T09:02:49.829Z"
   },
   {
    "duration": 44,
    "start_time": "2021-07-08T09:02:49.851Z"
   },
   {
    "duration": 14,
    "start_time": "2021-07-08T09:02:49.896Z"
   },
   {
    "duration": 221,
    "start_time": "2021-07-08T09:02:49.912Z"
   },
   {
    "duration": 6,
    "start_time": "2021-07-08T09:02:50.134Z"
   },
   {
    "duration": 206,
    "start_time": "2021-07-08T09:02:50.142Z"
   },
   {
    "duration": 19,
    "start_time": "2021-07-08T09:02:50.350Z"
   },
   {
    "duration": 21,
    "start_time": "2021-07-08T09:02:50.370Z"
   },
   {
    "duration": 20,
    "start_time": "2021-07-08T09:02:50.393Z"
   },
   {
    "duration": 5,
    "start_time": "2021-07-08T09:02:50.414Z"
   },
   {
    "duration": 5,
    "start_time": "2021-07-08T09:03:34.173Z"
   },
   {
    "duration": 6,
    "start_time": "2021-07-08T09:04:49.062Z"
   },
   {
    "duration": 9,
    "start_time": "2021-07-08T09:04:50.118Z"
   },
   {
    "duration": 14,
    "start_time": "2021-07-08T09:04:58.512Z"
   },
   {
    "duration": 9,
    "start_time": "2021-07-08T09:05:10.988Z"
   },
   {
    "duration": 11,
    "start_time": "2021-07-08T09:05:11.743Z"
   },
   {
    "duration": 7,
    "start_time": "2021-07-08T09:05:25.677Z"
   },
   {
    "duration": 13,
    "start_time": "2021-07-08T09:05:47.189Z"
   },
   {
    "duration": 13,
    "start_time": "2021-07-08T09:05:54.755Z"
   },
   {
    "duration": 4,
    "start_time": "2021-07-08T09:06:29.189Z"
   },
   {
    "duration": 244,
    "start_time": "2021-07-08T09:06:29.195Z"
   },
   {
    "duration": 91,
    "start_time": "2021-07-08T09:06:29.441Z"
   },
   {
    "duration": 4,
    "start_time": "2021-07-08T09:06:29.534Z"
   },
   {
    "duration": 28,
    "start_time": "2021-07-08T09:06:29.540Z"
   },
   {
    "duration": 6,
    "start_time": "2021-07-08T09:06:29.570Z"
   },
   {
    "duration": 18,
    "start_time": "2021-07-08T09:06:29.578Z"
   },
   {
    "duration": 5,
    "start_time": "2021-07-08T09:06:29.597Z"
   },
   {
    "duration": 13,
    "start_time": "2021-07-08T09:06:29.605Z"
   },
   {
    "duration": 8,
    "start_time": "2021-07-08T09:06:29.620Z"
   },
   {
    "duration": 7,
    "start_time": "2021-07-08T09:06:29.630Z"
   },
   {
    "duration": 63,
    "start_time": "2021-07-08T09:06:29.639Z"
   },
   {
    "duration": 17,
    "start_time": "2021-07-08T09:06:29.704Z"
   },
   {
    "duration": 20,
    "start_time": "2021-07-08T09:06:29.723Z"
   },
   {
    "duration": 6,
    "start_time": "2021-07-08T09:06:29.745Z"
   },
   {
    "duration": 3,
    "start_time": "2021-07-08T09:06:29.752Z"
   },
   {
    "duration": 7,
    "start_time": "2021-07-08T09:06:29.785Z"
   },
   {
    "duration": 11,
    "start_time": "2021-07-08T09:06:29.794Z"
   },
   {
    "duration": 15,
    "start_time": "2021-07-08T09:06:29.807Z"
   },
   {
    "duration": 8,
    "start_time": "2021-07-08T09:06:29.823Z"
   },
   {
    "duration": 70,
    "start_time": "2021-07-08T09:06:29.832Z"
   },
   {
    "duration": 17,
    "start_time": "2021-07-08T09:06:29.903Z"
   },
   {
    "duration": 9,
    "start_time": "2021-07-08T09:06:29.921Z"
   },
   {
    "duration": 9,
    "start_time": "2021-07-08T09:06:29.932Z"
   },
   {
    "duration": 57,
    "start_time": "2021-07-08T09:06:29.942Z"
   },
   {
    "duration": 11,
    "start_time": "2021-07-08T09:06:30.001Z"
   },
   {
    "duration": 19,
    "start_time": "2021-07-08T09:06:30.016Z"
   },
   {
    "duration": 217,
    "start_time": "2021-07-08T09:06:30.037Z"
   },
   {
    "duration": 6,
    "start_time": "2021-07-08T09:06:30.255Z"
   },
   {
    "duration": 205,
    "start_time": "2021-07-08T09:06:30.263Z"
   },
   {
    "duration": 27,
    "start_time": "2021-07-08T09:06:30.470Z"
   },
   {
    "duration": 11,
    "start_time": "2021-07-08T09:06:30.500Z"
   },
   {
    "duration": 31,
    "start_time": "2021-07-08T09:06:30.513Z"
   },
   {
    "duration": 18,
    "start_time": "2021-07-08T09:06:30.546Z"
   },
   {
    "duration": 11,
    "start_time": "2021-07-08T09:06:30.566Z"
   },
   {
    "duration": 19,
    "start_time": "2021-07-08T09:06:30.579Z"
   },
   {
    "duration": 20,
    "start_time": "2021-07-08T09:06:49.466Z"
   },
   {
    "duration": 9,
    "start_time": "2021-07-08T09:06:51.994Z"
   },
   {
    "duration": 20,
    "start_time": "2021-07-08T09:06:52.273Z"
   },
   {
    "duration": 246,
    "start_time": "2021-07-08T09:10:21.272Z"
   },
   {
    "duration": 84,
    "start_time": "2021-07-08T09:10:21.436Z"
   },
   {
    "duration": 7,
    "start_time": "2021-07-08T09:10:37.608Z"
   },
   {
    "duration": 189,
    "start_time": "2021-07-08T09:10:38.573Z"
   },
   {
    "duration": 185,
    "start_time": "2021-07-08T09:10:53.181Z"
   },
   {
    "duration": 11,
    "start_time": "2021-07-08T09:10:59.549Z"
   },
   {
    "duration": 42,
    "start_time": "2021-07-08T09:10:59.709Z"
   },
   {
    "duration": 12,
    "start_time": "2021-07-08T09:11:02.857Z"
   },
   {
    "duration": 28,
    "start_time": "2021-07-08T09:11:10.062Z"
   },
   {
    "duration": 249,
    "start_time": "2021-07-08T09:11:37.388Z"
   },
   {
    "duration": 232,
    "start_time": "2021-07-08T09:11:49.485Z"
   },
   {
    "duration": 453,
    "start_time": "2021-07-08T09:12:01.546Z"
   },
   {
    "duration": 440,
    "start_time": "2021-07-08T09:12:12.347Z"
   },
   {
    "duration": 213,
    "start_time": "2021-07-08T09:13:32.196Z"
   },
   {
    "duration": 172,
    "start_time": "2021-07-08T09:14:07.400Z"
   },
   {
    "duration": 185,
    "start_time": "2021-07-08T09:14:14.905Z"
   },
   {
    "duration": 209,
    "start_time": "2021-07-08T09:14:40.109Z"
   },
   {
    "duration": 201,
    "start_time": "2021-07-08T09:14:54.506Z"
   },
   {
    "duration": 622,
    "start_time": "2021-07-08T09:18:14.497Z"
   },
   {
    "duration": 220,
    "start_time": "2021-07-08T09:18:15.121Z"
   },
   {
    "duration": 79,
    "start_time": "2021-07-08T09:18:15.343Z"
   },
   {
    "duration": 4,
    "start_time": "2021-07-08T09:18:15.425Z"
   },
   {
    "duration": 24,
    "start_time": "2021-07-08T09:18:15.431Z"
   },
   {
    "duration": 8,
    "start_time": "2021-07-08T09:18:15.457Z"
   },
   {
    "duration": 16,
    "start_time": "2021-07-08T09:18:15.466Z"
   },
   {
    "duration": 5,
    "start_time": "2021-07-08T09:18:15.484Z"
   },
   {
    "duration": 10,
    "start_time": "2021-07-08T09:18:15.493Z"
   },
   {
    "duration": 8,
    "start_time": "2021-07-08T09:18:15.504Z"
   },
   {
    "duration": 7,
    "start_time": "2021-07-08T09:18:15.513Z"
   },
   {
    "duration": 26,
    "start_time": "2021-07-08T09:18:15.522Z"
   },
   {
    "duration": 49,
    "start_time": "2021-07-08T09:18:15.550Z"
   },
   {
    "duration": 21,
    "start_time": "2021-07-08T09:18:15.601Z"
   },
   {
    "duration": 8,
    "start_time": "2021-07-08T09:18:15.624Z"
   },
   {
    "duration": 3,
    "start_time": "2021-07-08T09:18:15.634Z"
   },
   {
    "duration": 8,
    "start_time": "2021-07-08T09:18:15.639Z"
   },
   {
    "duration": 45,
    "start_time": "2021-07-08T09:18:15.649Z"
   },
   {
    "duration": 13,
    "start_time": "2021-07-08T09:18:15.696Z"
   },
   {
    "duration": 10,
    "start_time": "2021-07-08T09:18:15.711Z"
   },
   {
    "duration": 64,
    "start_time": "2021-07-08T09:18:15.722Z"
   },
   {
    "duration": 19,
    "start_time": "2021-07-08T09:18:15.788Z"
   },
   {
    "duration": 9,
    "start_time": "2021-07-08T09:18:15.809Z"
   },
   {
    "duration": 9,
    "start_time": "2021-07-08T09:18:15.820Z"
   },
   {
    "duration": 18,
    "start_time": "2021-07-08T09:18:15.831Z"
   },
   {
    "duration": 43,
    "start_time": "2021-07-08T09:18:15.851Z"
   },
   {
    "duration": 12,
    "start_time": "2021-07-08T09:18:15.897Z"
   },
   {
    "duration": 219,
    "start_time": "2021-07-08T09:18:15.911Z"
   },
   {
    "duration": 8,
    "start_time": "2021-07-08T09:18:16.132Z"
   },
   {
    "duration": 199,
    "start_time": "2021-07-08T09:18:16.141Z"
   },
   {
    "duration": 18,
    "start_time": "2021-07-08T09:18:16.341Z"
   },
   {
    "duration": 24,
    "start_time": "2021-07-08T09:18:16.361Z"
   },
   {
    "duration": 24,
    "start_time": "2021-07-08T09:18:16.387Z"
   },
   {
    "duration": 211,
    "start_time": "2021-07-08T09:18:16.413Z"
   },
   {
    "duration": 18,
    "start_time": "2021-07-08T09:18:16.626Z"
   },
   {
    "duration": 596,
    "start_time": "2021-07-08T10:06:33.623Z"
   },
   {
    "duration": 181,
    "start_time": "2021-07-08T10:06:34.221Z"
   },
   {
    "duration": 176,
    "start_time": "2021-07-08T10:06:34.635Z"
   },
   {
    "duration": 239,
    "start_time": "2021-07-08T10:06:55.572Z"
   },
   {
    "duration": 6,
    "start_time": "2021-07-08T10:06:57.687Z"
   },
   {
    "duration": 4,
    "start_time": "2021-07-08T10:07:03.956Z"
   },
   {
    "duration": 4,
    "start_time": "2021-07-08T10:07:10.376Z"
   },
   {
    "duration": 4,
    "start_time": "2021-07-08T10:17:19.889Z"
   },
   {
    "duration": 3,
    "start_time": "2021-07-08T10:19:19.407Z"
   },
   {
    "duration": 197,
    "start_time": "2021-07-08T10:19:19.412Z"
   },
   {
    "duration": 127,
    "start_time": "2021-07-08T10:19:19.611Z"
   },
   {
    "duration": 4,
    "start_time": "2021-07-08T10:19:19.740Z"
   },
   {
    "duration": 27,
    "start_time": "2021-07-08T10:19:19.746Z"
   },
   {
    "duration": 7,
    "start_time": "2021-07-08T10:19:19.775Z"
   },
   {
    "duration": 30,
    "start_time": "2021-07-08T10:19:19.784Z"
   },
   {
    "duration": 7,
    "start_time": "2021-07-08T10:19:19.817Z"
   },
   {
    "duration": 26,
    "start_time": "2021-07-08T10:19:19.826Z"
   },
   {
    "duration": 18,
    "start_time": "2021-07-08T10:19:19.854Z"
   },
   {
    "duration": 14,
    "start_time": "2021-07-08T10:19:19.874Z"
   },
   {
    "duration": 48,
    "start_time": "2021-07-08T10:19:19.890Z"
   },
   {
    "duration": 17,
    "start_time": "2021-07-08T10:19:19.940Z"
   },
   {
    "duration": 38,
    "start_time": "2021-07-08T10:19:19.959Z"
   },
   {
    "duration": 8,
    "start_time": "2021-07-08T10:19:19.999Z"
   },
   {
    "duration": 15,
    "start_time": "2021-07-08T10:19:20.009Z"
   },
   {
    "duration": 22,
    "start_time": "2021-07-08T10:19:20.026Z"
   },
   {
    "duration": 10,
    "start_time": "2021-07-08T10:19:20.050Z"
   },
   {
    "duration": 10,
    "start_time": "2021-07-08T10:19:20.062Z"
   },
   {
    "duration": 20,
    "start_time": "2021-07-08T10:19:20.073Z"
   },
   {
    "duration": 29,
    "start_time": "2021-07-08T10:19:20.095Z"
   },
   {
    "duration": 17,
    "start_time": "2021-07-08T10:19:20.126Z"
   },
   {
    "duration": 40,
    "start_time": "2021-07-08T10:19:20.146Z"
   },
   {
    "duration": 15,
    "start_time": "2021-07-08T10:19:20.189Z"
   },
   {
    "duration": 19,
    "start_time": "2021-07-08T10:19:20.206Z"
   },
   {
    "duration": 10,
    "start_time": "2021-07-08T10:19:20.226Z"
   },
   {
    "duration": 11,
    "start_time": "2021-07-08T10:19:20.238Z"
   },
   {
    "duration": 297,
    "start_time": "2021-07-08T10:19:20.250Z"
   },
   {
    "duration": 6,
    "start_time": "2021-07-08T10:19:20.549Z"
   },
   {
    "duration": 191,
    "start_time": "2021-07-08T10:19:20.557Z"
   },
   {
    "duration": 19,
    "start_time": "2021-07-08T10:19:20.750Z"
   },
   {
    "duration": 20,
    "start_time": "2021-07-08T10:19:20.771Z"
   },
   {
    "duration": 15,
    "start_time": "2021-07-08T10:19:20.793Z"
   },
   {
    "duration": 222,
    "start_time": "2021-07-08T10:19:20.809Z"
   },
   {
    "duration": 20,
    "start_time": "2021-07-08T10:19:21.033Z"
   },
   {
    "duration": 27,
    "start_time": "2021-07-08T10:45:04.055Z"
   },
   {
    "duration": 8,
    "start_time": "2021-07-08T10:45:08.478Z"
   },
   {
    "duration": 8,
    "start_time": "2021-07-08T10:45:31.982Z"
   },
   {
    "duration": 10,
    "start_time": "2021-07-08T10:46:01.221Z"
   },
   {
    "duration": 17,
    "start_time": "2021-07-08T10:46:40.011Z"
   },
   {
    "duration": 193,
    "start_time": "2021-07-08T10:48:19.471Z"
   },
   {
    "duration": 225,
    "start_time": "2021-07-08T10:49:26.480Z"
   },
   {
    "duration": 204,
    "start_time": "2021-07-08T10:49:59.992Z"
   },
   {
    "duration": 435,
    "start_time": "2021-07-08T10:50:06.779Z"
   },
   {
    "duration": 199,
    "start_time": "2021-07-08T10:50:14.891Z"
   },
   {
    "duration": 204,
    "start_time": "2021-07-08T10:50:18.501Z"
   },
   {
    "duration": 244,
    "start_time": "2021-07-08T10:50:23.359Z"
   },
   {
    "duration": 192,
    "start_time": "2021-07-08T10:50:29.135Z"
   },
   {
    "duration": 218,
    "start_time": "2021-07-08T10:50:33.092Z"
   },
   {
    "duration": 207,
    "start_time": "2021-07-08T10:52:45.381Z"
   },
   {
    "duration": 5,
    "start_time": "2021-07-08T10:53:34.641Z"
   },
   {
    "duration": 196,
    "start_time": "2021-07-08T10:53:41.478Z"
   },
   {
    "duration": 43,
    "start_time": "2021-07-08T10:53:50.335Z"
   },
   {
    "duration": 32,
    "start_time": "2021-07-08T10:53:55.294Z"
   },
   {
    "duration": 55,
    "start_time": "2021-07-08T10:54:09.675Z"
   },
   {
    "duration": 16,
    "start_time": "2021-07-08T10:54:12.260Z"
   },
   {
    "duration": 15,
    "start_time": "2021-07-08T10:54:49.150Z"
   },
   {
    "duration": 20,
    "start_time": "2021-07-08T10:56:07.596Z"
   },
   {
    "duration": 16,
    "start_time": "2021-07-08T10:58:26.276Z"
   },
   {
    "duration": 22,
    "start_time": "2021-07-08T10:59:00.486Z"
   },
   {
    "duration": 18,
    "start_time": "2021-07-08T11:02:09.653Z"
   },
   {
    "duration": 10,
    "start_time": "2021-07-08T11:03:44.331Z"
   },
   {
    "duration": 10,
    "start_time": "2021-07-08T11:03:54.055Z"
   },
   {
    "duration": 12,
    "start_time": "2021-07-08T11:04:41.967Z"
   },
   {
    "duration": 24,
    "start_time": "2021-07-08T11:07:30.732Z"
   },
   {
    "duration": 6,
    "start_time": "2021-07-08T11:07:37.364Z"
   },
   {
    "duration": 16,
    "start_time": "2021-07-08T11:08:01.819Z"
   },
   {
    "duration": 17,
    "start_time": "2021-07-08T11:09:47.488Z"
   },
   {
    "duration": 246,
    "start_time": "2021-07-08T11:10:00.830Z"
   },
   {
    "duration": 18,
    "start_time": "2021-07-08T11:13:55.195Z"
   },
   {
    "duration": 204,
    "start_time": "2021-07-08T11:14:04.951Z"
   },
   {
    "duration": 19,
    "start_time": "2021-07-08T11:15:10.613Z"
   },
   {
    "duration": 680,
    "start_time": "2021-07-08T11:16:25.793Z"
   },
   {
    "duration": 451,
    "start_time": "2021-07-08T11:16:40.313Z"
   },
   {
    "duration": 469,
    "start_time": "2021-07-08T11:17:21.286Z"
   },
   {
    "duration": 20,
    "start_time": "2021-07-08T11:19:12.554Z"
   },
   {
    "duration": 35,
    "start_time": "2021-07-08T11:20:05.484Z"
   },
   {
    "duration": 53,
    "start_time": "2021-07-08T11:21:40.050Z"
   },
   {
    "duration": 13,
    "start_time": "2021-07-08T11:22:26.059Z"
   },
   {
    "duration": 19,
    "start_time": "2021-07-08T11:22:47.419Z"
   },
   {
    "duration": 25,
    "start_time": "2021-07-08T11:23:19.958Z"
   },
   {
    "duration": 29,
    "start_time": "2021-07-08T11:23:25.415Z"
   },
   {
    "duration": 10,
    "start_time": "2021-07-08T11:24:45.138Z"
   },
   {
    "duration": 19,
    "start_time": "2021-07-08T11:24:54.498Z"
   },
   {
    "duration": 12,
    "start_time": "2021-07-08T11:25:32.225Z"
   },
   {
    "duration": 19,
    "start_time": "2021-07-08T11:25:37.092Z"
   },
   {
    "duration": 17,
    "start_time": "2021-07-08T11:25:58.116Z"
   },
   {
    "duration": 15,
    "start_time": "2021-07-08T11:26:02.258Z"
   },
   {
    "duration": 8,
    "start_time": "2021-07-08T11:26:59.682Z"
   },
   {
    "duration": 184,
    "start_time": "2021-07-08T11:27:21.894Z"
   },
   {
    "duration": 8,
    "start_time": "2021-07-08T11:27:23.824Z"
   },
   {
    "duration": 202,
    "start_time": "2021-07-08T11:27:23.962Z"
   },
   {
    "duration": 360,
    "start_time": "2021-07-08T11:28:33.215Z"
   },
   {
    "duration": 231,
    "start_time": "2021-07-08T11:32:05.542Z"
   },
   {
    "duration": 607,
    "start_time": "2021-07-08T11:36:27.854Z"
   },
   {
    "duration": 241,
    "start_time": "2021-07-08T11:36:28.463Z"
   },
   {
    "duration": 67,
    "start_time": "2021-07-08T11:36:28.709Z"
   },
   {
    "duration": 5,
    "start_time": "2021-07-08T11:36:28.778Z"
   },
   {
    "duration": 32,
    "start_time": "2021-07-08T11:36:28.784Z"
   },
   {
    "duration": 11,
    "start_time": "2021-07-08T11:36:28.819Z"
   },
   {
    "duration": 20,
    "start_time": "2021-07-08T11:36:28.834Z"
   },
   {
    "duration": 36,
    "start_time": "2021-07-08T11:36:28.857Z"
   },
   {
    "duration": 16,
    "start_time": "2021-07-08T11:36:28.895Z"
   },
   {
    "duration": 14,
    "start_time": "2021-07-08T11:36:28.913Z"
   },
   {
    "duration": 9,
    "start_time": "2021-07-08T11:36:28.930Z"
   },
   {
    "duration": 55,
    "start_time": "2021-07-08T11:36:28.941Z"
   },
   {
    "duration": 27,
    "start_time": "2021-07-08T11:36:28.999Z"
   },
   {
    "duration": 30,
    "start_time": "2021-07-08T11:36:29.028Z"
   },
   {
    "duration": 31,
    "start_time": "2021-07-08T11:36:29.060Z"
   },
   {
    "duration": 3,
    "start_time": "2021-07-08T11:36:29.093Z"
   },
   {
    "duration": 12,
    "start_time": "2021-07-08T11:36:29.099Z"
   },
   {
    "duration": 11,
    "start_time": "2021-07-08T11:36:29.112Z"
   },
   {
    "duration": 12,
    "start_time": "2021-07-08T11:36:29.125Z"
   },
   {
    "duration": 9,
    "start_time": "2021-07-08T11:36:29.139Z"
   },
   {
    "duration": 31,
    "start_time": "2021-07-08T11:36:29.191Z"
   },
   {
    "duration": 17,
    "start_time": "2021-07-08T11:36:29.226Z"
   },
   {
    "duration": 7,
    "start_time": "2021-07-08T11:36:29.245Z"
   },
   {
    "duration": 10,
    "start_time": "2021-07-08T11:36:29.254Z"
   },
   {
    "duration": 30,
    "start_time": "2021-07-08T11:36:29.292Z"
   },
   {
    "duration": 11,
    "start_time": "2021-07-08T11:36:29.324Z"
   },
   {
    "duration": 11,
    "start_time": "2021-07-08T11:36:29.337Z"
   },
   {
    "duration": 230,
    "start_time": "2021-07-08T11:36:29.349Z"
   },
   {
    "duration": 13,
    "start_time": "2021-07-08T11:36:29.588Z"
   },
   {
    "duration": 205,
    "start_time": "2021-07-08T11:36:29.603Z"
   },
   {
    "duration": 20,
    "start_time": "2021-07-08T11:36:29.810Z"
   },
   {
    "duration": 9,
    "start_time": "2021-07-08T11:36:29.832Z"
   },
   {
    "duration": 16,
    "start_time": "2021-07-08T11:36:29.843Z"
   },
   {
    "duration": 283,
    "start_time": "2021-07-08T11:36:29.861Z"
   },
   {
    "duration": 50,
    "start_time": "2021-07-08T11:36:30.146Z"
   },
   {
    "duration": 14,
    "start_time": "2021-07-08T11:36:30.198Z"
   },
   {
    "duration": 11,
    "start_time": "2021-07-08T11:36:30.214Z"
   },
   {
    "duration": 245,
    "start_time": "2021-07-08T11:36:30.227Z"
   },
   {
    "duration": 439,
    "start_time": "2021-07-08T11:36:30.474Z"
   },
   {
    "duration": 210,
    "start_time": "2021-07-08T11:36:30.915Z"
   },
   {
    "duration": 15,
    "start_time": "2021-07-08T11:36:31.127Z"
   },
   {
    "duration": 17,
    "start_time": "2021-07-08T11:38:20.451Z"
   },
   {
    "duration": 642,
    "start_time": "2021-07-08T11:46:17.881Z"
   },
   {
    "duration": 210,
    "start_time": "2021-07-08T11:46:18.525Z"
   },
   {
    "duration": 104,
    "start_time": "2021-07-08T11:46:18.741Z"
   },
   {
    "duration": 8,
    "start_time": "2021-07-08T11:46:18.847Z"
   },
   {
    "duration": 25,
    "start_time": "2021-07-08T11:46:18.857Z"
   },
   {
    "duration": 14,
    "start_time": "2021-07-08T11:46:18.884Z"
   },
   {
    "duration": 22,
    "start_time": "2021-07-08T11:46:18.900Z"
   },
   {
    "duration": 5,
    "start_time": "2021-07-08T11:46:18.924Z"
   },
   {
    "duration": 13,
    "start_time": "2021-07-08T11:46:18.931Z"
   },
   {
    "duration": 45,
    "start_time": "2021-07-08T11:46:18.946Z"
   },
   {
    "duration": 12,
    "start_time": "2021-07-08T11:46:18.993Z"
   },
   {
    "duration": 38,
    "start_time": "2021-07-08T11:46:19.006Z"
   },
   {
    "duration": 50,
    "start_time": "2021-07-08T11:46:19.046Z"
   },
   {
    "duration": 29,
    "start_time": "2021-07-08T11:46:19.099Z"
   },
   {
    "duration": 7,
    "start_time": "2021-07-08T11:46:19.130Z"
   },
   {
    "duration": 3,
    "start_time": "2021-07-08T11:46:19.139Z"
   },
   {
    "duration": 11,
    "start_time": "2021-07-08T11:46:19.144Z"
   },
   {
    "duration": 40,
    "start_time": "2021-07-08T11:46:19.157Z"
   },
   {
    "duration": 15,
    "start_time": "2021-07-08T11:46:19.199Z"
   },
   {
    "duration": 10,
    "start_time": "2021-07-08T11:46:19.217Z"
   },
   {
    "duration": 68,
    "start_time": "2021-07-08T11:46:19.230Z"
   },
   {
    "duration": 17,
    "start_time": "2021-07-08T11:46:19.301Z"
   },
   {
    "duration": 7,
    "start_time": "2021-07-08T11:46:19.321Z"
   },
   {
    "duration": 11,
    "start_time": "2021-07-08T11:46:19.330Z"
   },
   {
    "duration": 59,
    "start_time": "2021-07-08T11:46:19.343Z"
   },
   {
    "duration": 17,
    "start_time": "2021-07-08T11:46:19.405Z"
   },
   {
    "duration": 16,
    "start_time": "2021-07-08T11:46:19.424Z"
   },
   {
    "duration": 252,
    "start_time": "2021-07-08T11:46:19.443Z"
   },
   {
    "duration": 9,
    "start_time": "2021-07-08T11:46:19.697Z"
   },
   {
    "duration": 224,
    "start_time": "2021-07-08T11:46:19.708Z"
   },
   {
    "duration": 21,
    "start_time": "2021-07-08T11:46:19.934Z"
   },
   {
    "duration": 9,
    "start_time": "2021-07-08T11:46:19.956Z"
   },
   {
    "duration": 32,
    "start_time": "2021-07-08T11:46:19.967Z"
   },
   {
    "duration": 288,
    "start_time": "2021-07-08T11:46:20.004Z"
   },
   {
    "duration": 23,
    "start_time": "2021-07-08T11:46:20.300Z"
   },
   {
    "duration": 11,
    "start_time": "2021-07-08T11:46:20.325Z"
   },
   {
    "duration": 11,
    "start_time": "2021-07-08T11:46:20.339Z"
   },
   {
    "duration": 259,
    "start_time": "2021-07-08T11:46:20.352Z"
   },
   {
    "duration": 438,
    "start_time": "2021-07-08T11:46:20.613Z"
   },
   {
    "duration": 207,
    "start_time": "2021-07-08T11:46:21.054Z"
   },
   {
    "duration": 27,
    "start_time": "2021-07-08T11:46:21.262Z"
   },
   {
    "duration": 19,
    "start_time": "2021-07-08T11:46:21.291Z"
   },
   {
    "duration": 820,
    "start_time": "2021-07-08T11:49:01.655Z"
   },
   {
    "duration": 372,
    "start_time": "2021-07-08T11:49:02.478Z"
   },
   {
    "duration": 98,
    "start_time": "2021-07-08T11:49:02.853Z"
   },
   {
    "duration": 6,
    "start_time": "2021-07-08T11:49:02.953Z"
   },
   {
    "duration": 39,
    "start_time": "2021-07-08T11:49:02.960Z"
   },
   {
    "duration": 9,
    "start_time": "2021-07-08T11:49:03.003Z"
   },
   {
    "duration": 23,
    "start_time": "2021-07-08T11:49:03.014Z"
   },
   {
    "duration": 6,
    "start_time": "2021-07-08T11:49:03.041Z"
   },
   {
    "duration": 20,
    "start_time": "2021-07-08T11:49:03.049Z"
   },
   {
    "duration": 18,
    "start_time": "2021-07-08T11:49:03.084Z"
   },
   {
    "duration": 14,
    "start_time": "2021-07-08T11:49:03.104Z"
   },
   {
    "duration": 39,
    "start_time": "2021-07-08T11:49:03.119Z"
   },
   {
    "duration": 38,
    "start_time": "2021-07-08T11:49:03.160Z"
   },
   {
    "duration": 26,
    "start_time": "2021-07-08T11:49:03.200Z"
   },
   {
    "duration": 7,
    "start_time": "2021-07-08T11:49:03.227Z"
   },
   {
    "duration": 4,
    "start_time": "2021-07-08T11:49:03.236Z"
   },
   {
    "duration": 15,
    "start_time": "2021-07-08T11:49:03.243Z"
   },
   {
    "duration": 21,
    "start_time": "2021-07-08T11:49:03.285Z"
   },
   {
    "duration": 17,
    "start_time": "2021-07-08T11:49:03.309Z"
   },
   {
    "duration": 10,
    "start_time": "2021-07-08T11:49:03.328Z"
   },
   {
    "duration": 65,
    "start_time": "2021-07-08T11:49:03.340Z"
   },
   {
    "duration": 18,
    "start_time": "2021-07-08T11:49:03.407Z"
   },
   {
    "duration": 8,
    "start_time": "2021-07-08T11:49:03.428Z"
   },
   {
    "duration": 15,
    "start_time": "2021-07-08T11:49:03.438Z"
   },
   {
    "duration": 40,
    "start_time": "2021-07-08T11:49:03.455Z"
   },
   {
    "duration": 12,
    "start_time": "2021-07-08T11:49:03.497Z"
   },
   {
    "duration": 29,
    "start_time": "2021-07-08T11:49:03.511Z"
   },
   {
    "duration": 285,
    "start_time": "2021-07-08T11:49:03.542Z"
   },
   {
    "duration": 8,
    "start_time": "2021-07-08T11:49:03.829Z"
   },
   {
    "duration": 227,
    "start_time": "2021-07-08T11:49:03.838Z"
   },
   {
    "duration": 40,
    "start_time": "2021-07-08T11:49:04.066Z"
   },
   {
    "duration": 10,
    "start_time": "2021-07-08T11:49:04.108Z"
   },
   {
    "duration": 26,
    "start_time": "2021-07-08T11:49:04.121Z"
   },
   {
    "duration": 290,
    "start_time": "2021-07-08T11:49:04.149Z"
   },
   {
    "duration": 26,
    "start_time": "2021-07-08T11:49:04.441Z"
   },
   {
    "duration": 31,
    "start_time": "2021-07-08T11:49:04.470Z"
   },
   {
    "duration": 14,
    "start_time": "2021-07-08T11:49:04.503Z"
   },
   {
    "duration": 259,
    "start_time": "2021-07-08T11:49:04.521Z"
   },
   {
    "duration": 480,
    "start_time": "2021-07-08T11:49:04.782Z"
   },
   {
    "duration": 225,
    "start_time": "2021-07-08T11:49:05.264Z"
   },
   {
    "duration": 22,
    "start_time": "2021-07-08T11:49:05.491Z"
   },
   {
    "duration": 24,
    "start_time": "2021-07-08T11:49:05.515Z"
   },
   {
    "duration": 634,
    "start_time": "2021-07-08T11:52:24.960Z"
   },
   {
    "duration": 199,
    "start_time": "2021-07-08T11:52:25.599Z"
   },
   {
    "duration": 106,
    "start_time": "2021-07-08T11:52:25.803Z"
   },
   {
    "duration": 7,
    "start_time": "2021-07-08T11:52:25.911Z"
   },
   {
    "duration": 29,
    "start_time": "2021-07-08T11:52:25.920Z"
   },
   {
    "duration": 7,
    "start_time": "2021-07-08T11:52:25.951Z"
   },
   {
    "duration": 26,
    "start_time": "2021-07-08T11:52:25.961Z"
   },
   {
    "duration": 11,
    "start_time": "2021-07-08T11:52:25.990Z"
   },
   {
    "duration": 29,
    "start_time": "2021-07-08T11:52:26.005Z"
   },
   {
    "duration": 9,
    "start_time": "2021-07-08T11:52:26.036Z"
   },
   {
    "duration": 8,
    "start_time": "2021-07-08T11:52:26.047Z"
   },
   {
    "duration": 63,
    "start_time": "2021-07-08T11:52:26.057Z"
   },
   {
    "duration": 17,
    "start_time": "2021-07-08T11:52:26.122Z"
   },
   {
    "duration": 43,
    "start_time": "2021-07-08T11:52:26.142Z"
   },
   {
    "duration": 17,
    "start_time": "2021-07-08T11:52:26.187Z"
   },
   {
    "duration": 5,
    "start_time": "2021-07-08T11:52:26.206Z"
   },
   {
    "duration": 12,
    "start_time": "2021-07-08T11:52:26.212Z"
   },
   {
    "duration": 11,
    "start_time": "2021-07-08T11:52:26.226Z"
   },
   {
    "duration": 12,
    "start_time": "2021-07-08T11:52:26.238Z"
   },
   {
    "duration": 38,
    "start_time": "2021-07-08T11:52:26.252Z"
   },
   {
    "duration": 40,
    "start_time": "2021-07-08T11:52:26.292Z"
   },
   {
    "duration": 17,
    "start_time": "2021-07-08T11:52:26.336Z"
   },
   {
    "duration": 39,
    "start_time": "2021-07-08T11:52:26.355Z"
   },
   {
    "duration": 11,
    "start_time": "2021-07-08T11:52:26.395Z"
   },
   {
    "duration": 23,
    "start_time": "2021-07-08T11:52:26.408Z"
   },
   {
    "duration": 12,
    "start_time": "2021-07-08T11:52:26.432Z"
   },
   {
    "duration": 41,
    "start_time": "2021-07-08T11:52:26.446Z"
   },
   {
    "duration": 215,
    "start_time": "2021-07-08T11:52:26.493Z"
   },
   {
    "duration": 8,
    "start_time": "2021-07-08T11:52:26.710Z"
   },
   {
    "duration": 228,
    "start_time": "2021-07-08T11:52:26.720Z"
   },
   {
    "duration": 18,
    "start_time": "2021-07-08T11:52:26.950Z"
   },
   {
    "duration": 35,
    "start_time": "2021-07-08T11:52:26.969Z"
   },
   {
    "duration": 23,
    "start_time": "2021-07-08T11:52:27.006Z"
   },
   {
    "duration": 258,
    "start_time": "2021-07-08T11:52:27.030Z"
   },
   {
    "duration": 24,
    "start_time": "2021-07-08T11:52:27.290Z"
   },
   {
    "duration": 12,
    "start_time": "2021-07-08T11:52:27.316Z"
   },
   {
    "duration": 10,
    "start_time": "2021-07-08T11:52:27.329Z"
   },
   {
    "duration": 298,
    "start_time": "2021-07-08T11:52:27.341Z"
   },
   {
    "duration": 436,
    "start_time": "2021-07-08T11:52:27.641Z"
   },
   {
    "duration": 216,
    "start_time": "2021-07-08T11:52:28.079Z"
   },
   {
    "duration": 20,
    "start_time": "2021-07-08T11:52:28.297Z"
   },
   {
    "duration": 17,
    "start_time": "2021-07-08T11:52:28.319Z"
   },
   {
    "duration": 722,
    "start_time": "2022-11-21T16:53:19.778Z"
   },
   {
    "duration": 128,
    "start_time": "2022-11-21T16:53:32.810Z"
   },
   {
    "duration": 134,
    "start_time": "2022-11-21T16:54:31.817Z"
   },
   {
    "duration": 143,
    "start_time": "2022-11-21T16:54:50.013Z"
   },
   {
    "duration": 27,
    "start_time": "2022-11-21T16:57:59.000Z"
   },
   {
    "duration": 5,
    "start_time": "2022-11-21T16:58:20.095Z"
   },
   {
    "duration": 17,
    "start_time": "2022-11-21T16:58:24.373Z"
   },
   {
    "duration": 16,
    "start_time": "2022-11-21T16:59:35.497Z"
   },
   {
    "duration": 24,
    "start_time": "2022-11-21T16:59:41.606Z"
   },
   {
    "duration": 29,
    "start_time": "2022-11-21T17:01:40.222Z"
   },
   {
    "duration": 395,
    "start_time": "2022-11-21T17:03:38.402Z"
   },
   {
    "duration": 5,
    "start_time": "2022-11-21T17:04:17.908Z"
   },
   {
    "duration": 5,
    "start_time": "2022-11-21T17:04:43.397Z"
   },
   {
    "duration": 4,
    "start_time": "2022-11-21T17:04:52.856Z"
   },
   {
    "duration": 5,
    "start_time": "2022-11-21T17:05:04.503Z"
   },
   {
    "duration": 11,
    "start_time": "2022-11-21T17:05:34.933Z"
   },
   {
    "duration": 22,
    "start_time": "2022-11-21T17:05:40.210Z"
   },
   {
    "duration": 317,
    "start_time": "2022-11-21T17:06:23.195Z"
   },
   {
    "duration": 25,
    "start_time": "2022-11-21T17:06:28.809Z"
   },
   {
    "duration": 15,
    "start_time": "2022-11-21T17:16:01.472Z"
   },
   {
    "duration": 571,
    "start_time": "2022-11-21T17:16:11.023Z"
   },
   {
    "duration": 27,
    "start_time": "2022-11-21T17:16:15.137Z"
   },
   {
    "duration": 23,
    "start_time": "2022-11-21T17:17:21.178Z"
   },
   {
    "duration": 32,
    "start_time": "2022-11-21T17:19:22.097Z"
   },
   {
    "duration": 5,
    "start_time": "2022-11-21T17:22:03.574Z"
   },
   {
    "duration": 15,
    "start_time": "2022-11-21T17:23:14.434Z"
   },
   {
    "duration": 7,
    "start_time": "2022-11-21T17:27:19.735Z"
   },
   {
    "duration": 566,
    "start_time": "2022-11-21T17:27:31.737Z"
   },
   {
    "duration": 17,
    "start_time": "2022-11-21T17:27:40.370Z"
   },
   {
    "duration": 38,
    "start_time": "2022-11-21T17:27:42.156Z"
   },
   {
    "duration": 4,
    "start_time": "2022-11-21T17:27:45.589Z"
   },
   {
    "duration": 65,
    "start_time": "2022-11-21T17:30:59.547Z"
   },
   {
    "duration": 17,
    "start_time": "2022-11-21T17:31:11.406Z"
   },
   {
    "duration": 16,
    "start_time": "2022-11-21T17:31:28.574Z"
   },
   {
    "duration": 14,
    "start_time": "2022-11-21T17:31:38.421Z"
   },
   {
    "duration": 13,
    "start_time": "2022-11-21T17:32:03.808Z"
   },
   {
    "duration": 16,
    "start_time": "2022-11-21T17:32:10.481Z"
   },
   {
    "duration": 44,
    "start_time": "2022-11-21T17:32:24.279Z"
   },
   {
    "duration": 16,
    "start_time": "2022-11-21T17:32:26.317Z"
   },
   {
    "duration": 10,
    "start_time": "2022-11-21T17:33:35.578Z"
   },
   {
    "duration": 44,
    "start_time": "2022-11-21T17:43:10.949Z"
   },
   {
    "duration": 5,
    "start_time": "2022-11-21T17:58:27.103Z"
   },
   {
    "duration": 9,
    "start_time": "2022-11-21T18:00:18.242Z"
   },
   {
    "duration": 5,
    "start_time": "2022-11-21T18:00:55.318Z"
   },
   {
    "duration": 4,
    "start_time": "2022-11-21T18:01:11.273Z"
   },
   {
    "duration": 8,
    "start_time": "2022-11-21T18:01:41.451Z"
   },
   {
    "duration": 14,
    "start_time": "2022-11-21T18:04:38.709Z"
   },
   {
    "duration": 28,
    "start_time": "2022-11-21T18:04:44.285Z"
   },
   {
    "duration": 543,
    "start_time": "2022-11-21T18:27:40.813Z"
   },
   {
    "duration": 17,
    "start_time": "2022-11-21T18:27:46.079Z"
   },
   {
    "duration": 37,
    "start_time": "2022-11-21T18:27:48.576Z"
   },
   {
    "duration": 5,
    "start_time": "2022-11-21T18:27:52.330Z"
   },
   {
    "duration": 19,
    "start_time": "2022-11-21T18:27:54.427Z"
   },
   {
    "duration": 13,
    "start_time": "2022-11-21T18:27:56.782Z"
   },
   {
    "duration": 17,
    "start_time": "2022-11-21T18:27:58.250Z"
   },
   {
    "duration": 9,
    "start_time": "2022-11-21T18:28:00.181Z"
   },
   {
    "duration": 42,
    "start_time": "2022-11-21T18:28:03.051Z"
   },
   {
    "duration": 7,
    "start_time": "2022-11-21T18:28:14.429Z"
   },
   {
    "duration": 4,
    "start_time": "2022-11-21T18:28:17.351Z"
   },
   {
    "duration": 5,
    "start_time": "2022-11-21T18:28:19.353Z"
   },
   {
    "duration": 11,
    "start_time": "2022-11-21T18:28:37.105Z"
   },
   {
    "duration": 28,
    "start_time": "2022-11-21T18:28:50.550Z"
   },
   {
    "duration": 8,
    "start_time": "2022-11-21T18:28:55.820Z"
   },
   {
    "duration": 5,
    "start_time": "2022-11-21T18:31:15.373Z"
   },
   {
    "duration": 86,
    "start_time": "2022-11-21T18:31:58.816Z"
   },
   {
    "duration": 15,
    "start_time": "2022-11-21T18:32:28.550Z"
   },
   {
    "duration": 30,
    "start_time": "2022-11-21T18:32:37.594Z"
   },
   {
    "duration": 4,
    "start_time": "2022-11-21T18:33:22.413Z"
   },
   {
    "duration": 4,
    "start_time": "2022-11-21T18:34:53.081Z"
   },
   {
    "duration": 4,
    "start_time": "2022-11-21T18:35:36.280Z"
   },
   {
    "duration": 20,
    "start_time": "2022-11-21T18:37:00.174Z"
   },
   {
    "duration": 4,
    "start_time": "2022-11-21T18:37:02.555Z"
   },
   {
    "duration": 39,
    "start_time": "2022-11-21T18:37:11.708Z"
   },
   {
    "duration": 16,
    "start_time": "2022-11-21T18:43:09.768Z"
   },
   {
    "duration": 11,
    "start_time": "2022-11-21T18:46:01.618Z"
   },
   {
    "duration": 569,
    "start_time": "2022-11-21T18:46:12.355Z"
   },
   {
    "duration": 25,
    "start_time": "2022-11-21T18:46:15.428Z"
   },
   {
    "duration": 36,
    "start_time": "2022-11-21T18:46:18.568Z"
   },
   {
    "duration": 4,
    "start_time": "2022-11-21T18:46:35.498Z"
   },
   {
    "duration": 29,
    "start_time": "2022-11-21T18:46:37.969Z"
   },
   {
    "duration": 16,
    "start_time": "2022-11-21T18:46:40.163Z"
   },
   {
    "duration": 17,
    "start_time": "2022-11-21T18:46:41.583Z"
   },
   {
    "duration": 13,
    "start_time": "2022-11-21T18:46:43.721Z"
   },
   {
    "duration": 39,
    "start_time": "2022-11-21T18:47:11.374Z"
   },
   {
    "duration": 14,
    "start_time": "2022-11-21T18:47:14.252Z"
   },
   {
    "duration": 11,
    "start_time": "2022-11-21T18:47:17.954Z"
   },
   {
    "duration": 5,
    "start_time": "2022-11-21T18:47:20.300Z"
   },
   {
    "duration": 16,
    "start_time": "2022-11-21T18:47:21.759Z"
   },
   {
    "duration": 32,
    "start_time": "2022-11-21T18:47:24.413Z"
   },
   {
    "duration": 6,
    "start_time": "2022-11-21T18:47:30.598Z"
   },
   {
    "duration": 44,
    "start_time": "2022-11-21T18:47:32.927Z"
   },
   {
    "duration": 9,
    "start_time": "2022-11-21T18:47:36.736Z"
   },
   {
    "duration": 574,
    "start_time": "2022-11-21T18:50:57.730Z"
   },
   {
    "duration": 366,
    "start_time": "2022-11-21T18:52:17.108Z"
   },
   {
    "duration": 11,
    "start_time": "2022-11-21T18:52:32.316Z"
   },
   {
    "duration": 4,
    "start_time": "2022-11-21T18:52:34.879Z"
   },
   {
    "duration": 27,
    "start_time": "2022-11-21T18:52:36.372Z"
   },
   {
    "duration": 16,
    "start_time": "2022-11-21T18:53:42.235Z"
   },
   {
    "duration": 10,
    "start_time": "2022-11-21T18:53:49.350Z"
   },
   {
    "duration": 310,
    "start_time": "2022-11-21T18:53:53.022Z"
   },
   {
    "duration": 11,
    "start_time": "2022-11-21T18:55:20.629Z"
   },
   {
    "duration": 356,
    "start_time": "2022-11-21T18:55:38.279Z"
   },
   {
    "duration": 12,
    "start_time": "2022-11-21T18:56:06.811Z"
   },
   {
    "duration": 384,
    "start_time": "2022-11-21T18:56:10.733Z"
   },
   {
    "duration": 76,
    "start_time": "2022-11-21T18:56:18.889Z"
   },
   {
    "duration": 44,
    "start_time": "2022-11-21T18:56:22.633Z"
   },
   {
    "duration": 13,
    "start_time": "2022-11-21T18:56:45.879Z"
   },
   {
    "duration": 31,
    "start_time": "2022-11-21T18:56:47.651Z"
   },
   {
    "duration": 11,
    "start_time": "2022-11-21T18:58:26.570Z"
   },
   {
    "duration": 29,
    "start_time": "2022-11-21T18:58:28.778Z"
   },
   {
    "duration": 4,
    "start_time": "2022-11-21T18:58:39.309Z"
   },
   {
    "duration": 32,
    "start_time": "2022-11-21T18:58:40.025Z"
   },
   {
    "duration": 584,
    "start_time": "2022-11-21T19:03:06.223Z"
   },
   {
    "duration": 170,
    "start_time": "2022-11-21T19:04:32.432Z"
   },
   {
    "duration": 186,
    "start_time": "2022-11-21T19:13:16.624Z"
   },
   {
    "duration": 145,
    "start_time": "2022-11-21T19:15:35.495Z"
   },
   {
    "duration": 129,
    "start_time": "2022-11-21T19:15:44.749Z"
   },
   {
    "duration": 154,
    "start_time": "2022-11-21T19:17:40.203Z"
   },
   {
    "duration": 11,
    "start_time": "2022-11-21T19:22:19.947Z"
   },
   {
    "duration": 237,
    "start_time": "2022-11-21T19:28:24.515Z"
   },
   {
    "duration": 615,
    "start_time": "2022-11-21T19:55:13.950Z"
   },
   {
    "duration": 28,
    "start_time": "2022-11-21T19:55:16.602Z"
   },
   {
    "duration": 37,
    "start_time": "2022-11-21T19:55:17.971Z"
   },
   {
    "duration": 8,
    "start_time": "2022-11-21T19:55:19.758Z"
   },
   {
    "duration": 24,
    "start_time": "2022-11-21T19:55:20.741Z"
   },
   {
    "duration": 15,
    "start_time": "2022-11-21T19:55:21.182Z"
   },
   {
    "duration": 17,
    "start_time": "2022-11-21T19:55:21.604Z"
   },
   {
    "duration": 15,
    "start_time": "2022-11-21T19:55:22.533Z"
   },
   {
    "duration": 43,
    "start_time": "2022-11-21T19:55:24.087Z"
   },
   {
    "duration": 7,
    "start_time": "2022-11-21T19:55:25.269Z"
   },
   {
    "duration": 16,
    "start_time": "2022-11-21T19:55:25.634Z"
   },
   {
    "duration": 4,
    "start_time": "2022-11-21T19:55:26.060Z"
   },
   {
    "duration": 12,
    "start_time": "2022-11-21T19:55:26.494Z"
   },
   {
    "duration": 27,
    "start_time": "2022-11-21T19:55:27.355Z"
   },
   {
    "duration": 7,
    "start_time": "2022-11-21T19:55:28.575Z"
   },
   {
    "duration": 37,
    "start_time": "2022-11-21T19:55:28.975Z"
   },
   {
    "duration": 4,
    "start_time": "2022-11-21T19:55:30.922Z"
   },
   {
    "duration": 20,
    "start_time": "2022-11-21T19:55:31.732Z"
   },
   {
    "duration": 6,
    "start_time": "2022-11-21T19:55:33.299Z"
   },
   {
    "duration": 37,
    "start_time": "2022-11-21T19:55:33.729Z"
   },
   {
    "duration": 467,
    "start_time": "2022-11-21T19:55:35.842Z"
   },
   {
    "duration": 156,
    "start_time": "2022-11-21T19:55:37.731Z"
   },
   {
    "duration": 186,
    "start_time": "2022-11-21T19:55:39.823Z"
   },
   {
    "duration": 9,
    "start_time": "2022-11-21T19:55:40.803Z"
   },
   {
    "duration": 274,
    "start_time": "2022-11-21T19:55:42.727Z"
   },
   {
    "duration": 12,
    "start_time": "2022-11-21T19:55:44.876Z"
   },
   {
    "duration": 275,
    "start_time": "2022-11-21T19:57:35.657Z"
   },
   {
    "duration": 80,
    "start_time": "2022-11-21T20:02:07.805Z"
   },
   {
    "duration": 1227,
    "start_time": "2022-11-21T20:02:14.805Z"
   },
   {
    "duration": 315,
    "start_time": "2022-11-21T20:02:24.132Z"
   },
   {
    "duration": 277,
    "start_time": "2022-11-21T20:07:49.881Z"
   },
   {
    "duration": 14,
    "start_time": "2022-11-21T20:15:16.354Z"
   },
   {
    "duration": 299,
    "start_time": "2022-11-21T20:15:30.503Z"
   },
   {
    "duration": 225,
    "start_time": "2022-11-21T20:22:48.131Z"
   },
   {
    "duration": 556,
    "start_time": "2022-11-21T20:31:10.437Z"
   },
   {
    "duration": 18,
    "start_time": "2022-11-21T20:31:11.030Z"
   },
   {
    "duration": 41,
    "start_time": "2022-11-21T20:31:12.214Z"
   },
   {
    "duration": 4,
    "start_time": "2022-11-21T20:31:13.552Z"
   },
   {
    "duration": 18,
    "start_time": "2022-11-21T20:31:14.625Z"
   },
   {
    "duration": 15,
    "start_time": "2022-11-21T20:31:14.987Z"
   },
   {
    "duration": 16,
    "start_time": "2022-11-21T20:31:15.368Z"
   },
   {
    "duration": 12,
    "start_time": "2022-11-21T20:31:16.200Z"
   },
   {
    "duration": 55,
    "start_time": "2022-11-21T20:31:17.933Z"
   },
   {
    "duration": 10,
    "start_time": "2022-11-21T20:31:19.179Z"
   },
   {
    "duration": 6,
    "start_time": "2022-11-21T20:31:20.060Z"
   },
   {
    "duration": 5,
    "start_time": "2022-11-21T20:31:20.439Z"
   },
   {
    "duration": 12,
    "start_time": "2022-11-21T20:31:20.788Z"
   },
   {
    "duration": 29,
    "start_time": "2022-11-21T20:31:22.138Z"
   },
   {
    "duration": 6,
    "start_time": "2022-11-21T20:31:23.327Z"
   },
   {
    "duration": 29,
    "start_time": "2022-11-21T20:31:23.721Z"
   },
   {
    "duration": 5,
    "start_time": "2022-11-21T20:31:25.280Z"
   },
   {
    "duration": 17,
    "start_time": "2022-11-21T20:31:26.154Z"
   },
   {
    "duration": 6,
    "start_time": "2022-11-21T20:31:28.008Z"
   },
   {
    "duration": 37,
    "start_time": "2022-11-21T20:31:28.367Z"
   },
   {
    "duration": 436,
    "start_time": "2022-11-21T20:31:29.645Z"
   },
   {
    "duration": 129,
    "start_time": "2022-11-21T20:31:31.570Z"
   },
   {
    "duration": 148,
    "start_time": "2022-11-21T20:31:33.346Z"
   },
   {
    "duration": 9,
    "start_time": "2022-11-21T20:31:33.496Z"
   },
   {
    "duration": 229,
    "start_time": "2022-11-21T20:31:35.114Z"
   },
   {
    "duration": 11,
    "start_time": "2022-11-21T20:31:37.424Z"
   },
   {
    "duration": 231,
    "start_time": "2022-11-21T20:31:38.031Z"
   },
   {
    "duration": 287,
    "start_time": "2022-11-21T20:31:39.326Z"
   },
   {
    "duration": 240,
    "start_time": "2022-11-21T20:31:40.827Z"
   },
   {
    "duration": 286,
    "start_time": "2022-11-21T20:31:42.104Z"
   },
   {
    "duration": 285,
    "start_time": "2022-11-21T20:31:43.554Z"
   },
   {
    "duration": 568,
    "start_time": "2022-11-22T09:10:54.407Z"
   },
   {
    "duration": 17,
    "start_time": "2022-11-22T09:10:54.978Z"
   },
   {
    "duration": 37,
    "start_time": "2022-11-22T09:10:54.997Z"
   },
   {
    "duration": 5,
    "start_time": "2022-11-22T09:10:55.037Z"
   },
   {
    "duration": 26,
    "start_time": "2022-11-22T09:10:55.043Z"
   },
   {
    "duration": 18,
    "start_time": "2022-11-22T09:10:55.071Z"
   },
   {
    "duration": 29,
    "start_time": "2022-11-22T09:10:55.090Z"
   },
   {
    "duration": 8,
    "start_time": "2022-11-22T09:10:55.120Z"
   },
   {
    "duration": 50,
    "start_time": "2022-11-22T09:10:55.130Z"
   },
   {
    "duration": 7,
    "start_time": "2022-11-22T09:10:55.183Z"
   },
   {
    "duration": 23,
    "start_time": "2022-11-22T09:10:55.192Z"
   },
   {
    "duration": 8,
    "start_time": "2022-11-22T09:10:55.216Z"
   },
   {
    "duration": 12,
    "start_time": "2022-11-22T09:10:55.226Z"
   },
   {
    "duration": 31,
    "start_time": "2022-11-22T09:10:55.240Z"
   },
   {
    "duration": 5,
    "start_time": "2022-11-22T09:10:55.273Z"
   },
   {
    "duration": 50,
    "start_time": "2022-11-22T09:10:55.280Z"
   },
   {
    "duration": 4,
    "start_time": "2022-11-22T09:10:55.331Z"
   },
   {
    "duration": 11,
    "start_time": "2022-11-22T09:10:55.337Z"
   },
   {
    "duration": 3,
    "start_time": "2022-11-22T09:10:55.350Z"
   },
   {
    "duration": 29,
    "start_time": "2022-11-22T09:10:55.355Z"
   },
   {
    "duration": 416,
    "start_time": "2022-11-22T09:10:55.412Z"
   },
   {
    "duration": 159,
    "start_time": "2022-11-22T09:10:55.830Z"
   },
   {
    "duration": 182,
    "start_time": "2022-11-22T09:10:55.991Z"
   },
   {
    "duration": 11,
    "start_time": "2022-11-22T09:10:56.175Z"
   },
   {
    "duration": 261,
    "start_time": "2022-11-22T09:10:56.188Z"
   },
   {
    "duration": 11,
    "start_time": "2022-11-22T09:10:56.452Z"
   },
   {
    "duration": 256,
    "start_time": "2022-11-22T09:10:56.465Z"
   },
   {
    "duration": 338,
    "start_time": "2022-11-22T09:10:56.724Z"
   },
   {
    "duration": 239,
    "start_time": "2022-11-22T09:10:57.064Z"
   },
   {
    "duration": 284,
    "start_time": "2022-11-22T09:10:57.311Z"
   },
   {
    "duration": 283,
    "start_time": "2022-11-22T09:10:57.597Z"
   },
   {
    "duration": 6,
    "start_time": "2022-11-22T09:14:08.571Z"
   },
   {
    "duration": 4,
    "start_time": "2022-11-22T09:19:57.285Z"
   },
   {
    "duration": 62,
    "start_time": "2022-11-22T09:27:39.119Z"
   },
   {
    "duration": 692,
    "start_time": "2022-11-22T15:05:52.682Z"
   },
   {
    "duration": 16,
    "start_time": "2022-11-22T15:05:56.625Z"
   },
   {
    "duration": 33,
    "start_time": "2022-11-22T15:05:58.931Z"
   },
   {
    "duration": 3,
    "start_time": "2022-11-22T15:06:03.799Z"
   },
   {
    "duration": 15,
    "start_time": "2022-11-22T15:06:08.992Z"
   },
   {
    "duration": 5,
    "start_time": "2022-11-22T15:06:15.445Z"
   },
   {
    "duration": 828,
    "start_time": "2022-11-23T13:06:18.159Z"
   },
   {
    "duration": 18,
    "start_time": "2022-11-23T13:06:22.696Z"
   },
   {
    "duration": 38,
    "start_time": "2022-11-23T13:06:35.247Z"
   },
   {
    "duration": 9,
    "start_time": "2022-11-23T13:10:07.203Z"
   },
   {
    "duration": 11,
    "start_time": "2022-11-23T13:10:26.971Z"
   },
   {
    "duration": 67,
    "start_time": "2022-11-23T13:10:48.418Z"
   },
   {
    "duration": 9,
    "start_time": "2022-11-23T13:11:16.385Z"
   },
   {
    "duration": 11,
    "start_time": "2022-11-23T13:11:20.498Z"
   },
   {
    "duration": 8,
    "start_time": "2022-11-23T13:11:49.379Z"
   },
   {
    "duration": 10,
    "start_time": "2022-11-23T13:11:52.525Z"
   },
   {
    "duration": 9,
    "start_time": "2022-11-23T13:12:43.093Z"
   },
   {
    "duration": 11,
    "start_time": "2022-11-23T13:12:43.744Z"
   },
   {
    "duration": 14,
    "start_time": "2022-11-23T13:13:11.733Z"
   },
   {
    "duration": 11,
    "start_time": "2022-11-23T13:13:12.293Z"
   },
   {
    "duration": 10,
    "start_time": "2022-11-23T13:14:03.526Z"
   },
   {
    "duration": 9,
    "start_time": "2022-11-23T13:14:12.875Z"
   },
   {
    "duration": 6,
    "start_time": "2022-11-23T13:14:22.222Z"
   },
   {
    "duration": 4,
    "start_time": "2022-11-23T13:14:46.573Z"
   },
   {
    "duration": 6,
    "start_time": "2022-11-23T13:15:03.279Z"
   },
   {
    "duration": 4,
    "start_time": "2022-11-23T13:15:07.766Z"
   },
   {
    "duration": 7,
    "start_time": "2022-11-23T13:51:45.236Z"
   },
   {
    "duration": 152,
    "start_time": "2022-11-23T14:04:38.473Z"
   },
   {
    "duration": 18,
    "start_time": "2022-11-23T14:04:43.947Z"
   },
   {
    "duration": 28,
    "start_time": "2022-11-23T14:04:45.385Z"
   },
   {
    "duration": 31,
    "start_time": "2022-11-23T14:04:47.722Z"
   },
   {
    "duration": 4,
    "start_time": "2022-11-23T14:04:49.333Z"
   },
   {
    "duration": 18,
    "start_time": "2022-11-23T14:04:50.499Z"
   },
   {
    "duration": 5,
    "start_time": "2022-11-23T14:04:52.393Z"
   },
   {
    "duration": 14,
    "start_time": "2022-11-23T14:04:53.266Z"
   },
   {
    "duration": 15,
    "start_time": "2022-11-23T14:04:53.997Z"
   },
   {
    "duration": 12,
    "start_time": "2022-11-23T14:04:56.088Z"
   },
   {
    "duration": 14,
    "start_time": "2022-11-23T14:04:59.741Z"
   },
   {
    "duration": 9,
    "start_time": "2022-11-23T14:05:00.436Z"
   },
   {
    "duration": 68,
    "start_time": "2022-11-23T14:05:02.622Z"
   },
   {
    "duration": 10,
    "start_time": "2022-11-23T14:05:06.296Z"
   },
   {
    "duration": 5,
    "start_time": "2022-11-23T14:05:07.540Z"
   },
   {
    "duration": 6,
    "start_time": "2022-11-23T14:05:08.208Z"
   },
   {
    "duration": 18,
    "start_time": "2022-11-23T14:05:08.843Z"
   },
   {
    "duration": 8,
    "start_time": "2022-11-23T14:05:09.577Z"
   },
   {
    "duration": 32,
    "start_time": "2022-11-23T14:05:12.329Z"
   },
   {
    "duration": 6,
    "start_time": "2022-11-23T14:05:16.334Z"
   },
   {
    "duration": 29,
    "start_time": "2022-11-23T14:05:22.124Z"
   },
   {
    "duration": 5,
    "start_time": "2022-11-23T14:05:29.909Z"
   },
   {
    "duration": 17,
    "start_time": "2022-11-23T14:05:33.242Z"
   },
   {
    "duration": 5,
    "start_time": "2022-11-23T14:05:36.131Z"
   },
   {
    "duration": 29,
    "start_time": "2022-11-23T14:05:37.382Z"
   },
   {
    "duration": 644,
    "start_time": "2022-11-23T14:05:43.099Z"
   },
   {
    "duration": 146,
    "start_time": "2022-11-23T14:05:50.067Z"
   },
   {
    "duration": 194,
    "start_time": "2022-11-23T14:06:15.109Z"
   },
   {
    "duration": 376,
    "start_time": "2022-11-23T14:09:37.845Z"
   },
   {
    "duration": 20,
    "start_time": "2022-11-23T14:11:29.510Z"
   },
   {
    "duration": 11,
    "start_time": "2022-11-23T14:11:36.392Z"
   },
   {
    "duration": 331,
    "start_time": "2022-11-23T14:11:38.241Z"
   },
   {
    "duration": 16,
    "start_time": "2022-11-23T14:37:59.425Z"
   },
   {
    "duration": 12,
    "start_time": "2022-11-23T14:38:13.296Z"
   },
   {
    "duration": 6,
    "start_time": "2022-11-23T14:38:19.281Z"
   },
   {
    "duration": 13,
    "start_time": "2022-11-23T14:38:23.663Z"
   },
   {
    "duration": 4,
    "start_time": "2022-11-23T14:38:28.035Z"
   },
   {
    "duration": 12,
    "start_time": "2022-11-23T14:38:29.803Z"
   },
   {
    "duration": 4,
    "start_time": "2022-11-23T14:38:32.611Z"
   },
   {
    "duration": 27,
    "start_time": "2022-11-23T14:38:33.413Z"
   },
   {
    "duration": 18,
    "start_time": "2022-11-23T14:38:42.817Z"
   },
   {
    "duration": 20,
    "start_time": "2022-11-23T14:40:36.897Z"
   },
   {
    "duration": 173,
    "start_time": "2022-11-23T15:13:52.073Z"
   },
   {
    "duration": 17,
    "start_time": "2022-11-23T15:22:21.439Z"
   },
   {
    "duration": 14,
    "start_time": "2022-11-23T15:25:00.298Z"
   },
   {
    "duration": 77,
    "start_time": "2022-11-23T15:25:45.309Z"
   },
   {
    "duration": 74,
    "start_time": "2022-11-23T15:26:38.313Z"
   },
   {
    "duration": 16,
    "start_time": "2022-11-23T15:27:14.780Z"
   },
   {
    "duration": 875,
    "start_time": "2022-11-24T11:45:11.276Z"
   },
   {
    "duration": 17,
    "start_time": "2022-11-24T11:45:15.086Z"
   },
   {
    "duration": 30,
    "start_time": "2022-11-24T11:45:15.994Z"
   },
   {
    "duration": 28,
    "start_time": "2022-11-24T11:45:17.834Z"
   },
   {
    "duration": 4,
    "start_time": "2022-11-24T11:45:19.031Z"
   },
   {
    "duration": 16,
    "start_time": "2022-11-24T11:45:20.035Z"
   },
   {
    "duration": 4,
    "start_time": "2022-11-24T11:45:21.807Z"
   },
   {
    "duration": 15,
    "start_time": "2022-11-24T11:45:22.263Z"
   },
   {
    "duration": 15,
    "start_time": "2022-11-24T11:45:22.728Z"
   },
   {
    "duration": 10,
    "start_time": "2022-11-24T11:45:24.976Z"
   },
   {
    "duration": 11,
    "start_time": "2022-11-24T11:45:32.658Z"
   },
   {
    "duration": 14,
    "start_time": "2022-11-24T11:45:33.540Z"
   },
   {
    "duration": 50,
    "start_time": "2022-11-24T11:45:36.816Z"
   },
   {
    "duration": 8,
    "start_time": "2022-11-24T11:45:40.150Z"
   },
   {
    "duration": 5,
    "start_time": "2022-11-24T11:45:42.367Z"
   },
   {
    "duration": 4,
    "start_time": "2022-11-24T11:45:42.765Z"
   },
   {
    "duration": 9,
    "start_time": "2022-11-24T11:45:45.959Z"
   },
   {
    "duration": 5,
    "start_time": "2022-11-24T11:45:46.560Z"
   },
   {
    "duration": 24,
    "start_time": "2022-11-24T11:45:49.909Z"
   },
   {
    "duration": 6,
    "start_time": "2022-11-24T11:45:51.768Z"
   },
   {
    "duration": 26,
    "start_time": "2022-11-24T11:45:52.419Z"
   },
   {
    "duration": 4,
    "start_time": "2022-11-24T11:45:59.264Z"
   },
   {
    "duration": 11,
    "start_time": "2022-11-24T11:46:00.148Z"
   },
   {
    "duration": 4,
    "start_time": "2022-11-24T11:46:02.487Z"
   },
   {
    "duration": 27,
    "start_time": "2022-11-24T11:46:02.873Z"
   },
   {
    "duration": 14,
    "start_time": "2022-11-24T11:46:07.662Z"
   },
   {
    "duration": 11,
    "start_time": "2022-11-24T11:46:12.865Z"
   },
   {
    "duration": 90,
    "start_time": "2022-11-24T11:46:24.923Z"
   },
   {
    "duration": 12,
    "start_time": "2022-11-24T11:47:21.474Z"
   },
   {
    "duration": 50,
    "start_time": "2022-11-24T11:50:16.990Z"
   },
   {
    "duration": 18,
    "start_time": "2022-11-24T11:50:20.519Z"
   },
   {
    "duration": 12,
    "start_time": "2022-11-24T11:50:33.325Z"
   },
   {
    "duration": 13,
    "start_time": "2022-11-24T11:52:18.130Z"
   },
   {
    "duration": 20,
    "start_time": "2022-11-24T11:52:34.760Z"
   },
   {
    "duration": 13,
    "start_time": "2022-11-24T11:52:43.696Z"
   },
   {
    "duration": 23,
    "start_time": "2022-11-24T11:53:09.442Z"
   },
   {
    "duration": 17,
    "start_time": "2022-11-24T11:53:23.703Z"
   },
   {
    "duration": 24,
    "start_time": "2022-11-24T11:53:32.838Z"
   },
   {
    "duration": 24,
    "start_time": "2022-11-24T11:54:11.705Z"
   },
   {
    "duration": 23,
    "start_time": "2022-11-24T11:54:52.368Z"
   },
   {
    "duration": 26,
    "start_time": "2022-11-24T11:55:04.039Z"
   },
   {
    "duration": 20,
    "start_time": "2022-11-24T11:55:20.031Z"
   },
   {
    "duration": 11,
    "start_time": "2022-11-24T11:56:53.841Z"
   },
   {
    "duration": 21,
    "start_time": "2022-11-24T11:57:06.098Z"
   },
   {
    "duration": 20,
    "start_time": "2022-11-24T11:58:49.573Z"
   },
   {
    "duration": 9,
    "start_time": "2022-11-24T11:59:36.250Z"
   },
   {
    "duration": 21,
    "start_time": "2022-11-24T11:59:49.517Z"
   },
   {
    "duration": 21,
    "start_time": "2022-11-24T12:00:01.762Z"
   },
   {
    "duration": 20,
    "start_time": "2022-11-24T12:00:35.438Z"
   },
   {
    "duration": 13,
    "start_time": "2022-11-24T12:00:53.055Z"
   },
   {
    "duration": 22,
    "start_time": "2022-11-24T12:00:59.767Z"
   },
   {
    "duration": 800,
    "start_time": "2022-11-24T13:32:12.310Z"
   },
   {
    "duration": 17,
    "start_time": "2022-11-24T13:32:17.506Z"
   },
   {
    "duration": 44,
    "start_time": "2022-11-24T13:32:22.378Z"
   },
   {
    "duration": 29,
    "start_time": "2022-11-24T13:32:25.697Z"
   },
   {
    "duration": 6,
    "start_time": "2022-11-24T13:32:30.786Z"
   },
   {
    "duration": 18,
    "start_time": "2022-11-24T13:32:33.089Z"
   },
   {
    "duration": 8,
    "start_time": "2022-11-24T13:32:35.973Z"
   },
   {
    "duration": 14,
    "start_time": "2022-11-24T13:32:50.153Z"
   },
   {
    "duration": 20,
    "start_time": "2022-11-24T13:32:51.114Z"
   },
   {
    "duration": 15,
    "start_time": "2022-11-24T13:32:53.886Z"
   },
   {
    "duration": 10,
    "start_time": "2022-11-24T13:32:57.474Z"
   },
   {
    "duration": 8,
    "start_time": "2022-11-24T13:32:58.337Z"
   },
   {
    "duration": 51,
    "start_time": "2022-11-24T13:33:00.487Z"
   },
   {
    "duration": 14,
    "start_time": "2022-11-24T13:33:04.590Z"
   },
   {
    "duration": 5,
    "start_time": "2022-11-24T13:33:07.098Z"
   },
   {
    "duration": 5,
    "start_time": "2022-11-24T13:33:12.042Z"
   },
   {
    "duration": 11,
    "start_time": "2022-11-24T13:33:14.248Z"
   },
   {
    "duration": 6,
    "start_time": "2022-11-24T13:33:19.441Z"
   },
   {
    "duration": 26,
    "start_time": "2022-11-24T13:33:23.454Z"
   },
   {
    "duration": 5,
    "start_time": "2022-11-24T13:33:33.551Z"
   },
   {
    "duration": 26,
    "start_time": "2022-11-24T13:33:34.425Z"
   },
   {
    "duration": 7,
    "start_time": "2022-11-24T13:33:38.986Z"
   },
   {
    "duration": 20,
    "start_time": "2022-11-24T13:33:40.689Z"
   },
   {
    "duration": 4,
    "start_time": "2022-11-24T13:33:42.631Z"
   },
   {
    "duration": 27,
    "start_time": "2022-11-24T13:33:44.410Z"
   },
   {
    "duration": 20,
    "start_time": "2022-11-24T13:33:57.870Z"
   },
   {
    "duration": 19,
    "start_time": "2022-11-24T13:34:01.352Z"
   },
   {
    "duration": 101,
    "start_time": "2022-11-24T13:38:52.775Z"
   },
   {
    "duration": 10,
    "start_time": "2022-11-24T13:42:41.937Z"
   },
   {
    "duration": 13,
    "start_time": "2022-11-24T13:42:55.003Z"
   },
   {
    "duration": 12,
    "start_time": "2022-11-24T13:54:26.324Z"
   },
   {
    "duration": 18,
    "start_time": "2022-11-24T13:54:39.978Z"
   },
   {
    "duration": 95,
    "start_time": "2022-11-24T13:55:32.187Z"
   },
   {
    "duration": 18,
    "start_time": "2022-11-24T13:55:42.707Z"
   },
   {
    "duration": 18,
    "start_time": "2022-11-24T13:56:01.920Z"
   },
   {
    "duration": 13,
    "start_time": "2022-11-24T13:56:23.067Z"
   },
   {
    "duration": 786,
    "start_time": "2022-11-24T13:57:02.501Z"
   },
   {
    "duration": 73,
    "start_time": "2022-11-24T13:59:01.394Z"
   },
   {
    "duration": 318,
    "start_time": "2022-11-24T14:09:20.716Z"
   },
   {
    "duration": 388,
    "start_time": "2022-11-24T14:09:39.324Z"
   },
   {
    "duration": 292,
    "start_time": "2022-11-24T14:09:47.095Z"
   },
   {
    "duration": 371,
    "start_time": "2022-11-24T14:11:15.959Z"
   },
   {
    "duration": 115,
    "start_time": "2022-11-24T14:11:34.217Z"
   },
   {
    "duration": 184,
    "start_time": "2022-11-24T14:11:55.047Z"
   },
   {
    "duration": 173,
    "start_time": "2022-11-24T14:12:15.517Z"
   },
   {
    "duration": 182,
    "start_time": "2022-11-24T14:12:54.522Z"
   },
   {
    "duration": 71,
    "start_time": "2022-11-24T14:13:12.011Z"
   },
   {
    "duration": 70,
    "start_time": "2022-11-24T14:13:15.901Z"
   },
   {
    "duration": 176,
    "start_time": "2022-11-24T14:13:22.508Z"
   },
   {
    "duration": 414,
    "start_time": "2022-11-24T14:13:31.239Z"
   },
   {
    "duration": 153,
    "start_time": "2022-11-24T14:13:54.730Z"
   },
   {
    "duration": 12,
    "start_time": "2022-11-24T14:14:22.359Z"
   },
   {
    "duration": 50,
    "start_time": "2022-11-24T14:21:05.896Z"
   },
   {
    "duration": 19,
    "start_time": "2022-11-24T14:22:10.205Z"
   },
   {
    "duration": 73,
    "start_time": "2022-11-24T14:22:23.599Z"
   },
   {
    "duration": 14,
    "start_time": "2022-11-24T14:22:26.168Z"
   },
   {
    "duration": 13,
    "start_time": "2022-11-24T14:23:00.993Z"
   },
   {
    "duration": 19,
    "start_time": "2022-11-24T14:24:28.315Z"
   },
   {
    "duration": 17,
    "start_time": "2022-11-24T14:24:46.157Z"
   },
   {
    "duration": 19,
    "start_time": "2022-11-24T14:25:42.172Z"
   },
   {
    "duration": 21,
    "start_time": "2022-11-24T14:26:03.888Z"
   },
   {
    "duration": 17,
    "start_time": "2022-11-24T14:26:08.346Z"
   },
   {
    "duration": 120,
    "start_time": "2022-11-24T14:28:52.974Z"
   },
   {
    "duration": 11,
    "start_time": "2022-11-24T14:29:20.393Z"
   },
   {
    "duration": 18,
    "start_time": "2022-11-24T14:30:08.962Z"
   },
   {
    "duration": 19,
    "start_time": "2022-11-24T14:30:13.465Z"
   },
   {
    "duration": 14,
    "start_time": "2022-11-24T14:30:25.144Z"
   },
   {
    "duration": 69,
    "start_time": "2022-11-24T14:30:57.728Z"
   },
   {
    "duration": 20,
    "start_time": "2022-11-24T14:31:16.456Z"
   },
   {
    "duration": 14,
    "start_time": "2022-11-24T14:31:21.817Z"
   },
   {
    "duration": 14,
    "start_time": "2022-11-24T14:32:27.915Z"
   },
   {
    "duration": 33,
    "start_time": "2022-11-24T14:32:36.574Z"
   },
   {
    "duration": 14,
    "start_time": "2022-11-24T14:32:42.985Z"
   },
   {
    "duration": 14,
    "start_time": "2022-11-24T14:33:22.475Z"
   },
   {
    "duration": 760,
    "start_time": "2022-11-24T15:47:00.129Z"
   },
   {
    "duration": 15,
    "start_time": "2022-11-24T15:47:00.890Z"
   },
   {
    "duration": 56,
    "start_time": "2022-11-24T15:47:00.907Z"
   },
   {
    "duration": 30,
    "start_time": "2022-11-24T15:47:00.965Z"
   },
   {
    "duration": 4,
    "start_time": "2022-11-24T15:47:00.996Z"
   },
   {
    "duration": 52,
    "start_time": "2022-11-24T15:47:01.001Z"
   },
   {
    "duration": 28,
    "start_time": "2022-11-24T15:47:01.054Z"
   },
   {
    "duration": 44,
    "start_time": "2022-11-24T15:47:01.084Z"
   },
   {
    "duration": 82,
    "start_time": "2022-11-24T15:47:01.129Z"
   },
   {
    "duration": 23,
    "start_time": "2022-11-24T15:47:01.213Z"
   },
   {
    "duration": 27,
    "start_time": "2022-11-24T15:47:01.237Z"
   },
   {
    "duration": 19,
    "start_time": "2022-11-24T15:47:01.265Z"
   },
   {
    "duration": 65,
    "start_time": "2022-11-24T15:47:01.285Z"
   },
   {
    "duration": 7,
    "start_time": "2022-11-24T15:47:01.351Z"
   },
   {
    "duration": 14,
    "start_time": "2022-11-24T15:47:01.360Z"
   },
   {
    "duration": 7,
    "start_time": "2022-11-24T15:47:01.376Z"
   },
   {
    "duration": 14,
    "start_time": "2022-11-24T15:47:01.385Z"
   },
   {
    "duration": 15,
    "start_time": "2022-11-24T15:47:01.400Z"
   },
   {
    "duration": 41,
    "start_time": "2022-11-24T15:47:01.416Z"
   },
   {
    "duration": 6,
    "start_time": "2022-11-24T15:47:01.459Z"
   },
   {
    "duration": 26,
    "start_time": "2022-11-24T15:47:01.467Z"
   },
   {
    "duration": 5,
    "start_time": "2022-11-24T15:47:01.495Z"
   },
   {
    "duration": 25,
    "start_time": "2022-11-24T15:47:01.501Z"
   },
   {
    "duration": 4,
    "start_time": "2022-11-24T15:47:01.527Z"
   },
   {
    "duration": 32,
    "start_time": "2022-11-24T15:47:01.533Z"
   },
   {
    "duration": 12,
    "start_time": "2022-11-24T15:47:01.577Z"
   },
   {
    "duration": 14,
    "start_time": "2022-11-24T15:47:01.590Z"
   },
   {
    "duration": 361,
    "start_time": "2022-11-24T15:47:01.606Z"
   },
   {
    "duration": 161,
    "start_time": "2022-11-24T15:47:01.975Z"
   },
   {
    "duration": 9,
    "start_time": "2022-11-24T15:47:02.138Z"
   },
   {
    "duration": 316,
    "start_time": "2022-11-24T15:47:02.149Z"
   },
   {
    "duration": 11,
    "start_time": "2022-11-24T15:47:02.467Z"
   },
   {
    "duration": 253,
    "start_time": "2022-11-24T15:47:02.479Z"
   },
   {
    "duration": 85,
    "start_time": "2022-11-24T15:47:02.734Z"
   },
   {
    "duration": 1,
    "start_time": "2022-11-24T15:47:02.820Z"
   },
   {
    "duration": 0,
    "start_time": "2022-11-24T15:47:02.822Z"
   },
   {
    "duration": 0,
    "start_time": "2022-11-24T15:47:02.823Z"
   },
   {
    "duration": 57,
    "start_time": "2022-11-24T15:47:49.614Z"
   },
   {
    "duration": 59,
    "start_time": "2022-11-24T15:48:23.794Z"
   },
   {
    "duration": 52,
    "start_time": "2022-11-24T15:52:32.170Z"
   },
   {
    "duration": 288,
    "start_time": "2022-11-24T16:04:52.146Z"
   },
   {
    "duration": 253,
    "start_time": "2022-11-24T16:05:16.662Z"
   },
   {
    "duration": 217,
    "start_time": "2022-11-24T16:05:32.591Z"
   },
   {
    "duration": 235,
    "start_time": "2022-11-24T16:05:43.601Z"
   },
   {
    "duration": 693,
    "start_time": "2022-11-25T14:05:44.954Z"
   },
   {
    "duration": 15,
    "start_time": "2022-11-25T14:05:49.597Z"
   },
   {
    "duration": 32,
    "start_time": "2022-11-25T14:05:51.173Z"
   },
   {
    "duration": 28,
    "start_time": "2022-11-25T14:05:54.071Z"
   },
   {
    "duration": 4,
    "start_time": "2022-11-25T14:05:55.418Z"
   },
   {
    "duration": 15,
    "start_time": "2022-11-25T14:05:56.303Z"
   },
   {
    "duration": 4,
    "start_time": "2022-11-25T14:05:57.736Z"
   },
   {
    "duration": 15,
    "start_time": "2022-11-25T14:05:58.637Z"
   },
   {
    "duration": 14,
    "start_time": "2022-11-25T14:05:59.154Z"
   },
   {
    "duration": 9,
    "start_time": "2022-11-25T14:06:00.441Z"
   },
   {
    "duration": 11,
    "start_time": "2022-11-25T14:06:02.239Z"
   },
   {
    "duration": 9,
    "start_time": "2022-11-25T14:06:02.630Z"
   },
   {
    "duration": 41,
    "start_time": "2022-11-25T14:06:04.053Z"
   },
   {
    "duration": 9,
    "start_time": "2022-11-25T14:06:05.422Z"
   },
   {
    "duration": 4,
    "start_time": "2022-11-25T14:06:06.303Z"
   },
   {
    "duration": 4,
    "start_time": "2022-11-25T14:06:06.766Z"
   },
   {
    "duration": 11,
    "start_time": "2022-11-25T14:06:07.177Z"
   },
   {
    "duration": 5,
    "start_time": "2022-11-25T14:06:10.230Z"
   },
   {
    "duration": 23,
    "start_time": "2022-11-25T14:06:13.907Z"
   },
   {
    "duration": 6,
    "start_time": "2022-11-25T14:06:16.614Z"
   },
   {
    "duration": 23,
    "start_time": "2022-11-25T14:06:18.129Z"
   },
   {
    "duration": 4,
    "start_time": "2022-11-25T14:06:22.148Z"
   },
   {
    "duration": 12,
    "start_time": "2022-11-25T14:06:23.731Z"
   },
   {
    "duration": 4,
    "start_time": "2022-11-25T14:06:25.515Z"
   },
   {
    "duration": 24,
    "start_time": "2022-11-25T14:06:26.066Z"
   },
   {
    "duration": 13,
    "start_time": "2022-11-25T14:06:31.329Z"
   },
   {
    "duration": 14,
    "start_time": "2022-11-25T14:06:33.168Z"
   },
   {
    "duration": 491,
    "start_time": "2022-11-25T14:06:40.537Z"
   },
   {
    "duration": 151,
    "start_time": "2022-11-25T14:06:44.964Z"
   },
   {
    "duration": 9,
    "start_time": "2022-11-25T14:06:46.744Z"
   },
   {
    "duration": 273,
    "start_time": "2022-11-25T14:06:51.285Z"
   },
   {
    "duration": 10,
    "start_time": "2022-11-25T14:06:59.097Z"
   },
   {
    "duration": 250,
    "start_time": "2022-11-25T14:07:00.720Z"
   },
   {
    "duration": 268,
    "start_time": "2022-11-25T14:07:06.866Z"
   },
   {
    "duration": 73,
    "start_time": "2022-11-25T14:07:13.891Z"
   },
   {
    "duration": 19,
    "start_time": "2022-11-25T14:09:16.113Z"
   },
   {
    "duration": 13,
    "start_time": "2022-11-25T14:10:10.132Z"
   },
   {
    "duration": 13,
    "start_time": "2022-11-25T14:10:15.546Z"
   },
   {
    "duration": 205,
    "start_time": "2022-11-25T14:11:08.079Z"
   },
   {
    "duration": 247,
    "start_time": "2022-11-25T14:11:12.090Z"
   },
   {
    "duration": 271,
    "start_time": "2022-11-25T14:11:17.208Z"
   },
   {
    "duration": 14,
    "start_time": "2022-11-25T14:11:30.133Z"
   },
   {
    "duration": 16,
    "start_time": "2022-11-25T14:15:12.703Z"
   },
   {
    "duration": 15,
    "start_time": "2022-11-25T14:18:32.767Z"
   },
   {
    "duration": 561,
    "start_time": "2022-11-25T14:23:45.087Z"
   },
   {
    "duration": 16,
    "start_time": "2022-11-25T14:23:45.650Z"
   },
   {
    "duration": 63,
    "start_time": "2022-11-25T14:23:45.668Z"
   },
   {
    "duration": 43,
    "start_time": "2022-11-25T14:23:45.734Z"
   },
   {
    "duration": 4,
    "start_time": "2022-11-25T14:23:45.779Z"
   },
   {
    "duration": 24,
    "start_time": "2022-11-25T14:23:45.798Z"
   },
   {
    "duration": 24,
    "start_time": "2022-11-25T14:23:45.823Z"
   },
   {
    "duration": 23,
    "start_time": "2022-11-25T14:23:45.849Z"
   },
   {
    "duration": 17,
    "start_time": "2022-11-25T14:23:45.874Z"
   },
   {
    "duration": 11,
    "start_time": "2022-11-25T14:23:45.894Z"
   },
   {
    "duration": 15,
    "start_time": "2022-11-25T14:23:45.907Z"
   },
   {
    "duration": 28,
    "start_time": "2022-11-25T14:23:45.924Z"
   },
   {
    "duration": 61,
    "start_time": "2022-11-25T14:23:45.954Z"
   },
   {
    "duration": 8,
    "start_time": "2022-11-25T14:23:46.017Z"
   },
   {
    "duration": 22,
    "start_time": "2022-11-25T14:23:46.027Z"
   },
   {
    "duration": 12,
    "start_time": "2022-11-25T14:23:46.050Z"
   },
   {
    "duration": 29,
    "start_time": "2022-11-25T14:23:46.063Z"
   },
   {
    "duration": 9,
    "start_time": "2022-11-25T14:23:46.093Z"
   },
   {
    "duration": 33,
    "start_time": "2022-11-25T14:23:46.103Z"
   },
   {
    "duration": 34,
    "start_time": "2022-11-25T14:23:46.138Z"
   },
   {
    "duration": 51,
    "start_time": "2022-11-25T14:23:46.174Z"
   },
   {
    "duration": 5,
    "start_time": "2022-11-25T14:23:46.227Z"
   },
   {
    "duration": 37,
    "start_time": "2022-11-25T14:23:46.234Z"
   },
   {
    "duration": 22,
    "start_time": "2022-11-25T14:23:46.272Z"
   },
   {
    "duration": 41,
    "start_time": "2022-11-25T14:23:46.296Z"
   },
   {
    "duration": 34,
    "start_time": "2022-11-25T14:23:46.339Z"
   },
   {
    "duration": 20,
    "start_time": "2022-11-25T14:23:46.375Z"
   },
   {
    "duration": 343,
    "start_time": "2022-11-25T14:23:46.399Z"
   },
   {
    "duration": 147,
    "start_time": "2022-11-25T14:23:46.743Z"
   },
   {
    "duration": 9,
    "start_time": "2022-11-25T14:23:46.896Z"
   },
   {
    "duration": 316,
    "start_time": "2022-11-25T14:23:46.906Z"
   },
   {
    "duration": 8,
    "start_time": "2022-11-25T14:23:47.224Z"
   },
   {
    "duration": 247,
    "start_time": "2022-11-25T14:23:47.234Z"
   },
   {
    "duration": 284,
    "start_time": "2022-11-25T14:23:47.483Z"
   },
   {
    "duration": 82,
    "start_time": "2022-11-25T14:23:47.768Z"
   },
   {
    "duration": 0,
    "start_time": "2022-11-25T14:23:47.851Z"
   },
   {
    "duration": 0,
    "start_time": "2022-11-25T14:23:47.853Z"
   },
   {
    "duration": 0,
    "start_time": "2022-11-25T14:23:47.854Z"
   },
   {
    "duration": 15,
    "start_time": "2022-11-25T14:25:47.739Z"
   },
   {
    "duration": 15,
    "start_time": "2022-11-25T14:25:50.138Z"
   },
   {
    "duration": 14,
    "start_time": "2022-11-25T14:27:08.164Z"
   },
   {
    "duration": 13,
    "start_time": "2022-11-25T14:27:26.115Z"
   },
   {
    "duration": 15,
    "start_time": "2022-11-25T14:27:36.918Z"
   },
   {
    "duration": 227,
    "start_time": "2022-11-25T14:28:05.378Z"
   },
   {
    "duration": 963,
    "start_time": "2022-11-25T14:28:42.543Z"
   },
   {
    "duration": 954,
    "start_time": "2022-11-25T14:30:13.152Z"
   },
   {
    "duration": 713,
    "start_time": "2022-11-25T14:30:41.791Z"
   },
   {
    "duration": 721,
    "start_time": "2022-11-25T14:31:22.866Z"
   },
   {
    "duration": 215,
    "start_time": "2022-11-25T14:31:37.771Z"
   },
   {
    "duration": 214,
    "start_time": "2022-11-25T14:31:57.710Z"
   },
   {
    "duration": 15,
    "start_time": "2022-11-25T14:32:30.894Z"
   },
   {
    "duration": 13,
    "start_time": "2022-11-25T14:33:05.888Z"
   },
   {
    "duration": 5,
    "start_time": "2022-11-25T14:33:17.667Z"
   },
   {
    "duration": 15,
    "start_time": "2022-11-25T14:34:37.301Z"
   },
   {
    "duration": 14,
    "start_time": "2022-11-25T14:34:56.566Z"
   },
   {
    "duration": 743,
    "start_time": "2022-11-25T15:52:29.869Z"
   },
   {
    "duration": 17,
    "start_time": "2022-11-25T15:52:35.423Z"
   },
   {
    "duration": 32,
    "start_time": "2022-11-25T15:52:37.581Z"
   },
   {
    "duration": 29,
    "start_time": "2022-11-25T15:52:40.779Z"
   },
   {
    "duration": 4,
    "start_time": "2022-11-25T15:52:46.001Z"
   },
   {
    "duration": 15,
    "start_time": "2022-11-25T15:52:49.360Z"
   },
   {
    "duration": 4,
    "start_time": "2022-11-25T15:52:52.334Z"
   },
   {
    "duration": 15,
    "start_time": "2022-11-25T15:52:54.469Z"
   },
   {
    "duration": 16,
    "start_time": "2022-11-25T15:52:55.069Z"
   },
   {
    "duration": 9,
    "start_time": "2022-11-25T15:53:02.175Z"
   },
   {
    "duration": 8,
    "start_time": "2022-11-25T15:53:10.308Z"
   },
   {
    "duration": 9,
    "start_time": "2022-11-25T15:53:13.145Z"
   },
   {
    "duration": 46,
    "start_time": "2022-11-25T15:53:16.583Z"
   },
   {
    "duration": 8,
    "start_time": "2022-11-25T15:53:19.766Z"
   },
   {
    "duration": 5,
    "start_time": "2022-11-25T15:53:21.583Z"
   },
   {
    "duration": 5,
    "start_time": "2022-11-25T15:53:23.786Z"
   },
   {
    "duration": 11,
    "start_time": "2022-11-25T15:53:25.328Z"
   },
   {
    "duration": 6,
    "start_time": "2022-11-25T15:53:27.770Z"
   },
   {
    "duration": 25,
    "start_time": "2022-11-25T15:53:30.069Z"
   },
   {
    "duration": 6,
    "start_time": "2022-11-25T15:53:33.437Z"
   },
   {
    "duration": 25,
    "start_time": "2022-11-25T15:53:35.170Z"
   },
   {
    "duration": 4,
    "start_time": "2022-11-25T15:53:39.385Z"
   },
   {
    "duration": 12,
    "start_time": "2022-11-25T15:53:41.246Z"
   },
   {
    "duration": 5,
    "start_time": "2022-11-25T15:53:43.615Z"
   },
   {
    "duration": 28,
    "start_time": "2022-11-25T15:53:44.706Z"
   },
   {
    "duration": 13,
    "start_time": "2022-11-25T15:53:47.625Z"
   },
   {
    "duration": 10,
    "start_time": "2022-11-25T15:53:55.742Z"
   },
   {
    "duration": 16,
    "start_time": "2022-11-25T15:53:57.894Z"
   },
   {
    "duration": 534,
    "start_time": "2022-11-25T15:54:00.894Z"
   },
   {
    "duration": 150,
    "start_time": "2022-11-25T15:54:05.421Z"
   },
   {
    "duration": 9,
    "start_time": "2022-11-25T15:54:07.540Z"
   },
   {
    "duration": 323,
    "start_time": "2022-11-25T15:54:11.243Z"
   },
   {
    "duration": 11,
    "start_time": "2022-11-25T15:54:21.600Z"
   },
   {
    "duration": 265,
    "start_time": "2022-11-25T15:54:22.012Z"
   },
   {
    "duration": 299,
    "start_time": "2022-11-25T15:54:27.554Z"
   },
   {
    "duration": 230,
    "start_time": "2022-11-25T15:54:37.127Z"
   },
   {
    "duration": 224,
    "start_time": "2022-11-25T15:55:21.926Z"
   },
   {
    "duration": 288,
    "start_time": "2022-11-25T15:55:23.773Z"
   },
   {
    "duration": 253,
    "start_time": "2022-11-25T15:55:26.144Z"
   },
   {
    "duration": 748,
    "start_time": "2022-11-25T17:16:20.130Z"
   },
   {
    "duration": 20,
    "start_time": "2022-11-25T17:16:20.880Z"
   },
   {
    "duration": 44,
    "start_time": "2022-11-25T17:16:20.902Z"
   },
   {
    "duration": 41,
    "start_time": "2022-11-25T17:16:20.947Z"
   },
   {
    "duration": 4,
    "start_time": "2022-11-25T17:16:20.989Z"
   },
   {
    "duration": 23,
    "start_time": "2022-11-25T17:16:20.994Z"
   },
   {
    "duration": 5,
    "start_time": "2022-11-25T17:16:21.019Z"
   },
   {
    "duration": 23,
    "start_time": "2022-11-25T17:16:21.026Z"
   },
   {
    "duration": 30,
    "start_time": "2022-11-25T17:16:21.051Z"
   },
   {
    "duration": 8,
    "start_time": "2022-11-25T17:16:21.084Z"
   },
   {
    "duration": 10,
    "start_time": "2022-11-25T17:16:21.093Z"
   },
   {
    "duration": 9,
    "start_time": "2022-11-25T17:16:21.105Z"
   },
   {
    "duration": 67,
    "start_time": "2022-11-25T17:16:21.116Z"
   },
   {
    "duration": 7,
    "start_time": "2022-11-25T17:16:21.185Z"
   },
   {
    "duration": 22,
    "start_time": "2022-11-25T17:16:21.193Z"
   },
   {
    "duration": 13,
    "start_time": "2022-11-25T17:16:21.216Z"
   },
   {
    "duration": 24,
    "start_time": "2022-11-25T17:16:21.230Z"
   },
   {
    "duration": 12,
    "start_time": "2022-11-25T17:16:21.256Z"
   },
   {
    "duration": 33,
    "start_time": "2022-11-25T17:16:21.270Z"
   },
   {
    "duration": 6,
    "start_time": "2022-11-25T17:16:21.305Z"
   },
   {
    "duration": 32,
    "start_time": "2022-11-25T17:16:21.313Z"
   },
   {
    "duration": 4,
    "start_time": "2022-11-25T17:16:21.346Z"
   },
   {
    "duration": 27,
    "start_time": "2022-11-25T17:16:21.352Z"
   },
   {
    "duration": 4,
    "start_time": "2022-11-25T17:16:21.381Z"
   },
   {
    "duration": 42,
    "start_time": "2022-11-25T17:16:21.387Z"
   },
   {
    "duration": 27,
    "start_time": "2022-11-25T17:16:21.431Z"
   },
   {
    "duration": 14,
    "start_time": "2022-11-25T17:16:21.460Z"
   },
   {
    "duration": 379,
    "start_time": "2022-11-25T17:16:21.480Z"
   },
   {
    "duration": 148,
    "start_time": "2022-11-25T17:16:21.862Z"
   },
   {
    "duration": 9,
    "start_time": "2022-11-25T17:16:22.012Z"
   },
   {
    "duration": 319,
    "start_time": "2022-11-25T17:16:22.022Z"
   },
   {
    "duration": 10,
    "start_time": "2022-11-25T17:16:22.344Z"
   },
   {
    "duration": 251,
    "start_time": "2022-11-25T17:16:22.355Z"
   },
   {
    "duration": 297,
    "start_time": "2022-11-25T17:16:22.608Z"
   },
   {
    "duration": 232,
    "start_time": "2022-11-25T17:16:22.907Z"
   },
   {
    "duration": 207,
    "start_time": "2022-11-25T17:16:23.141Z"
   },
   {
    "duration": 252,
    "start_time": "2022-11-25T17:16:23.350Z"
   },
   {
    "duration": 278,
    "start_time": "2022-11-25T17:16:23.604Z"
   },
   {
    "duration": 81,
    "start_time": "2022-11-25T17:20:19.250Z"
   }
  ],
  "colab": {
   "name": "DA+. Сборный проект 1. Шаблон (1).ipynb",
   "provenance": []
  },
  "kernelspec": {
   "display_name": "Python 3 (ipykernel)",
   "language": "python",
   "name": "python3"
  },
  "language_info": {
   "codemirror_mode": {
    "name": "ipython",
    "version": 3
   },
   "file_extension": ".py",
   "mimetype": "text/x-python",
   "name": "python",
   "nbconvert_exporter": "python",
   "pygments_lexer": "ipython3",
   "version": "3.9.15"
  },
  "toc": {
   "base_numbering": 1,
   "nav_menu": {
    "height": "164px",
    "width": "323px"
   },
   "number_sections": true,
   "sideBar": true,
   "skip_h1_title": true,
   "title_cell": "Table of Contents",
   "title_sidebar": "Contents",
   "toc_cell": false,
   "toc_position": {
    "height": "calc(100% - 180px)",
    "left": "10px",
    "top": "150px",
    "width": "375.391px"
   },
   "toc_section_display": true,
   "toc_window_display": false
  }
 },
 "nbformat": 4,
 "nbformat_minor": 1
}
