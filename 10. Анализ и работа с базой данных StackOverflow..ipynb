{
 "cells": [
  {
   "cell_type": "markdown",
   "metadata": {
    "id": "nlZBlglMDWKe"
   },
   "source": [
    "# Анализ и работа с базой данных StackOverflow."
   ]
  },
  {
   "cell_type": "code",
   "execution_count": 1,
   "metadata": {},
   "outputs": [],
   "source": [
    "import pandas as pd\n",
    "import matplotlib.pyplot as plt\n",
    "import seaborn as sns\n",
    "from sqlalchemy import create_engine "
   ]
  },
  {
   "cell_type": "markdown",
   "metadata": {
    "id": "XnOE3n28DWKg"
   },
   "source": [
    "### Конфигурация для подключения к базе данных `data-analyst-advanced-sql`\n",
    "Эта база данных содержит схему `stackoverflow`, с которой вы будете работать в проекте"
   ]
  },
  {
   "cell_type": "code",
   "execution_count": 2,
   "metadata": {
    "id": "6p-yGp7qDWKg"
   },
   "outputs": [],
   "source": [
    "db_config = {\n",
    "    'user': 'praktikum_student', # имя пользователя\n",
    "    'pwd': 'Sdf4$2;d-d30pp', # пароль\n",
    "    'host': 'rc1b-wcoijxj3yxfsf3fs.mdb.yandexcloud.net',\n",
    "    'port': 6432, # порт подключения\n",
    "    'db': 'data-analyst-advanced-sql' # название базы данных\n",
    "}  \n",
    "\n",
    "connection_string = 'postgresql://{}:{}@{}:{}/{}'.format(\n",
    "    db_config['user'],\n",
    "    db_config['pwd'],\n",
    "    db_config['host'],\n",
    "    db_config['port'],\n",
    "    db_config['db'],\n",
    ")"
   ]
  },
  {
   "cell_type": "markdown",
   "metadata": {
    "id": "2Rg8ZpS0DWKh"
   },
   "source": [
    "Создание подключения"
   ]
  },
  {
   "cell_type": "code",
   "execution_count": 3,
   "metadata": {
    "id": "DamCUTR6DWKi"
   },
   "outputs": [],
   "source": [
    "engine = create_engine(connection_string) "
   ]
  },
  {
   "cell_type": "code",
   "execution_count": 4,
   "metadata": {
    "id": "6Z_fw0yLDWKk"
   },
   "outputs": [],
   "source": [
    "query = '''\n",
    "SELECT *\n",
    "FROM stackoverflow.users\n",
    "LIMIT 10;\n",
    "'''\n",
    "\n",
    "sample_df = pd.read_sql_query(query, con=engine) "
   ]
  },
  {
   "cell_type": "code",
   "execution_count": 5,
   "metadata": {
    "id": "ZpuZ290oDWKk",
    "outputId": "22785a0a-e2bc-4559-ec3c-4879c4b377eb"
   },
   "outputs": [
    {
     "data": {
      "text/html": [
       "<div>\n",
       "<style scoped>\n",
       "    .dataframe tbody tr th:only-of-type {\n",
       "        vertical-align: middle;\n",
       "    }\n",
       "\n",
       "    .dataframe tbody tr th {\n",
       "        vertical-align: top;\n",
       "    }\n",
       "\n",
       "    .dataframe thead th {\n",
       "        text-align: right;\n",
       "    }\n",
       "</style>\n",
       "<table border=\"1\" class=\"dataframe\">\n",
       "  <thead>\n",
       "    <tr style=\"text-align: right;\">\n",
       "      <th></th>\n",
       "      <th>id</th>\n",
       "      <th>creation_date</th>\n",
       "      <th>display_name</th>\n",
       "      <th>last_access_date</th>\n",
       "      <th>location</th>\n",
       "      <th>reputation</th>\n",
       "      <th>views</th>\n",
       "    </tr>\n",
       "  </thead>\n",
       "  <tbody>\n",
       "    <tr>\n",
       "      <th>0</th>\n",
       "      <td>1</td>\n",
       "      <td>2008-07-31 14:22:31</td>\n",
       "      <td>Jeff Atwood</td>\n",
       "      <td>2018-08-29 02:34:23</td>\n",
       "      <td>El Cerrito, CA</td>\n",
       "      <td>44300</td>\n",
       "      <td>408587</td>\n",
       "    </tr>\n",
       "    <tr>\n",
       "      <th>1</th>\n",
       "      <td>2</td>\n",
       "      <td>2008-07-31 14:22:31</td>\n",
       "      <td>Geoff Dalgas</td>\n",
       "      <td>2018-08-23 17:31:56</td>\n",
       "      <td>Corvallis, OR</td>\n",
       "      <td>3491</td>\n",
       "      <td>23966</td>\n",
       "    </tr>\n",
       "    <tr>\n",
       "      <th>2</th>\n",
       "      <td>3</td>\n",
       "      <td>2008-07-31 14:22:31</td>\n",
       "      <td>Jarrod Dixon</td>\n",
       "      <td>2018-08-30 20:56:24</td>\n",
       "      <td>Raleigh, NC, United States</td>\n",
       "      <td>13418</td>\n",
       "      <td>24396</td>\n",
       "    </tr>\n",
       "    <tr>\n",
       "      <th>3</th>\n",
       "      <td>4</td>\n",
       "      <td>2008-07-31 14:22:31</td>\n",
       "      <td>Joel Spolsky</td>\n",
       "      <td>2018-08-14 22:18:15</td>\n",
       "      <td>New York, NY</td>\n",
       "      <td>28768</td>\n",
       "      <td>73755</td>\n",
       "    </tr>\n",
       "    <tr>\n",
       "      <th>4</th>\n",
       "      <td>5</td>\n",
       "      <td>2008-07-31 14:22:31</td>\n",
       "      <td>Jon Galloway</td>\n",
       "      <td>2018-08-29 16:48:36</td>\n",
       "      <td>San Diego, CA</td>\n",
       "      <td>39172</td>\n",
       "      <td>11700</td>\n",
       "    </tr>\n",
       "    <tr>\n",
       "      <th>5</th>\n",
       "      <td>8</td>\n",
       "      <td>2008-07-31 21:33:24</td>\n",
       "      <td>Eggs McLaren</td>\n",
       "      <td>2018-04-09 02:04:56</td>\n",
       "      <td>None</td>\n",
       "      <td>942</td>\n",
       "      <td>6372</td>\n",
       "    </tr>\n",
       "    <tr>\n",
       "      <th>6</th>\n",
       "      <td>9</td>\n",
       "      <td>2008-07-31 21:35:27</td>\n",
       "      <td>Kevin Dente</td>\n",
       "      <td>2018-08-30 18:18:03</td>\n",
       "      <td>Oakland, CA</td>\n",
       "      <td>14337</td>\n",
       "      <td>4949</td>\n",
       "    </tr>\n",
       "    <tr>\n",
       "      <th>7</th>\n",
       "      <td>11</td>\n",
       "      <td>2008-08-01 00:59:11</td>\n",
       "      <td>Anonymous User</td>\n",
       "      <td>2008-08-01 00:59:11</td>\n",
       "      <td>None</td>\n",
       "      <td>1890</td>\n",
       "      <td>2123</td>\n",
       "    </tr>\n",
       "    <tr>\n",
       "      <th>8</th>\n",
       "      <td>13</td>\n",
       "      <td>2008-08-01 04:18:05</td>\n",
       "      <td>Chris Jester-Young</td>\n",
       "      <td>2018-08-30 02:47:23</td>\n",
       "      <td>Raleigh, NC, United States</td>\n",
       "      <td>177138</td>\n",
       "      <td>35414</td>\n",
       "    </tr>\n",
       "    <tr>\n",
       "      <th>9</th>\n",
       "      <td>17</td>\n",
       "      <td>2008-08-01 12:02:22</td>\n",
       "      <td>Nick Berardi</td>\n",
       "      <td>2018-01-22 01:35:38</td>\n",
       "      <td>Issaquah, WA</td>\n",
       "      <td>44443</td>\n",
       "      <td>4786</td>\n",
       "    </tr>\n",
       "  </tbody>\n",
       "</table>\n",
       "</div>"
      ],
      "text/plain": [
       "   id       creation_date        display_name    last_access_date  \\\n",
       "0   1 2008-07-31 14:22:31         Jeff Atwood 2018-08-29 02:34:23   \n",
       "1   2 2008-07-31 14:22:31        Geoff Dalgas 2018-08-23 17:31:56   \n",
       "2   3 2008-07-31 14:22:31        Jarrod Dixon 2018-08-30 20:56:24   \n",
       "3   4 2008-07-31 14:22:31        Joel Spolsky 2018-08-14 22:18:15   \n",
       "4   5 2008-07-31 14:22:31        Jon Galloway 2018-08-29 16:48:36   \n",
       "5   8 2008-07-31 21:33:24        Eggs McLaren 2018-04-09 02:04:56   \n",
       "6   9 2008-07-31 21:35:27         Kevin Dente 2018-08-30 18:18:03   \n",
       "7  11 2008-08-01 00:59:11      Anonymous User 2008-08-01 00:59:11   \n",
       "8  13 2008-08-01 04:18:05  Chris Jester-Young 2018-08-30 02:47:23   \n",
       "9  17 2008-08-01 12:02:22        Nick Berardi 2018-01-22 01:35:38   \n",
       "\n",
       "                     location  reputation   views  \n",
       "0              El Cerrito, CA       44300  408587  \n",
       "1               Corvallis, OR        3491   23966  \n",
       "2  Raleigh, NC, United States       13418   24396  \n",
       "3                New York, NY       28768   73755  \n",
       "4               San Diego, CA       39172   11700  \n",
       "5                        None         942    6372  \n",
       "6                 Oakland, CA       14337    4949  \n",
       "7                        None        1890    2123  \n",
       "8  Raleigh, NC, United States      177138   35414  \n",
       "9                Issaquah, WA       44443    4786  "
      ]
     },
     "execution_count": 5,
     "metadata": {},
     "output_type": "execute_result"
    }
   ],
   "source": [
    "sample_df"
   ]
  },
  {
   "cell_type": "markdown",
   "metadata": {
    "id": "gnBMXkDBDWKm"
   },
   "source": [
    "# Задание 1"
   ]
  },
  {
   "cell_type": "markdown",
   "metadata": {
    "id": "vHsfOrrNDWKn"
   },
   "source": [
    "Выведите общую сумму просмотров постов за каждый месяц 2008 года. Если данных за какой-либо месяц в базе нет, такой месяц можно пропустить. Результат отсортируйте по убыванию общего количества просмотров."
   ]
  },
  {
   "cell_type": "markdown",
   "metadata": {
    "id": "N5rTgGNmDWKn"
   },
   "source": [
    "| month_date  | total_views |\n",
    "| ------------- | ------------- |\n",
    "| 2008-09-01  | 452928568  |\n",
    "| 2008-10-01  | 365400138  |\n",
    "| ...         | ... |"
   ]
  },
  {
   "cell_type": "code",
   "execution_count": 6,
   "metadata": {
    "id": "eWvykcXTDWKo"
   },
   "outputs": [],
   "source": [
    "# напишите запрос\n",
    "query_1 = '''\n",
    "SELECT DATE_TRUNC('month', creation_date)::date AS month_date, \n",
    "       SUM(views_count) AS total_views\n",
    "FROM stackoverflow.posts\n",
    "GROUP BY DATE_TRUNC('month', creation_date)::date\n",
    "ORDER BY SUM(views_count) DESC\n",
    "'''\n",
    "\n",
    "# выполните запрос\n",
    "sample_df_1 = pd.read_sql_query(query_1, con=engine) "
   ]
  },
  {
   "cell_type": "code",
   "execution_count": 7,
   "metadata": {},
   "outputs": [
    {
     "data": {
      "text/html": [
       "<div>\n",
       "<style scoped>\n",
       "    .dataframe tbody tr th:only-of-type {\n",
       "        vertical-align: middle;\n",
       "    }\n",
       "\n",
       "    .dataframe tbody tr th {\n",
       "        vertical-align: top;\n",
       "    }\n",
       "\n",
       "    .dataframe thead th {\n",
       "        text-align: right;\n",
       "    }\n",
       "</style>\n",
       "<table border=\"1\" class=\"dataframe\">\n",
       "  <thead>\n",
       "    <tr style=\"text-align: right;\">\n",
       "      <th></th>\n",
       "      <th>month_date</th>\n",
       "      <th>total_views</th>\n",
       "    </tr>\n",
       "  </thead>\n",
       "  <tbody>\n",
       "    <tr>\n",
       "      <th>0</th>\n",
       "      <td>2008-09-01</td>\n",
       "      <td>452928568</td>\n",
       "    </tr>\n",
       "    <tr>\n",
       "      <th>1</th>\n",
       "      <td>2008-10-01</td>\n",
       "      <td>365400138</td>\n",
       "    </tr>\n",
       "    <tr>\n",
       "      <th>2</th>\n",
       "      <td>2008-11-01</td>\n",
       "      <td>221759651</td>\n",
       "    </tr>\n",
       "    <tr>\n",
       "      <th>3</th>\n",
       "      <td>2008-12-01</td>\n",
       "      <td>197792841</td>\n",
       "    </tr>\n",
       "    <tr>\n",
       "      <th>4</th>\n",
       "      <td>2008-08-01</td>\n",
       "      <td>131367083</td>\n",
       "    </tr>\n",
       "    <tr>\n",
       "      <th>5</th>\n",
       "      <td>2008-07-01</td>\n",
       "      <td>669895</td>\n",
       "    </tr>\n",
       "  </tbody>\n",
       "</table>\n",
       "</div>"
      ],
      "text/plain": [
       "   month_date  total_views\n",
       "0  2008-09-01    452928568\n",
       "1  2008-10-01    365400138\n",
       "2  2008-11-01    221759651\n",
       "3  2008-12-01    197792841\n",
       "4  2008-08-01    131367083\n",
       "5  2008-07-01       669895"
      ]
     },
     "execution_count": 7,
     "metadata": {},
     "output_type": "execute_result"
    }
   ],
   "source": [
    "sample_df_1"
   ]
  },
  {
   "cell_type": "markdown",
   "metadata": {
    "id": "luxSj17oDWKq"
   },
   "source": [
    "**Вывод**: можно увидеть, что осенние месяцы являются лидерами по количеству просмотров постов на платформе. Показатели декабря уступают показателям ноября, но незначительно. При этом, август и июль являются самыми малочисленными по колчиеству просомтров месяцами. Можно предположить, что данный факт связан с особенностью платформы. На осень традиционно приходится начало учебного года. Возможно, студенты или люди, которые начинают изучать програмирование самостоятельно или же на курсах, начинают активно использовать платформу. В то время как на лето приходится сезон отпусков и каникул."
   ]
  },
  {
   "cell_type": "markdown",
   "metadata": {
    "id": "FziIXkn5DWKr"
   },
   "source": [
    "# Задание 2"
   ]
  },
  {
   "cell_type": "markdown",
   "metadata": {
    "id": "fTGESZvYDWKr"
   },
   "source": [
    "Выведите имена самых активных пользователей, которые в первый месяц после регистрации (включая день регистрации) дали больше 100 ответов. Вопросы, которые задавали пользователи, не учитывайте. Для каждого имени пользователя выведите количество уникальных значений `user_id`. Отсортируйте результат по полю с именами в лексикографическом порядке."
   ]
  },
  {
   "cell_type": "markdown",
   "metadata": {
    "id": "W5-tv6Y3DWKs"
   },
   "source": [
    "| display_name | count |\n",
    "| ------------ | ----- |\n",
    "| 1800 INFORMATION | 1 |\n",
    "| Adam Bellaire | 1 |\n",
    "| Adam Davis | 1 |\n",
    "| ... | ... |"
   ]
  },
  {
   "cell_type": "code",
   "execution_count": 8,
   "metadata": {
    "id": "fIO-y-YjDWKt"
   },
   "outputs": [],
   "source": [
    "# напишите запрос\n",
    "query_2 = '''\n",
    "SELECT u.display_name,\n",
    "       COUNT(DISTINCT p.user_id)\n",
    "FROM stackoverflow.posts AS p\n",
    "JOIN stackoverflow.users AS u ON p.user_id = u.id\n",
    "JOIN stackoverflow.post_types AS pt ON pt.id = p.post_type_id\n",
    "WHERE p.creation_date::date BETWEEN u.creation_date::date AND (u.creation_date::date + INTERVAL '1 month')\n",
    "   AND pt.type LIKE '%%Answer%%'\n",
    "GROUP BY u.display_name\n",
    "HAVING COUNT(p.id) > 100\n",
    "ORDER BY u.display_name\n",
    "LIMIT 20;\n",
    "'''\n",
    "\n",
    "# выполните запрос"
   ]
  },
  {
   "cell_type": "code",
   "execution_count": 9,
   "metadata": {},
   "outputs": [],
   "source": [
    "sample_df_2 = pd.read_sql_query(query_2, con=engine) "
   ]
  },
  {
   "cell_type": "code",
   "execution_count": 10,
   "metadata": {},
   "outputs": [
    {
     "data": {
      "text/html": [
       "<div>\n",
       "<style scoped>\n",
       "    .dataframe tbody tr th:only-of-type {\n",
       "        vertical-align: middle;\n",
       "    }\n",
       "\n",
       "    .dataframe tbody tr th {\n",
       "        vertical-align: top;\n",
       "    }\n",
       "\n",
       "    .dataframe thead th {\n",
       "        text-align: right;\n",
       "    }\n",
       "</style>\n",
       "<table border=\"1\" class=\"dataframe\">\n",
       "  <thead>\n",
       "    <tr style=\"text-align: right;\">\n",
       "      <th></th>\n",
       "      <th>display_name</th>\n",
       "      <th>count</th>\n",
       "    </tr>\n",
       "  </thead>\n",
       "  <tbody>\n",
       "    <tr>\n",
       "      <th>0</th>\n",
       "      <td>1800 INFORMATION</td>\n",
       "      <td>1</td>\n",
       "    </tr>\n",
       "    <tr>\n",
       "      <th>1</th>\n",
       "      <td>Adam Bellaire</td>\n",
       "      <td>1</td>\n",
       "    </tr>\n",
       "    <tr>\n",
       "      <th>2</th>\n",
       "      <td>Adam Davis</td>\n",
       "      <td>1</td>\n",
       "    </tr>\n",
       "    <tr>\n",
       "      <th>3</th>\n",
       "      <td>Adam Liss</td>\n",
       "      <td>1</td>\n",
       "    </tr>\n",
       "    <tr>\n",
       "      <th>4</th>\n",
       "      <td>Alan</td>\n",
       "      <td>8</td>\n",
       "    </tr>\n",
       "    <tr>\n",
       "      <th>5</th>\n",
       "      <td>Amy B</td>\n",
       "      <td>1</td>\n",
       "    </tr>\n",
       "    <tr>\n",
       "      <th>6</th>\n",
       "      <td>Ben Hoffstein</td>\n",
       "      <td>1</td>\n",
       "    </tr>\n",
       "    <tr>\n",
       "      <th>7</th>\n",
       "      <td>Brian</td>\n",
       "      <td>15</td>\n",
       "    </tr>\n",
       "    <tr>\n",
       "      <th>8</th>\n",
       "      <td>Cade Roux</td>\n",
       "      <td>1</td>\n",
       "    </tr>\n",
       "    <tr>\n",
       "      <th>9</th>\n",
       "      <td>CesarB</td>\n",
       "      <td>1</td>\n",
       "    </tr>\n",
       "    <tr>\n",
       "      <th>10</th>\n",
       "      <td>Chris</td>\n",
       "      <td>29</td>\n",
       "    </tr>\n",
       "    <tr>\n",
       "      <th>11</th>\n",
       "      <td>ConcernedOfTunbridgeWells</td>\n",
       "      <td>1</td>\n",
       "    </tr>\n",
       "    <tr>\n",
       "      <th>12</th>\n",
       "      <td>Craig</td>\n",
       "      <td>10</td>\n",
       "    </tr>\n",
       "    <tr>\n",
       "      <th>13</th>\n",
       "      <td>Dale Ragan</td>\n",
       "      <td>1</td>\n",
       "    </tr>\n",
       "    <tr>\n",
       "      <th>14</th>\n",
       "      <td>Dan</td>\n",
       "      <td>21</td>\n",
       "    </tr>\n",
       "    <tr>\n",
       "      <th>15</th>\n",
       "      <td>Eric Z Beard</td>\n",
       "      <td>1</td>\n",
       "    </tr>\n",
       "    <tr>\n",
       "      <th>16</th>\n",
       "      <td>Espo</td>\n",
       "      <td>1</td>\n",
       "    </tr>\n",
       "    <tr>\n",
       "      <th>17</th>\n",
       "      <td>FlySwat</td>\n",
       "      <td>1</td>\n",
       "    </tr>\n",
       "    <tr>\n",
       "      <th>18</th>\n",
       "      <td>Franci Penov</td>\n",
       "      <td>1</td>\n",
       "    </tr>\n",
       "    <tr>\n",
       "      <th>19</th>\n",
       "      <td>GEOCHET</td>\n",
       "      <td>1</td>\n",
       "    </tr>\n",
       "  </tbody>\n",
       "</table>\n",
       "</div>"
      ],
      "text/plain": [
       "                 display_name  count\n",
       "0            1800 INFORMATION      1\n",
       "1               Adam Bellaire      1\n",
       "2                  Adam Davis      1\n",
       "3                   Adam Liss      1\n",
       "4                        Alan      8\n",
       "5                       Amy B      1\n",
       "6               Ben Hoffstein      1\n",
       "7                       Brian     15\n",
       "8                   Cade Roux      1\n",
       "9                      CesarB      1\n",
       "10                      Chris     29\n",
       "11  ConcernedOfTunbridgeWells      1\n",
       "12                      Craig     10\n",
       "13                 Dale Ragan      1\n",
       "14                        Dan     21\n",
       "15               Eric Z Beard      1\n",
       "16                       Espo      1\n",
       "17                    FlySwat      1\n",
       "18               Franci Penov      1\n",
       "19                    GEOCHET      1"
      ]
     },
     "execution_count": 10,
     "metadata": {},
     "output_type": "execute_result"
    }
   ],
   "source": [
    "sample_df_2"
   ]
  },
  {
   "cell_type": "markdown",
   "metadata": {
    "id": "CEIGGQ6ODWKy"
   },
   "source": [
    "**Вывод**: главный вывод заключается в том, что использовать имя польлзователя в качестве уникального показателя для анализа нерелевантно так как можно увидеть, что есть имена, на которые приходится несколько user_id. Это связано с тем, что в данных есть повторяющиеся имена, пользователи которых, хотя и являются уникальными, но различить их исключительно по имени невозможно. "
   ]
  },
  {
   "cell_type": "markdown",
   "metadata": {
    "id": "JhM2xXj5DWKu"
   },
   "source": [
    "# Задание 3"
   ]
  },
  {
   "cell_type": "markdown",
   "metadata": {
    "id": "IS6xPqyyDWKu"
   },
   "source": [
    "Выведите количество постов за 2008 год по месяцам. Отберите посты от пользователей, которые зарегистрировались в сентябре 2008 года и сделали хотя бы один пост в декабре того же года. Отсортируйте таблицу по значению месяца по убыванию."
   ]
  },
  {
   "cell_type": "markdown",
   "metadata": {
    "id": "WmjhjV2xDWKv"
   },
   "source": [
    "| month | count |\n",
    "| ------|------ |\n",
    "| 2008-12-01 | 17641 |\n",
    "| 2008-11-01 | 18294 |\n",
    "| ... | ... |"
   ]
  },
  {
   "cell_type": "code",
   "execution_count": 11,
   "metadata": {
    "id": "kVu0FB8WDWKv"
   },
   "outputs": [],
   "source": [
    "# напишите запрос\n",
    "query_3 = '''\n",
    "WITH t AS (\n",
    "           SELECT u.id\n",
    "           FROM stackoverflow.posts AS p\n",
    "           JOIN stackoverflow.users AS u ON p.user_id = u.id\n",
    "           WHERE DATE_TRUNC('month', u.creation_date)::date = '2008-09-01'\n",
    "              AND DATE_TRUNC('month', p.creation_date)::date = '2008-12-01')\n",
    "           \n",
    "SELECT DATE_TRUNC('month', p.creation_date)::date,\n",
    "       COUNT(p.id)\n",
    "FROM stackoverflow.posts AS p\n",
    "WHERE p.user_id IN (SELECT * \n",
    "                    FROM t)\n",
    "   AND DATE_TRUNC('year', p.creation_date)::date = '2008-01-01'\n",
    "GROUP BY DATE_TRUNC('month', p.creation_date)::date\n",
    "ORDER BY DATE_TRUNC('month', p.creation_date)::date DESC;\n",
    "'''\n",
    "\n",
    "# выполните запрос"
   ]
  },
  {
   "cell_type": "code",
   "execution_count": 12,
   "metadata": {},
   "outputs": [],
   "source": [
    "sample_df_3 = pd.read_sql_query(query_3, con=engine) "
   ]
  },
  {
   "cell_type": "code",
   "execution_count": 13,
   "metadata": {},
   "outputs": [
    {
     "data": {
      "text/html": [
       "<div>\n",
       "<style scoped>\n",
       "    .dataframe tbody tr th:only-of-type {\n",
       "        vertical-align: middle;\n",
       "    }\n",
       "\n",
       "    .dataframe tbody tr th {\n",
       "        vertical-align: top;\n",
       "    }\n",
       "\n",
       "    .dataframe thead th {\n",
       "        text-align: right;\n",
       "    }\n",
       "</style>\n",
       "<table border=\"1\" class=\"dataframe\">\n",
       "  <thead>\n",
       "    <tr style=\"text-align: right;\">\n",
       "      <th></th>\n",
       "      <th>date_trunc</th>\n",
       "      <th>count</th>\n",
       "    </tr>\n",
       "  </thead>\n",
       "  <tbody>\n",
       "    <tr>\n",
       "      <th>0</th>\n",
       "      <td>2008-12-01</td>\n",
       "      <td>17641</td>\n",
       "    </tr>\n",
       "    <tr>\n",
       "      <th>1</th>\n",
       "      <td>2008-11-01</td>\n",
       "      <td>18294</td>\n",
       "    </tr>\n",
       "    <tr>\n",
       "      <th>2</th>\n",
       "      <td>2008-10-01</td>\n",
       "      <td>27171</td>\n",
       "    </tr>\n",
       "    <tr>\n",
       "      <th>3</th>\n",
       "      <td>2008-09-01</td>\n",
       "      <td>24870</td>\n",
       "    </tr>\n",
       "    <tr>\n",
       "      <th>4</th>\n",
       "      <td>2008-08-01</td>\n",
       "      <td>32</td>\n",
       "    </tr>\n",
       "  </tbody>\n",
       "</table>\n",
       "</div>"
      ],
      "text/plain": [
       "   date_trunc  count\n",
       "0  2008-12-01  17641\n",
       "1  2008-11-01  18294\n",
       "2  2008-10-01  27171\n",
       "3  2008-09-01  24870\n",
       "4  2008-08-01     32"
      ]
     },
     "execution_count": 13,
     "metadata": {},
     "output_type": "execute_result"
    }
   ],
   "source": [
    "sample_df_3"
   ]
  },
  {
   "cell_type": "markdown",
   "metadata": {
    "id": "MMVIz4yMlKpN"
   },
   "source": [
    "**Вывод**: так как рассматриваются пользователи, которые зарегестрировались в сентябре, то они не могли оставлять посты на платформе в августе. В связи с чем, встает вопрос о корректности собранных данных, так как получившие id в сентябре пользователи, никак не могли оставлять посты в августе. При этом результат отражает 32 поста. Необходимо проверить, насколько корректно агрегируются данные."
   ]
  },
  {
   "cell_type": "markdown",
   "metadata": {
    "id": "5Pcizm0DDWKz"
   },
   "source": [
    "# Задание 4"
   ]
  },
  {
   "cell_type": "markdown",
   "metadata": {
    "id": "KUZPF6vHDWKz"
   },
   "source": [
    "Используя данные о постах, выведите несколько полей:\n",
    "\n",
    "- идентификатор пользователя, который написал пост;\n",
    "- дата создания поста;\n",
    "- количество просмотров у текущего поста;\n",
    "- сумму просмотров постов автора с накоплением.\n",
    "\n",
    "Данные в таблице должны быть отсортированы по возрастанию идентификаторов пользователей, а данные об одном и том же пользователе — по возрастанию даты создания поста."
   ]
  },
  {
   "cell_type": "markdown",
   "metadata": {
    "id": "ZpsTUVDYDWK0"
   },
   "source": [
    "| user_id | creation_date | views_count | cumulative_count |\n",
    "| ------ | -------------- | ----------- | ---------------- |\n",
    "| 1 | 2008-07-31 23:41:00  | 480476   | 480476  |\n",
    "| 1 | 2008-07-31 23:55:38  | 136033 | 616509  | \n",
    "| 1 | 2008-07-31 23:56:41  | 0 |  616509  |\n",
    "| ... | ... | ... | ... |\n",
    "| 2 | 2008-07-31 23:56:41 | 79087  | 79087 |\n",
    "| 2 | 2008-08-01 05:09:56 | 65443 | 144530 |\n",
    "| ... | ...  | ...  | ...  |"
   ]
  },
  {
   "cell_type": "code",
   "execution_count": 14,
   "metadata": {
    "id": "hDoJhMzfDWK0"
   },
   "outputs": [],
   "source": [
    "# напишите запрос\n",
    "query_4 = '''\n",
    "SELECT user_id,\n",
    "       creation_date,\n",
    "       views_count,\n",
    "       SUM(views_count) OVER(PARTITION BY user_id ORDER BY creation_date) AS cumulative_count\n",
    "FROM stackoverflow.posts\n",
    "'''\n",
    "\n",
    "# выполните запрос"
   ]
  },
  {
   "cell_type": "code",
   "execution_count": 15,
   "metadata": {},
   "outputs": [],
   "source": [
    "sample_df_4 = pd.read_sql_query(query_4, con=engine)"
   ]
  },
  {
   "cell_type": "code",
   "execution_count": 16,
   "metadata": {},
   "outputs": [
    {
     "data": {
      "text/html": [
       "<div>\n",
       "<style scoped>\n",
       "    .dataframe tbody tr th:only-of-type {\n",
       "        vertical-align: middle;\n",
       "    }\n",
       "\n",
       "    .dataframe tbody tr th {\n",
       "        vertical-align: top;\n",
       "    }\n",
       "\n",
       "    .dataframe thead th {\n",
       "        text-align: right;\n",
       "    }\n",
       "</style>\n",
       "<table border=\"1\" class=\"dataframe\">\n",
       "  <thead>\n",
       "    <tr style=\"text-align: right;\">\n",
       "      <th></th>\n",
       "      <th>user_id</th>\n",
       "      <th>creation_date</th>\n",
       "      <th>views_count</th>\n",
       "      <th>cumulative_count</th>\n",
       "    </tr>\n",
       "  </thead>\n",
       "  <tbody>\n",
       "    <tr>\n",
       "      <th>0</th>\n",
       "      <td>1</td>\n",
       "      <td>2008-07-31 23:41:00</td>\n",
       "      <td>480476</td>\n",
       "      <td>480476</td>\n",
       "    </tr>\n",
       "    <tr>\n",
       "      <th>1</th>\n",
       "      <td>1</td>\n",
       "      <td>2008-07-31 23:55:38</td>\n",
       "      <td>136033</td>\n",
       "      <td>616509</td>\n",
       "    </tr>\n",
       "    <tr>\n",
       "      <th>2</th>\n",
       "      <td>1</td>\n",
       "      <td>2008-07-31 23:56:41</td>\n",
       "      <td>0</td>\n",
       "      <td>616509</td>\n",
       "    </tr>\n",
       "    <tr>\n",
       "      <th>3</th>\n",
       "      <td>1</td>\n",
       "      <td>2008-08-04 02:45:08</td>\n",
       "      <td>0</td>\n",
       "      <td>616509</td>\n",
       "    </tr>\n",
       "    <tr>\n",
       "      <th>4</th>\n",
       "      <td>1</td>\n",
       "      <td>2008-08-04 04:31:03</td>\n",
       "      <td>0</td>\n",
       "      <td>616509</td>\n",
       "    </tr>\n",
       "    <tr>\n",
       "      <th>...</th>\n",
       "      <td>...</td>\n",
       "      <td>...</td>\n",
       "      <td>...</td>\n",
       "      <td>...</td>\n",
       "    </tr>\n",
       "    <tr>\n",
       "      <th>243791</th>\n",
       "      <td>5696608</td>\n",
       "      <td>2008-12-23 16:00:37</td>\n",
       "      <td>0</td>\n",
       "      <td>2804</td>\n",
       "    </tr>\n",
       "    <tr>\n",
       "      <th>243792</th>\n",
       "      <td>5696608</td>\n",
       "      <td>2008-12-23 17:35:09</td>\n",
       "      <td>0</td>\n",
       "      <td>2804</td>\n",
       "    </tr>\n",
       "    <tr>\n",
       "      <th>243793</th>\n",
       "      <td>5696608</td>\n",
       "      <td>2008-12-24 01:02:48</td>\n",
       "      <td>0</td>\n",
       "      <td>2804</td>\n",
       "    </tr>\n",
       "    <tr>\n",
       "      <th>243794</th>\n",
       "      <td>5696608</td>\n",
       "      <td>2008-12-30 14:34:45</td>\n",
       "      <td>0</td>\n",
       "      <td>2804</td>\n",
       "    </tr>\n",
       "    <tr>\n",
       "      <th>243795</th>\n",
       "      <td>5696608</td>\n",
       "      <td>2008-12-30 16:32:12</td>\n",
       "      <td>0</td>\n",
       "      <td>2804</td>\n",
       "    </tr>\n",
       "  </tbody>\n",
       "</table>\n",
       "<p>243796 rows × 4 columns</p>\n",
       "</div>"
      ],
      "text/plain": [
       "        user_id       creation_date  views_count  cumulative_count\n",
       "0             1 2008-07-31 23:41:00       480476            480476\n",
       "1             1 2008-07-31 23:55:38       136033            616509\n",
       "2             1 2008-07-31 23:56:41            0            616509\n",
       "3             1 2008-08-04 02:45:08            0            616509\n",
       "4             1 2008-08-04 04:31:03            0            616509\n",
       "...         ...                 ...          ...               ...\n",
       "243791  5696608 2008-12-23 16:00:37            0              2804\n",
       "243792  5696608 2008-12-23 17:35:09            0              2804\n",
       "243793  5696608 2008-12-24 01:02:48            0              2804\n",
       "243794  5696608 2008-12-30 14:34:45            0              2804\n",
       "243795  5696608 2008-12-30 16:32:12            0              2804\n",
       "\n",
       "[243796 rows x 4 columns]"
      ]
     },
     "execution_count": 16,
     "metadata": {},
     "output_type": "execute_result"
    }
   ],
   "source": [
    "sample_df_4"
   ]
  },
  {
   "cell_type": "markdown",
   "metadata": {
    "id": "N0kHRHvIDWK2"
   },
   "source": [
    "# Задание 5"
   ]
  },
  {
   "cell_type": "markdown",
   "metadata": {
    "id": "gBgvmPtODWK2"
   },
   "source": [
    "Найдите среднее количество постов пользователей в день за август 2008 года. Отберите данные о пользователях, которые опубликовали больше 120 постов за август. Дни без публикаций не учитывайте. \n",
    "\n",
    "Отсортируйте результат по возрастанию среднего количества постов. Значения можно не округлять."
   ]
  },
  {
   "cell_type": "markdown",
   "metadata": {
    "id": "nfzR08BODWK3"
   },
   "source": [
    "| user_id | avg_daily |\n",
    "| ------- | --------- |\n",
    "| 116     | 4.777778  |\n",
    "| 234     | 5.208333  |\n",
    "| ...     | ... |"
   ]
  },
  {
   "cell_type": "code",
   "execution_count": 17,
   "metadata": {
    "id": "YFyPNz5GDWK3"
   },
   "outputs": [],
   "source": [
    "# напишите запрос\n",
    "query_5 = '''\n",
    "SELECT user_id,\n",
    "       AVG(avg_daily)\n",
    "FROM (SELECT DISTINCT user_id,\n",
    "               DATE_TRUNC('day', creation_date)::date AS t,\n",
    "               COUNT(id) OVER(PARTITION BY user_id, DATE_TRUNC('day', creation_date)::date) AS avg_daily,\n",
    "               COUNT(id) OVER(PARTITION BY user_id, DATE_TRUNC('month', creation_date)::date) AS cnt\n",
    "        FROM stackoverflow.posts\n",
    "        WHERE DATE_TRUNC('month', creation_date)::date = '2008-08-01') AS t_1\n",
    "WHERE cnt > 120\n",
    "GROUP BY user_id\n",
    "ORDER BY 2\n",
    "\n",
    "'''\n",
    "\n",
    "# выполните запрос"
   ]
  },
  {
   "cell_type": "code",
   "execution_count": 18,
   "metadata": {},
   "outputs": [],
   "source": [
    "sample_df_5 = pd.read_sql_query(query_5, con=engine)"
   ]
  },
  {
   "cell_type": "code",
   "execution_count": 19,
   "metadata": {},
   "outputs": [
    {
     "data": {
      "text/html": [
       "<div>\n",
       "<style scoped>\n",
       "    .dataframe tbody tr th:only-of-type {\n",
       "        vertical-align: middle;\n",
       "    }\n",
       "\n",
       "    .dataframe tbody tr th {\n",
       "        vertical-align: top;\n",
       "    }\n",
       "\n",
       "    .dataframe thead th {\n",
       "        text-align: right;\n",
       "    }\n",
       "</style>\n",
       "<table border=\"1\" class=\"dataframe\">\n",
       "  <thead>\n",
       "    <tr style=\"text-align: right;\">\n",
       "      <th></th>\n",
       "      <th>user_id</th>\n",
       "      <th>avg</th>\n",
       "    </tr>\n",
       "  </thead>\n",
       "  <tbody>\n",
       "    <tr>\n",
       "      <th>0</th>\n",
       "      <td>116</td>\n",
       "      <td>4.777778</td>\n",
       "    </tr>\n",
       "    <tr>\n",
       "      <th>1</th>\n",
       "      <td>234</td>\n",
       "      <td>5.208333</td>\n",
       "    </tr>\n",
       "    <tr>\n",
       "      <th>2</th>\n",
       "      <td>91</td>\n",
       "      <td>5.681818</td>\n",
       "    </tr>\n",
       "    <tr>\n",
       "      <th>3</th>\n",
       "      <td>905</td>\n",
       "      <td>7.000000</td>\n",
       "    </tr>\n",
       "    <tr>\n",
       "      <th>4</th>\n",
       "      <td>383</td>\n",
       "      <td>7.277778</td>\n",
       "    </tr>\n",
       "  </tbody>\n",
       "</table>\n",
       "</div>"
      ],
      "text/plain": [
       "   user_id       avg\n",
       "0      116  4.777778\n",
       "1      234  5.208333\n",
       "2       91  5.681818\n",
       "3      905  7.000000\n",
       "4      383  7.277778"
      ]
     },
     "execution_count": 19,
     "metadata": {},
     "output_type": "execute_result"
    }
   ],
   "source": [
    "sample_df_5"
   ]
  },
  {
   "cell_type": "markdown",
   "metadata": {
    "id": "EQ0dcFH4DWK5"
   },
   "source": [
    "# Задание 6"
   ]
  },
  {
   "cell_type": "markdown",
   "metadata": {
    "id": "c7flfg_hDWK5"
   },
   "source": [
    "Сколько в среднем дней в период с 1 по 7 декабря 2008 года пользователи взаимодействовали с платформой? Для каждого пользователя отберите дни, в которые он или она опубликовали хотя бы один пост. Нужно получить одно целое число — не забудьте округлить результат. "
   ]
  },
  {
   "cell_type": "markdown",
   "metadata": {
    "id": "RC1Ibzm9DWK6"
   },
   "source": [
    "| result |\n",
    "| -----  |\n",
    "| <целое число> |"
   ]
  },
  {
   "cell_type": "code",
   "execution_count": 20,
   "metadata": {
    "id": "kZ7LXTr6DWK6"
   },
   "outputs": [],
   "source": [
    "# напишите запрос\n",
    "query_6 = '''\n",
    "SELECT ROUND(AVG(t.cnt)) AS result\n",
    "FROM (\n",
    "      SELECT user_id,\n",
    "             COUNT(DISTINCT creation_date::date)  AS cnt\n",
    "      FROM stackoverflow.posts\n",
    "      WHERE creation_date::date BETWEEN '2008-12-01' AND '2008-12-07' \n",
    "      GROUP BY user_id\n",
    ") AS t\n",
    "'''\n",
    "\n",
    "# выполните запрос"
   ]
  },
  {
   "cell_type": "code",
   "execution_count": 21,
   "metadata": {},
   "outputs": [],
   "source": [
    "sample_df_6 = pd.read_sql_query(query_6, con=engine)"
   ]
  },
  {
   "cell_type": "code",
   "execution_count": 22,
   "metadata": {},
   "outputs": [
    {
     "data": {
      "text/html": [
       "<div>\n",
       "<style scoped>\n",
       "    .dataframe tbody tr th:only-of-type {\n",
       "        vertical-align: middle;\n",
       "    }\n",
       "\n",
       "    .dataframe tbody tr th {\n",
       "        vertical-align: top;\n",
       "    }\n",
       "\n",
       "    .dataframe thead th {\n",
       "        text-align: right;\n",
       "    }\n",
       "</style>\n",
       "<table border=\"1\" class=\"dataframe\">\n",
       "  <thead>\n",
       "    <tr style=\"text-align: right;\">\n",
       "      <th></th>\n",
       "      <th>result</th>\n",
       "    </tr>\n",
       "  </thead>\n",
       "  <tbody>\n",
       "    <tr>\n",
       "      <th>0</th>\n",
       "      <td>2.0</td>\n",
       "    </tr>\n",
       "  </tbody>\n",
       "</table>\n",
       "</div>"
      ],
      "text/plain": [
       "   result\n",
       "0     2.0"
      ]
     },
     "execution_count": 22,
     "metadata": {},
     "output_type": "execute_result"
    }
   ],
   "source": [
    "sample_df_6"
   ]
  },
  {
   "cell_type": "markdown",
   "metadata": {
    "id": "LfUuYz-1DWK8"
   },
   "source": [
    "**Вывод**: можно сделать вывод о том, что за рассматриваемую неделю пользователи взаимодейтсвуют с платформой, в среднем, 2 раза в неделю. Таким образом, получается, что в большую часть недели пользоаатели были неактивны."
   ]
  },
  {
   "cell_type": "markdown",
   "metadata": {
    "id": "wfOmqmfLDWK8"
   },
   "source": [
    "# Задание 7"
   ]
  },
  {
   "cell_type": "markdown",
   "metadata": {
    "id": "X4ARQimADWK9"
   },
   "source": [
    "Выведите историю активности каждого пользователя в таком виде: идентификатор пользователя, дата публикации поста. Отсортируйте вывод по возрастанию идентификаторов пользователей, а для каждого пользователя — по возрастанию даты публикации.\n",
    "\n",
    "Добавьте в таблицу новое поле: для каждого поста в нём будет указано название месяца предпоследней публикации пользователя относительно текущей. Если такой публикации нет, укажите `NULL`.  Python автоматически поменяет `NULL` на `None`, но дополнительно преобразовывать значения `None` вам не нужно.\n",
    "\n",
    "Посмотрите внимательно на образец таблицы: для первых двух постов предпоследней публикации нет, но, начиная с третьего поста, в новое поле входит нужный месяц. Для следующего пользователя в первые две записи поля `second_last_month` тоже войдёт `NULL`."
   ]
  },
  {
   "cell_type": "markdown",
   "metadata": {
    "id": "IGPjRP01DWK9"
   },
   "source": [
    "| user_id | creation_date | second_last_month |\n",
    "| ------- | ------------- | ----------------- |\n",
    "| 1       | 2008-07-31 23:41:00 | None |\n",
    "| 1       | 2008-07-31 23:55:38 | None |\n",
    "| 1       | 2008-07-31 23:56:41 | July |\n",
    "| 1       | 2008-08-04 02:45:08 | July |\n",
    "| 1       | 2008-08-04 04:31:03 | July |\n",
    "| 1       | 2008-08-04 08:04:42 | August |\n",
    "| ... | ... | ... |"
   ]
  },
  {
   "cell_type": "code",
   "execution_count": 23,
   "metadata": {
    "id": "HzI1vhaMDWK-"
   },
   "outputs": [],
   "source": [
    "# напишите запрос\n",
    "query_7 = '''\n",
    "SELECT user_id,\n",
    "       creation_date::date,\n",
    "       CASE\n",
    "           WHEN second_last_month BETWEEN '2008-08-01' AND '2008-08-31' THEN 'August'\n",
    "           WHEN second_last_month BETWEEN '2008-09-01' AND '2008-09-30' THEN 'September'\n",
    "           WHEN second_last_month BETWEEN '2008-10-01' AND '2008-10-31'THEN 'October'\n",
    "           WHEN second_last_month BETWEEN '2008-11-01' AND '2008-11-30' THEN 'November'\n",
    "           WHEN second_last_month BETWEEN '2008-12-01' AND '2008-12-31' THEN 'December'\n",
    "           WHEN second_last_month BETWEEN '2008-01-01' AND '2008-01-31' THEN 'January'\n",
    "           WHEN second_last_month BETWEEN '2008-02-01' AND '2008-02-29' THEN 'February'\n",
    "           WHEN second_last_month BETWEEN '2008-03-01' AND '2008-03-31' THEN 'March'\n",
    "           WHEN second_last_month BETWEEN '2008-04-01' AND '2008-04-30' THEN 'April'\n",
    "           WHEN second_last_month BETWEEN '2008-05-01' AND '2008-05-31' THEN 'May'\n",
    "           WHEN second_last_month BETWEEN '2008-06-01' AND '2008-06-30' THEN 'June'\n",
    "           WHEN second_last_month BETWEEN '2008-07-01' AND '2008-07-31' THEN 'July'\n",
    "       END AS second_last_month\n",
    "FROM (SELECT user_id,\n",
    "       creation_date::date, \n",
    "       LAG(creation_date::date, 2) OVER (PARTITION BY user_id ORDER BY creation_date::date) AS second_last_month\n",
    "FROM stackoverflow.posts) AS t\n",
    "ORDER BY user_id, creation_date::date\n",
    "'''\n",
    "\n",
    "# выполните запрос"
   ]
  },
  {
   "cell_type": "code",
   "execution_count": 24,
   "metadata": {},
   "outputs": [],
   "source": [
    "sample_df_7 = pd.read_sql_query(query_7, con=engine)"
   ]
  },
  {
   "cell_type": "code",
   "execution_count": 25,
   "metadata": {},
   "outputs": [
    {
     "data": {
      "text/html": [
       "<div>\n",
       "<style scoped>\n",
       "    .dataframe tbody tr th:only-of-type {\n",
       "        vertical-align: middle;\n",
       "    }\n",
       "\n",
       "    .dataframe tbody tr th {\n",
       "        vertical-align: top;\n",
       "    }\n",
       "\n",
       "    .dataframe thead th {\n",
       "        text-align: right;\n",
       "    }\n",
       "</style>\n",
       "<table border=\"1\" class=\"dataframe\">\n",
       "  <thead>\n",
       "    <tr style=\"text-align: right;\">\n",
       "      <th></th>\n",
       "      <th>user_id</th>\n",
       "      <th>creation_date</th>\n",
       "      <th>second_last_month</th>\n",
       "    </tr>\n",
       "  </thead>\n",
       "  <tbody>\n",
       "    <tr>\n",
       "      <th>0</th>\n",
       "      <td>1</td>\n",
       "      <td>2008-07-31</td>\n",
       "      <td>None</td>\n",
       "    </tr>\n",
       "    <tr>\n",
       "      <th>1</th>\n",
       "      <td>1</td>\n",
       "      <td>2008-07-31</td>\n",
       "      <td>None</td>\n",
       "    </tr>\n",
       "    <tr>\n",
       "      <th>2</th>\n",
       "      <td>1</td>\n",
       "      <td>2008-07-31</td>\n",
       "      <td>July</td>\n",
       "    </tr>\n",
       "    <tr>\n",
       "      <th>3</th>\n",
       "      <td>1</td>\n",
       "      <td>2008-08-04</td>\n",
       "      <td>July</td>\n",
       "    </tr>\n",
       "    <tr>\n",
       "      <th>4</th>\n",
       "      <td>1</td>\n",
       "      <td>2008-08-04</td>\n",
       "      <td>July</td>\n",
       "    </tr>\n",
       "    <tr>\n",
       "      <th>...</th>\n",
       "      <td>...</td>\n",
       "      <td>...</td>\n",
       "      <td>...</td>\n",
       "    </tr>\n",
       "    <tr>\n",
       "      <th>243791</th>\n",
       "      <td>5696608</td>\n",
       "      <td>2008-12-23</td>\n",
       "      <td>December</td>\n",
       "    </tr>\n",
       "    <tr>\n",
       "      <th>243792</th>\n",
       "      <td>5696608</td>\n",
       "      <td>2008-12-23</td>\n",
       "      <td>December</td>\n",
       "    </tr>\n",
       "    <tr>\n",
       "      <th>243793</th>\n",
       "      <td>5696608</td>\n",
       "      <td>2008-12-24</td>\n",
       "      <td>December</td>\n",
       "    </tr>\n",
       "    <tr>\n",
       "      <th>243794</th>\n",
       "      <td>5696608</td>\n",
       "      <td>2008-12-30</td>\n",
       "      <td>December</td>\n",
       "    </tr>\n",
       "    <tr>\n",
       "      <th>243795</th>\n",
       "      <td>5696608</td>\n",
       "      <td>2008-12-30</td>\n",
       "      <td>December</td>\n",
       "    </tr>\n",
       "  </tbody>\n",
       "</table>\n",
       "<p>243796 rows × 3 columns</p>\n",
       "</div>"
      ],
      "text/plain": [
       "        user_id creation_date second_last_month\n",
       "0             1    2008-07-31              None\n",
       "1             1    2008-07-31              None\n",
       "2             1    2008-07-31              July\n",
       "3             1    2008-08-04              July\n",
       "4             1    2008-08-04              July\n",
       "...         ...           ...               ...\n",
       "243791  5696608    2008-12-23          December\n",
       "243792  5696608    2008-12-23          December\n",
       "243793  5696608    2008-12-24          December\n",
       "243794  5696608    2008-12-30          December\n",
       "243795  5696608    2008-12-30          December\n",
       "\n",
       "[243796 rows x 3 columns]"
      ]
     },
     "execution_count": 25,
     "metadata": {},
     "output_type": "execute_result"
    }
   ],
   "source": [
    "sample_df_7"
   ]
  },
  {
   "cell_type": "markdown",
   "metadata": {
    "id": "tf9qq2yzDWK_"
   },
   "source": [
    "# Задание 8"
   ]
  },
  {
   "cell_type": "markdown",
   "metadata": {
    "id": "gfwLVXBYDWLA"
   },
   "source": [
    "Рассчитайте аналог Retention Rate по месяцам для пользователей StackOverflow. Объедините пользователей в когорты по месяцу их первого поста. Возвращение определяйте по наличию поста в текущем месяце. "
   ]
  },
  {
   "cell_type": "markdown",
   "metadata": {
    "id": "kN2ic39WlKpl"
   },
   "source": [
    "| cohort_dt | session_date | users_cnt | cohort_users_cnt | retention_rate |\n",
    "| --- | --- | --- | --- | --- |\n",
    "| 2008-07-01 00:00:00 | 2008-07-01 00:00:00 | 3 | 3 | 100 |\n",
    "| 2008-07-01 00:00:00 | 2008-08-01 00:00:00 | 2 | 3 | 66,67 |\n",
    "| 2008-07-01 00:00:00 | 2008-09-01 00:00:00 | 1 | 3 | 33,33 |\n",
    "| 2008-07-01 00:00:00 | 2008-10-01 00:00:00 | 2 | 3 | 66,67 |\n",
    "| 2008-07-01 00:00:00 | 2008-11-01 00:00:00 | 1 | 3 | 33,33 |\n",
    "| 2008-07-01 00:00:00 | 2008-12-01 00:00:00 | 2 | 3 | 66,67 |\n",
    "| 2008-08-01 00:00:00 | 2008-08-01 00:00:00 | 2151 | 2151 | 100 |\n",
    "| ... | ... | ... | ... | ... |"
   ]
  },
  {
   "cell_type": "code",
   "execution_count": 26,
   "metadata": {
    "id": "LUgFmwmTDWLB"
   },
   "outputs": [],
   "source": [
    "# напишите запрос\n",
    "query_8 = '''\n",
    "WITH profile AS (SELECT DISTINCT user_id,\n",
    "       DATE_TRUNC('month',MIN(creation_date)) AS dt\n",
    "FROM stackoverflow.posts\n",
    "GROUP BY user_id),\n",
    "sessions AS (SELECT user_id,\n",
    "      DATE_TRUNC('month',creation_date) AS session_date\n",
    "FROM stackoverflow.posts\n",
    "GROUP BY 1,2),\n",
    "cohort_users_cnt AS (SELECT COUNT (user_id) AS cohort_users_cnt,\n",
    "       dt\n",
    "FROM profile \n",
    "GROUP BY 2)\n",
    "\n",
    "SELECT p.dt AS cohort_dt,\n",
    "       session_date,\n",
    "       COUNT(p.user_id) AS users_cnt,\n",
    "       cohort_users_cnt,\n",
    "       ROUND(COUNT(p.user_id) * 100.0 / cohort_users_cnt, 2) AS retention_rate\n",
    "FROM profile p\n",
    "JOIN sessions s ON p.user_id = s.user_id\n",
    "JOIN cohort_users_cnt co ON p.dt=co.dt\n",
    "GROUP BY 1,\n",
    "         2,\n",
    "         4;\n",
    "'''\n",
    "\n",
    "# выполните запрос"
   ]
  },
  {
   "cell_type": "code",
   "execution_count": 27,
   "metadata": {},
   "outputs": [],
   "source": [
    "retention_rate_df = pd.read_sql_query(query_8, con=engine)"
   ]
  },
  {
   "cell_type": "code",
   "execution_count": 28,
   "metadata": {},
   "outputs": [
    {
     "data": {
      "text/html": [
       "<div>\n",
       "<style scoped>\n",
       "    .dataframe tbody tr th:only-of-type {\n",
       "        vertical-align: middle;\n",
       "    }\n",
       "\n",
       "    .dataframe tbody tr th {\n",
       "        vertical-align: top;\n",
       "    }\n",
       "\n",
       "    .dataframe thead th {\n",
       "        text-align: right;\n",
       "    }\n",
       "</style>\n",
       "<table border=\"1\" class=\"dataframe\">\n",
       "  <thead>\n",
       "    <tr style=\"text-align: right;\">\n",
       "      <th></th>\n",
       "      <th>cohort_dt</th>\n",
       "      <th>session_date</th>\n",
       "      <th>users_cnt</th>\n",
       "      <th>cohort_users_cnt</th>\n",
       "      <th>retention_rate</th>\n",
       "    </tr>\n",
       "  </thead>\n",
       "  <tbody>\n",
       "    <tr>\n",
       "      <th>0</th>\n",
       "      <td>2008-07-01</td>\n",
       "      <td>2008-07-01</td>\n",
       "      <td>3</td>\n",
       "      <td>3</td>\n",
       "      <td>100.00</td>\n",
       "    </tr>\n",
       "    <tr>\n",
       "      <th>1</th>\n",
       "      <td>2008-07-01</td>\n",
       "      <td>2008-08-01</td>\n",
       "      <td>2</td>\n",
       "      <td>3</td>\n",
       "      <td>66.67</td>\n",
       "    </tr>\n",
       "    <tr>\n",
       "      <th>2</th>\n",
       "      <td>2008-07-01</td>\n",
       "      <td>2008-09-01</td>\n",
       "      <td>1</td>\n",
       "      <td>3</td>\n",
       "      <td>33.33</td>\n",
       "    </tr>\n",
       "    <tr>\n",
       "      <th>3</th>\n",
       "      <td>2008-07-01</td>\n",
       "      <td>2008-10-01</td>\n",
       "      <td>2</td>\n",
       "      <td>3</td>\n",
       "      <td>66.67</td>\n",
       "    </tr>\n",
       "    <tr>\n",
       "      <th>4</th>\n",
       "      <td>2008-07-01</td>\n",
       "      <td>2008-11-01</td>\n",
       "      <td>1</td>\n",
       "      <td>3</td>\n",
       "      <td>33.33</td>\n",
       "    </tr>\n",
       "    <tr>\n",
       "      <th>5</th>\n",
       "      <td>2008-07-01</td>\n",
       "      <td>2008-12-01</td>\n",
       "      <td>2</td>\n",
       "      <td>3</td>\n",
       "      <td>66.67</td>\n",
       "    </tr>\n",
       "    <tr>\n",
       "      <th>6</th>\n",
       "      <td>2008-08-01</td>\n",
       "      <td>2008-08-01</td>\n",
       "      <td>2151</td>\n",
       "      <td>2151</td>\n",
       "      <td>100.00</td>\n",
       "    </tr>\n",
       "    <tr>\n",
       "      <th>7</th>\n",
       "      <td>2008-08-01</td>\n",
       "      <td>2008-09-01</td>\n",
       "      <td>1571</td>\n",
       "      <td>2151</td>\n",
       "      <td>73.04</td>\n",
       "    </tr>\n",
       "    <tr>\n",
       "      <th>8</th>\n",
       "      <td>2008-08-01</td>\n",
       "      <td>2008-10-01</td>\n",
       "      <td>1275</td>\n",
       "      <td>2151</td>\n",
       "      <td>59.27</td>\n",
       "    </tr>\n",
       "    <tr>\n",
       "      <th>9</th>\n",
       "      <td>2008-08-01</td>\n",
       "      <td>2008-11-01</td>\n",
       "      <td>1050</td>\n",
       "      <td>2151</td>\n",
       "      <td>48.81</td>\n",
       "    </tr>\n",
       "    <tr>\n",
       "      <th>10</th>\n",
       "      <td>2008-08-01</td>\n",
       "      <td>2008-12-01</td>\n",
       "      <td>894</td>\n",
       "      <td>2151</td>\n",
       "      <td>41.56</td>\n",
       "    </tr>\n",
       "    <tr>\n",
       "      <th>11</th>\n",
       "      <td>2008-09-01</td>\n",
       "      <td>2008-09-01</td>\n",
       "      <td>7678</td>\n",
       "      <td>7678</td>\n",
       "      <td>100.00</td>\n",
       "    </tr>\n",
       "    <tr>\n",
       "      <th>12</th>\n",
       "      <td>2008-09-01</td>\n",
       "      <td>2008-10-01</td>\n",
       "      <td>4132</td>\n",
       "      <td>7678</td>\n",
       "      <td>53.82</td>\n",
       "    </tr>\n",
       "    <tr>\n",
       "      <th>13</th>\n",
       "      <td>2008-09-01</td>\n",
       "      <td>2008-11-01</td>\n",
       "      <td>2966</td>\n",
       "      <td>7678</td>\n",
       "      <td>38.63</td>\n",
       "    </tr>\n",
       "    <tr>\n",
       "      <th>14</th>\n",
       "      <td>2008-09-01</td>\n",
       "      <td>2008-12-01</td>\n",
       "      <td>2500</td>\n",
       "      <td>7678</td>\n",
       "      <td>32.56</td>\n",
       "    </tr>\n",
       "    <tr>\n",
       "      <th>15</th>\n",
       "      <td>2008-10-01</td>\n",
       "      <td>2008-10-01</td>\n",
       "      <td>3629</td>\n",
       "      <td>3629</td>\n",
       "      <td>100.00</td>\n",
       "    </tr>\n",
       "    <tr>\n",
       "      <th>16</th>\n",
       "      <td>2008-10-01</td>\n",
       "      <td>2008-11-01</td>\n",
       "      <td>1640</td>\n",
       "      <td>3629</td>\n",
       "      <td>45.19</td>\n",
       "    </tr>\n",
       "    <tr>\n",
       "      <th>17</th>\n",
       "      <td>2008-10-01</td>\n",
       "      <td>2008-12-01</td>\n",
       "      <td>1221</td>\n",
       "      <td>3629</td>\n",
       "      <td>33.65</td>\n",
       "    </tr>\n",
       "    <tr>\n",
       "      <th>18</th>\n",
       "      <td>2008-11-01</td>\n",
       "      <td>2008-11-01</td>\n",
       "      <td>2852</td>\n",
       "      <td>2852</td>\n",
       "      <td>100.00</td>\n",
       "    </tr>\n",
       "    <tr>\n",
       "      <th>19</th>\n",
       "      <td>2008-11-01</td>\n",
       "      <td>2008-12-01</td>\n",
       "      <td>1151</td>\n",
       "      <td>2852</td>\n",
       "      <td>40.36</td>\n",
       "    </tr>\n",
       "    <tr>\n",
       "      <th>20</th>\n",
       "      <td>2008-12-01</td>\n",
       "      <td>2008-12-01</td>\n",
       "      <td>2536</td>\n",
       "      <td>2536</td>\n",
       "      <td>100.00</td>\n",
       "    </tr>\n",
       "  </tbody>\n",
       "</table>\n",
       "</div>"
      ],
      "text/plain": [
       "    cohort_dt session_date  users_cnt  cohort_users_cnt  retention_rate\n",
       "0  2008-07-01   2008-07-01          3                 3          100.00\n",
       "1  2008-07-01   2008-08-01          2                 3           66.67\n",
       "2  2008-07-01   2008-09-01          1                 3           33.33\n",
       "3  2008-07-01   2008-10-01          2                 3           66.67\n",
       "4  2008-07-01   2008-11-01          1                 3           33.33\n",
       "5  2008-07-01   2008-12-01          2                 3           66.67\n",
       "6  2008-08-01   2008-08-01       2151              2151          100.00\n",
       "7  2008-08-01   2008-09-01       1571              2151           73.04\n",
       "8  2008-08-01   2008-10-01       1275              2151           59.27\n",
       "9  2008-08-01   2008-11-01       1050              2151           48.81\n",
       "10 2008-08-01   2008-12-01        894              2151           41.56\n",
       "11 2008-09-01   2008-09-01       7678              7678          100.00\n",
       "12 2008-09-01   2008-10-01       4132              7678           53.82\n",
       "13 2008-09-01   2008-11-01       2966              7678           38.63\n",
       "14 2008-09-01   2008-12-01       2500              7678           32.56\n",
       "15 2008-10-01   2008-10-01       3629              3629          100.00\n",
       "16 2008-10-01   2008-11-01       1640              3629           45.19\n",
       "17 2008-10-01   2008-12-01       1221              3629           33.65\n",
       "18 2008-11-01   2008-11-01       2852              2852          100.00\n",
       "19 2008-11-01   2008-12-01       1151              2852           40.36\n",
       "20 2008-12-01   2008-12-01       2536              2536          100.00"
      ]
     },
     "execution_count": 28,
     "metadata": {},
     "output_type": "execute_result"
    }
   ],
   "source": [
    "retention_rate_df"
   ]
  },
  {
   "cell_type": "code",
   "execution_count": 29,
   "metadata": {
    "id": "qAEJc8H1DWLC"
   },
   "outputs": [
    {
     "data": {
      "image/png": "[encoded data removed]",
      "text/plain": [
       "<Figure size 1152x1152 with 2 Axes>"
      ]
     },
     "metadata": {
      "needs_background": "light"
     },
     "output_type": "display_data"
    }
   ],
   "source": [
    "# постройте тепловую карту Retention Rate\n",
    "retention = retention_rate_df.pivot('cohort_dt', 'session_date', 'retention_rate')\n",
    "retention.index = [str(x)[0:10] for x in retention.index]\n",
    "retention.columns = [str(x)[0:10] for x in retention.columns]\n",
    "\n",
    "plt.figure(figsize=(16, 16)) \n",
    "sns.heatmap(retention, \n",
    "            annot=True, \n",
    "            fmt='') \n",
    "plt.title('Тепловая карта') \n",
    "plt.show()"
   ]
  },
  {
   "cell_type": "markdown",
   "metadata": {
    "id": "EgOfIsI4DWLC"
   },
   "source": [
    "**Вывод**: можно увидеть, что коэффицент удержания для всех когорт, за исключением той, что образовалась в июля, снижается к декабрю и показатели данного месяца являются минимлаьными для всех когорт за исключением июльской. Можно предположить, что данный факт связан с тем, что осенью люди больше заинтересованы в получение ответов на свои вопросы, так как учатся, а с наступлением декабря освоение нового материала прекращается из-за окончания календарного учебного года и каникул. Аномалией является когорта июля, так как коэффицент удержания пользователей данной когорты одинаков для августа, октября и декабря и составляет 66,67%, в то время как для сентября и ноября он составляет также одинаковые 33,33%. Данные цифры вызывают вопросы относительно корректности собранных данных. Возможно, стоит также проверить другие показатели именно июльской когорты, чтобы разобраться в аномалиях выявленных в коэффиценте удержания данной когорты по всем месяцам."
   ]
  },
  {
   "cell_type": "markdown",
   "metadata": {
    "id": "1k7oPWt5DWLK"
   },
   "source": [
    "# Задание 9\n"
   ]
  },
  {
   "cell_type": "markdown",
   "metadata": {
    "id": "ALsYVSyRDWLM"
   },
   "source": [
    "На сколько процентов менялось количество постов ежемесячно с 1 сентября по 31 декабря 2008 года? Отобразите таблицу со следующими полями:\n",
    "\n",
    "- номер месяца;\n",
    "- количество постов за месяц;\n",
    "- процент, который показывает, насколько изменилось количество постов в текущем месяце по сравнению с предыдущим.\n",
    "\n",
    "Если постов стало меньше, значение процента должно быть отрицательным, если больше — положительным. Округлите значение процента до двух знаков после запятой.\n",
    "\n",
    "Напомним, что при делении одного целого числа на другое в PostgreSQL в результате получится целое число, округлённое до ближайшего целого вниз. Чтобы этого избежать, переведите делимое в тип `numeric`."
   ]
  },
  {
   "cell_type": "markdown",
   "metadata": {
    "id": "u4E2zF8DDWLM"
   },
   "source": [
    "| creation_month | posts_count | percentage |\n",
    "| -------------- | ----------- | ---------- |\n",
    "| 9 | 70731 | Nan |\n",
    "| 10 | 63102 | -10.33 |\n",
    "| ... | ... | ... |"
   ]
  },
  {
   "cell_type": "code",
   "execution_count": 30,
   "metadata": {
    "id": "Mb5pShStDWLN"
   },
   "outputs": [],
   "source": [
    "# напишите запрос\n",
    "query_9 = '''\n",
    "WITH t AS (\n",
    "SELECT EXTRACT(MONTH from creation_date::date) AS creation_month,\n",
    "       COUNT(DISTINCT id) AS posts_count   \n",
    "FROM stackoverflow.posts\n",
    "WHERE creation_date::date BETWEEN '2008-09-01' AND '2008-12-31'\n",
    "GROUP BY creation_month\n",
    ")\n",
    "\n",
    "SELECT *,\n",
    "       ROUND(((posts_count::numeric / LAG(posts_count) OVER (ORDER BY creation_month)) - 1) * 100,2) AS percentage\n",
    "FROM t;\n",
    "'''\n",
    "\n",
    "# выполните запрос"
   ]
  },
  {
   "cell_type": "code",
   "execution_count": 31,
   "metadata": {},
   "outputs": [],
   "source": [
    "sample_df_9 = pd.read_sql_query(query_9, con=engine)"
   ]
  },
  {
   "cell_type": "code",
   "execution_count": 32,
   "metadata": {},
   "outputs": [
    {
     "data": {
      "text/html": [
       "<div>\n",
       "<style scoped>\n",
       "    .dataframe tbody tr th:only-of-type {\n",
       "        vertical-align: middle;\n",
       "    }\n",
       "\n",
       "    .dataframe tbody tr th {\n",
       "        vertical-align: top;\n",
       "    }\n",
       "\n",
       "    .dataframe thead th {\n",
       "        text-align: right;\n",
       "    }\n",
       "</style>\n",
       "<table border=\"1\" class=\"dataframe\">\n",
       "  <thead>\n",
       "    <tr style=\"text-align: right;\">\n",
       "      <th></th>\n",
       "      <th>creation_month</th>\n",
       "      <th>posts_count</th>\n",
       "      <th>percentage</th>\n",
       "    </tr>\n",
       "  </thead>\n",
       "  <tbody>\n",
       "    <tr>\n",
       "      <th>0</th>\n",
       "      <td>9.0</td>\n",
       "      <td>70371</td>\n",
       "      <td>NaN</td>\n",
       "    </tr>\n",
       "    <tr>\n",
       "      <th>1</th>\n",
       "      <td>10.0</td>\n",
       "      <td>63102</td>\n",
       "      <td>-10.33</td>\n",
       "    </tr>\n",
       "    <tr>\n",
       "      <th>2</th>\n",
       "      <td>11.0</td>\n",
       "      <td>46975</td>\n",
       "      <td>-25.56</td>\n",
       "    </tr>\n",
       "    <tr>\n",
       "      <th>3</th>\n",
       "      <td>12.0</td>\n",
       "      <td>44592</td>\n",
       "      <td>-5.07</td>\n",
       "    </tr>\n",
       "  </tbody>\n",
       "</table>\n",
       "</div>"
      ],
      "text/plain": [
       "   creation_month  posts_count  percentage\n",
       "0             9.0        70371         NaN\n",
       "1            10.0        63102      -10.33\n",
       "2            11.0        46975      -25.56\n",
       "3            12.0        44592       -5.07"
      ]
     },
     "execution_count": 32,
     "metadata": {},
     "output_type": "execute_result"
    }
   ],
   "source": [
    "sample_df_9"
   ]
  },
  {
   "cell_type": "code",
   "execution_count": 33,
   "metadata": {
    "id": "377ABjiVDWLP"
   },
   "outputs": [
    {
     "data": {
      "text/plain": [
       "([<matplotlib.patches.Wedge at 0x7fb8ab498190>,\n",
       "  <matplotlib.patches.Wedge at 0x7fb8ab498820>,\n",
       "  <matplotlib.patches.Wedge at 0x7fb8ab498eb0>,\n",
       "  <matplotlib.patches.Wedge at 0x7fb8ab4a2580>],\n",
       " [Text(0.6105397764547448, 0.9150088422341013, '9.0'),\n",
       "  Text(-1.052194317981818, 0.3207602176186704, '10.0'),\n",
       "  Text(-0.3564514280490418, -1.0406451746113077, '11.0'),\n",
       "  Text(0.893658596222067, -0.6413846844120966, '12.0')],\n",
       " [Text(0.33302169624804256, 0.49909573212769154, '31%'),\n",
       "  Text(-0.573924173444628, 0.17496011870109293, '28%'),\n",
       "  Text(-0.19442805166311367, -0.5676246406970769, '21%'),\n",
       "  Text(0.4874501433938546, -0.3498461914975072, '20%')])"
      ]
     },
     "execution_count": 33,
     "metadata": {},
     "output_type": "execute_result"
    },
    {
     "data": {
      "image/png": "[encoded data removed]",
      "text/plain": [
       "<Figure size 432x288 with 1 Axes>"
      ]
     },
     "metadata": {},
     "output_type": "display_data"
    }
   ],
   "source": [
    "# построение круговую диаграмму с количеством постов по месяцам\n",
    "\n",
    "vals = sample_df_9['posts_count']\n",
    "labels = sample_df_9['creation_month']\n",
    "\n",
    "fig, ax = plt.subplots()\n",
    "ax.pie(vals, labels=labels, autopct='%1.00f%%')"
   ]
  },
  {
   "cell_type": "markdown",
   "metadata": {
    "id": "uw7qMtafDWLP"
   },
   "source": [
    "# Задание 10"
   ]
  },
  {
   "cell_type": "markdown",
   "metadata": {
    "id": "oRBpWKx3DWLQ"
   },
   "source": [
    "Выгрузите данные активности пользователя, который опубликовал больше всего постов за всё время. Выведите данные за октябрь 2008 года в таком виде:\n",
    "\n",
    "- номер недели;\n",
    "- дата и время последнего поста, опубликованного на этой неделе."
   ]
  },
  {
   "cell_type": "markdown",
   "metadata": {
    "id": "XjAWSn_3DWLQ"
   },
   "source": [
    "| week_creation | creation_date |\n",
    "| ------------- | ------------- |\n",
    "| 40 | 2008-10-05 09:00:58 |\n",
    "| 41 | 2008-10-12 21:22:23 |\n",
    "| ... | ... |"
   ]
  },
  {
   "cell_type": "code",
   "execution_count": 34,
   "metadata": {
    "id": "r5F5fSkwDWLQ"
   },
   "outputs": [],
   "source": [
    "# напишите запрос\n",
    "query_10 = '''\n",
    "WITH t AS (\n",
    "SELECT user_id,\n",
    "       COUNT(DISTINCT id) AS cnt\n",
    "FROM stackoverflow.posts\n",
    "GROUP BY user_id\n",
    "ORDER BY cnt DESC\n",
    "LIMIT 1),\n",
    "\n",
    "     t1 AS (\n",
    "SELECT p.user_id,\n",
    "       p.creation_date,\n",
    "       extract('week' from p.creation_date) AS week_creation\n",
    "FROM stackoverflow.posts AS p\n",
    "JOIN t ON t.user_id = p.user_id\n",
    "WHERE DATE_TRUNC('month', p.creation_date)::date = '2008-10-01'\n",
    "           )\n",
    "\n",
    "SELECT DISTINCT week_creation::numeric,\n",
    "       MAX(creation_date) OVER (PARTITION BY week_creation) AS creation_date\n",
    "FROM t1\n",
    "ORDER BY week_creation;\n",
    "'''\n",
    "\n",
    "# выполните запрос"
   ]
  },
  {
   "cell_type": "code",
   "execution_count": 35,
   "metadata": {},
   "outputs": [],
   "source": [
    "sample_df_10 = pd.read_sql_query(query_10, con=engine)"
   ]
  },
  {
   "cell_type": "code",
   "execution_count": 36,
   "metadata": {},
   "outputs": [
    {
     "data": {
      "text/html": [
       "<div>\n",
       "<style scoped>\n",
       "    .dataframe tbody tr th:only-of-type {\n",
       "        vertical-align: middle;\n",
       "    }\n",
       "\n",
       "    .dataframe tbody tr th {\n",
       "        vertical-align: top;\n",
       "    }\n",
       "\n",
       "    .dataframe thead th {\n",
       "        text-align: right;\n",
       "    }\n",
       "</style>\n",
       "<table border=\"1\" class=\"dataframe\">\n",
       "  <thead>\n",
       "    <tr style=\"text-align: right;\">\n",
       "      <th></th>\n",
       "      <th>week_creation</th>\n",
       "      <th>creation_date</th>\n",
       "    </tr>\n",
       "  </thead>\n",
       "  <tbody>\n",
       "    <tr>\n",
       "      <th>0</th>\n",
       "      <td>40.0</td>\n",
       "      <td>2008-10-05 09:00:58</td>\n",
       "    </tr>\n",
       "    <tr>\n",
       "      <th>1</th>\n",
       "      <td>41.0</td>\n",
       "      <td>2008-10-12 21:22:23</td>\n",
       "    </tr>\n",
       "    <tr>\n",
       "      <th>2</th>\n",
       "      <td>42.0</td>\n",
       "      <td>2008-10-19 06:49:30</td>\n",
       "    </tr>\n",
       "    <tr>\n",
       "      <th>3</th>\n",
       "      <td>43.0</td>\n",
       "      <td>2008-10-26 21:44:36</td>\n",
       "    </tr>\n",
       "    <tr>\n",
       "      <th>4</th>\n",
       "      <td>44.0</td>\n",
       "      <td>2008-10-31 22:16:01</td>\n",
       "    </tr>\n",
       "  </tbody>\n",
       "</table>\n",
       "</div>"
      ],
      "text/plain": [
       "   week_creation       creation_date\n",
       "0           40.0 2008-10-05 09:00:58\n",
       "1           41.0 2008-10-12 21:22:23\n",
       "2           42.0 2008-10-19 06:49:30\n",
       "3           43.0 2008-10-26 21:44:36\n",
       "4           44.0 2008-10-31 22:16:01"
      ]
     },
     "execution_count": 36,
     "metadata": {},
     "output_type": "execute_result"
    }
   ],
   "source": [
    "sample_df_10"
   ]
  }
 ],
 "metadata": {
  "ExecuteTimeLog": [
   {
    "duration": 1094,
    "start_time": "2023-04-18T11:28:47.418Z"
   },
   {
    "duration": 4,
    "start_time": "2023-04-18T11:29:32.230Z"
   },
   {
    "duration": 34654,
    "start_time": "2023-04-18T11:29:33.619Z"
   },
   {
    "duration": 210,
    "start_time": "2023-04-18T11:30:08.275Z"
   },
   {
    "duration": 21,
    "start_time": "2023-04-18T11:30:08.488Z"
   },
   {
    "duration": 156,
    "start_time": "2023-04-18T11:34:26.463Z"
   },
   {
    "duration": 7,
    "start_time": "2023-04-18T11:34:27.571Z"
   },
   {
    "duration": 141,
    "start_time": "2023-04-18T11:34:52.576Z"
   },
   {
    "duration": 9,
    "start_time": "2023-04-18T11:34:53.149Z"
   },
   {
    "duration": 2,
    "start_time": "2023-04-18T12:05:26.725Z"
   },
   {
    "duration": 362,
    "start_time": "2023-04-18T12:05:27.175Z"
   },
   {
    "duration": 7,
    "start_time": "2023-04-18T12:05:27.766Z"
   },
   {
    "duration": 3,
    "start_time": "2023-04-18T12:06:18.000Z"
   },
   {
    "duration": 2,
    "start_time": "2023-04-18T12:12:16.973Z"
   },
   {
    "duration": 479,
    "start_time": "2023-04-18T12:12:17.713Z"
   },
   {
    "duration": 6,
    "start_time": "2023-04-18T12:12:42.018Z"
   },
   {
    "duration": 3,
    "start_time": "2023-04-18T12:12:59.130Z"
   },
   {
    "duration": 111,
    "start_time": "2023-04-18T12:12:59.562Z"
   },
   {
    "duration": 774,
    "start_time": "2023-04-18T12:13:14.949Z"
   },
   {
    "duration": 4,
    "start_time": "2023-04-18T12:13:17.085Z"
   },
   {
    "duration": 20497,
    "start_time": "2023-04-18T12:13:19.322Z"
   },
   {
    "duration": 220,
    "start_time": "2023-04-18T12:13:39.821Z"
   },
   {
    "duration": 14,
    "start_time": "2023-04-18T12:13:45.316Z"
   },
   {
    "duration": 142,
    "start_time": "2023-04-18T12:13:48.967Z"
   },
   {
    "duration": 7,
    "start_time": "2023-04-18T12:13:50.175Z"
   },
   {
    "duration": 10,
    "start_time": "2023-04-18T12:14:21.949Z"
   },
   {
    "duration": 3,
    "start_time": "2023-04-18T12:22:00.210Z"
   },
   {
    "duration": 307,
    "start_time": "2023-04-18T12:22:03.280Z"
   },
   {
    "duration": 3,
    "start_time": "2023-04-18T12:25:04.019Z"
   },
   {
    "duration": 133,
    "start_time": "2023-04-18T12:25:04.877Z"
   },
   {
    "duration": 5,
    "start_time": "2023-04-18T12:25:36.866Z"
   },
   {
    "duration": 397,
    "start_time": "2023-04-18T12:25:37.213Z"
   },
   {
    "duration": 3,
    "start_time": "2023-04-18T12:27:13.977Z"
   },
   {
    "duration": 4,
    "start_time": "2023-04-18T12:28:46.781Z"
   },
   {
    "duration": 155,
    "start_time": "2023-04-18T12:28:47.677Z"
   },
   {
    "duration": 162,
    "start_time": "2023-04-18T12:29:12.617Z"
   },
   {
    "duration": 9,
    "start_time": "2023-04-18T12:29:13.225Z"
   },
   {
    "duration": 18,
    "start_time": "2023-04-18T12:29:29.546Z"
   },
   {
    "duration": 251,
    "start_time": "2023-04-18T12:29:29.871Z"
   },
   {
    "duration": 6,
    "start_time": "2023-04-18T12:29:52.980Z"
   },
   {
    "duration": 323,
    "start_time": "2023-04-18T12:29:53.573Z"
   },
   {
    "duration": 3,
    "start_time": "2023-04-18T12:30:28.008Z"
   },
   {
    "duration": 349,
    "start_time": "2023-04-18T12:30:28.370Z"
   },
   {
    "duration": 14,
    "start_time": "2023-04-18T12:30:30.435Z"
   },
   {
    "duration": 2,
    "start_time": "2023-04-18T12:30:45.124Z"
   },
   {
    "duration": 270,
    "start_time": "2023-04-18T12:30:45.826Z"
   },
   {
    "duration": 10,
    "start_time": "2023-04-18T12:30:47.224Z"
   },
   {
    "duration": 3,
    "start_time": "2023-04-18T12:30:58.345Z"
   },
   {
    "duration": 273,
    "start_time": "2023-04-18T12:30:59.140Z"
   },
   {
    "duration": 11,
    "start_time": "2023-04-18T12:31:00.329Z"
   },
   {
    "duration": 10,
    "start_time": "2023-04-18T12:31:38.876Z"
   },
   {
    "duration": 278,
    "start_time": "2023-04-18T12:31:39.623Z"
   },
   {
    "duration": 9,
    "start_time": "2023-04-18T12:31:40.634Z"
   },
   {
    "duration": 3,
    "start_time": "2023-04-18T12:32:04.038Z"
   },
   {
    "duration": 120,
    "start_time": "2023-04-18T12:32:04.821Z"
   },
   {
    "duration": 3,
    "start_time": "2023-04-18T12:33:27.112Z"
   },
   {
    "duration": 135,
    "start_time": "2023-04-18T12:33:27.677Z"
   },
   {
    "duration": 3,
    "start_time": "2023-04-18T12:35:07.822Z"
   },
   {
    "duration": 35,
    "start_time": "2023-04-18T12:35:08.705Z"
   },
   {
    "duration": 6,
    "start_time": "2023-04-18T12:35:09.676Z"
   },
   {
    "duration": 2,
    "start_time": "2023-04-18T12:35:35.313Z"
   },
   {
    "duration": 178,
    "start_time": "2023-04-18T12:35:36.205Z"
   },
   {
    "duration": 8,
    "start_time": "2023-04-18T12:35:37.382Z"
   },
   {
    "duration": 2,
    "start_time": "2023-04-18T12:36:30.121Z"
   },
   {
    "duration": 130,
    "start_time": "2023-04-18T12:36:30.513Z"
   },
   {
    "duration": 8,
    "start_time": "2023-04-18T12:36:31.130Z"
   },
   {
    "duration": 8,
    "start_time": "2023-04-18T13:31:56.091Z"
   },
   {
    "duration": 3,
    "start_time": "2023-04-18T13:32:04.105Z"
   },
   {
    "duration": 563,
    "start_time": "2023-04-18T13:32:04.901Z"
   },
   {
    "duration": 8,
    "start_time": "2023-04-18T13:32:06.375Z"
   },
   {
    "duration": 1009,
    "start_time": "2023-04-18T15:17:04.334Z"
   },
   {
    "duration": 3,
    "start_time": "2023-04-18T15:17:09.250Z"
   },
   {
    "duration": 8177,
    "start_time": "2023-04-18T15:17:10.742Z"
   },
   {
    "duration": 233,
    "start_time": "2023-04-18T15:17:19.927Z"
   },
   {
    "duration": 16,
    "start_time": "2023-04-18T15:17:20.621Z"
   },
   {
    "duration": 139,
    "start_time": "2023-04-18T15:17:22.365Z"
   },
   {
    "duration": 7,
    "start_time": "2023-04-18T15:17:23.186Z"
   },
   {
    "duration": 3,
    "start_time": "2023-04-18T15:17:30.363Z"
   },
   {
    "duration": 143,
    "start_time": "2023-04-18T15:17:30.676Z"
   },
   {
    "duration": 8,
    "start_time": "2023-04-18T15:17:31.577Z"
   },
   {
    "duration": 3,
    "start_time": "2023-04-18T15:17:35.973Z"
   },
   {
    "duration": 137,
    "start_time": "2023-04-18T15:17:37.261Z"
   },
   {
    "duration": 7,
    "start_time": "2023-04-18T15:17:37.536Z"
   },
   {
    "duration": 2,
    "start_time": "2023-04-18T15:18:04.365Z"
   },
   {
    "duration": 1357,
    "start_time": "2023-04-18T15:18:11.284Z"
   },
   {
    "duration": 11,
    "start_time": "2023-04-18T15:18:15.527Z"
   },
   {
    "duration": 4,
    "start_time": "2023-04-18T15:55:32.108Z"
   },
   {
    "duration": 77,
    "start_time": "2023-04-18T15:55:42.400Z"
   },
   {
    "duration": 7,
    "start_time": "2023-04-18T15:55:46.909Z"
   },
   {
    "duration": 3,
    "start_time": "2023-04-18T16:39:20.817Z"
   },
   {
    "duration": 56,
    "start_time": "2023-04-18T16:39:21.712Z"
   },
   {
    "duration": 8,
    "start_time": "2023-04-18T16:39:22.505Z"
   },
   {
    "duration": 4,
    "start_time": "2023-04-18T17:34:57.482Z"
   },
   {
    "duration": 1081,
    "start_time": "2023-04-18T17:35:00.527Z"
   },
   {
    "duration": 10,
    "start_time": "2023-04-18T17:35:02.317Z"
   },
   {
    "duration": 3,
    "start_time": "2023-04-18T18:19:09.325Z"
   },
   {
    "duration": 271,
    "start_time": "2023-04-18T18:19:12.640Z"
   },
   {
    "duration": 16,
    "start_time": "2023-04-18T18:19:14.015Z"
   },
   {
    "duration": 109,
    "start_time": "2023-04-18T18:29:25.413Z"
   },
   {
    "duration": 555,
    "start_time": "2023-04-18T18:29:51.414Z"
   },
   {
    "duration": 67,
    "start_time": "2023-04-18T18:29:58.149Z"
   },
   {
    "duration": 27,
    "start_time": "2023-04-18T18:30:47.441Z"
   },
   {
    "duration": 277,
    "start_time": "2023-04-18T18:44:13.920Z"
   },
   {
    "duration": 14,
    "start_time": "2023-04-18T18:44:14.531Z"
   },
   {
    "duration": 552,
    "start_time": "2023-04-18T18:45:42.112Z"
   },
   {
    "duration": 4,
    "start_time": "2023-04-18T19:21:33.529Z"
   },
   {
    "duration": 133,
    "start_time": "2023-04-18T19:22:08.407Z"
   },
   {
    "duration": 3,
    "start_time": "2023-04-18T19:22:49.626Z"
   },
   {
    "duration": 152,
    "start_time": "2023-04-18T19:22:50.013Z"
   },
   {
    "duration": 9,
    "start_time": "2023-04-18T19:22:53.800Z"
   },
   {
    "duration": 16,
    "start_time": "2023-04-18T19:26:39.307Z"
   },
   {
    "duration": 2,
    "start_time": "2023-04-18T19:26:59.317Z"
   },
   {
    "duration": 21,
    "start_time": "2023-04-18T19:30:14.107Z"
   },
   {
    "duration": 15,
    "start_time": "2023-04-18T19:30:32.016Z"
   },
   {
    "duration": 148,
    "start_time": "2023-04-18T19:32:49.008Z"
   },
   {
    "duration": 322,
    "start_time": "2023-04-18T19:34:34.841Z"
   },
   {
    "duration": 313,
    "start_time": "2023-04-18T19:34:43.299Z"
   },
   {
    "duration": 318,
    "start_time": "2023-04-18T19:34:50.041Z"
   },
   {
    "duration": 3,
    "start_time": "2023-04-18T19:34:55.160Z"
   },
   {
    "duration": 4,
    "start_time": "2023-04-18T19:35:54.560Z"
   },
   {
    "duration": 213,
    "start_time": "2023-04-18T19:35:56.525Z"
   },
   {
    "duration": 10,
    "start_time": "2023-04-18T19:35:57.304Z"
   },
   {
    "duration": 4,
    "start_time": "2023-04-18T19:36:28.509Z"
   },
   {
    "duration": 203,
    "start_time": "2023-04-18T19:36:30.023Z"
   },
   {
    "duration": 9,
    "start_time": "2023-04-18T19:36:30.253Z"
   },
   {
    "duration": 5,
    "start_time": "2023-04-18T19:36:40.164Z"
   },
   {
    "duration": 195,
    "start_time": "2023-04-18T19:36:40.669Z"
   },
   {
    "duration": 11,
    "start_time": "2023-04-18T19:36:41.055Z"
   },
   {
    "duration": 27,
    "start_time": "2023-04-18T19:38:52.157Z"
   },
   {
    "duration": 17,
    "start_time": "2023-04-18T19:39:24.232Z"
   },
   {
    "duration": 14,
    "start_time": "2023-04-18T19:39:27.824Z"
   },
   {
    "duration": 23,
    "start_time": "2023-04-18T19:41:16.669Z"
   },
   {
    "duration": 9,
    "start_time": "2023-04-18T19:41:22.510Z"
   },
   {
    "duration": 17,
    "start_time": "2023-04-18T19:42:04.709Z"
   },
   {
    "duration": 17,
    "start_time": "2023-04-18T19:42:14.446Z"
   },
   {
    "duration": 193,
    "start_time": "2023-04-18T19:42:58.342Z"
   },
   {
    "duration": 194,
    "start_time": "2023-04-18T19:44:20.367Z"
   },
   {
    "duration": 1129,
    "start_time": "2023-04-18T19:44:42.111Z"
   },
   {
    "duration": 174,
    "start_time": "2023-04-18T19:44:57.840Z"
   },
   {
    "duration": 196,
    "start_time": "2023-04-18T19:45:22.847Z"
   },
   {
    "duration": 161,
    "start_time": "2023-04-18T19:45:49.502Z"
   },
   {
    "duration": 198,
    "start_time": "2023-04-18T19:45:54.945Z"
   },
   {
    "duration": 19,
    "start_time": "2023-04-18T19:48:07.952Z"
   },
   {
    "duration": 18,
    "start_time": "2023-04-18T19:48:12.863Z"
   },
   {
    "duration": 41,
    "start_time": "2023-04-18T19:48:18.003Z"
   },
   {
    "duration": 10,
    "start_time": "2023-04-18T19:48:27.595Z"
   },
   {
    "duration": 13,
    "start_time": "2023-04-18T19:50:23.891Z"
   },
   {
    "duration": 1145,
    "start_time": "2023-04-18T19:50:42.702Z"
   },
   {
    "duration": 1190,
    "start_time": "2023-04-18T19:51:19.139Z"
   },
   {
    "duration": 105,
    "start_time": "2023-04-18T19:51:24.893Z"
   },
   {
    "duration": 19,
    "start_time": "2023-04-18T19:51:58.195Z"
   },
   {
    "duration": 10,
    "start_time": "2023-04-18T19:53:44.712Z"
   },
   {
    "duration": 1262,
    "start_time": "2023-04-18T19:59:32.149Z"
   },
   {
    "duration": 80,
    "start_time": "2023-04-18T19:59:56.001Z"
   },
   {
    "duration": 101,
    "start_time": "2023-04-18T20:00:05.844Z"
   },
   {
    "duration": 79,
    "start_time": "2023-04-18T20:00:33.035Z"
   },
   {
    "duration": 1472,
    "start_time": "2023-04-18T20:00:45.236Z"
   },
   {
    "duration": 188,
    "start_time": "2023-04-18T20:01:18.801Z"
   },
   {
    "duration": 1272,
    "start_time": "2023-04-18T20:01:54.601Z"
   },
   {
    "duration": 1157,
    "start_time": "2023-04-18T20:02:05.088Z"
   },
   {
    "duration": 15,
    "start_time": "2023-04-18T20:02:14.424Z"
   },
   {
    "duration": 1662,
    "start_time": "2023-04-19T06:30:30.775Z"
   },
   {
    "duration": 5,
    "start_time": "2023-04-19T06:30:34.314Z"
   },
   {
    "duration": 10106,
    "start_time": "2023-04-19T06:30:35.715Z"
   },
   {
    "duration": 244,
    "start_time": "2023-04-19T06:31:02.027Z"
   },
   {
    "duration": 20,
    "start_time": "2023-04-19T06:31:03.029Z"
   },
   {
    "duration": 142,
    "start_time": "2023-04-19T06:31:04.357Z"
   },
   {
    "duration": 8,
    "start_time": "2023-04-19T06:31:04.927Z"
   },
   {
    "duration": 4,
    "start_time": "2023-04-19T06:31:07.558Z"
   },
   {
    "duration": 125,
    "start_time": "2023-04-19T06:31:07.912Z"
   },
   {
    "duration": 13,
    "start_time": "2023-04-19T06:31:08.271Z"
   },
   {
    "duration": 3,
    "start_time": "2023-04-19T06:31:11.458Z"
   },
   {
    "duration": 136,
    "start_time": "2023-04-19T06:31:11.762Z"
   },
   {
    "duration": 9,
    "start_time": "2023-04-19T06:31:12.058Z"
   },
   {
    "duration": 4,
    "start_time": "2023-04-19T06:31:14.465Z"
   },
   {
    "duration": 1581,
    "start_time": "2023-04-19T06:31:14.814Z"
   },
   {
    "duration": 14,
    "start_time": "2023-04-19T06:31:16.397Z"
   },
   {
    "duration": 3,
    "start_time": "2023-04-19T06:31:17.431Z"
   },
   {
    "duration": 80,
    "start_time": "2023-04-19T06:31:17.819Z"
   },
   {
    "duration": 9,
    "start_time": "2023-04-19T06:31:18.132Z"
   },
   {
    "duration": 4,
    "start_time": "2023-04-19T06:31:20.064Z"
   },
   {
    "duration": 56,
    "start_time": "2023-04-19T06:31:20.524Z"
   },
   {
    "duration": 8,
    "start_time": "2023-04-19T06:31:20.927Z"
   },
   {
    "duration": 4,
    "start_time": "2023-04-19T06:31:23.928Z"
   },
   {
    "duration": 1256,
    "start_time": "2023-04-19T06:31:24.436Z"
   },
   {
    "duration": 12,
    "start_time": "2023-04-19T06:31:25.694Z"
   },
   {
    "duration": 4,
    "start_time": "2023-04-19T06:31:27.142Z"
   },
   {
    "duration": 300,
    "start_time": "2023-04-19T06:31:27.568Z"
   },
   {
    "duration": 14,
    "start_time": "2023-04-19T06:31:27.937Z"
   },
   {
    "duration": 595,
    "start_time": "2023-04-19T06:31:29.474Z"
   },
   {
    "duration": 4,
    "start_time": "2023-04-19T06:31:35.324Z"
   },
   {
    "duration": 168,
    "start_time": "2023-04-19T06:31:35.628Z"
   },
   {
    "duration": 10,
    "start_time": "2023-04-19T06:31:38.366Z"
   },
   {
    "duration": 12,
    "start_time": "2023-04-19T06:31:47.818Z"
   },
   {
    "duration": 8,
    "start_time": "2023-04-19T06:31:55.617Z"
   },
   {
    "duration": 1619,
    "start_time": "2023-04-19T06:33:30.334Z"
   },
   {
    "duration": 1330,
    "start_time": "2023-04-19T06:33:40.855Z"
   },
   {
    "duration": 550,
    "start_time": "2023-04-19T06:34:19.170Z"
   },
   {
    "duration": 183,
    "start_time": "2023-04-19T06:34:34.959Z"
   },
   {
    "duration": 221,
    "start_time": "2023-04-19T06:36:54.023Z"
   },
   {
    "duration": 178,
    "start_time": "2023-04-19T06:37:44.656Z"
   },
   {
    "duration": 187,
    "start_time": "2023-04-19T06:39:16.934Z"
   },
   {
    "duration": 666,
    "start_time": "2023-04-19T06:39:20.610Z"
   },
   {
    "duration": 265,
    "start_time": "2023-04-19T06:39:25.839Z"
   },
   {
    "duration": 7,
    "start_time": "2023-04-19T06:39:37.277Z"
   },
   {
    "duration": 205,
    "start_time": "2023-04-19T06:39:37.780Z"
   },
   {
    "duration": 9,
    "start_time": "2023-04-19T06:39:38.174Z"
   },
   {
    "duration": 1255,
    "start_time": "2023-04-19T10:22:18.585Z"
   },
   {
    "duration": 3,
    "start_time": "2023-04-19T10:22:19.842Z"
   },
   {
    "duration": 11649,
    "start_time": "2023-04-19T10:22:19.847Z"
   },
   {
    "duration": 55,
    "start_time": "2023-04-19T10:22:31.498Z"
   },
   {
    "duration": 18,
    "start_time": "2023-04-19T10:22:31.556Z"
   },
   {
    "duration": 112,
    "start_time": "2023-04-19T10:22:31.576Z"
   },
   {
    "duration": 7,
    "start_time": "2023-04-19T10:22:31.689Z"
   },
   {
    "duration": 10,
    "start_time": "2023-04-19T10:22:31.698Z"
   },
   {
    "duration": 107,
    "start_time": "2023-04-19T10:22:31.710Z"
   },
   {
    "duration": 9,
    "start_time": "2023-04-19T10:22:31.820Z"
   },
   {
    "duration": 4,
    "start_time": "2023-04-19T10:22:31.831Z"
   },
   {
    "duration": 104,
    "start_time": "2023-04-19T10:22:31.837Z"
   },
   {
    "duration": 9,
    "start_time": "2023-04-19T10:22:31.943Z"
   },
   {
    "duration": 2,
    "start_time": "2023-04-19T10:22:31.956Z"
   },
   {
    "duration": 1216,
    "start_time": "2023-04-19T10:22:31.960Z"
   },
   {
    "duration": 12,
    "start_time": "2023-04-19T10:22:33.177Z"
   },
   {
    "duration": 4,
    "start_time": "2023-04-19T10:22:33.190Z"
   },
   {
    "duration": 51,
    "start_time": "2023-04-19T10:22:33.195Z"
   },
   {
    "duration": 7,
    "start_time": "2023-04-19T10:22:33.248Z"
   },
   {
    "duration": 3,
    "start_time": "2023-04-19T10:22:33.257Z"
   },
   {
    "duration": 28,
    "start_time": "2023-04-19T10:22:33.262Z"
   },
   {
    "duration": 9,
    "start_time": "2023-04-19T10:22:33.292Z"
   },
   {
    "duration": 5,
    "start_time": "2023-04-19T10:22:33.303Z"
   },
   {
    "duration": 1101,
    "start_time": "2023-04-19T10:22:33.310Z"
   },
   {
    "duration": 11,
    "start_time": "2023-04-19T10:22:34.413Z"
   },
   {
    "duration": 9,
    "start_time": "2023-04-19T10:22:34.426Z"
   },
   {
    "duration": 280,
    "start_time": "2023-04-19T10:22:34.436Z"
   },
   {
    "duration": 14,
    "start_time": "2023-04-19T10:22:34.717Z"
   },
   {
    "duration": 461,
    "start_time": "2023-04-19T10:22:34.733Z"
   },
   {
    "duration": 3,
    "start_time": "2023-04-19T10:22:35.197Z"
   },
   {
    "duration": 131,
    "start_time": "2023-04-19T10:22:35.202Z"
   },
   {
    "duration": 8,
    "start_time": "2023-04-19T10:22:35.335Z"
   },
   {
    "duration": 223,
    "start_time": "2023-04-19T10:22:35.345Z"
   },
   {
    "duration": 4,
    "start_time": "2023-04-19T10:22:35.571Z"
   },
   {
    "duration": 186,
    "start_time": "2023-04-19T10:22:35.577Z"
   },
   {
    "duration": 8,
    "start_time": "2023-04-19T10:22:35.764Z"
   },
   {
    "duration": 3,
    "start_time": "2023-04-19T10:39:48.388Z"
   },
   {
    "duration": 119,
    "start_time": "2023-04-19T10:39:49.388Z"
   },
   {
    "duration": 9,
    "start_time": "2023-04-19T10:39:50.310Z"
   },
   {
    "duration": 3,
    "start_time": "2023-04-19T10:41:21.516Z"
   },
   {
    "duration": 25,
    "start_time": "2023-04-19T10:41:22.483Z"
   },
   {
    "duration": 6,
    "start_time": "2023-04-19T10:41:23.079Z"
   },
   {
    "duration": 3,
    "start_time": "2023-04-19T10:47:16.811Z"
   },
   {
    "duration": 184,
    "start_time": "2023-04-19T10:47:17.467Z"
   },
   {
    "duration": 8,
    "start_time": "2023-04-19T10:47:18.013Z"
   },
   {
    "duration": 3,
    "start_time": "2023-04-19T10:47:18.866Z"
   },
   {
    "duration": 178,
    "start_time": "2023-04-19T10:47:19.646Z"
   },
   {
    "duration": 8,
    "start_time": "2023-04-19T10:47:20.508Z"
   },
   {
    "duration": 3,
    "start_time": "2023-04-19T10:47:21.171Z"
   },
   {
    "duration": 168,
    "start_time": "2023-04-19T10:47:21.750Z"
   },
   {
    "duration": 7,
    "start_time": "2023-04-19T10:47:22.306Z"
   },
   {
    "duration": 1262,
    "start_time": "2023-04-19T10:47:47.301Z"
   },
   {
    "duration": 4,
    "start_time": "2023-04-19T10:47:48.564Z"
   },
   {
    "duration": 11646,
    "start_time": "2023-04-19T10:47:48.569Z"
   },
   {
    "duration": 40,
    "start_time": "2023-04-19T10:48:00.217Z"
   },
   {
    "duration": 13,
    "start_time": "2023-04-19T10:48:00.258Z"
   },
   {
    "duration": 132,
    "start_time": "2023-04-19T10:48:00.272Z"
   },
   {
    "duration": 6,
    "start_time": "2023-04-19T10:48:00.406Z"
   },
   {
    "duration": 19,
    "start_time": "2023-04-19T10:48:00.413Z"
   },
   {
    "duration": 123,
    "start_time": "2023-04-19T10:48:00.433Z"
   },
   {
    "duration": 8,
    "start_time": "2023-04-19T10:48:00.559Z"
   },
   {
    "duration": 37,
    "start_time": "2023-04-19T10:48:00.568Z"
   },
   {
    "duration": 142,
    "start_time": "2023-04-19T10:48:00.607Z"
   },
   {
    "duration": 7,
    "start_time": "2023-04-19T10:48:00.751Z"
   },
   {
    "duration": 4,
    "start_time": "2023-04-19T10:48:00.760Z"
   },
   {
    "duration": 1201,
    "start_time": "2023-04-19T10:48:00.765Z"
   },
   {
    "duration": 10,
    "start_time": "2023-04-19T10:48:01.968Z"
   },
   {
    "duration": 14,
    "start_time": "2023-04-19T10:48:01.979Z"
   },
   {
    "duration": 85,
    "start_time": "2023-04-19T10:48:01.994Z"
   },
   {
    "duration": 6,
    "start_time": "2023-04-19T10:48:02.081Z"
   },
   {
    "duration": 46,
    "start_time": "2023-04-19T10:48:02.089Z"
   },
   {
    "duration": 78,
    "start_time": "2023-04-19T10:48:02.137Z"
   },
   {
    "duration": 13,
    "start_time": "2023-04-19T10:48:02.216Z"
   },
   {
    "duration": 51,
    "start_time": "2023-04-19T10:48:02.231Z"
   },
   {
    "duration": 1038,
    "start_time": "2023-04-19T10:48:02.284Z"
   },
   {
    "duration": 9,
    "start_time": "2023-04-19T10:48:03.324Z"
   },
   {
    "duration": 21,
    "start_time": "2023-04-19T10:48:03.335Z"
   },
   {
    "duration": 281,
    "start_time": "2023-04-19T10:48:03.357Z"
   },
   {
    "duration": 10,
    "start_time": "2023-04-19T10:48:03.641Z"
   },
   {
    "duration": 447,
    "start_time": "2023-04-19T10:48:03.652Z"
   },
   {
    "duration": 3,
    "start_time": "2023-04-19T10:48:04.101Z"
   },
   {
    "duration": 144,
    "start_time": "2023-04-19T10:48:04.105Z"
   },
   {
    "duration": 7,
    "start_time": "2023-04-19T10:48:04.250Z"
   },
   {
    "duration": 166,
    "start_time": "2023-04-19T10:48:04.259Z"
   },
   {
    "duration": 3,
    "start_time": "2023-04-19T10:48:04.427Z"
   },
   {
    "duration": 174,
    "start_time": "2023-04-19T10:48:04.431Z"
   },
   {
    "duration": 8,
    "start_time": "2023-04-19T10:48:04.607Z"
   },
   {
    "duration": 1721,
    "start_time": "2023-04-19T17:45:34.464Z"
   },
   {
    "duration": 4,
    "start_time": "2023-04-19T17:45:37.921Z"
   },
   {
    "duration": 11797,
    "start_time": "2023-04-19T17:45:38.567Z"
   },
   {
    "duration": 226,
    "start_time": "2023-04-19T17:45:50.366Z"
   },
   {
    "duration": 12,
    "start_time": "2023-04-19T17:45:50.594Z"
   },
   {
    "duration": 183,
    "start_time": "2023-04-19T17:45:50.607Z"
   },
   {
    "duration": 6,
    "start_time": "2023-04-19T17:45:50.791Z"
   },
   {
    "duration": 15,
    "start_time": "2023-04-19T17:45:50.798Z"
   },
   {
    "duration": 165,
    "start_time": "2023-04-19T17:45:50.815Z"
   },
   {
    "duration": 6,
    "start_time": "2023-04-19T17:45:50.981Z"
   },
   {
    "duration": 12,
    "start_time": "2023-04-19T17:45:50.989Z"
   },
   {
    "duration": 174,
    "start_time": "2023-04-19T17:45:51.003Z"
   },
   {
    "duration": 5,
    "start_time": "2023-04-19T17:45:51.178Z"
   },
   {
    "duration": 3,
    "start_time": "2023-04-19T17:45:51.572Z"
   },
   {
    "duration": 1208,
    "start_time": "2023-04-19T17:45:51.981Z"
   },
   {
    "duration": 11,
    "start_time": "2023-04-19T17:45:53.191Z"
   },
   {
    "duration": 3,
    "start_time": "2023-04-19T17:45:54.496Z"
   },
   {
    "duration": 78,
    "start_time": "2023-04-19T17:45:54.911Z"
   },
   {
    "duration": 7,
    "start_time": "2023-04-19T17:45:55.306Z"
   },
   {
    "duration": 3,
    "start_time": "2023-04-19T17:45:57.488Z"
   },
   {
    "duration": 53,
    "start_time": "2023-04-19T17:45:57.875Z"
   },
   {
    "duration": 11,
    "start_time": "2023-04-19T17:45:58.457Z"
   },
   {
    "duration": 10,
    "start_time": "2023-04-19T17:46:02.563Z"
   },
   {
    "duration": 1155,
    "start_time": "2023-04-19T17:46:03.171Z"
   },
   {
    "duration": 19,
    "start_time": "2023-04-19T17:46:04.327Z"
   },
   {
    "duration": 3,
    "start_time": "2023-04-19T17:46:07.097Z"
   },
   {
    "duration": 309,
    "start_time": "2023-04-19T17:46:07.773Z"
   },
   {
    "duration": 10,
    "start_time": "2023-04-19T17:46:08.102Z"
   },
   {
    "duration": 468,
    "start_time": "2023-04-19T17:46:11.504Z"
   },
   {
    "duration": 6,
    "start_time": "2023-04-19T17:46:45.162Z"
   },
   {
    "duration": 171,
    "start_time": "2023-04-19T17:46:45.910Z"
   },
   {
    "duration": 7,
    "start_time": "2023-04-19T17:46:46.286Z"
   },
   {
    "duration": 146,
    "start_time": "2023-04-19T17:46:51.782Z"
   },
   {
    "duration": 163,
    "start_time": "2023-04-19T17:48:04.586Z"
   },
   {
    "duration": 258,
    "start_time": "2023-04-19T17:49:33.795Z"
   },
   {
    "duration": 197,
    "start_time": "2023-04-19T17:49:38.106Z"
   },
   {
    "duration": 188,
    "start_time": "2023-04-19T17:50:25.725Z"
   },
   {
    "duration": 264,
    "start_time": "2023-04-19T17:50:31.959Z"
   },
   {
    "duration": 258,
    "start_time": "2023-04-19T17:50:36.932Z"
   },
   {
    "duration": 68,
    "start_time": "2023-04-19T17:53:23.675Z"
   },
   {
    "duration": 209,
    "start_time": "2023-04-19T17:53:56.117Z"
   },
   {
    "duration": 115,
    "start_time": "2023-04-19T17:54:26.961Z"
   },
   {
    "duration": 102,
    "start_time": "2023-04-19T17:54:34.089Z"
   },
   {
    "duration": 38,
    "start_time": "2023-04-19T17:55:04.881Z"
   },
   {
    "duration": 107,
    "start_time": "2023-04-19T17:55:09.099Z"
   },
   {
    "duration": 77,
    "start_time": "2023-04-19T17:55:21.459Z"
   },
   {
    "duration": 1508,
    "start_time": "2023-04-20T10:12:10.600Z"
   },
   {
    "duration": 3,
    "start_time": "2023-04-20T10:12:12.111Z"
   },
   {
    "duration": 11619,
    "start_time": "2023-04-20T10:12:12.116Z"
   },
   {
    "duration": 206,
    "start_time": "2023-04-20T10:12:23.737Z"
   },
   {
    "duration": 13,
    "start_time": "2023-04-20T10:12:23.945Z"
   },
   {
    "duration": 165,
    "start_time": "2023-04-20T10:12:23.960Z"
   },
   {
    "duration": 7,
    "start_time": "2023-04-20T10:12:24.127Z"
   },
   {
    "duration": 29,
    "start_time": "2023-04-20T10:12:24.135Z"
   },
   {
    "duration": 138,
    "start_time": "2023-04-20T10:12:24.165Z"
   },
   {
    "duration": 7,
    "start_time": "2023-04-20T10:12:24.305Z"
   },
   {
    "duration": 5,
    "start_time": "2023-04-20T10:12:24.313Z"
   },
   {
    "duration": 142,
    "start_time": "2023-04-20T10:12:24.319Z"
   },
   {
    "duration": 6,
    "start_time": "2023-04-20T10:12:24.463Z"
   },
   {
    "duration": 10,
    "start_time": "2023-04-20T10:12:24.473Z"
   },
   {
    "duration": 1211,
    "start_time": "2023-04-20T10:12:24.485Z"
   },
   {
    "duration": 12,
    "start_time": "2023-04-20T10:12:25.698Z"
   },
   {
    "duration": 9,
    "start_time": "2023-04-20T10:12:25.711Z"
   },
   {
    "duration": 85,
    "start_time": "2023-04-20T10:12:25.722Z"
   },
   {
    "duration": 9,
    "start_time": "2023-04-20T10:12:25.809Z"
   },
   {
    "duration": 15,
    "start_time": "2023-04-20T10:12:25.820Z"
   },
   {
    "duration": 62,
    "start_time": "2023-04-20T10:12:25.837Z"
   },
   {
    "duration": 7,
    "start_time": "2023-04-20T10:12:25.901Z"
   },
   {
    "duration": 13,
    "start_time": "2023-04-20T10:12:25.910Z"
   },
   {
    "duration": 1027,
    "start_time": "2023-04-20T10:12:25.925Z"
   },
   {
    "duration": 10,
    "start_time": "2023-04-20T10:12:26.954Z"
   },
   {
    "duration": 20,
    "start_time": "2023-04-20T10:12:26.966Z"
   },
   {
    "duration": 289,
    "start_time": "2023-04-20T10:12:26.988Z"
   },
   {
    "duration": 10,
    "start_time": "2023-04-20T10:12:27.279Z"
   },
   {
    "duration": 514,
    "start_time": "2023-04-20T10:12:27.291Z"
   },
   {
    "duration": 2,
    "start_time": "2023-04-20T10:12:27.807Z"
   },
   {
    "duration": 162,
    "start_time": "2023-04-20T10:12:27.811Z"
   },
   {
    "duration": 8,
    "start_time": "2023-04-20T10:12:27.974Z"
   },
   {
    "duration": 101,
    "start_time": "2023-04-20T10:12:27.984Z"
   },
   {
    "duration": 2,
    "start_time": "2023-04-20T10:12:28.087Z"
   },
   {
    "duration": 209,
    "start_time": "2023-04-20T10:12:28.091Z"
   },
   {
    "duration": 8,
    "start_time": "2023-04-20T10:12:28.301Z"
   }
  ],
  "colab": {
   "provenance": []
  },
  "kernelspec": {
   "display_name": "Python 3 (ipykernel)",
   "language": "python",
   "name": "python3"
  },
  "language_info": {
   "codemirror_mode": {
    "name": "ipython",
    "version": 3
   },
   "file_extension": ".py",
   "mimetype": "text/x-python",
   "name": "python",
   "nbconvert_exporter": "python",
   "pygments_lexer": "ipython3",
   "version": "3.9.15"
  },
  "toc": {
   "base_numbering": 1,
   "nav_menu": {},
   "number_sections": true,
   "sideBar": true,
   "skip_h1_title": true,
   "title_cell": "Table of Contents",
   "title_sidebar": "Contents",
   "toc_cell": false,
   "toc_position": {},
   "toc_section_display": true,
   "toc_window_display": false
  }
 },
 "nbformat": 4,
 "nbformat_minor": 1
}
