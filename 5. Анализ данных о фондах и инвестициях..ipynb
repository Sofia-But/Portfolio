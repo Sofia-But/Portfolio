{
 "cells": [
  {
   "cell_type": "code",
   "execution_count": null,
   "id": "9e689621",
   "metadata": {},
   "outputs": [],
   "source": [
    "SELECT COUNT(status)\n",
    "FROM company\n",
    "WHERE status = 'closed'\n",
    "GROUP BY status"
   ]
  },
  {
   "cell_type": "code",
   "execution_count": null,
   "id": "bfe2df68",
   "metadata": {},
   "outputs": [],
   "source": [
    "SELECT funding_total\n",
    "FROM company\n",
    "WHERE category_code LIKE 'news' \n",
    "   AND country_code LIKE 'USA'\n",
    "ORDER BY funding_total DESC;"
   ]
  },
  {
   "cell_type": "code",
   "execution_count": null,
   "id": "f3924d14",
   "metadata": {},
   "outputs": [],
   "source": [
    "SELECT SUM(price_amount)\n",
    "FROM acquisition\n",
    "WHERE EXTRACT(YEAR FROM CAST(acquired_at AS DATE)) BETWEEN '2011' AND '2013' AND term_code='cash'\n",
    "GROUP BY term_code"
   ]
  },
  {
   "cell_type": "code",
   "execution_count": null,
   "id": "78472b38",
   "metadata": {},
   "outputs": [],
   "source": [
    "SELECT first_name, last_name, twitter_username\n",
    "FROM people\n",
    "WHERE twitter_username LIKE 'Silver%'"
   ]
  },
  {
   "cell_type": "code",
   "execution_count": null,
   "id": "f24b8504",
   "metadata": {},
   "outputs": [],
   "source": [
    "SELECT *\n",
    "FROM people\n",
    "WHERE twitter_username LIKE '%money%' AND last_name LIKE 'K%'"
   ]
  },
  {
   "cell_type": "code",
   "execution_count": null,
   "id": "7ecb5446",
   "metadata": {},
   "outputs": [],
   "source": [
    "SELECT country_code,\n",
    "       SUM(funding_total)\n",
    "FROM company\n",
    "GROUP BY country_code\n",
    "ORDER BY SUM(funding_total) DESC"
   ]
  },
  {
   "cell_type": "code",
   "execution_count": null,
   "id": "98ac8fa4",
   "metadata": {},
   "outputs": [],
   "source": [
    "SELECT CAST(funded_at AS DATE),\n",
    "       MIN(raised_amount) AS min_r,\n",
    "       MAX(raised_amount) AS max_r\n",
    "FROM funding_round\n",
    "GROUP BY CAST(funded_at AS DATE)\n",
    "HAVING MIN(raised_amount) NOT IN (0, MAX(raised_amount))"
   ]
  },
  {
   "cell_type": "code",
   "execution_count": null,
   "id": "fe101ff2",
   "metadata": {},
   "outputs": [],
   "source": [
    "SELECT *,\n",
    "       CASE\n",
    "           WHEN invested_companies >= 100 THEN 'high_activity'\n",
    "           WHEN invested_companies BETWEEN 20 AND 99 THEN 'middle_activity'\n",
    "           WHEN invested_companies < 20 THEN 'low_activity'\n",
    "       END\n",
    "FROM fund"
   ]
  },
  {
   "cell_type": "code",
   "execution_count": null,
   "id": "aa2d5543",
   "metadata": {},
   "outputs": [],
   "source": [
    "SELECT\n",
    "       CASE\n",
    "           WHEN invested_companies>=100 THEN 'high_activity'\n",
    "           WHEN invested_companies>=20 THEN 'middle_activity'\n",
    "           ELSE 'low_activity'\n",
    "       END AS activity,\n",
    "       ROUND(AVG(investment_rounds))\n",
    "FROM fund\n",
    "GROUP BY activity\n",
    "ORDER BY ROUND(AVG(investment_rounds))"
   ]
  },
  {
   "cell_type": "code",
   "execution_count": null,
   "id": "054f715d",
   "metadata": {},
   "outputs": [],
   "source": [
    "SELECT country_code,\n",
    "       MIN(invested_companies),\n",
    "       MAX(invested_companies),\n",
    "       AVG(invested_companies)\n",
    "FROM (SELECT *\n",
    "      FROM fund\n",
    "      WHERE EXTRACT(YEAR FROM founded_at) BETWEEN 2010 AND 2012) AS f\n",
    "GROUP BY country_code\n",
    "HAVING MIN(invested_companies) > 0\n",
    "ORDER BY AVG(invested_companies) DESC\n",
    "LIMIT 10"
   ]
  },
  {
   "cell_type": "code",
   "execution_count": null,
   "id": "d73da424",
   "metadata": {},
   "outputs": [],
   "source": [
    "SELECT p.first_name,\n",
    "       p.last_name,\n",
    "       e.instituition\n",
    "FROM people AS p\n",
    "LEFT JOIN education AS e ON p.id=e.person_id"
   ]
  },
  {
   "cell_type": "code",
   "execution_count": null,
   "id": "b68bae40",
   "metadata": {},
   "outputs": [],
   "source": [
    "SELECT c.name, \n",
    "       COUNT(DISTINCT tab2.instituition)\n",
    "FROM company AS c\n",
    "LEFT JOIN \n",
    "         (SELECT tab1.instituition,\n",
    "                 p.company_id\n",
    "          FROM       \n",
    "               (SELECT person_id,\n",
    "                       instituition \n",
    "                FROM education \n",
    "                WHERE instituition  IS NOT NULL\n",
    "               ) AS tab1\n",
    "          INNER JOIN  people AS p ON p.id = tab1.person_id\n",
    "         ) AS tab2 ON tab2.company_id = c.id\n",
    "GROUP BY c.name\n",
    "ORDER BY COUNT(DISTINCT tab2.instituition) DESC\n",
    "LIMIT 5"
   ]
  },
  {
   "cell_type": "code",
   "execution_count": null,
   "id": "9ca394f0",
   "metadata": {},
   "outputs": [],
   "source": [
    "SELECT DISTINCT name\n",
    "FROM company\n",
    "WHERE status = 'closed' AND id IN (SELECT company_id\n",
    "FROM funding_round\n",
    "WHERE is_first_round =1 AND is_last_round=1)"
   ]
  },
  {
   "cell_type": "code",
   "execution_count": null,
   "id": "9874afa2",
   "metadata": {},
   "outputs": [],
   "source": [
    "SELECT DISTINCT p.id\n",
    "FROM company AS c\n",
    "INNER JOIN people AS p ON c.id = p.company_id\n",
    "WHERE c.status LIKE 'closed'\n",
    "   AND c.id IN (SELECT company_id\n",
    "                FROM funding_round\n",
    "                WHERE is_first_round = 1\n",
    "                   AND is_last_round = 1)"
   ]
  },
  {
   "cell_type": "code",
   "execution_count": null,
   "id": "6bb1b8b6",
   "metadata": {},
   "outputs": [],
   "source": [
    "WITH\n",
    "t_1 AS (SELECT DISTINCT p.id\n",
    "FROM company AS c\n",
    "INNER JOIN people AS p ON c.id = p.company_id\n",
    "WHERE c.status LIKE 'closed'\n",
    "   AND c.id IN (SELECT company_id\n",
    "                FROM funding_round\n",
    "                WHERE is_first_round = 1\n",
    "                   AND is_last_round = 1))\n",
    "\n",
    "SELECT DISTINCT t_1.id, e.instituition\n",
    "FROM t_1\n",
    "INNER JOIN education AS e ON e.person_id=t_1.id"
   ]
  },
  {
   "cell_type": "code",
   "execution_count": null,
   "id": "be9bccc8",
   "metadata": {},
   "outputs": [],
   "source": [
    "SELECT DISTINCT p.id,\n",
    "                COUNT(e.instituition)\n",
    "FROM company AS c\n",
    "INNER JOIN people AS p ON c.id = p.company_id\n",
    "LEFT JOIN education AS e ON p.id = e.person_id\n",
    "WHERE c.status LIKE 'closed'\n",
    "  AND c.id IN (SELECT company_id\n",
    "               FROM funding_round\n",
    "               WHERE is_first_round = 1\n",
    "                  AND is_last_round = 1)\n",
    "  AND  e.instituition IS NOT NULL\n",
    "GROUP BY p.id"
   ]
  },
  {
   "cell_type": "code",
   "execution_count": null,
   "id": "8f856d14",
   "metadata": {},
   "outputs": [],
   "source": [
    "SELECT AVG(t_1.in_e)\n",
    "FROM (SELECT DISTINCT p.id,\n",
    "                COUNT(e.instituition) AS in_e\n",
    "FROM company AS c\n",
    "INNER JOIN people AS p ON c.id = p.company_id\n",
    "LEFT JOIN education AS e ON p.id = e.person_id\n",
    "WHERE c.status LIKE 'closed'\n",
    "  AND c.id IN (SELECT company_id\n",
    "               FROM funding_round\n",
    "               WHERE is_first_round = 1\n",
    "                  AND is_last_round = 1)\n",
    "  AND  e.instituition IS NOT NULL\n",
    "GROUP BY p.id) AS t_1"
   ]
  },
  {
   "cell_type": "code",
   "execution_count": null,
   "id": "96beacfa",
   "metadata": {},
   "outputs": [],
   "source": [
    "SELECT AVG(t_1.in_e)\n",
    "FROM (SELECT DISTINCT p.id,\n",
    "                COUNT(e.instituition) AS in_e\n",
    "FROM company AS c\n",
    "INNER JOIN people AS p ON c.id = p.company_id\n",
    "LEFT JOIN education AS e ON p.id = e.person_id\n",
    "WHERE c.name LIKE 'Facebook'\n",
    "  AND  e.instituition IS NOT NULL\n",
    "GROUP BY p.id) AS t_1"
   ]
  },
  {
   "cell_type": "code",
   "execution_count": null,
   "id": "16abe28c",
   "metadata": {},
   "outputs": [],
   "source": [
    "SELECT f.name AS name_of_fund, \n",
    "       C.name AS name_of_company, \n",
    "       fr.raised_amount AS amount\n",
    "FROM investment AS i\n",
    "JOIN company AS c ON i.company_id=c.id\n",
    "JOIN fund AS f ON i.fund_id=f.id\n",
    "JOIN funding_round AS fr ON i.funding_round_id = fr.id\n",
    "WHERE EXTRACT(YEAR FROM fr.funded_at) BETWEEN 2012 AND 2013\n",
    "   AND c.milestones > 6;"
   ]
  },
  {
   "cell_type": "code",
   "execution_count": null,
   "id": "35d3a899",
   "metadata": {},
   "outputs": [],
   "source": [
    "SELECT company.name AS acquiring_company,\n",
    "       tab2.price_amount,\n",
    "       tab2.acquired_company,\n",
    "       tab2.funding_total,\n",
    "       ROUND(tab2.price_amount / tab2.funding_total)\n",
    "FROM\n",
    "(\n",
    "    SELECT c.name AS acquired_company,\n",
    "           c.funding_total,\n",
    "           tab1.acquiring_company_id,\n",
    "           tab1.price_amount\n",
    "    FROM company AS c\n",
    "    RIGHT JOIN (\n",
    "                SELECT acquiring_company_id,\n",
    "                       acquired_company_id,\n",
    "                       price_amount\n",
    "                FROM acquisition\n",
    "                WHERE price_amount > 0\n",
    "               ) AS tab1 ON c.id = tab1.acquired_company_id\n",
    " ) AS tab2 LEFT JOIN company ON company.id  = tab2.acquiring_company_id\n",
    "WHERE tab2.funding_total > 0\n",
    "ORDER BY  tab2.price_amount DESC, tab2.acquired_company\n",
    "LIMIT 10;"
   ]
  },
  {
   "cell_type": "code",
   "execution_count": null,
   "id": "546f42e3",
   "metadata": {},
   "outputs": [],
   "source": [
    "SELECT c.name,\n",
    "       tab1.month\n",
    "FROM company AS c\n",
    "RIGHT JOIN (\n",
    "             SELECT company_id,\n",
    "             EXTRACT(MONTH FROM funded_at) AS month,\n",
    "             raised_amount\n",
    "             FROM funding_round\n",
    "             WHERE EXTRACT(YEAR FROM funded_at) BETWEEN 2010 AND 2013 AND raised_amount>0\n",
    "            ) AS tab1 ON c.id = tab1.company_id\n",
    "WHERE c.category_code LIKE 'social';"
   ]
  },
  {
   "cell_type": "code",
   "execution_count": null,
   "id": "d698a3a8",
   "metadata": {},
   "outputs": [],
   "source": [
    "WITH\n",
    "-- выбираем месяц инвестиционных раундов в 2010-2013 гг\n",
    "tab1 AS (SELECT EXTRACT(MONTH FROM funded_at) AS month,\n",
    "                id AS funding_round_id\n",
    "                FROM funding_round\n",
    "         WHERE EXTRACT(YEAR FROM funded_at) BETWEEN 2010 AND 2013\n",
    "         ),\n",
    "\n",
    "-- считаем кол-во купленных и общую сумму по сделкам за 2010-2013 гг в разрезе месяца\n",
    "tab2 AS (SELECT EXTRACT(MONTH FROM acquired_at) AS month,\n",
    "                COUNT(acquired_company_id) AS count_acquired,\n",
    "                SUM(price_amount) AS total_amount\n",
    "         FROM acquisition\n",
    "         WHERE EXTRACT(YEAR FROM acquired_at) BETWEEN 2010 AND 2013\n",
    "         GROUP BY EXTRACT(MONTH FROM acquired_at)\n",
    "        ),\n",
    "\n",
    "-- ищем фонды из США\n",
    "tab3 AS (SELECT i.funding_round_id,\n",
    "                f.name\n",
    "        FROM investment AS i\n",
    "        JOIN fund AS f ON f.id = i.fund_id\n",
    "        WHERE fund_id IN (SELECT id\n",
    "                          FROM fund\n",
    "                          WHERE country_code LIKE 'USA')\n",
    "        ),\n",
    "\n",
    "tab4 AS (SELECT month,\n",
    "                COUNT(DISTINCT name) AS count_USA\n",
    "         FROM tab1 \n",
    "         LEFT JOIN tab3 ON tab1.funding_round_id = tab3.funding_round_id\n",
    "         GROUP BY month)\n",
    "         \n",
    "SELECT tab4.month,\n",
    "       tab4.count_USA,\n",
    "       tab2.count_acquired,\n",
    "       tab2.total_amount\n",
    "FROM tab4 \n",
    "LEFT JOIN tab2 ON tab4.month = tab2.month;"
   ]
  },
  {
   "cell_type": "code",
   "execution_count": null,
   "id": "eea4d0df",
   "metadata": {},
   "outputs": [],
   "source": [
    "WITH\n",
    "\n",
    "total_11 AS (SELECT AVG(funding_total) AS total_2011,\n",
    "                      country_code\n",
    "               FROM company\n",
    "               GROUP BY country_code,\n",
    "               EXTRACT(YEAR FROM founded_at)\n",
    "               HAVING EXTRACT(YEAR FROM founded_at) = 2011),\n",
    "               \n",
    "total_12 AS (SELECT AVG(funding_total) AS total_2012,\n",
    "                      country_code\n",
    "               FROM company\n",
    "               GROUP BY country_code,\n",
    "               EXTRACT(YEAR FROM founded_at)\n",
    "               HAVING EXTRACT(YEAR FROM founded_at) = 2012),\n",
    "\n",
    "total_13 AS (SELECT AVG(funding_total) AS total_2013,\n",
    "                      country_code\n",
    "               FROM company\n",
    "               GROUP BY country_code,\n",
    "               EXTRACT(YEAR FROM founded_at)\n",
    "               HAVING EXTRACT(YEAR FROM founded_at) = 2013)\n",
    "\n",
    "SELECT total_11.country_code,\n",
    "       total_11.total_2011,\n",
    "       total_12.total_2012,\n",
    "       total_13.total_2013\n",
    "FROM total_11 \n",
    "INNER JOIN total_12 ON total_11.country_code = total_12.country_code\n",
    "INNER JOIN total_13 ON total_11.country_code = total_13.country_code\n",
    "ORDER BY total_11.total_2011 DESC;"
   ]
  }
 ],
 "metadata": {
  "kernelspec": {
   "display_name": "Python 3 (ipykernel)",
   "language": "python",
   "name": "python3"
  },
  "language_info": {
   "codemirror_mode": {
    "name": "ipython",
    "version": 3
   },
   "file_extension": ".py",
   "mimetype": "text/x-python",
   "name": "python",
   "nbconvert_exporter": "python",
   "pygments_lexer": "ipython3",
   "version": "3.9.15"
  }
 },
 "nbformat": 4,
 "nbformat_minor": 5
}
